{
 "cells": [
  {
   "cell_type": "markdown",
   "id": "6408b1c2-02a4-4be9-ac91-9a5e88d04242",
   "metadata": {},
   "source": [
    "# Python basics review"
   ]
  },
  {
   "cell_type": "markdown",
   "id": "855d6c7d-06e6-4750-b08c-1bc581f31aed",
   "metadata": {},
   "source": [
    "## Basic python values"
   ]
  },
  {
   "cell_type": "code",
   "execution_count": 26,
   "id": "bbcdc6e1-3a1e-4e58-8474-dc80afb93015",
   "metadata": {},
   "outputs": [],
   "source": [
    "my_integer = 45\n",
    "my_float = 4.5\n",
    "my_boolean = True\n",
    "my_false = False\n",
    "my_none = None\n",
    "my_string = \"anything\"\n",
    "my_string = '\"HELLO\"'\n",
    "my_string = \"\\\"HELLO'\"\n",
    "my_long_text = \"\"\"\n",
    "This is text\n",
    "ok\n",
    "very interesting\n",
    "\"\"\"\n",
    "my_breaking_line = \"first line\\nsecond line\""
   ]
  },
  {
   "cell_type": "code",
   "execution_count": 27,
   "id": "d20b198d-5c54-46af-84af-3726d5fc6310",
   "metadata": {},
   "outputs": [
    {
     "name": "stdout",
     "output_type": "stream",
     "text": [
      "first line\n",
      "second line\n"
     ]
    }
   ],
   "source": [
    "print(my_breaking_line)"
   ]
  },
  {
   "cell_type": "code",
   "execution_count": 11,
   "id": "e50407ab-f57d-45b4-8da4-3d65dfcb5a4f",
   "metadata": {},
   "outputs": [
    {
     "data": {
      "text/plain": [
       "49.5"
      ]
     },
     "execution_count": 11,
     "metadata": {},
     "output_type": "execute_result"
    }
   ],
   "source": [
    "my_integer + my_float"
   ]
  },
  {
   "cell_type": "code",
   "execution_count": 18,
   "id": "2ddee47f-8c37-4f94-ab11-8d0f269c3e09",
   "metadata": {},
   "outputs": [
    {
     "name": "stdout",
     "output_type": "stream",
     "text": [
      "anything\n"
     ]
    }
   ],
   "source": [
    "print(my_string)"
   ]
  },
  {
   "cell_type": "markdown",
   "id": "6959d979-155c-4603-91fe-f0cf1fac21b5",
   "metadata": {},
   "source": [
    "## Arithmetics"
   ]
  },
  {
   "cell_type": "code",
   "execution_count": 68,
   "id": "cd914767-027d-450b-98da-47e36e29a122",
   "metadata": {},
   "outputs": [
    {
     "data": {
      "text/plain": [
       "7"
      ]
     },
     "execution_count": 68,
     "metadata": {},
     "output_type": "execute_result"
    }
   ],
   "source": [
    "4 + 3"
   ]
  },
  {
   "cell_type": "code",
   "execution_count": 69,
   "id": "7b7ae286-2d9c-4653-a89c-4f3e6ac02d59",
   "metadata": {},
   "outputs": [
    {
     "data": {
      "text/plain": [
       "1.3333333333333333"
      ]
     },
     "execution_count": 69,
     "metadata": {},
     "output_type": "execute_result"
    }
   ],
   "source": [
    "4 / 3"
   ]
  },
  {
   "cell_type": "code",
   "execution_count": 70,
   "id": "1860e4b6-acae-40a9-abb9-50833cd4ff59",
   "metadata": {},
   "outputs": [
    {
     "data": {
      "text/plain": [
       "12"
      ]
     },
     "execution_count": 70,
     "metadata": {},
     "output_type": "execute_result"
    }
   ],
   "source": [
    "4 * 3"
   ]
  },
  {
   "cell_type": "code",
   "execution_count": 71,
   "id": "454ede39-199b-4310-b607-0a141861bcf7",
   "metadata": {},
   "outputs": [
    {
     "data": {
      "text/plain": [
       "-51"
      ]
     },
     "execution_count": 71,
     "metadata": {},
     "output_type": "execute_result"
    }
   ],
   "source": [
    "5 - 56"
   ]
  },
  {
   "cell_type": "code",
   "execution_count": 72,
   "id": "c267fb08-4a68-45f3-a9b5-1d9902a64408",
   "metadata": {},
   "outputs": [
    {
     "data": {
      "text/plain": [
       "0.4444444444444444"
      ]
     },
     "execution_count": 72,
     "metadata": {},
     "output_type": "execute_result"
    }
   ],
   "source": [
    "4 / (6 + 3)"
   ]
  },
  {
   "cell_type": "code",
   "execution_count": 73,
   "id": "51729ac3-bfc8-44a3-b216-2ede6eb9d31e",
   "metadata": {},
   "outputs": [
    {
     "data": {
      "text/plain": [
       "'Hello my friend'"
      ]
     },
     "execution_count": 73,
     "metadata": {},
     "output_type": "execute_result"
    }
   ],
   "source": [
    "\"Hello \" + \"my friend\""
   ]
  },
  {
   "cell_type": "code",
   "execution_count": 74,
   "id": "3ba74cf9-de8b-4591-8d1f-5b2387d90b38",
   "metadata": {},
   "outputs": [
    {
     "data": {
      "text/plain": [
       "'HelloHelloHelloHelloHello'"
      ]
     },
     "execution_count": 74,
     "metadata": {},
     "output_type": "execute_result"
    }
   ],
   "source": [
    "\"Hello\" * 5"
   ]
  },
  {
   "cell_type": "code",
   "execution_count": 76,
   "id": "c8958a3c-bbf6-4e37-898f-79dc219a17da",
   "metadata": {},
   "outputs": [
    {
     "data": {
      "text/plain": [
       "'Hello4'"
      ]
     },
     "execution_count": 76,
     "metadata": {},
     "output_type": "execute_result"
    }
   ],
   "source": [
    "\"Hello\" + str(4)"
   ]
  },
  {
   "cell_type": "markdown",
   "id": "777545eb-25b4-441d-9da9-f0d9de3ddc3e",
   "metadata": {},
   "source": [
    "## Lists"
   ]
  },
  {
   "cell_type": "code",
   "execution_count": 28,
   "id": "a85230e3-c53e-4806-bf83-c1a1168b52ba",
   "metadata": {},
   "outputs": [],
   "source": [
    "numbers = [45, 34, 21]"
   ]
  },
  {
   "cell_type": "code",
   "execution_count": 29,
   "id": "afd4e63a-0b85-419b-b15b-c0e810df0382",
   "metadata": {},
   "outputs": [
    {
     "data": {
      "text/plain": [
       "[45, 34, 21]"
      ]
     },
     "execution_count": 29,
     "metadata": {},
     "output_type": "execute_result"
    }
   ],
   "source": [
    "numbers"
   ]
  },
  {
   "cell_type": "code",
   "execution_count": 30,
   "id": "7b89bc78-fcc2-4732-816a-b7d6fd34310a",
   "metadata": {},
   "outputs": [
    {
     "data": {
      "text/plain": [
       "3"
      ]
     },
     "execution_count": 30,
     "metadata": {},
     "output_type": "execute_result"
    }
   ],
   "source": [
    "len(numbers)"
   ]
  },
  {
   "cell_type": "code",
   "execution_count": 32,
   "id": "a9c2f074-c4cd-4d89-93d2-914ef242414e",
   "metadata": {},
   "outputs": [
    {
     "data": {
      "text/plain": [
       "3"
      ]
     },
     "execution_count": 32,
     "metadata": {},
     "output_type": "execute_result"
    }
   ],
   "source": [
    "len([3, 4, 4])"
   ]
  },
  {
   "cell_type": "code",
   "execution_count": 33,
   "id": "5c208286-0735-48fc-9a85-d9b8608c279f",
   "metadata": {},
   "outputs": [
    {
     "data": {
      "text/plain": [
       "45"
      ]
     },
     "execution_count": 33,
     "metadata": {},
     "output_type": "execute_result"
    }
   ],
   "source": [
    "numbers[0]"
   ]
  },
  {
   "cell_type": "code",
   "execution_count": 34,
   "id": "de6d5d97-1098-48ba-b4c4-3d478d504fb0",
   "metadata": {},
   "outputs": [
    {
     "data": {
      "text/plain": [
       "21"
      ]
     },
     "execution_count": 34,
     "metadata": {},
     "output_type": "execute_result"
    }
   ],
   "source": [
    "numbers[2]"
   ]
  },
  {
   "cell_type": "code",
   "execution_count": 37,
   "id": "be4adfff-00ad-4a62-938f-78c32604b40d",
   "metadata": {},
   "outputs": [
    {
     "data": {
      "text/plain": [
       "79"
      ]
     },
     "execution_count": 37,
     "metadata": {},
     "output_type": "execute_result"
    }
   ],
   "source": [
    "numbers[0] + numbers[1]"
   ]
  },
  {
   "cell_type": "code",
   "execution_count": 45,
   "id": "3b5c6fef-7447-44a6-b5ee-ca302a8776c4",
   "metadata": {},
   "outputs": [],
   "source": [
    "numbers.append(67)"
   ]
  },
  {
   "cell_type": "code",
   "execution_count": 48,
   "id": "81dd0d92-a182-4dbd-afc7-cafaeb3b4042",
   "metadata": {},
   "outputs": [
    {
     "data": {
      "text/plain": [
       "[45, 2, 21, 67, 67]"
      ]
     },
     "execution_count": 48,
     "metadata": {},
     "output_type": "execute_result"
    }
   ],
   "source": [
    "numbers"
   ]
  },
  {
   "cell_type": "code",
   "execution_count": 47,
   "id": "4e4567b1-bab2-4318-ab84-35dbe8d654da",
   "metadata": {},
   "outputs": [],
   "source": [
    "numbers[1] = 2"
   ]
  },
  {
   "cell_type": "code",
   "execution_count": 49,
   "id": "4a1279b8-6e39-44a0-91e9-289df23c60e4",
   "metadata": {},
   "outputs": [
    {
     "data": {
      "text/plain": [
       "67"
      ]
     },
     "execution_count": 49,
     "metadata": {},
     "output_type": "execute_result"
    }
   ],
   "source": [
    "numbers.pop()"
   ]
  },
  {
   "cell_type": "code",
   "execution_count": 50,
   "id": "77fc619c-f71b-4b49-9782-1df8a55ced4b",
   "metadata": {},
   "outputs": [
    {
     "data": {
      "text/plain": [
       "[45, 2, 21, 67]"
      ]
     },
     "execution_count": 50,
     "metadata": {},
     "output_type": "execute_result"
    }
   ],
   "source": [
    "numbers"
   ]
  },
  {
   "cell_type": "code",
   "execution_count": 42,
   "id": "fdce0495-ddbf-4ac5-886f-e40468e5ac2b",
   "metadata": {},
   "outputs": [],
   "source": [
    "# append(numbers, 67)"
   ]
  },
  {
   "cell_type": "code",
   "execution_count": 51,
   "id": "50bdd5c3-40b8-4a0f-80e2-fc079ca9a4fe",
   "metadata": {},
   "outputs": [
    {
     "data": {
      "text/plain": [
       "list"
      ]
     },
     "execution_count": 51,
     "metadata": {},
     "output_type": "execute_result"
    }
   ],
   "source": [
    "type(numbers)"
   ]
  },
  {
   "cell_type": "code",
   "execution_count": 55,
   "id": "b97bad89-e3db-4d75-9579-57c6b56035a9",
   "metadata": {},
   "outputs": [],
   "source": [
    "desired_index = 2"
   ]
  },
  {
   "cell_type": "code",
   "execution_count": 56,
   "id": "89ee486a-cd6e-4c1c-b245-af855d1f97d2",
   "metadata": {},
   "outputs": [
    {
     "data": {
      "text/plain": [
       "21"
      ]
     },
     "execution_count": 56,
     "metadata": {},
     "output_type": "execute_result"
    }
   ],
   "source": [
    "numbers[desired_index]"
   ]
  },
  {
   "cell_type": "code",
   "execution_count": 54,
   "id": "b127bc20-8abf-4e57-b97d-9db2f2642fd1",
   "metadata": {},
   "outputs": [
    {
     "data": {
      "text/plain": [
       "(67, 67)"
      ]
     },
     "execution_count": 54,
     "metadata": {},
     "output_type": "execute_result"
    }
   ],
   "source": [
    "numbers[-1], numbers[len(numbers) - 1]"
   ]
  },
  {
   "cell_type": "code",
   "execution_count": 59,
   "id": "33fbfd49-85c4-4154-97f9-c2209f45fe03",
   "metadata": {},
   "outputs": [
    {
     "data": {
      "text/plain": [
       "([45, 2], [45])"
      ]
     },
     "execution_count": 59,
     "metadata": {},
     "output_type": "execute_result"
    }
   ],
   "source": [
    "numbers[0:2], numbers[0:-3]"
   ]
  },
  {
   "cell_type": "code",
   "execution_count": 66,
   "id": "22b15d31-6a64-4e73-9e47-e9c58c1d76ab",
   "metadata": {},
   "outputs": [
    {
     "name": "stdout",
     "output_type": "stream",
     "text": [
      "This is the current number: 45\n",
      "This is the current number: 2\n",
      "This is the current number: 21\n",
      "This is the current number: 67\n",
      "Sum: 135\n"
     ]
    }
   ],
   "source": [
    "i = 0\n",
    "s = 0\n",
    "\n",
    "while i < len(numbers):\n",
    "    item = numbers[i]\n",
    "    print(\"This is the current number:\", item)\n",
    "    s = s + item\n",
    "    # i = i + 1\n",
    "    i += 1\n",
    "\n",
    "print('Sum:', s)"
   ]
  },
  {
   "cell_type": "code",
   "execution_count": 67,
   "id": "273b5fff-c75c-4e0a-af95-90ecc9ff3401",
   "metadata": {},
   "outputs": [
    {
     "name": "stdout",
     "output_type": "stream",
     "text": [
      "This is the current number: 45\n",
      "This is the current number: 2\n",
      "This is the current number: 21\n",
      "This is the current number: 67\n"
     ]
    }
   ],
   "source": [
    "for item in numbers:\n",
    "    print(\"This is the current number:\", item)"
   ]
  },
  {
   "cell_type": "code",
   "execution_count": 77,
   "id": "45775ce4-0143-4cee-ac3e-a12815921021",
   "metadata": {},
   "outputs": [
    {
     "data": {
      "text/plain": [
       "135"
      ]
     },
     "execution_count": 77,
     "metadata": {},
     "output_type": "execute_result"
    }
   ],
   "source": [
    "sum(numbers)"
   ]
  },
  {
   "cell_type": "code",
   "execution_count": 84,
   "id": "bf407367-bea1-4f96-b3ba-9deb7044f65d",
   "metadata": {},
   "outputs": [],
   "source": [
    "strings = [\"A\", \"B\", \"C\", 45, [1, 2, [1, 2, 3]]]"
   ]
  },
  {
   "cell_type": "code",
   "execution_count": 91,
   "id": "992d1de1-dc43-4fba-a0de-74380c6be22a",
   "metadata": {},
   "outputs": [
    {
     "data": {
      "text/plain": [
       "list"
      ]
     },
     "execution_count": 91,
     "metadata": {},
     "output_type": "execute_result"
    }
   ],
   "source": [
    "type(strings)"
   ]
  },
  {
   "cell_type": "code",
   "execution_count": 90,
   "id": "093e63c7-d31b-4959-90aa-bde5aa1b5794",
   "metadata": {},
   "outputs": [
    {
     "data": {
      "text/plain": [
       "1"
      ]
     },
     "execution_count": 90,
     "metadata": {},
     "output_type": "execute_result"
    }
   ],
   "source": [
    "strings[4][2][0]"
   ]
  },
  {
   "cell_type": "markdown",
   "id": "d273166a-78b0-45d7-922f-c62d8108921e",
   "metadata": {},
   "source": [
    "## Dictionaries"
   ]
  },
  {
   "cell_type": "code",
   "execution_count": 78,
   "id": "3c9ef25d-d182-4a9d-a64d-7e97202b54d9",
   "metadata": {},
   "outputs": [],
   "source": [
    "my_dict = dict()"
   ]
  },
  {
   "cell_type": "code",
   "execution_count": 79,
   "id": "1d62ca00-13d4-44fa-aa51-9771664cd685",
   "metadata": {},
   "outputs": [
    {
     "data": {
      "text/plain": [
       "dict"
      ]
     },
     "execution_count": 79,
     "metadata": {},
     "output_type": "execute_result"
    }
   ],
   "source": [
    "type(my_dict)"
   ]
  },
  {
   "cell_type": "code",
   "execution_count": 92,
   "id": "8e53bbc5-e835-4f8f-92a2-f97ac81c8d0a",
   "metadata": {},
   "outputs": [],
   "source": [
    "my_dict[\"Henry\"] = 45"
   ]
  },
  {
   "cell_type": "code",
   "execution_count": 98,
   "id": "26e6cfd8-5c02-4c8b-bf09-14d14e3dcc06",
   "metadata": {},
   "outputs": [],
   "source": [
    "my_dict[\"Lucy\"] = 56"
   ]
  },
  {
   "cell_type": "code",
   "execution_count": 99,
   "id": "8f368260-1929-44b3-8c23-14bdde4c275d",
   "metadata": {},
   "outputs": [
    {
     "data": {
      "text/plain": [
       "{'Henry': 34, 'Lucy': 56}"
      ]
     },
     "execution_count": 99,
     "metadata": {},
     "output_type": "execute_result"
    }
   ],
   "source": [
    "my_dict"
   ]
  },
  {
   "cell_type": "code",
   "execution_count": 100,
   "id": "71192978-a277-49d8-aa4d-99d99c32daf6",
   "metadata": {},
   "outputs": [
    {
     "data": {
      "text/plain": [
       "2"
      ]
     },
     "execution_count": 100,
     "metadata": {},
     "output_type": "execute_result"
    }
   ],
   "source": [
    "len(my_dict)"
   ]
  },
  {
   "cell_type": "code",
   "execution_count": 103,
   "id": "975eb5da-201a-43e2-b408-243b392a7a60",
   "metadata": {},
   "outputs": [
    {
     "name": "stdout",
     "output_type": "stream",
     "text": [
      "Name Henry\n",
      "Age 34\n",
      "\n",
      "Name Lucy\n",
      "Age 56\n",
      "\n"
     ]
    }
   ],
   "source": [
    "for name in my_dict:\n",
    "    print(\"Name\", name)\n",
    "    print(\"Age\", my_dict[name])\n",
    "    print()"
   ]
  },
  {
   "cell_type": "code",
   "execution_count": 105,
   "id": "b4f8fa93-a52e-4bae-b56a-a6ccf673ff4e",
   "metadata": {},
   "outputs": [
    {
     "name": "stdout",
     "output_type": "stream",
     "text": [
      "Age: 34\n",
      "Age: 56\n"
     ]
    }
   ],
   "source": [
    "for age in my_dict.values():\n",
    "    print('Age:', age)"
   ]
  },
  {
   "cell_type": "code",
   "execution_count": 106,
   "id": "1f789389-bd74-4fbe-95ce-ffb5dd4ee804",
   "metadata": {},
   "outputs": [
    {
     "name": "stdout",
     "output_type": "stream",
     "text": [
      "Henry 34\n",
      "Lucy 56\n"
     ]
    }
   ],
   "source": [
    "for name, age in my_dict.items():\n",
    "    print(name, age)"
   ]
  },
  {
   "cell_type": "code",
   "execution_count": 107,
   "id": "a2c8a112-7254-48e6-acf6-1daa99c6bbfa",
   "metadata": {},
   "outputs": [],
   "source": [
    "del my_dict[\"Henry\"]"
   ]
  },
  {
   "cell_type": "code",
   "execution_count": 108,
   "id": "4eb3f7c1-d221-4822-97b6-c673d7e22cf6",
   "metadata": {},
   "outputs": [
    {
     "data": {
      "text/plain": [
       "{'Lucy': 56}"
      ]
     },
     "execution_count": 108,
     "metadata": {},
     "output_type": "execute_result"
    }
   ],
   "source": [
    "my_dict"
   ]
  },
  {
   "cell_type": "code",
   "execution_count": 112,
   "id": "b24d48af-14e0-43f6-b53d-0a0828ab11b8",
   "metadata": {},
   "outputs": [],
   "source": [
    "my_other_dict = {\n",
    "    \"henry\": 45,\n",
    "    \"john\": 56,\n",
    "    \"lucy\": 32\n",
    "}"
   ]
  },
  {
   "cell_type": "code",
   "execution_count": 110,
   "id": "884f82fc-b95f-49e8-aabf-883e2ec26aff",
   "metadata": {},
   "outputs": [
    {
     "data": {
      "text/plain": [
       "{'henry': 45, 'john': 56, 'lucy': 32}"
      ]
     },
     "execution_count": 110,
     "metadata": {},
     "output_type": "execute_result"
    }
   ],
   "source": [
    "my_other_dict"
   ]
  },
  {
   "cell_type": "code",
   "execution_count": 113,
   "id": "a6c67236-81de-4a40-b07d-a8a7df950497",
   "metadata": {},
   "outputs": [],
   "source": [
    "my_other_dict['list_of_stuff'] = [1, 2, 3]"
   ]
  },
  {
   "cell_type": "code",
   "execution_count": 114,
   "id": "7bae3e65-7500-4bb4-842a-d4e60fa823a5",
   "metadata": {},
   "outputs": [
    {
     "data": {
      "text/plain": [
       "{'henry': 45, 'john': 56, 'lucy': 32, 'list_of_stuff': [1, 2, 3]}"
      ]
     },
     "execution_count": 114,
     "metadata": {},
     "output_type": "execute_result"
    }
   ],
   "source": [
    "my_other_dict"
   ]
  },
  {
   "cell_type": "code",
   "execution_count": 121,
   "id": "0efd015b-af52-429e-ab1a-4b4e0386b9a9",
   "metadata": {},
   "outputs": [],
   "source": [
    "collection = [\n",
    "    {\n",
    "        \"name\": \"John\",\n",
    "        \"age\": 45\n",
    "    },\n",
    "    {\n",
    "        \"name\": \"Lucy\",\n",
    "        \"age\": 46\n",
    "    }\n",
    "]"
   ]
  },
  {
   "cell_type": "code",
   "execution_count": 117,
   "id": "e1344cae-1839-401a-b5b3-ada00b9eab78",
   "metadata": {},
   "outputs": [
    {
     "data": {
      "text/plain": [
       "46"
      ]
     },
     "execution_count": 117,
     "metadata": {},
     "output_type": "execute_result"
    }
   ],
   "source": [
    "collection[1][\"age\"]"
   ]
  },
  {
   "cell_type": "code",
   "execution_count": 122,
   "id": "5df82a83-2320-4ba2-896b-f0afae2ebb07",
   "metadata": {},
   "outputs": [
    {
     "name": "stdout",
     "output_type": "stream",
     "text": [
      "John 45\n",
      "Lucy 46\n"
     ]
    }
   ],
   "source": [
    "for person in collection:\n",
    "    print(person[\"name\"], person[\"age\"])"
   ]
  },
  {
   "cell_type": "markdown",
   "id": "c3983898-4241-4920-b02e-644aa3bcd9cb",
   "metadata": {},
   "source": [
    "## Conditions"
   ]
  },
  {
   "cell_type": "code",
   "execution_count": 124,
   "id": "f1844a77-36a0-4565-a2c0-cfe6d03a73a8",
   "metadata": {},
   "outputs": [],
   "source": [
    "if 41 > 56:\n",
    "    print('hurray')"
   ]
  },
  {
   "cell_type": "code",
   "execution_count": 125,
   "id": "563d9b43-6f30-47cc-8485-7b356fe38943",
   "metadata": {},
   "outputs": [
    {
     "data": {
      "text/plain": [
       "False"
      ]
     },
     "execution_count": 125,
     "metadata": {},
     "output_type": "execute_result"
    }
   ],
   "source": [
    "45 > 45\n",
    "45 < 45\n",
    "45 <= 56\n",
    "45 >= 45\n",
    "45 == 45\n",
    "45 != 45"
   ]
  },
  {
   "cell_type": "code",
   "execution_count": 128,
   "id": "d37049f6-bf47-40c7-8ca6-baa1f994bb59",
   "metadata": {},
   "outputs": [
    {
     "data": {
      "text/plain": [
       "False"
      ]
     },
     "execution_count": 128,
     "metadata": {},
     "output_type": "execute_result"
    }
   ],
   "source": [
    "\"A\" > \"B\""
   ]
  },
  {
   "cell_type": "code",
   "execution_count": 132,
   "id": "b87361c6-ea22-4264-a847-49bcfb500b2f",
   "metadata": {},
   "outputs": [
    {
     "name": "stdout",
     "output_type": "stream",
     "text": [
      "yay\n"
     ]
    }
   ],
   "source": [
    "if 45 == 56:\n",
    "    print('hello')\n",
    "elif 45 == 45:\n",
    "    print('yay')\n",
    "else:\n",
    "    print('there')"
   ]
  },
  {
   "cell_type": "code",
   "execution_count": 141,
   "id": "40575baa-7728-4dee-8fa6-cedbedcc094f",
   "metadata": {},
   "outputs": [
    {
     "data": {
      "text/plain": [
       "{}"
      ]
     },
     "execution_count": 141,
     "metadata": {},
     "output_type": "execute_result"
    }
   ],
   "source": [
    "# The falsey values are:\n",
    "None\n",
    "False\n",
    "\"\"\n",
    "0\n",
    "[]\n",
    "{}"
   ]
  },
  {
   "cell_type": "code",
   "execution_count": 142,
   "id": "3bac2a93-1ff0-4f02-ab12-e35510a3caad",
   "metadata": {},
   "outputs": [],
   "source": [
    "if []:\n",
    "    print('hello')"
   ]
  },
  {
   "cell_type": "code",
   "execution_count": 136,
   "id": "05a6820f-c28d-460e-a444-0cd562eb2cb5",
   "metadata": {},
   "outputs": [
    {
     "name": "stdout",
     "output_type": "stream",
     "text": [
      "This person is not worthy\n",
      "{'name': 'Lucy', 'age': 46}\n"
     ]
    }
   ],
   "source": [
    "for person in collection:\n",
    "    if person[\"age\"] > 45:\n",
    "        print(person)\n",
    "    else:\n",
    "        print('This person is not worthy')"
   ]
  },
  {
   "cell_type": "code",
   "execution_count": 154,
   "id": "2d295887-f027-4338-8ab0-ae73dbf7deec",
   "metadata": {},
   "outputs": [
    {
     "name": "stdout",
     "output_type": "stream",
     "text": [
      "False\n",
      "True\n",
      "False\n"
     ]
    }
   ],
   "source": [
    "x = True\n",
    "y = False\n",
    "\n",
    "print(x and y)\n",
    "print(x or y)\n",
    "print(not x)"
   ]
  },
  {
   "cell_type": "markdown",
   "id": "395ecad2-3063-4a3c-910d-a398f9500fd7",
   "metadata": {},
   "source": [
    "## Functions"
   ]
  },
  {
   "cell_type": "code",
   "execution_count": 144,
   "id": "5b23a12c-47e1-4cce-ba32-71c1149a515c",
   "metadata": {},
   "outputs": [
    {
     "name": "stdout",
     "output_type": "stream",
     "text": [
      "Help on built-in function len in module builtins:\n",
      "\n",
      "len(obj, /)\n",
      "    Return the number of items in a container.\n",
      "\n"
     ]
    }
   ],
   "source": [
    "help(len)"
   ]
  },
  {
   "cell_type": "code",
   "execution_count": 145,
   "id": "f6525f8f-fa7b-4136-bc7e-1dcdd54d1ccb",
   "metadata": {},
   "outputs": [
    {
     "data": {
      "text/plain": [
       "\u001b[1;31mSignature:\u001b[0m \u001b[0mlen\u001b[0m\u001b[1;33m(\u001b[0m\u001b[0mobj\u001b[0m\u001b[1;33m,\u001b[0m \u001b[1;33m/\u001b[0m\u001b[1;33m)\u001b[0m\u001b[1;33m\u001b[0m\u001b[1;33m\u001b[0m\u001b[0m\n",
       "\u001b[1;31mDocstring:\u001b[0m Return the number of items in a container.\n",
       "\u001b[1;31mType:\u001b[0m      builtin_function_or_method"
      ]
     },
     "metadata": {},
     "output_type": "display_data"
    }
   ],
   "source": [
    "len?"
   ]
  },
  {
   "cell_type": "code",
   "execution_count": 160,
   "id": "f98f120c-597c-449d-98c1-a53e96d414cc",
   "metadata": {},
   "outputs": [],
   "source": [
    "def add_and_then_square(x, y):\n",
    "    t = x + y\n",
    "    return t * t"
   ]
  },
  {
   "cell_type": "code",
   "execution_count": 161,
   "id": "645cdd8c-9dd2-41fc-b276-ba02f275fe3d",
   "metadata": {},
   "outputs": [],
   "source": [
    "result = add_and_then_square(45, 56)"
   ]
  },
  {
   "cell_type": "code",
   "execution_count": 162,
   "id": "3af69f2d-4369-4821-a3e2-64ed5e5f015a",
   "metadata": {},
   "outputs": [
    {
     "data": {
      "text/plain": [
       "10201"
      ]
     },
     "execution_count": 162,
     "metadata": {},
     "output_type": "execute_result"
    }
   ],
   "source": [
    "result"
   ]
  },
  {
   "cell_type": "code",
   "execution_count": 166,
   "id": "b0acd13e-a813-4a63-8950-0dcf03ed2a5a",
   "metadata": {},
   "outputs": [
    {
     "data": {
      "text/plain": [
       "([45, 2, 21, 67], 33.75)"
      ]
     },
     "execution_count": 166,
     "metadata": {},
     "output_type": "execute_result"
    }
   ],
   "source": [
    "# Computing the mean of our list\n",
    "s = 0\n",
    "\n",
    "for x in numbers:\n",
    "    s += x\n",
    "\n",
    "numbers, s / len(numbers)"
   ]
  },
  {
   "cell_type": "code",
   "execution_count": 172,
   "id": "3e9b6109-4102-4695-ad58-492daf286e87",
   "metadata": {},
   "outputs": [],
   "source": [
    "def mean(list_of_numbers):\n",
    "    sum_of_numbers = 0\n",
    "\n",
    "    for x in list_of_numbers:\n",
    "        sum_of_numbers += x\n",
    "        # same as:\n",
    "        # sum_of_numbers = sum_of_numbers + x\n",
    "\n",
    "    return sum_of_numbers / len(list_of_numbers)"
   ]
  },
  {
   "cell_type": "code",
   "execution_count": 171,
   "id": "2cc4a04c-cdaf-4428-9425-48f8676283ca",
   "metadata": {},
   "outputs": [
    {
     "data": {
      "text/plain": [
       "(33.75, 3.8)"
      ]
     },
     "execution_count": 171,
     "metadata": {},
     "output_type": "execute_result"
    }
   ],
   "source": [
    "mean(numbers), mean([3, 4, 5, 2, 5])"
   ]
  },
  {
   "cell_type": "markdown",
   "id": "19c6e140-b53d-4fc7-9be6-6fa4081a66be",
   "metadata": {},
   "source": [
    "## Imports"
   ]
  },
  {
   "cell_type": "code",
   "execution_count": 173,
   "id": "ebe66865-5341-400c-88ab-65d430304e03",
   "metadata": {},
   "outputs": [],
   "source": [
    "import statistics"
   ]
  },
  {
   "cell_type": "code",
   "execution_count": 174,
   "id": "2b74c8a2-5ebf-41cd-b21f-009b9b38fa97",
   "metadata": {},
   "outputs": [
    {
     "data": {
      "text/plain": [
       "33.75"
      ]
     },
     "execution_count": 174,
     "metadata": {},
     "output_type": "execute_result"
    }
   ],
   "source": [
    "statistics.mean(numbers)"
   ]
  },
  {
   "cell_type": "code",
   "execution_count": 175,
   "id": "491d42c3-d036-4b24-86b1-23f76d1b1cc2",
   "metadata": {},
   "outputs": [],
   "source": [
    "from statistics import mean"
   ]
  },
  {
   "cell_type": "code",
   "execution_count": 177,
   "id": "e4405c11-f0c9-4b4a-950a-dd6e9e93601e",
   "metadata": {},
   "outputs": [
    {
     "data": {
      "text/plain": [
       "33.75"
      ]
     },
     "execution_count": 177,
     "metadata": {},
     "output_type": "execute_result"
    }
   ],
   "source": [
    "mean(numbers)"
   ]
  }
 ],
 "metadata": {
  "kernelspec": {
   "display_name": "Python 3 (ipykernel)",
   "language": "python",
   "name": "python3"
  },
  "language_info": {
   "codemirror_mode": {
    "name": "ipython",
    "version": 3
   },
   "file_extension": ".py",
   "mimetype": "text/x-python",
   "name": "python",
   "nbconvert_exporter": "python",
   "pygments_lexer": "ipython3",
   "version": "3.8.16"
  }
 },
 "nbformat": 4,
 "nbformat_minor": 5
}
