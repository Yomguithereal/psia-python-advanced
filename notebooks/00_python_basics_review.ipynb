{
 "cells": [
  {
   "cell_type": "markdown",
   "id": "57d06afb-c8ab-4822-8d5e-48e0b176c4c8",
   "metadata": {},
   "source": [
    "# Python basics review"
   ]
  },
  {
   "cell_type": "markdown",
   "id": "44e4a2ca-ef1e-4bf2-b4b7-812c464e7956",
   "metadata": {},
   "source": [
    "## Basic values"
   ]
  },
  {
   "cell_type": "code",
   "execution_count": 1,
   "id": "5f3eebd7-06e4-4f03-aa3b-b11049f6281e",
   "metadata": {},
   "outputs": [],
   "source": [
    "integer_number = 34\n",
    "float_number = 4.5\n",
    "large_integer_numbers = 10_000\n",
    "my_string = 'hello'\n",
    "my_other_string = \"hello again\"\n",
    "shitty_string = \"Hello my name is \\\"Guillaume\\\"\"\n",
    "very_large_string = \"\"\"\n",
    "    Hello\n",
    "    \n",
    "    this is still a string\n",
    "\"\"\"\n",
    "my_boolean = True\n",
    "my_other_boolean = False\n",
    "nothingness = None"
   ]
  },
  {
   "cell_type": "markdown",
   "id": "cbba08c6-0325-4264-82cc-b1353e460829",
   "metadata": {},
   "source": [
    "## Container values"
   ]
  },
  {
   "cell_type": "code",
   "execution_count": 2,
   "id": "241d7e78-82cb-45ed-9069-c4488b2c4139",
   "metadata": {},
   "outputs": [],
   "source": [
    "numbers = [34, 56, 78]"
   ]
  },
  {
   "cell_type": "code",
   "execution_count": 3,
   "id": "105031d0-af9c-4168-926b-1293551aede4",
   "metadata": {},
   "outputs": [
    {
     "data": {
      "text/plain": [
       "34"
      ]
     },
     "execution_count": 3,
     "metadata": {},
     "output_type": "execute_result"
    }
   ],
   "source": [
    "numbers[0]"
   ]
  },
  {
   "cell_type": "code",
   "execution_count": 4,
   "id": "e10ac4db-0245-4d8f-8890-ddcd4964d4b3",
   "metadata": {},
   "outputs": [
    {
     "data": {
      "text/plain": [
       "78"
      ]
     },
     "execution_count": 4,
     "metadata": {},
     "output_type": "execute_result"
    }
   ],
   "source": [
    "numbers[2]"
   ]
  },
  {
   "cell_type": "code",
   "execution_count": 5,
   "id": "6189b88d-87ae-400f-971d-ada42a4363df",
   "metadata": {},
   "outputs": [
    {
     "data": {
      "text/plain": [
       "(2, 78, 78)"
      ]
     },
     "execution_count": 5,
     "metadata": {},
     "output_type": "execute_result"
    }
   ],
   "source": [
    "last_index = len(numbers) - 1\n",
    "last_index, numbers[last_index], numbers[-1]"
   ]
  },
  {
   "cell_type": "code",
   "execution_count": 6,
   "id": "a4fbd4b9-bc4a-4d46-b1b7-27b0315de760",
   "metadata": {},
   "outputs": [
    {
     "name": "stdout",
     "output_type": "stream",
     "text": [
      "68\n",
      "112\n",
      "156\n"
     ]
    }
   ],
   "source": [
    "for number in numbers:\n",
    "    print(number * 2)"
   ]
  },
  {
   "cell_type": "code",
   "execution_count": 7,
   "id": "09328500-3846-4998-a4d0-3ea80d02269b",
   "metadata": {},
   "outputs": [],
   "source": [
    "my_dict = {'Brendan': 'red', 'Guillaume': 'purple'}"
   ]
  },
  {
   "cell_type": "code",
   "execution_count": 8,
   "id": "1e56f629-6556-4568-a014-cf454c6f8f8c",
   "metadata": {},
   "outputs": [
    {
     "data": {
      "text/plain": [
       "'red'"
      ]
     },
     "execution_count": 8,
     "metadata": {},
     "output_type": "execute_result"
    }
   ],
   "source": [
    "my_dict['Brendan']"
   ]
  },
  {
   "cell_type": "code",
   "execution_count": 9,
   "id": "d133efa4-99c1-4547-8a2c-39e232cd8fc3",
   "metadata": {},
   "outputs": [
    {
     "name": "stdout",
     "output_type": "stream",
     "text": [
      "Key Brendan\n",
      "Key Guillaume\n"
     ]
    }
   ],
   "source": [
    "# This is the same as iterating over my_dict.keys()\n",
    "for key in my_dict:\n",
    "    print('Key', key)"
   ]
  },
  {
   "cell_type": "code",
   "execution_count": 10,
   "id": "3141b8ed-f979-47de-a8ae-3878ff0e331e",
   "metadata": {},
   "outputs": [
    {
     "name": "stdout",
     "output_type": "stream",
     "text": [
      "Value red\n",
      "Value purple\n"
     ]
    }
   ],
   "source": [
    "for value in my_dict.values():\n",
    "    print('Value', value)"
   ]
  },
  {
   "cell_type": "code",
   "execution_count": 11,
   "id": "42bad636-826c-4c4d-997d-7c89ad5cc7f8",
   "metadata": {},
   "outputs": [
    {
     "ename": "KeyError",
     "evalue": "'John'",
     "output_type": "error",
     "traceback": [
      "\u001b[0;31m---------------------------------------------------------------------------\u001b[0m",
      "\u001b[0;31mKeyError\u001b[0m                                  Traceback (most recent call last)",
      "Input \u001b[0;32mIn [11]\u001b[0m, in \u001b[0;36m<cell line: 1>\u001b[0;34m()\u001b[0m\n\u001b[0;32m----> 1\u001b[0m \u001b[43mmy_dict\u001b[49m\u001b[43m[\u001b[49m\u001b[38;5;124;43m'\u001b[39;49m\u001b[38;5;124;43mJohn\u001b[39;49m\u001b[38;5;124;43m'\u001b[39;49m\u001b[43m]\u001b[49m\n",
      "\u001b[0;31mKeyError\u001b[0m: 'John'"
     ]
    }
   ],
   "source": [
    "my_dict['John']"
   ]
  },
  {
   "cell_type": "markdown",
   "id": "3d14c73d-1e23-46b1-a661-ae25a6132d02",
   "metadata": {},
   "source": [
    "## Conditions & functions"
   ]
  },
  {
   "cell_type": "code",
   "execution_count": 12,
   "id": "c1654582-ef13-4b76-8553-1b1d54bbe289",
   "metadata": {},
   "outputs": [],
   "source": [
    "def print_result(key_name):\n",
    "    print('Result', key_name + ' is in the dict')"
   ]
  },
  {
   "cell_type": "code",
   "execution_count": 13,
   "id": "09cccfce-4d96-49c5-a674-423435260355",
   "metadata": {},
   "outputs": [
    {
     "name": "stdout",
     "output_type": "stream",
     "text": [
      "Result Guillaume is in the dict\n"
     ]
    }
   ],
   "source": [
    "print_result('Guillaume')"
   ]
  },
  {
   "cell_type": "code",
   "execution_count": 14,
   "id": "435dadf3-14a5-4531-ac8d-d4e15058c92b",
   "metadata": {},
   "outputs": [
    {
     "name": "stdout",
     "output_type": "stream",
     "text": [
      "Result Guillaume is in the dict\n"
     ]
    }
   ],
   "source": [
    "if 'koala' in my_dict:\n",
    "    print_result('koala')\n",
    "elif 'Guillaume' in my_dict:\n",
    "    print_result('Guillaume')\n",
    "else:\n",
    "    print('Result', 'nothing was found')"
   ]
  },
  {
   "cell_type": "code",
   "execution_count": 15,
   "id": "0e67f2ff-d11a-4458-b3f3-98bf5c731aea",
   "metadata": {},
   "outputs": [],
   "source": [
    "if []:\n",
    "    print('yes')"
   ]
  },
  {
   "cell_type": "code",
   "execution_count": 16,
   "id": "f2893d6b-dbec-4866-8f2f-b0aaef441295",
   "metadata": {},
   "outputs": [],
   "source": [
    "def weird_add(a, b, print_before=False):\n",
    "    if print_before:\n",
    "        print('I am going to compute')\n",
    "    \n",
    "    if a > 5 and a < 45:\n",
    "        return a + b\n",
    "                \n",
    "    return a - b"
   ]
  },
  {
   "cell_type": "code",
   "execution_count": 17,
   "id": "430b0d26-e93e-48b2-a819-b2346d0ce897",
   "metadata": {},
   "outputs": [
    {
     "name": "stdout",
     "output_type": "stream",
     "text": [
      "I am going to compute\n"
     ]
    },
    {
     "data": {
      "text/plain": [
       "50"
      ]
     },
     "execution_count": 17,
     "metadata": {},
     "output_type": "execute_result"
    }
   ],
   "source": [
    "weird_add(56, 6, print_before=True)"
   ]
  },
  {
   "cell_type": "markdown",
   "id": "83875d50-248e-450b-a992-7cdcd618304f",
   "metadata": {},
   "source": [
    "## Classes"
   ]
  },
  {
   "cell_type": "code",
   "execution_count": 18,
   "id": "a47f0974-affc-41ba-abee-269561e7a672",
   "metadata": {},
   "outputs": [],
   "source": [
    "class Point:\n",
    "    def __init__(self, x, y):\n",
    "        self.x = x\n",
    "        self.y = y\n",
    "        \n",
    "    def sum(self):\n",
    "        return self.x + self.y"
   ]
  },
  {
   "cell_type": "code",
   "execution_count": 19,
   "id": "1db7b4cd-c1af-434b-893b-ea67f60e1999",
   "metadata": {},
   "outputs": [],
   "source": [
    "my_point = Point(34, 67)"
   ]
  },
  {
   "cell_type": "code",
   "execution_count": 33,
   "id": "e6033e2f-e4e2-4b15-9aa1-500bbaa11b71",
   "metadata": {},
   "outputs": [
    {
     "data": {
      "text/plain": [
       "<function __main__.weird_add(a, b, print_before=False)>"
      ]
     },
     "execution_count": 33,
     "metadata": {},
     "output_type": "execute_result"
    }
   ],
   "source": [
    "weird_add"
   ]
  },
  {
   "cell_type": "code",
   "execution_count": 28,
   "id": "59282a0a-8fcb-47eb-a313-953aa17f0ad6",
   "metadata": {},
   "outputs": [
    {
     "data": {
      "text/plain": [
       "__main__.Point"
      ]
     },
     "execution_count": 28,
     "metadata": {},
     "output_type": "execute_result"
    }
   ],
   "source": [
    "type(my_point)"
   ]
  },
  {
   "cell_type": "code",
   "execution_count": 21,
   "id": "eba767cd-a489-49a1-88c1-7aa86c7e195b",
   "metadata": {},
   "outputs": [
    {
     "data": {
      "text/plain": [
       "34"
      ]
     },
     "execution_count": 21,
     "metadata": {},
     "output_type": "execute_result"
    }
   ],
   "source": [
    "my_point.x"
   ]
  },
  {
   "cell_type": "code",
   "execution_count": 22,
   "id": "673157bc-5566-4c2d-b72d-0336c66946d8",
   "metadata": {},
   "outputs": [],
   "source": [
    "point_list = [Point(45, 56), Point(34, 56)]"
   ]
  },
  {
   "cell_type": "code",
   "execution_count": 23,
   "id": "02f1c68c-811f-41ab-bf26-d14bbb5902e0",
   "metadata": {},
   "outputs": [
    {
     "data": {
      "text/plain": [
       "101"
      ]
     },
     "execution_count": 23,
     "metadata": {},
     "output_type": "execute_result"
    }
   ],
   "source": [
    "my_point.sum()"
   ]
  },
  {
   "cell_type": "code",
   "execution_count": 24,
   "id": "1dbd8063-844e-4a62-aafc-20ae29d8cb6f",
   "metadata": {},
   "outputs": [
    {
     "data": {
      "text/plain": [
       "101"
      ]
     },
     "execution_count": 24,
     "metadata": {},
     "output_type": "execute_result"
    }
   ],
   "source": [
    "Point.sum(my_point)"
   ]
  },
  {
   "cell_type": "code",
   "execution_count": 26,
   "id": "54a521bc-dfac-4e4e-b2eb-e36cbedec68f",
   "metadata": {},
   "outputs": [],
   "source": [
    "my_point.x = 'test'"
   ]
  },
  {
   "cell_type": "code",
   "execution_count": null,
   "id": "c4a42127-2612-466e-96ce-1a09c5e644b3",
   "metadata": {},
   "outputs": [],
   "source": [
    "l = list()\n",
    "l.append(1)"
   ]
  },
  {
   "cell_type": "markdown",
   "id": "d1217eb7-f8ce-4d50-8a21-17b6616daa1c",
   "metadata": {},
   "source": [
    "## Try...except"
   ]
  },
  {
   "cell_type": "code",
   "execution_count": 36,
   "id": "240f05c2-5ae1-4fc9-92dc-606b431be609",
   "metadata": {},
   "outputs": [
    {
     "data": {
      "text/plain": [
       "[34, 56, 78]"
      ]
     },
     "execution_count": 36,
     "metadata": {},
     "output_type": "execute_result"
    }
   ],
   "source": [
    "numbers"
   ]
  },
  {
   "cell_type": "code",
   "execution_count": 37,
   "id": "6b816a46-c718-48d0-ad72-0b9a6d1cfad8",
   "metadata": {},
   "outputs": [
    {
     "data": {
      "text/plain": [
       "True"
      ]
     },
     "execution_count": 37,
     "metadata": {},
     "output_type": "execute_result"
    }
   ],
   "source": [
    "56 in numbers"
   ]
  },
  {
   "cell_type": "code",
   "execution_count": 38,
   "id": "65bddd18-d963-4d3b-95a5-c7fd1e015eab",
   "metadata": {},
   "outputs": [],
   "source": [
    "def get_number_or_nothing(l, i):\n",
    "    if i >= len(l):\n",
    "        return None\n",
    "    return l[i]"
   ]
  },
  {
   "cell_type": "code",
   "execution_count": 40,
   "id": "71e97980-2c40-4af3-ab3d-e81bb7a5ce13",
   "metadata": {},
   "outputs": [
    {
     "data": {
      "text/plain": [
       "78"
      ]
     },
     "execution_count": 40,
     "metadata": {},
     "output_type": "execute_result"
    }
   ],
   "source": [
    "get_number_or_nothing(numbers, 2)"
   ]
  },
  {
   "cell_type": "code",
   "execution_count": 44,
   "id": "09f73125-82f5-4034-84d2-39fbae700cfa",
   "metadata": {},
   "outputs": [],
   "source": [
    "def get_number_or_nothing_by_trying(l, i):\n",
    "    try:\n",
    "        return l[i]\n",
    "    except IndexError:\n",
    "        return None"
   ]
  },
  {
   "cell_type": "code",
   "execution_count": 46,
   "id": "182bf1ec-dfbe-49cb-8625-195ec30e878c",
   "metadata": {},
   "outputs": [
    {
     "data": {
      "text/plain": [
       "78"
      ]
     },
     "execution_count": 46,
     "metadata": {},
     "output_type": "execute_result"
    }
   ],
   "source": [
    "get_number_or_nothing_by_trying(numbers, 2)"
   ]
  },
  {
   "cell_type": "markdown",
   "id": "4423b3fc-deba-46ae-a1e3-f55b348c8fbe",
   "metadata": {},
   "source": [
    "## Imports"
   ]
  },
  {
   "cell_type": "code",
   "execution_count": 54,
   "id": "2cf1fbe4-2c75-49f9-86b1-06d2fc36bed0",
   "metadata": {},
   "outputs": [],
   "source": [
    "import math\n",
    "import math as fancy_licorn\n",
    "from math import sqrt"
   ]
  },
  {
   "cell_type": "code",
   "execution_count": 52,
   "id": "5bde9def-d0df-4b92-92d2-598ed150fe40",
   "metadata": {},
   "outputs": [
    {
     "data": {
      "text/plain": [
       "4.0"
      ]
     },
     "execution_count": 52,
     "metadata": {},
     "output_type": "execute_result"
    }
   ],
   "source": [
    "math.sqrt(16)"
   ]
  },
  {
   "cell_type": "code",
   "execution_count": 53,
   "id": "6eba6f2c-4643-44c7-879c-50d8759c5b53",
   "metadata": {},
   "outputs": [
    {
     "data": {
      "text/plain": [
       "4.0"
      ]
     },
     "execution_count": 53,
     "metadata": {},
     "output_type": "execute_result"
    }
   ],
   "source": [
    "fancy_licorn.sqrt(16)"
   ]
  },
  {
   "cell_type": "code",
   "execution_count": 55,
   "id": "583ad25d-193c-4971-8ebc-0fd8389073ea",
   "metadata": {},
   "outputs": [
    {
     "data": {
      "text/plain": [
       "4.0"
      ]
     },
     "execution_count": 55,
     "metadata": {},
     "output_type": "execute_result"
    }
   ],
   "source": [
    "sqrt(16)"
   ]
  }
 ],
 "metadata": {
  "kernelspec": {
   "display_name": "Python 3 (ipykernel)",
   "language": "python",
   "name": "python3"
  },
  "language_info": {
   "codemirror_mode": {
    "name": "ipython",
    "version": 3
   },
   "file_extension": ".py",
   "mimetype": "text/x-python",
   "name": "python",
   "nbconvert_exporter": "python",
   "pygments_lexer": "ipython3",
   "version": "3.8.5"
  }
 },
 "nbformat": 4,
 "nbformat_minor": 5
}
