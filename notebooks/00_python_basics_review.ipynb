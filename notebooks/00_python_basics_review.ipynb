{
 "cells": [
  {
   "cell_type": "markdown",
   "id": "57d06afb-c8ab-4822-8d5e-48e0b176c4c8",
   "metadata": {},
   "source": [
    "# Python basics review"
   ]
  }
 ],
 "metadata": {
  "kernelspec": {
   "display_name": "Python 3 (ipykernel)",
   "language": "python",
   "name": "python3"
  },
  "language_info": {
   "codemirror_mode": {
    "name": "ipython",
    "version": 3
   },
   "file_extension": ".py",
   "mimetype": "text/x-python",
   "name": "python",
   "nbconvert_exporter": "python",
   "pygments_lexer": "ipython3",
   "version": "3.8.2"
  }
 },
 "nbformat": 4,
 "nbformat_minor": 5
}
