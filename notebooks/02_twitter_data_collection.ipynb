{
 "cells": [
  {
   "cell_type": "markdown",
   "id": "f1587635-ba85-4fc0-82c9-bc1d23195210",
   "metadata": {},
   "source": [
    "# Scraping tweets"
   ]
  },
  {
   "cell_type": "markdown",
   "id": "0794d7ea-34a5-45cf-9a05-036d952560ad",
   "metadata": {},
   "source": [
    "## Installing minet\n",
    "\n",
    "https://github.com/medialab/minet"
   ]
  },
  {
   "cell_type": "code",
   "execution_count": 1,
   "id": "1d361c9b-c52f-4d66-9fd1-06020521b203",
   "metadata": {
    "collapsed": true,
    "jupyter": {
     "outputs_hidden": true
    },
    "tags": []
   },
   "outputs": [
    {
     "name": "stdout",
     "output_type": "stream",
     "text": [
      "Requirement already satisfied: minet==1.0.0-a14 in /home/yomguithereal/.pyenv/versions/3.7.16/envs/psia-python-advanced/lib/python3.7/site-packages (1.0.0a14)\n",
      "Requirement already satisfied: rich-argparse<2,>=1 in /home/yomguithereal/.pyenv/versions/3.7.16/envs/psia-python-advanced/lib/python3.7/site-packages (from minet==1.0.0-a14) (1.1.0)\n",
      "Requirement already satisfied: pyyaml in /home/yomguithereal/.pyenv/versions/3.7.16/envs/psia-python-advanced/lib/python3.7/site-packages (from minet==1.0.0-a14) (6.0)\n",
      "Requirement already satisfied: ebbe<2,>=1.11.1 in /home/yomguithereal/.pyenv/versions/3.7.16/envs/psia-python-advanced/lib/python3.7/site-packages (from minet==1.0.0-a14) (1.11.1)\n",
      "Requirement already satisfied: persist-queue<0.9,>=0.7 in /home/yomguithereal/.pyenv/versions/3.7.16/envs/psia-python-advanced/lib/python3.7/site-packages (from minet==1.0.0-a14) (0.8.0)\n",
      "Requirement already satisfied: about-time<5,>=4 in /home/yomguithereal/.pyenv/versions/3.7.16/envs/psia-python-advanced/lib/python3.7/site-packages (from minet==1.0.0-a14) (4.2.1)\n",
      "Requirement already satisfied: urllib3<2,>=1.26.9 in /home/yomguithereal/.pyenv/versions/3.7.16/envs/psia-python-advanced/lib/python3.7/site-packages (from minet==1.0.0-a14) (1.26.15)\n",
      "Requirement already satisfied: rich<14,>=13 in /home/yomguithereal/.pyenv/versions/3.7.16/envs/psia-python-advanced/lib/python3.7/site-packages (from minet==1.0.0-a14) (13.3.3)\n",
      "Requirement already satisfied: browser-cookie3==0.17.1 in /home/yomguithereal/.pyenv/versions/3.7.16/envs/psia-python-advanced/lib/python3.7/site-packages (from minet==1.0.0-a14) (0.17.1)\n",
      "Requirement already satisfied: beautifulsoup4<5,>=4.7.1 in /home/yomguithereal/.pyenv/versions/3.7.16/envs/psia-python-advanced/lib/python3.7/site-packages (from minet==1.0.0-a14) (4.11.2)\n",
      "Requirement already satisfied: soupsieve<3,>=2.1 in /home/yomguithereal/.pyenv/versions/3.7.16/envs/psia-python-advanced/lib/python3.7/site-packages (from minet==1.0.0-a14) (2.4)\n",
      "Requirement already satisfied: dateparser>=1.1.1 in /home/yomguithereal/.pyenv/versions/3.7.16/envs/psia-python-advanced/lib/python3.7/site-packages (from minet==1.0.0-a14) (1.1.8)\n",
      "Requirement already satisfied: charset-normalizer<4,>=3 in /home/yomguithereal/.pyenv/versions/3.7.16/envs/psia-python-advanced/lib/python3.7/site-packages (from minet==1.0.0-a14) (3.1.0)\n",
      "Requirement already satisfied: trafilatura<1.5,>=1.4.1 in /home/yomguithereal/.pyenv/versions/3.7.16/envs/psia-python-advanced/lib/python3.7/site-packages (from minet==1.0.0-a14) (1.4.1)\n",
      "Requirement already satisfied: ural<0.41,>=0.40 in /home/yomguithereal/.pyenv/versions/3.7.16/envs/psia-python-advanced/lib/python3.7/site-packages (from minet==1.0.0-a14) (0.40.1)\n",
      "Requirement already satisfied: lxml>=4.3.0 in /home/yomguithereal/.pyenv/versions/3.7.16/envs/psia-python-advanced/lib/python3.7/site-packages (from minet==1.0.0-a14) (4.9.2)\n",
      "Requirement already satisfied: twitwi<0.17,>=0.16.1 in /home/yomguithereal/.pyenv/versions/3.7.16/envs/psia-python-advanced/lib/python3.7/site-packages (from minet==1.0.0-a14) (0.16.2)\n",
      "Requirement already satisfied: casanova<1.8,>=1.7.4 in /home/yomguithereal/.pyenv/versions/3.7.16/envs/psia-python-advanced/lib/python3.7/site-packages (from minet==1.0.0-a14) (1.7.4)\n",
      "Requirement already satisfied: quenouille<2,>=1.7.1 in /home/yomguithereal/.pyenv/versions/3.7.16/envs/psia-python-advanced/lib/python3.7/site-packages (from minet==1.0.0-a14) (1.7.1)\n",
      "Requirement already satisfied: tenacity<9,>=8 in /home/yomguithereal/.pyenv/versions/3.7.16/envs/psia-python-advanced/lib/python3.7/site-packages (from minet==1.0.0-a14) (8.2.2)\n",
      "Requirement already satisfied: typing-extensions in /home/yomguithereal/.pyenv/versions/3.7.16/envs/psia-python-advanced/lib/python3.7/site-packages (from minet==1.0.0-a14) (4.5.0)\n",
      "Requirement already satisfied: json5>=0.8.5 in /home/yomguithereal/.pyenv/versions/3.7.16/envs/psia-python-advanced/lib/python3.7/site-packages (from minet==1.0.0-a14) (0.9.11)\n",
      "Requirement already satisfied: jeepney in /home/yomguithereal/.pyenv/versions/3.7.16/envs/psia-python-advanced/lib/python3.7/site-packages (from browser-cookie3==0.17.1->minet==1.0.0-a14) (0.8.0)\n",
      "Requirement already satisfied: pycryptodomex in /home/yomguithereal/.pyenv/versions/3.7.16/envs/psia-python-advanced/lib/python3.7/site-packages (from browser-cookie3==0.17.1->minet==1.0.0-a14) (3.17)\n",
      "Requirement already satisfied: lz4 in /home/yomguithereal/.pyenv/versions/3.7.16/envs/psia-python-advanced/lib/python3.7/site-packages (from browser-cookie3==0.17.1->minet==1.0.0-a14) (4.3.2)\n",
      "Requirement already satisfied: file-read-backwards<3,>=2.0.0 in /home/yomguithereal/.pyenv/versions/3.7.16/envs/psia-python-advanced/lib/python3.7/site-packages (from casanova<1.8,>=1.7.4->minet==1.0.0-a14) (2.0.0)\n",
      "Requirement already satisfied: regex!=2019.02.19,!=2021.8.27 in /home/yomguithereal/.pyenv/versions/3.7.16/envs/psia-python-advanced/lib/python3.7/site-packages (from dateparser>=1.1.1->minet==1.0.0-a14) (2022.10.31)\n",
      "Requirement already satisfied: pytz in /home/yomguithereal/.pyenv/versions/3.7.16/envs/psia-python-advanced/lib/python3.7/site-packages (from dateparser>=1.1.1->minet==1.0.0-a14) (2022.7.1)\n",
      "Requirement already satisfied: python-dateutil in /home/yomguithereal/.pyenv/versions/3.7.16/envs/psia-python-advanced/lib/python3.7/site-packages (from dateparser>=1.1.1->minet==1.0.0-a14) (2.8.2)\n",
      "Requirement already satisfied: tzlocal in /home/yomguithereal/.pyenv/versions/3.7.16/envs/psia-python-advanced/lib/python3.7/site-packages (from dateparser>=1.1.1->minet==1.0.0-a14) (4.3)\n",
      "Requirement already satisfied: pygments<3.0.0,>=2.13.0 in /home/yomguithereal/.pyenv/versions/3.7.16/envs/psia-python-advanced/lib/python3.7/site-packages (from rich<14,>=13->minet==1.0.0-a14) (2.14.0)\n",
      "Requirement already satisfied: markdown-it-py<3.0.0,>=2.2.0 in /home/yomguithereal/.pyenv/versions/3.7.16/envs/psia-python-advanced/lib/python3.7/site-packages (from rich<14,>=13->minet==1.0.0-a14) (2.2.0)\n",
      "Requirement already satisfied: htmldate>=1.4.1 in /home/yomguithereal/.pyenv/versions/3.7.16/envs/psia-python-advanced/lib/python3.7/site-packages (from trafilatura<1.5,>=1.4.1->minet==1.0.0-a14) (1.4.2)\n",
      "Requirement already satisfied: courlan>=0.8.3 in /home/yomguithereal/.pyenv/versions/3.7.16/envs/psia-python-advanced/lib/python3.7/site-packages (from trafilatura<1.5,>=1.4.1->minet==1.0.0-a14) (0.9.0)\n",
      "Requirement already satisfied: certifi in /home/yomguithereal/.pyenv/versions/3.7.16/envs/psia-python-advanced/lib/python3.7/site-packages (from trafilatura<1.5,>=1.4.1->minet==1.0.0-a14) (2022.12.7)\n",
      "Requirement already satisfied: justext>=3.0.0 in /home/yomguithereal/.pyenv/versions/3.7.16/envs/psia-python-advanced/lib/python3.7/site-packages (from trafilatura<1.5,>=1.4.1->minet==1.0.0-a14) (3.0.0)\n",
      "Requirement already satisfied: twitter==2.0a2 in /home/yomguithereal/.pyenv/versions/3.7.16/envs/psia-python-advanced/lib/python3.7/site-packages (from twitwi<0.17,>=0.16.1->minet==1.0.0-a14) (2.0a2)\n",
      "Requirement already satisfied: tld>=0.13 in /home/yomguithereal/.pyenv/versions/3.7.16/envs/psia-python-advanced/lib/python3.7/site-packages (from courlan>=0.8.3->trafilatura<1.5,>=1.4.1->minet==1.0.0-a14) (0.13)\n",
      "Requirement already satisfied: langcodes>=3.3.0 in /home/yomguithereal/.pyenv/versions/3.7.16/envs/psia-python-advanced/lib/python3.7/site-packages (from courlan>=0.8.3->trafilatura<1.5,>=1.4.1->minet==1.0.0-a14) (3.3.0)\n",
      "Requirement already satisfied: mdurl~=0.1 in /home/yomguithereal/.pyenv/versions/3.7.16/envs/psia-python-advanced/lib/python3.7/site-packages (from markdown-it-py<3.0.0,>=2.2.0->rich<14,>=13->minet==1.0.0-a14) (0.1.2)\n",
      "Requirement already satisfied: six>=1.5 in /home/yomguithereal/.pyenv/versions/3.7.16/envs/psia-python-advanced/lib/python3.7/site-packages (from python-dateutil->dateparser>=1.1.1->minet==1.0.0-a14) (1.16.0)\n",
      "Requirement already satisfied: pytz-deprecation-shim in /home/yomguithereal/.pyenv/versions/3.7.16/envs/psia-python-advanced/lib/python3.7/site-packages (from tzlocal->dateparser>=1.1.1->minet==1.0.0-a14) (0.1.0.post0)\n",
      "Requirement already satisfied: backports.zoneinfo in /home/yomguithereal/.pyenv/versions/3.7.16/envs/psia-python-advanced/lib/python3.7/site-packages (from tzlocal->dateparser>=1.1.1->minet==1.0.0-a14) (0.2.1)\n",
      "Requirement already satisfied: tzdata in /home/yomguithereal/.pyenv/versions/3.7.16/envs/psia-python-advanced/lib/python3.7/site-packages (from pytz-deprecation-shim->tzlocal->dateparser>=1.1.1->minet==1.0.0-a14) (2023.3)\n"
     ]
    }
   ],
   "source": [
    "!pip install minet==1.0.0-a14"
   ]
  },
  {
   "cell_type": "code",
   "execution_count": 32,
   "id": "af68ed1c-fef7-47fb-abb9-abcb3657ea20",
   "metadata": {
    "tags": []
   },
   "outputs": [
    {
     "name": "stdout",
     "output_type": "stream",
     "text": [
      "Requirement already satisfied: ural in /home/yomguithereal/.pyenv/versions/3.7.16/envs/psia-python-advanced/lib/python3.7/site-packages (0.40.1)\n",
      "Requirement already satisfied: typing-extensions in /home/yomguithereal/.pyenv/versions/3.7.16/envs/psia-python-advanced/lib/python3.7/site-packages (from ural) (4.5.0)\n"
     ]
    }
   ],
   "source": [
    "!pip install ural"
   ]
  },
  {
   "cell_type": "code",
   "execution_count": 34,
   "id": "a271dcb2-ff17-445c-b129-314996e38cd8",
   "metadata": {
    "tags": []
   },
   "outputs": [],
   "source": [
    "import json\n",
    "from minet.twitter import TwitterAPIScraper\n",
    "from collections import Counter\n",
    "from ural import normalize_url, get_domain_name, is_shortened_url"
   ]
  },
  {
   "cell_type": "markdown",
   "id": "f9a9e7a8-dabe-4ded-a823-d9809842b326",
   "metadata": {},
   "source": [
    "## Scraping the tweets"
   ]
  },
  {
   "cell_type": "code",
   "execution_count": 3,
   "id": "373df0cb-5312-447a-bce1-d0c263e4fe60",
   "metadata": {
    "tags": []
   },
   "outputs": [],
   "source": [
    "scraper = TwitterAPIScraper()"
   ]
  },
  {
   "cell_type": "code",
   "execution_count": 8,
   "id": "f3c883e8-d696-4006-8cf7-f155275ccb64",
   "metadata": {
    "tags": []
   },
   "outputs": [],
   "source": [
    "TWEETS = []\n",
    "\n",
    "for tweet in scraper.search_tweets('#saccageparis filter:links', limit=1000):\n",
    "    TWEETS.append(tweet)"
   ]
  },
  {
   "cell_type": "code",
   "execution_count": 9,
   "id": "467ca37e-5b82-4066-b0e6-f140dc95c128",
   "metadata": {
    "tags": []
   },
   "outputs": [
    {
     "data": {
      "text/plain": [
       "1000"
      ]
     },
     "execution_count": 9,
     "metadata": {},
     "output_type": "execute_result"
    }
   ],
   "source": [
    "len(TWEETS)"
   ]
  },
  {
   "cell_type": "code",
   "execution_count": 12,
   "id": "9ac15423-0903-4efa-9f95-4e2334d857c5",
   "metadata": {
    "tags": []
   },
   "outputs": [],
   "source": [
    "# Backup tweets\n",
    "with open('./tweets-backup.json', 'w', encoding='utf-8') as f:\n",
    "    json.dump(TWEETS, f, ensure_ascii=False, indent=2)"
   ]
  },
  {
   "cell_type": "markdown",
   "id": "1915a69e-6c96-4e38-8725-e9cbc866074e",
   "metadata": {},
   "source": [
    "## Computing stats about the retrieved urls"
   ]
  },
  {
   "cell_type": "code",
   "execution_count": 21,
   "id": "6721b317-02d1-4984-8880-0961217f9cae",
   "metadata": {
    "tags": []
   },
   "outputs": [
    {
     "data": {
      "text/plain": [
       "166"
      ]
     },
     "execution_count": 21,
     "metadata": {},
     "output_type": "execute_result"
    }
   ],
   "source": [
    "# Making sure all of our tweets contain at least a link\n",
    "tweets_with_links = 0\n",
    "\n",
    "for tweet in TWEETS:\n",
    "    # if len(tweet['links']) > 0:\n",
    "    if tweet['links']:\n",
    "        tweets_with_links += 1\n",
    "        \n",
    "tweets_with_links"
   ]
  },
  {
   "cell_type": "code",
   "execution_count": 26,
   "id": "5b21d02b-7083-4cec-b890-3a1b91562e1c",
   "metadata": {
    "tags": []
   },
   "outputs": [
    {
     "data": {
      "text/plain": [
       "166"
      ]
     },
     "execution_count": 26,
     "metadata": {},
     "output_type": "execute_result"
    }
   ],
   "source": [
    "TWEETS_WITH_LINK = []\n",
    "\n",
    "for tweet in TWEETS:\n",
    "    if tweet['links']:\n",
    "        TWEETS_WITH_LINK.append(tweet)\n",
    "\n",
    "TWEETS_WITH_LINK = [tweet for tweet in TWEETS if tweet['links']]\n",
    "len(TWEETS_WITH_LINK)"
   ]
  },
  {
   "cell_type": "code",
   "execution_count": 31,
   "id": "87415929-a4ad-4113-b944-bc83feec6083",
   "metadata": {
    "tags": []
   },
   "outputs": [
    {
     "data": {
      "text/plain": [
       "[('https://www.causeur.fr/agenda-politique-zadisation-paris-anne-hidalgo-208808',\n",
       "  7),\n",
       " ('https://l.bfmtv.com/6IL', 7),\n",
       " ('https://www.bfmtv.com/economie/consommation/paris-ikea-prevoit-de-relocaliser-son-magasin-de-la-madeleine-a-italie-deux_AD-202304040453.html',\n",
       "  7),\n",
       " ('https://www.lefigaro.fr/conjoncture/paris-le-vote-sur-les-trottinettes-en-libre-service-a-coute-390-000-euros-20230406',\n",
       "  6),\n",
       " ('https://l.leparisien.fr/nH0T', 6),\n",
       " ('https://www.bfmtv.com/paris/vote-pour-l-interdiction-des-trottinettes-a-paris-le-scrutin-a-coute-390-000-euros_AD-202304060331.html',\n",
       "  5),\n",
       " ('https://l.leparisien.fr/bWaT', 4),\n",
       " ('https://l.leparisien.fr/A1nT', 3),\n",
       " ('https://www.bfmtv.com/paris/paris-des-jeunes-migrants-occupent-une-ecole-desaffectee-du-16e-arrondissement_AD-202304040792.html',\n",
       "  3),\n",
       " ('https://www.lefigaro.fr/social/crise-des-poubelles-a-paris-la-cgt-a-depose-un-nouveau-preavis-de-greve-20230404',\n",
       "  3)]"
      ]
     },
     "execution_count": 31,
     "metadata": {},
     "output_type": "execute_result"
    }
   ],
   "source": [
    "# Counting the distinct urls\n",
    "distinct_urls = Counter()\n",
    "\n",
    "for tweet in TWEETS_WITH_LINK:\n",
    "    for link in tweet['links']:\n",
    "        distinct_urls[link] += 1\n",
    "        \n",
    "distinct_urls.most_common(10)"
   ]
  },
  {
   "cell_type": "markdown",
   "id": "1f4a233e-c1d0-451c-b426-545f6a350c3c",
   "metadata": {},
   "source": [
    "## Processing & cleaning the URLs"
   ]
  },
  {
   "cell_type": "code",
   "execution_count": 36,
   "id": "c315f664-a14b-4b1e-9812-722b9b869156",
   "metadata": {
    "tags": []
   },
   "outputs": [
    {
     "data": {
      "text/plain": [
       "'github.co.uk'"
      ]
     },
     "execution_count": 36,
     "metadata": {},
     "output_type": "execute_result"
    }
   ],
   "source": [
    "get_domain_name('https://github.co.uk/medialab/minet#whirlwind-tour?key=1&key2=test')"
   ]
  },
  {
   "cell_type": "code",
   "execution_count": 39,
   "id": "0778bb05-6d75-490c-bd64-d7add678a500",
   "metadata": {
    "tags": []
   },
   "outputs": [
    {
     "data": {
      "text/plain": [
       "'lemonde.fr'"
      ]
     },
     "execution_count": 39,
     "metadata": {},
     "output_type": "execute_result"
    }
   ],
   "source": [
    "normalize_url('https://www.lemonde.fr?utm_campaign=4754')"
   ]
  },
  {
   "cell_type": "code",
   "execution_count": 41,
   "id": "c5889e90-2cf0-461d-8b6b-7d0f270fa313",
   "metadata": {
    "tags": []
   },
   "outputs": [
    {
     "data": {
      "text/plain": [
       "(True, False)"
      ]
     },
     "execution_count": 41,
     "metadata": {},
     "output_type": "execute_result"
    }
   ],
   "source": [
    "is_shortened_url('bit.ly/utidtu'), is_shortened_url('lemonde.fr')"
   ]
  },
  {
   "cell_type": "markdown",
   "id": "980f6ef7-45e0-47bf-83de-aaf9020c4e20",
   "metadata": {},
   "source": [
    "<u>3 goals:</u>\n",
    "\n",
    "1. 10 most frequent normalized urls + comparing with non-normalized\n",
    "2. 10 most frequent domain names\n",
    "3. Ratio of shortened urls in the data set"
   ]
  },
  {
   "cell_type": "code",
   "execution_count": 47,
   "id": "baeaeaa2-38cd-41be-9fe2-49bce80280fe",
   "metadata": {
    "tags": []
   },
   "outputs": [
    {
     "data": {
      "text/plain": [
       "[('bfmtv.com/economie/consommation/paris-ikea-prevoit-de-relocaliser-son-magasin-de-la-madeleine-a-italie-deux_AD-202304040453.html',\n",
       "  8),\n",
       " ('causeur.fr/agenda-politique-zadisation-paris-anne-hidalgo-208808', 7),\n",
       " ('l.bfmtv.com/6IL', 7),\n",
       " ('lefigaro.fr/conjoncture/paris-le-vote-sur-les-trottinettes-en-libre-service-a-coute-390-000-euros-20230406',\n",
       "  6),\n",
       " ('l.leparisien.fr/nH0T', 6),\n",
       " ('bfmtv.com/paris/vote-pour-l-interdiction-des-trottinettes-a-paris-le-scrutin-a-coute-390-000-euros_AD-202304060331.html',\n",
       "  5),\n",
       " ('l.leparisien.fr/bWaT', 4),\n",
       " ('l.leparisien.fr/A1nT', 3),\n",
       " ('bfmtv.com/paris/paris-des-jeunes-migrants-occupent-une-ecole-desaffectee-du-16e-arrondissement_AD-202304040792.html',\n",
       "  3),\n",
       " ('lefigaro.fr/social/crise-des-poubelles-a-paris-la-cgt-a-depose-un-nouveau-preavis-de-greve-20230404',\n",
       "  3)]"
      ]
     },
     "execution_count": 47,
     "metadata": {},
     "output_type": "execute_result"
    }
   ],
   "source": [
    "# Counting the distinct normalized urls\n",
    "distinct_normalized_urls = Counter()\n",
    "\n",
    "for tweet in TWEETS_WITH_LINK:\n",
    "    for link in tweet['links']:\n",
    "        distinct_normalized_urls[normalize_url(link)] += 1\n",
    "        \n",
    "distinct_normalized_urls.most_common(10)"
   ]
  },
  {
   "cell_type": "code",
   "execution_count": 48,
   "id": "e5360350-50a2-403f-bed6-2e1d762fac2c",
   "metadata": {
    "tags": []
   },
   "outputs": [
    {
     "data": {
      "text/plain": [
       "[('leparisien.fr', 39),\n",
       " ('bfmtv.com', 39),\n",
       " ('lefigaro.fr', 16),\n",
       " ('flickr.com', 10),\n",
       " ('flip.it', 7),\n",
       " ('causeur.fr', 7),\n",
       " ('20minutes.fr', 5),\n",
       " ('twitter.com', 5),\n",
       " ('paris.fr', 4),\n",
       " ('lemonde.fr', 4)]"
      ]
     },
     "execution_count": 48,
     "metadata": {},
     "output_type": "execute_result"
    }
   ],
   "source": [
    "# Counting the distinct domain\n",
    "distinct_domains = Counter()\n",
    "\n",
    "for tweet in TWEETS_WITH_LINK:\n",
    "    for link in tweet['links']:\n",
    "        distinct_domains[get_domain_name(link)] += 1\n",
    "        \n",
    "distinct_domains.most_common(10)"
   ]
  },
  {
   "cell_type": "code",
   "execution_count": 50,
   "id": "58f91bec-082d-435d-888b-e9fe288547ed",
   "metadata": {
    "tags": []
   },
   "outputs": [
    {
     "data": {
      "text/plain": [
       "0.23931623931623933"
      ]
     },
     "execution_count": 50,
     "metadata": {},
     "output_type": "execute_result"
    }
   ],
   "source": [
    "# Computing the ratio of shortened urls\n",
    "short_count = 0\n",
    "for url in distinct_urls:\n",
    "    if is_shortened_url(url):\n",
    "        short_count += 1\n",
    "        \n",
    "short_count / len(distinct_urls)"
   ]
  },
  {
   "cell_type": "markdown",
   "id": "4bacf26c-50f7-4ff4-bd14-2ee4d6b14dcb",
   "metadata": {},
   "source": [
    "## Resolving URLs"
   ]
  },
  {
   "cell_type": "code",
   "execution_count": 51,
   "id": "85601822-c44e-45ae-b957-0ff08f22ad05",
   "metadata": {
    "tags": []
   },
   "outputs": [],
   "source": [
    "from minet.web import resolve"
   ]
  },
  {
   "cell_type": "code",
   "execution_count": 52,
   "id": "5d8d4767-dd28-4fb0-a146-1a2c5ac357cb",
   "metadata": {
    "tags": []
   },
   "outputs": [
    {
     "data": {
      "text/plain": [
       "[<Redirection type=location-header status=301 url=http://lemonde.fr>,\n",
       " <Redirection type=hit status=200 url=https://www.lemonde.fr/>]"
      ]
     },
     "execution_count": 52,
     "metadata": {},
     "output_type": "execute_result"
    }
   ],
   "source": [
    "resolve('http://lemonde.fr')"
   ]
  },
  {
   "cell_type": "code",
   "execution_count": 54,
   "id": "ae514f05-7698-4715-99f4-83441dbb6ac8",
   "metadata": {
    "tags": []
   },
   "outputs": [
    {
     "data": {
      "text/plain": [
       "[<Redirection type=location-header status=301 url=https://l.leparisien.fr/bWaT>,\n",
       " <Redirection type=location-header status=302 url=https://www.leparisien.fr/paris-75/trottinettes-en-libre-service-les-parisiens-disent-non-a-89-02-04-2023-G7H5VUV6PBDQLIS6RWEMQNSFN4.php#xtor=AD-1481423553>,\n",
       " <Redirection type=hit status=200 url=https://www.leparisien.fr/paris-75/les-parisiens-votent-la-fin-des-trottinettes-en-libre-service-succes-en-demi-teinte-pour-anne-hidalgo-02-04-2023-JCNI2MR36FDJZOCRKC43X4KQJM.php>]"
      ]
     },
     "execution_count": 54,
     "metadata": {},
     "output_type": "execute_result"
    }
   ],
   "source": [
    "resolve('https://l.leparisien.fr/bWaT')"
   ]
  },
  {
   "cell_type": "code",
   "execution_count": 56,
   "id": "6f0626c0-41ff-4ebf-9d6b-200d0e3b93fa",
   "metadata": {
    "tags": []
   },
   "outputs": [
    {
     "data": {
      "text/plain": [
       "'https://www.leparisien.fr/paris-75/les-parisiens-votent-la-fin-des-trottinettes-en-libre-service-succes-en-demi-teinte-pour-anne-hidalgo-02-04-2023-JCNI2MR36FDJZOCRKC43X4KQJM.php'"
      ]
     },
     "execution_count": 56,
     "metadata": {},
     "output_type": "execute_result"
    }
   ],
   "source": [
    "resolve('https://l.leparisien.fr/bWaT')[-1].url"
   ]
  },
  {
   "cell_type": "code",
   "execution_count": 55,
   "id": "e5de2168-6c54-4fc4-b5e6-9b4cbcfe52e8",
   "metadata": {
    "tags": []
   },
   "outputs": [
    {
     "data": {
      "text/plain": [
       "True"
      ]
     },
     "execution_count": 55,
     "metadata": {},
     "output_type": "execute_result"
    }
   ],
   "source": [
    "is_shortened_url('https://l.leparisien.fr/bWaT')"
   ]
  }
 ],
 "metadata": {
  "kernelspec": {
   "display_name": "Python 3 (ipykernel)",
   "language": "python",
   "name": "python3"
  },
  "language_info": {
   "codemirror_mode": {
    "name": "ipython",
    "version": 3
   },
   "file_extension": ".py",
   "mimetype": "text/x-python",
   "name": "python",
   "nbconvert_exporter": "python",
   "pygments_lexer": "ipython3",
   "version": "3.7.16"
  }
 },
 "nbformat": 4,
 "nbformat_minor": 5
}
