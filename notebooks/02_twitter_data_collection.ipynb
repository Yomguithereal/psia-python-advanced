{
 "cells": [
  {
   "cell_type": "markdown",
   "id": "f1587635-ba85-4fc0-82c9-bc1d23195210",
   "metadata": {},
   "source": [
    "# Scraping tweets"
   ]
  },
  {
   "cell_type": "markdown",
   "id": "0794d7ea-34a5-45cf-9a05-036d952560ad",
   "metadata": {},
   "source": [
    "## Installing minet\n",
    "\n",
    "https://github.com/medialab/minet"
   ]
  },
  {
   "cell_type": "code",
   "execution_count": 1,
   "id": "1d361c9b-c52f-4d66-9fd1-06020521b203",
   "metadata": {
    "collapsed": true,
    "jupyter": {
     "outputs_hidden": true
    },
    "tags": []
   },
   "outputs": [
    {
     "name": "stdout",
     "output_type": "stream",
     "text": [
      "Collecting minet==1.0.0-a14\n",
      "  Downloading minet-1.0.0a14-py3-none-any.whl (250 kB)\n",
      "\u001b[2K     \u001b[38;2;114;156;31m━━━━━━━━━━━━━━━━━━━━━━━━━━━━━━━━━━━━━━━\u001b[0m \u001b[32m251.0/251.0 kB\u001b[0m \u001b[31m5.6 MB/s\u001b[0m eta \u001b[36m0:00:00\u001b[0m[36m0:00:01\u001b[0m\n",
      "\u001b[?25hCollecting rich-argparse<2,>=1\n",
      "  Using cached rich_argparse-1.1.0-py3-none-any.whl (12 kB)\n",
      "Requirement already satisfied: typing-extensions in /home/yomguithereal/.pyenv/versions/3.7.16/envs/psia-python-advanced/lib/python3.7/site-packages (from minet==1.0.0-a14) (4.5.0)\n",
      "Collecting casanova<1.8,>=1.7.4\n",
      "  Using cached casanova-1.7.4-py3-none-any.whl (35 kB)\n",
      "Collecting ebbe<2,>=1.11.1\n",
      "  Using cached ebbe-1.11.1-py3-none-any.whl (12 kB)\n",
      "Collecting rich<14,>=13\n",
      "  Downloading rich-13.3.3-py3-none-any.whl (238 kB)\n",
      "\u001b[2K     \u001b[38;2;114;156;31m━━━━━━━━━━━━━━━━━━━━━━━━━━━━━━━━━━━━━━\u001b[0m \u001b[32m238.7/238.7 kB\u001b[0m \u001b[31m10.9 MB/s\u001b[0m eta \u001b[36m0:00:00\u001b[0m\n",
      "\u001b[?25hCollecting trafilatura<1.5,>=1.4.1\n",
      "  Using cached trafilatura-1.4.1-py3-none-any.whl (1.0 MB)\n",
      "Requirement already satisfied: soupsieve<3,>=2.1 in /home/yomguithereal/.pyenv/versions/3.7.16/envs/psia-python-advanced/lib/python3.7/site-packages (from minet==1.0.0-a14) (2.4)\n",
      "Collecting quenouille<2,>=1.7.1\n",
      "  Using cached quenouille-1.7.1-py3-none-any.whl (18 kB)\n",
      "Requirement already satisfied: charset-normalizer<4,>=3 in /home/yomguithereal/.pyenv/versions/3.7.16/envs/psia-python-advanced/lib/python3.7/site-packages (from minet==1.0.0-a14) (3.1.0)\n",
      "Collecting persist-queue<0.9,>=0.7\n",
      "  Using cached persist_queue-0.8.0-py2.py3-none-any.whl (37 kB)\n",
      "Collecting about-time<5,>=4\n",
      "  Using cached about_time-4.2.1-py3-none-any.whl (13 kB)\n",
      "Collecting tenacity<9,>=8\n",
      "  Using cached tenacity-8.2.2-py3-none-any.whl (24 kB)\n",
      "Requirement already satisfied: pyyaml in /home/yomguithereal/.pyenv/versions/3.7.16/envs/psia-python-advanced/lib/python3.7/site-packages (from minet==1.0.0-a14) (6.0)\n",
      "Collecting dateparser>=1.1.1\n",
      "  Downloading dateparser-1.1.8-py2.py3-none-any.whl (293 kB)\n",
      "\u001b[2K     \u001b[38;2;114;156;31m━━━━━━━━━━━━━━━━━━━━━━━━━━━━━━━━━━━━━━\u001b[0m \u001b[32m293.8/293.8 kB\u001b[0m \u001b[31m12.2 MB/s\u001b[0m eta \u001b[36m0:00:00\u001b[0m\n",
      "\u001b[?25hCollecting browser-cookie3==0.17.1\n",
      "  Using cached browser_cookie3-0.17.1-py3-none-any.whl (14 kB)\n",
      "Collecting lxml>=4.3.0\n",
      "  Using cached lxml-4.9.2-cp37-cp37m-manylinux_2_17_x86_64.manylinux2014_x86_64.manylinux_2_24_x86_64.whl (6.6 MB)\n",
      "Collecting twitwi<0.17,>=0.16.1\n",
      "  Using cached twitwi-0.16.2-py3-none-any.whl (17 kB)\n",
      "Requirement already satisfied: urllib3<2,>=1.26.9 in /home/yomguithereal/.pyenv/versions/3.7.16/envs/psia-python-advanced/lib/python3.7/site-packages (from minet==1.0.0-a14) (1.26.15)\n",
      "Requirement already satisfied: beautifulsoup4<5,>=4.7.1 in /home/yomguithereal/.pyenv/versions/3.7.16/envs/psia-python-advanced/lib/python3.7/site-packages (from minet==1.0.0-a14) (4.11.2)\n",
      "Collecting ural<0.41,>=0.40\n",
      "  Downloading ural-0.40.1-py3-none-any.whl (104 kB)\n",
      "\u001b[2K     \u001b[38;2;114;156;31m━━━━━━━━━━━━━━━━━━━━━━━━━━━━━━━━━━━━━━\u001b[0m \u001b[32m104.0/104.0 kB\u001b[0m \u001b[31m10.3 MB/s\u001b[0m eta \u001b[36m0:00:00\u001b[0m\n",
      "\u001b[?25hRequirement already satisfied: json5>=0.8.5 in /home/yomguithereal/.pyenv/versions/3.7.16/envs/psia-python-advanced/lib/python3.7/site-packages (from minet==1.0.0-a14) (0.9.11)\n",
      "Collecting jeepney\n",
      "  Using cached jeepney-0.8.0-py3-none-any.whl (48 kB)\n",
      "Collecting pycryptodomex\n",
      "  Using cached pycryptodomex-3.17-cp35-abi3-manylinux_2_17_x86_64.manylinux2014_x86_64.whl (2.1 MB)\n",
      "Collecting lz4\n",
      "  Using cached lz4-4.3.2-cp37-cp37m-manylinux_2_17_x86_64.manylinux2014_x86_64.whl (1.3 MB)\n",
      "Collecting file-read-backwards<3,>=2.0.0\n",
      "  Using cached file_read_backwards-2.0.0-py2.py3-none-any.whl (9.0 kB)\n",
      "Collecting tzlocal\n",
      "  Using cached tzlocal-4.3-py3-none-any.whl (20 kB)\n",
      "Requirement already satisfied: python-dateutil in /home/yomguithereal/.pyenv/versions/3.7.16/envs/psia-python-advanced/lib/python3.7/site-packages (from dateparser>=1.1.1->minet==1.0.0-a14) (2.8.2)\n",
      "Collecting regex!=2019.02.19,!=2021.8.27\n",
      "  Using cached regex-2022.10.31-cp37-cp37m-manylinux_2_17_x86_64.manylinux2014_x86_64.whl (757 kB)\n",
      "Requirement already satisfied: pytz in /home/yomguithereal/.pyenv/versions/3.7.16/envs/psia-python-advanced/lib/python3.7/site-packages (from dateparser>=1.1.1->minet==1.0.0-a14) (2022.7.1)\n",
      "Collecting markdown-it-py<3.0.0,>=2.2.0\n",
      "  Using cached markdown_it_py-2.2.0-py3-none-any.whl (84 kB)\n",
      "Requirement already satisfied: pygments<3.0.0,>=2.13.0 in /home/yomguithereal/.pyenv/versions/3.7.16/envs/psia-python-advanced/lib/python3.7/site-packages (from rich<14,>=13->minet==1.0.0-a14) (2.14.0)\n",
      "Collecting justext>=3.0.0\n",
      "  Using cached jusText-3.0.0-py2.py3-none-any.whl (837 kB)\n",
      "Collecting courlan>=0.8.3\n",
      "  Using cached courlan-0.9.0-py3-none-any.whl (40 kB)\n",
      "Requirement already satisfied: certifi in /home/yomguithereal/.pyenv/versions/3.7.16/envs/psia-python-advanced/lib/python3.7/site-packages (from trafilatura<1.5,>=1.4.1->minet==1.0.0-a14) (2022.12.7)\n",
      "Collecting htmldate>=1.4.1\n",
      "  Using cached htmldate-1.4.2-py3-none-any.whl (33 kB)\n",
      "Collecting twitter==2.0a2\n",
      "  Using cached twitter-2.0a2-py2.py3-none-any.whl (53 kB)\n",
      "Collecting tld>=0.13\n",
      "  Using cached tld-0.13-py2.py3-none-any.whl (263 kB)\n",
      "Collecting langcodes>=3.3.0\n",
      "  Using cached langcodes-3.3.0-py3-none-any.whl (181 kB)\n",
      "Collecting mdurl~=0.1\n",
      "  Using cached mdurl-0.1.2-py3-none-any.whl (10.0 kB)\n",
      "Requirement already satisfied: six>=1.5 in /home/yomguithereal/.pyenv/versions/3.7.16/envs/psia-python-advanced/lib/python3.7/site-packages (from python-dateutil->dateparser>=1.1.1->minet==1.0.0-a14) (1.16.0)\n",
      "Collecting pytz-deprecation-shim\n",
      "  Using cached pytz_deprecation_shim-0.1.0.post0-py2.py3-none-any.whl (15 kB)\n",
      "Collecting backports.zoneinfo\n",
      "  Using cached backports.zoneinfo-0.2.1-cp37-cp37m-manylinux1_x86_64.whl (70 kB)\n",
      "Collecting tzdata\n",
      "  Downloading tzdata-2023.3-py2.py3-none-any.whl (341 kB)\n",
      "\u001b[2K     \u001b[38;2;114;156;31m━━━━━━━━━━━━━━━━━━━━━━━━━━━━━━━━━━━━━━\u001b[0m \u001b[32m341.8/341.8 kB\u001b[0m \u001b[31m12.2 MB/s\u001b[0m eta \u001b[36m0:00:00\u001b[0m\n",
      "\u001b[?25hInstalling collected packages: persist-queue, file-read-backwards, ural, tzdata, twitter, tld, tenacity, regex, quenouille, pycryptodomex, mdurl, lz4, lxml, langcodes, jeepney, ebbe, backports.zoneinfo, about-time, twitwi, pytz-deprecation-shim, markdown-it-py, justext, courlan, casanova, browser-cookie3, tzlocal, rich, rich-argparse, dateparser, htmldate, trafilatura, minet\n",
      "Successfully installed about-time-4.2.1 backports.zoneinfo-0.2.1 browser-cookie3-0.17.1 casanova-1.7.4 courlan-0.9.0 dateparser-1.1.8 ebbe-1.11.1 file-read-backwards-2.0.0 htmldate-1.4.2 jeepney-0.8.0 justext-3.0.0 langcodes-3.3.0 lxml-4.9.2 lz4-4.3.2 markdown-it-py-2.2.0 mdurl-0.1.2 minet-1.0.0a14 persist-queue-0.8.0 pycryptodomex-3.17 pytz-deprecation-shim-0.1.0.post0 quenouille-1.7.1 regex-2022.10.31 rich-13.3.3 rich-argparse-1.1.0 tenacity-8.2.2 tld-0.13 trafilatura-1.4.1 twitter-2.0a2 twitwi-0.16.2 tzdata-2023.3 tzlocal-4.3 ural-0.40.1\n"
     ]
    }
   ],
   "source": [
    "!pip install minet==1.0.0-a14"
   ]
  },
  {
   "cell_type": "code",
   "execution_count": 3,
   "id": "a271dcb2-ff17-445c-b129-314996e38cd8",
   "metadata": {
    "tags": []
   },
   "outputs": [],
   "source": [
    "from minet.twitter import TwitterAPIScraper"
   ]
  },
  {
   "cell_type": "code",
   "execution_count": 4,
   "id": "373df0cb-5312-447a-bce1-d0c263e4fe60",
   "metadata": {
    "tags": []
   },
   "outputs": [],
   "source": [
    "scraper = TwitterAPIScraper()"
   ]
  },
  {
   "cell_type": "code",
   "execution_count": 9,
   "id": "f3c883e8-d696-4006-8cf7-f155275ccb64",
   "metadata": {
    "tags": []
   },
   "outputs": [
    {
     "name": "stdout",
     "output_type": "stream",
     "text": [
      "id 1641743095988363266\n",
      "local_time 2023-03-31T10:03:50\n",
      "timestamp_utc 1680257030\n",
      "text @Wim_Schellekens Heb je ook al je Aids test gedaan? Je kan niet voorzichtig genoeg zijn.\n",
      "url https://twitter.com/AlexV35493473/status/1641743095988363266\n",
      "quoted_id None\n",
      "quoted_user None\n",
      "quoted_user_id None\n",
      "quoted_timestamp_utc None\n",
      "retweeted_id None\n",
      "retweeted_user None\n",
      "retweeted_user_id None\n",
      "retweeted_timestamp_utc None\n",
      "media_files []\n",
      "media_types []\n",
      "media_urls []\n",
      "media_alt_texts []\n",
      "links []\n",
      "links_to_resolve False\n",
      "domains []\n",
      "hashtags []\n",
      "mentioned_ids ['177667712']\n",
      "mentioned_names ['wim_schellekens']\n",
      "collection_time 2023-03-31T12:03:54.030513\n",
      "match_query True\n",
      "collected_via ['scraping']\n",
      "coordinates None\n",
      "to_tweetid 1640981538450857984\n",
      "to_username Wim_Schellekens\n",
      "to_userid 177667712\n",
      "lang nl\n",
      "retweet_count 0\n",
      "like_count 0\n",
      "reply_count 0\n",
      "impression_count None\n",
      "user_screen_name AlexV35493473\n",
      "user_name I hate fascists\n",
      "user_friends 1130\n",
      "user_followers 705\n",
      "user_location Planet Earth\n",
      "user_verified False\n",
      "user_description I hate fascists and nazi's.\n",
      "No matter what fancy label the Left/MSM gives them.\n",
      "Like Antifa or Ukrainian 'nationalists'\n",
      "No DM''s. Not interested in crypto.\n",
      "user_created_at 2022-07-03T14:45:14\n",
      "user_id 1543606727886635010\n",
      "user_tweets 26587\n",
      "user_likes 44844\n",
      "user_lists 3\n",
      "user_image https://pbs.twimg.com/profile_images/1607059346931826691/9MT_7Nl8_normal.jpg\n",
      "user_url None\n",
      "user_timestamp_utc 1656859514\n",
      "source_url http://twitter.com/download/android\n",
      "source_name Twitter for Android\n"
     ]
    }
   ],
   "source": [
    "for tweet in scraper.search_tweets('#saccageparis', limit=20):\n",
    "    for key, value in tweet.items():\n",
    "        print(key, value)\n",
    "    break"
   ]
  }
 ],
 "metadata": {
  "kernelspec": {
   "display_name": "Python 3 (ipykernel)",
   "language": "python",
   "name": "python3"
  },
  "language_info": {
   "codemirror_mode": {
    "name": "ipython",
    "version": 3
   },
   "file_extension": ".py",
   "mimetype": "text/x-python",
   "name": "python",
   "nbconvert_exporter": "python",
   "pygments_lexer": "ipython3",
   "version": "3.7.16"
  }
 },
 "nbformat": 4,
 "nbformat_minor": 5
}
