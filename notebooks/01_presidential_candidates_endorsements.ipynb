{
 "cells": [
  {
   "cell_type": "markdown",
   "id": "70a703cb-7934-4392-9b80-7f292f2deb6e",
   "metadata": {},
   "source": [
    "# Exploring presidential candidates endorsements"
   ]
  },
  {
   "cell_type": "code",
   "execution_count": 1,
   "id": "8cd2f0b7-ef19-43eb-b75d-01c2c0078746",
   "metadata": {},
   "outputs": [],
   "source": [
    "import json"
   ]
  },
  {
   "cell_type": "markdown",
   "id": "0be6c826-35e9-4a41-a68d-30bc8643e40d",
   "metadata": {},
   "source": [
    "## Reading and parsing the JSON file"
   ]
  },
  {
   "cell_type": "code",
   "execution_count": 2,
   "id": "671bf3a5-edde-4cc0-af47-86fcecc4ad32",
   "metadata": {
    "scrolled": true
   },
   "outputs": [],
   "source": [
    "with open(r\"../data/parrainages.json\", encoding=\"utf-8\") as f:\n",
    "    ENDORSEMENTS = json.load(f)"
   ]
  },
  {
   "cell_type": "code",
   "execution_count": 3,
   "id": "1abbae56-1547-4cff-96c4-87f2e2966273",
   "metadata": {},
   "outputs": [
    {
     "data": {
      "text/plain": [
       "{'Civilite': 'M.',\n",
       " 'Nom': 'CORDIVAL',\n",
       " 'Prenom': 'Gilles',\n",
       " 'Mandat': 'Maire',\n",
       " 'Circonscription': 'Mont-Saint-Père',\n",
       " 'Departement': 'Aisne',\n",
       " 'Candidat': 'ARTHAUD Nathalie',\n",
       " 'DatePublication': '2022-02-01T00:00:00'}"
      ]
     },
     "execution_count": 3,
     "metadata": {},
     "output_type": "execute_result"
    }
   ],
   "source": [
    "ENDORSEMENTS[0]"
   ]
  },
  {
   "cell_type": "code",
   "execution_count": 4,
   "id": "0749417e-8ad8-4a5a-a62a-e3c5848265f0",
   "metadata": {},
   "outputs": [
    {
     "data": {
      "text/plain": [
       "13427"
      ]
     },
     "execution_count": 4,
     "metadata": {},
     "output_type": "execute_result"
    }
   ],
   "source": [
    "len(ENDORSEMENTS)"
   ]
  },
  {
   "cell_type": "markdown",
   "id": "657da71f-9ee5-4cb1-a3e4-17eee7ecdaa1",
   "metadata": {},
   "source": [
    "## Find information about candidates"
   ]
  },
  {
   "cell_type": "markdown",
   "id": "f76484a0-08bf-439b-8433-8b26347793da",
   "metadata": {},
   "source": [
    "### Distinct number of candidates"
   ]
  },
  {
   "cell_type": "code",
   "execution_count": 5,
   "id": "3a55a3f0-4bfc-4e4e-a415-80053207e5a7",
   "metadata": {},
   "outputs": [
    {
     "data": {
      "text/plain": [
       "64"
      ]
     },
     "execution_count": 5,
     "metadata": {},
     "output_type": "execute_result"
    }
   ],
   "source": [
    "distinct_candidates = set()\n",
    "\n",
    "for endorsement in ENDORSEMENTS:\n",
    "    candidat = endorsement['Candidat']\n",
    "    distinct_candidates.add(candidat)\n",
    "\n",
    "len(distinct_candidates)"
   ]
  },
  {
   "cell_type": "markdown",
   "id": "b598eb4c-8d55-4ce9-82bb-bb396f58f124",
   "metadata": {},
   "source": [
    "### Endorsements per candidates (the hard way)"
   ]
  },
  {
   "cell_type": "code",
   "execution_count": 6,
   "id": "746b5cc3-611b-4feb-a97d-22d412465baf",
   "metadata": {},
   "outputs": [
    {
     "data": {
      "text/plain": [
       "64"
      ]
     },
     "execution_count": 6,
     "metadata": {},
     "output_type": "execute_result"
    }
   ],
   "source": [
    "endorsement_per_candidate = {}\n",
    "\n",
    "for endorsement in ENDORSEMENTS:\n",
    "    candidat = endorsement['Candidat']\n",
    "\n",
    "    if candidat not in endorsement_per_candidate:\n",
    "        endorsement_per_candidate[candidat] = 1\n",
    "    else:\n",
    "        endorsement_per_candidate[candidat] += 1\n",
    "\n",
    "len(endorsement_per_candidate)"
   ]
  },
  {
   "cell_type": "code",
   "execution_count": 7,
   "id": "24422efe-fb2a-4825-9401-8686ae8e3a2b",
   "metadata": {},
   "outputs": [
    {
     "data": {
      "text/plain": [
       "12"
      ]
     },
     "execution_count": 7,
     "metadata": {},
     "output_type": "execute_result"
    }
   ],
   "source": [
    "relevant_candidates = []\n",
    "\n",
    "for name, count in endorsement_per_candidate.items():\n",
    "    if count >= 400:\n",
    "        relevant_candidates.append((name, count))\n",
    "\n",
    "len(relevant_candidates)"
   ]
  },
  {
   "cell_type": "code",
   "execution_count": 8,
   "id": "290a3a0f-4eb8-496f-9bea-68730d31e677",
   "metadata": {},
   "outputs": [
    {
     "data": {
      "text/plain": [
       "[('PÉCRESSE Valérie', 2636),\n",
       " ('MACRON Emmanuel', 2098),\n",
       " ('HIDALGO Anne', 1440),\n",
       " ('MÉLENCHON Jean-Luc', 906),\n",
       " ('ZEMMOUR Éric', 741),\n",
       " ('JADOT Yannick', 712),\n",
       " ('LASSALLE Jean', 642),\n",
       " ('ROUSSEL Fabien', 626),\n",
       " ('LE PEN Marine', 622),\n",
       " ('DUPONT-AIGNAN Nicolas', 600),\n",
       " ('POUTOU Philippe', 596),\n",
       " ('ARTHAUD Nathalie', 576)]"
      ]
     },
     "execution_count": 8,
     "metadata": {},
     "output_type": "execute_result"
    }
   ],
   "source": [
    "sorted(relevant_candidates, key=lambda record: record[1], reverse=True)"
   ]
  },
  {
   "cell_type": "markdown",
   "id": "4686ba99-ce70-45f1-9d24-9e9e542f7b99",
   "metadata": {},
   "source": [
    "### Endorsements per candidates (the lazy way)"
   ]
  },
  {
   "cell_type": "code",
   "execution_count": 9,
   "id": "349c871d-c0f2-4d06-b7f7-b507a588fbf4",
   "metadata": {},
   "outputs": [],
   "source": [
    "from collections import Counter"
   ]
  },
  {
   "cell_type": "code",
   "execution_count": 10,
   "id": "211dc8c2-f02d-4935-aa02-9a108fcc0d96",
   "metadata": {},
   "outputs": [
    {
     "data": {
      "text/plain": [
       "0"
      ]
     },
     "execution_count": 10,
     "metadata": {},
     "output_type": "execute_result"
    }
   ],
   "source": [
    "counter = Counter()\n",
    "counter[\"i do not exists\"]"
   ]
  },
  {
   "cell_type": "code",
   "execution_count": 11,
   "id": "3b903f66-fe0b-41f9-8335-165e640ef88e",
   "metadata": {},
   "outputs": [
    {
     "data": {
      "text/plain": [
       "64"
      ]
     },
     "execution_count": 11,
     "metadata": {},
     "output_type": "execute_result"
    }
   ],
   "source": [
    "endorsement_per_candidate = Counter()\n",
    "\n",
    "for endorsement in ENDORSEMENTS:\n",
    "    endorsement_per_candidate[endorsement[\"Candidat\"]] += 1\n",
    "\n",
    "len(endorsement_per_candidate)"
   ]
  },
  {
   "cell_type": "code",
   "execution_count": 12,
   "id": "44951079-9b08-4311-902c-1ef62fb97259",
   "metadata": {},
   "outputs": [
    {
     "name": "stdout",
     "output_type": "stream",
     "text": [
      "PÉCRESSE Valérie 2636\n",
      "MACRON Emmanuel 2098\n",
      "HIDALGO Anne 1440\n",
      "MÉLENCHON Jean-Luc 906\n",
      "ZEMMOUR Éric 741\n",
      "JADOT Yannick 712\n",
      "LASSALLE Jean 642\n",
      "ROUSSEL Fabien 626\n",
      "LE PEN Marine 622\n",
      "DUPONT-AIGNAN Nicolas 600\n",
      "POUTOU Philippe 596\n",
      "ARTHAUD Nathalie 576\n"
     ]
    }
   ],
   "source": [
    "for name, count in endorsement_per_candidate.most_common():\n",
    "    if count < 500:\n",
    "        break\n",
    "    print(name, count)"
   ]
  },
  {
   "cell_type": "markdown",
   "id": "c52517c0-2eb7-44f9-8a55-b8a6da6edf03",
   "metadata": {},
   "source": [
    "### Finding the candidates who did run"
   ]
  },
  {
   "cell_type": "code",
   "execution_count": 13,
   "id": "268a61ea-0b3d-4586-a365-513060f82f3e",
   "metadata": {},
   "outputs": [
    {
     "data": {
      "text/plain": [
       "{'ARTHAUD Nathalie',\n",
       " 'DUPONT-AIGNAN Nicolas',\n",
       " 'HIDALGO Anne',\n",
       " 'JADOT Yannick',\n",
       " 'LASSALLE Jean',\n",
       " 'LE PEN Marine',\n",
       " 'MACRON Emmanuel',\n",
       " 'MÉLENCHON Jean-Luc',\n",
       " 'POUTOU Philippe',\n",
       " 'PÉCRESSE Valérie',\n",
       " 'ROUSSEL Fabien',\n",
       " 'ZEMMOUR Éric'}"
      ]
     },
     "execution_count": 13,
     "metadata": {},
     "output_type": "execute_result"
    }
   ],
   "source": [
    "candidates_who_ran = set()\n",
    "\n",
    "for name, count in endorsement_per_candidate.most_common():\n",
    "    if count < 500:\n",
    "        break\n",
    "\n",
    "    candidates_who_ran.add(name)\n",
    "\n",
    "candidates_who_ran"
   ]
  },
  {
   "cell_type": "markdown",
   "id": "ade22130-2357-4cc9-924d-025e9f204d5a",
   "metadata": {},
   "source": [
    "### Analyzing mandates"
   ]
  },
  {
   "cell_type": "code",
   "execution_count": 14,
   "id": "528df69a-cc47-4825-b5ca-e83e00783918",
   "metadata": {},
   "outputs": [
    {
     "data": {
      "text/plain": [
       "{'Conseiller de Paris',\n",
       " 'Conseiller départemental',\n",
       " 'Conseiller métropolitain de Lyon',\n",
       " 'Conseiller régional',\n",
       " \"Conseiller à l'Assemblée des Français de l'étranger\",\n",
       " 'Conseillère de Paris',\n",
       " 'Conseillère départementale',\n",
       " 'Conseillère métropolitaine de Lyon',\n",
       " 'Conseillère régionale',\n",
       " \"Conseillère à l'Assemblée des Français de l'étranger\",\n",
       " 'Député',\n",
       " 'Députée',\n",
       " 'Maire',\n",
       " \"Maire d'arrondissement\",\n",
       " \"Maire délégué d'une commune associée ou d'une commune déléguée\",\n",
       " \"Maire déléguée d'une commune associée ou d'une commune déléguée\",\n",
       " \"Membre d'une assemblée d'une collectivité territoriale d'outre-mer à statut particulier\",\n",
       " \"Membre de l'Assemblée de Corse\",\n",
       " \"Président d'un EPCI à fiscalité propre\",\n",
       " 'Président de la Polynésie française',\n",
       " 'Président du Conseil exécutif de Martinique',\n",
       " 'Président du conseil consulaire',\n",
       " 'Président du gouvernement de la Nouvelle-Calédonie',\n",
       " \"Présidente d'un EPCI à fiscalité propre\",\n",
       " 'Présidente du conseil consulaire',\n",
       " 'Représentant français au Parlement européen',\n",
       " 'Représentante française au Parlement européen',\n",
       " 'Sénateur',\n",
       " 'Sénatrice'}"
      ]
     },
     "execution_count": 14,
     "metadata": {},
     "output_type": "execute_result"
    }
   ],
   "source": [
    "distinct_mandates = set()\n",
    "\n",
    "for endorsement in ENDORSEMENTS:\n",
    "    distinct_mandates.add(endorsement['Mandat'])\n",
    "\n",
    "# Same as the above\n",
    "distinct_mandates = set(endorsement['Mandat'] for endorsement in ENDORSEMENTS)\n",
    "distinct_mandates"
   ]
  },
  {
   "cell_type": "markdown",
   "id": "25d7952b-7f40-44ac-bfd9-d59c2f6102ab",
   "metadata": {},
   "source": [
    "### Filtering the relevant endorsements"
   ]
  },
  {
   "cell_type": "code",
   "execution_count": 15,
   "id": "64e0258f-f24c-422a-8370-33920201cef6",
   "metadata": {},
   "outputs": [
    {
     "data": {
      "text/plain": [
       "0.6045281894689805"
      ]
     },
     "execution_count": 15,
     "metadata": {},
     "output_type": "execute_result"
    }
   ],
   "source": [
    "RELEVANT_ENDORSEMENTS = []\n",
    "\n",
    "for endorsement in ENDORSEMENTS:\n",
    "    if (\n",
    "        endorsement[\"Candidat\"] in candidates_who_ran and\n",
    "        endorsement[\"Mandat\"].startswith(\"Maire\")\n",
    "    ):\n",
    "        RELEVANT_ENDORSEMENTS.append(endorsement)\n",
    "\n",
    "len(RELEVANT_ENDORSEMENTS) / len(ENDORSEMENTS)"
   ]
  },
  {
   "cell_type": "code",
   "execution_count": 16,
   "id": "eb88c056-80d5-4a96-8b65-21e146863207",
   "metadata": {},
   "outputs": [
    {
     "data": {
      "text/plain": [
       "8117"
      ]
     },
     "execution_count": 16,
     "metadata": {},
     "output_type": "execute_result"
    }
   ],
   "source": [
    "len(RELEVANT_ENDORSEMENTS)"
   ]
  },
  {
   "cell_type": "markdown",
   "id": "320cd841-fb83-4789-a814-bc8de4a11a4e",
   "metadata": {},
   "source": [
    "### Exploring gender ratios"
   ]
  },
  {
   "cell_type": "markdown",
   "id": "a2615692-aeff-4199-877b-63552f777229",
   "metadata": {},
   "source": [
    "#### Total ratios"
   ]
  },
  {
   "cell_type": "code",
   "execution_count": 25,
   "id": "7f4bbb2c-c633-4d31-9157-2c5fbeebad54",
   "metadata": {},
   "outputs": [
    {
     "data": {
      "text/plain": [
       "(0.1511642232351854, 0.8488357767648146, 1.0)"
      ]
     },
     "execution_count": 25,
     "metadata": {},
     "output_type": "execute_result"
    }
   ],
   "source": [
    "women_count = 0\n",
    "men_count = 0\n",
    "\n",
    "for endorsement in RELEVANT_ENDORSEMENTS:\n",
    "    if endorsement['Civilite'] == 'Mme':\n",
    "        women_count += 1\n",
    "        # women_count = women_count + 1\n",
    "    else:\n",
    "        men_count += 1\n",
    "\n",
    "women_ratio = women_count / len(RELEVANT_ENDORSEMENTS)\n",
    "men_ratio = men_count / len(RELEVANT_ENDORSEMENTS)\n",
    "\n",
    "women_ratio, men_ratio, women_ratio + men_ratio"
   ]
  },
  {
   "cell_type": "markdown",
   "id": "54c96ac1-c54f-482f-aae1-cb4e5d40ea50",
   "metadata": {},
   "source": [
    "#### Breakdown by candidate"
   ]
  },
  {
   "cell_type": "code",
   "execution_count": 28,
   "id": "05c38a12-034c-4d57-a355-cbf9878d6cab",
   "metadata": {},
   "outputs": [],
   "source": [
    "# Maps candidate names to dictionaries of data: {\"women_count\": int, \"total_count\": int}\n",
    "gender_ratios = {}\n",
    "\n",
    "for endorsement in RELEVANT_ENDORSEMENTS:\n",
    "    is_woman = endorsement['Civilite'] == 'Mme'\n",
    "    candidate = endorsement['Candidat']\n",
    "\n",
    "    if candidate in gender_ratios:\n",
    "        if is_woman:\n",
    "            gender_ratios[candidate][\"women_count\"] += 1\n",
    "            \n",
    "        gender_ratios[candidate][\"total_count\"] += 1\n",
    "    else:\n",
    "        gender_ratios[candidate] = {\n",
    "            \"women_count\": 1 if is_woman else 0,\n",
    "            \"total_count\": 1\n",
    "        }"
   ]
  },
  {
   "cell_type": "markdown",
   "id": "2617421f-cb0a-4ee3-b139-73caf1a9faae",
   "metadata": {},
   "source": [
    "#### Report"
   ]
  },
  {
   "cell_type": "code",
   "execution_count": 21,
   "id": "81fa850f-7cba-41e6-8468-cc03e69bcdec",
   "metadata": {},
   "outputs": [
    {
     "name": "stdout",
     "output_type": "stream",
     "text": [
      "Total women ratio is: 15.11%\n",
      "National ratio is: 19.8% (as per: https://www.collectivites-locales.gouv.fr/sites/default/files/Accueil/Etudes%20et%20statistiques/Documents%20de%20synth%C3%A8se/BIS/2020/bis_ndeg145_proportion_de_femmes_dans_les_cm_2020.pdf)\n",
      "\n",
      "ARTHAUD Nathalie\n",
      "----------------\n",
      "Number of woman mayor: 112\n",
      "Total: 575\n",
      "Ratio: 19.47%\n",
      "Delta: 4.361%\n",
      "\n",
      "DUPONT-AIGNAN Nicolas\n",
      "---------------------\n",
      "Number of woman mayor: 60\n",
      "Total: 591\n",
      "Ratio: 10.15%\n",
      "Delta: -4.96%\n",
      "\n",
      "HIDALGO Anne\n",
      "------------\n",
      "Number of woman mayor: 147\n",
      "Total: 712\n",
      "Ratio: 20.64%\n",
      "Delta: 5.529%\n",
      "\n",
      "JADOT Yannick\n",
      "-------------\n",
      "Number of woman mayor: 59\n",
      "Total: 312\n",
      "Ratio: 18.91%\n",
      "Delta: 3.793%\n",
      "\n",
      "LASSALLE Jean\n",
      "-------------\n",
      "Number of woman mayor: 57\n",
      "Total: 623\n",
      "Ratio: 9.149%\n",
      "Delta: -5.96%\n",
      "\n",
      "LE PEN Marine\n",
      "-------------\n",
      "Number of woman mayor: 50\n",
      "Total: 313\n",
      "Ratio: 15.97%\n",
      "Delta: 0.858%\n",
      "\n",
      "MACRON Emmanuel\n",
      "---------------\n",
      "Number of woman mayor: 186\n",
      "Total: 1296\n",
      "Ratio: 14.35%\n",
      "Delta: -0.76%\n",
      "\n",
      "MÉLENCHON Jean-Luc\n",
      "------------------\n",
      "Number of woman mayor: 112\n",
      "Total: 698\n",
      "Ratio: 16.04%\n",
      "Delta: 0.929%\n",
      "\n",
      "PÉCRESSE Valérie\n",
      "----------------\n",
      "Number of woman mayor: 212\n",
      "Total: 1373\n",
      "Ratio: 15.44%\n",
      "Delta: 0.324%\n",
      "\n",
      "POUTOU Philippe\n",
      "---------------\n",
      "Number of woman mayor: 94\n",
      "Total: 545\n",
      "Ratio: 17.24%\n",
      "Delta: 2.131%\n",
      "\n",
      "ROUSSEL Fabien\n",
      "--------------\n",
      "Number of woman mayor: 62\n",
      "Total: 408\n",
      "Ratio: 15.19%\n",
      "Delta: 0.079%\n",
      "\n",
      "ZEMMOUR Éric\n",
      "------------\n",
      "Number of woman mayor: 76\n",
      "Total: 671\n",
      "Ratio: 11.32%\n",
      "Delta: -3.79%\n"
     ]
    }
   ],
   "source": [
    "def percentage(ratio):\n",
    "    # NOTE: we multiply the 0-1 ratio by 100, we transform it into a string\n",
    "    # then we take a slice of the 6 first characters of the string\n",
    "    return str(ratio * 100)[:5] + '%'\n",
    "\n",
    "print('Total women ratio is:', percentage(women_ratio))\n",
    "print('National ratio is: 19.8% (as per: https://www.collectivites-locales.gouv.fr/sites/default/files/Accueil/Etudes%20et%20statistiques/Documents%20de%20synth%C3%A8se/BIS/2020/bis_ndeg145_proportion_de_femmes_dans_les_cm_2020.pdf)')\n",
    "\n",
    "for name, data in gender_ratios.items():\n",
    "    print()\n",
    "    print(name)\n",
    "    print('-' * len(name))\n",
    "    print('Number of woman mayor:', data[\"women_count\"])\n",
    "    print('Total:', data[\"total_count\"])\n",
    "    print('Ratio:', percentage(data[\"women_count\"] / data[\"total_count\"]))\n",
    "    print('Delta:', percentage(data[\"women_count\"] / data[\"total_count\"] - women_ratio))"
   ]
  },
  {
   "cell_type": "markdown",
   "id": "ba3a1fbb-a249-46af-a2ed-7ac95469a7c7",
   "metadata": {},
   "source": [
    "## Joining the mayor election file"
   ]
  },
  {
   "cell_type": "code",
   "execution_count": 29,
   "id": "132b18a7-5317-4c28-b07c-aa3754a85ef7",
   "metadata": {},
   "outputs": [],
   "source": [
    "import gzip\n",
    "import csv"
   ]
  },
  {
   "cell_type": "code",
   "execution_count": 34,
   "id": "ec2c3485-f369-4254-8f4b-cac7e9143ce9",
   "metadata": {},
   "outputs": [
    {
     "data": {
      "text/plain": [
       "902494"
      ]
     },
     "execution_count": 34,
     "metadata": {},
     "output_type": "execute_result"
    }
   ],
   "source": [
    "MAYORS = []\n",
    "\n",
    "with gzip.open(r'../data/municipale2020.csv.gz', encoding='utf-8', mode='rt') as f:\n",
    "    reader = csv.DictReader(f)\n",
    "\n",
    "    for row in reader:\n",
    "        MAYORS.appe²nd(row)\n",
    "\n",
    "len(MAYORS)"
   ]
  },
  {
   "cell_type": "code",
   "execution_count": 43,
   "id": "f7ac21d9-7c74-478d-bbc8-a8b2fe923917",
   "metadata": {},
   "outputs": [
    {
     "name": "stdout",
     "output_type": "stream",
     "text": [
      "Code du département -> 01\n",
      "Libellé du département -> Ain\n",
      "Code commune -> 01004\n",
      "Libellé commune -> Ambérieu-en-Bugey\n",
      "N° Panneau Liste -> 1\n",
      "Libellé abrégé liste -> UNIS POUR AMBERIEU\n",
      "Libellé Etendu Liste -> UNIS POUR AMBERIEU\n",
      "Nuance Liste -> LDVC\n",
      "N° candidat -> 1\n",
      "Sexe candidat -> M\n",
      "Nom candidat -> FABRE\n",
      "Prénom candidat -> Daniel\n",
      "Nationalité -> Française\n",
      "Candidat au conseil communautaire -> O\n"
     ]
    }
   ],
   "source": [
    "for k, v in MAYORS[0].items():\n",
    "    print(k, '->', v)"
   ]
  },
  {
   "cell_type": "markdown",
   "id": "e88c24a0-1963-4eb5-aeef-234763cb4ab2",
   "metadata": {},
   "source": [
    "### Finding duplicate names"
   ]
  },
  {
   "cell_type": "code",
   "execution_count": 40,
   "id": "27afc697-a7df-45f8-a9dd-d1305a308c8e",
   "metadata": {},
   "outputs": [],
   "source": [
    "from collections import Counter"
   ]
  },
  {
   "cell_type": "code",
   "execution_count": 45,
   "id": "043e22f5-d38f-4de0-aeee-7067e7e99185",
   "metadata": {},
   "outputs": [
    {
     "data": {
      "text/plain": [
       "[('Daniel MULLER Moselle', 5),\n",
       " ('Isabelle PETIT Pas-de-Calais', 5),\n",
       " ('Pierre WEBER Bas-Rhin', 5),\n",
       " ('Michel SCHMITT Bas-Rhin', 5),\n",
       " ('Frédéric MEYER Bas-Rhin', 5),\n",
       " ('Philippe LEFEVRE Aisne', 4),\n",
       " ('Alain MARIE Calvados', 4),\n",
       " ('Catherine MARIE Calvados', 4),\n",
       " (\"Yvon BRIAND Côtes-d'Armor\", 4),\n",
       " ('Christophe MULLER Moselle', 4)]"
      ]
     },
     "execution_count": 45,
     "metadata": {},
     "output_type": "execute_result"
    }
   ],
   "source": [
    "duplicate_names = Counter()\n",
    "\n",
    "for row in MAYORS:\n",
    "    key = row['Prénom candidat'] + ' ' + row['Nom candidat'] + ' ' + row['Libellé du département']\n",
    "\n",
    "    duplicate_names[key] += 1\n",
    "\n",
    "duplicate_names.most_common(10)"
   ]
  },
  {
   "cell_type": "code",
   "execution_count": 48,
   "id": "f59fa163-54ca-44e1-8325-87dab4a2b66d",
   "metadata": {},
   "outputs": [
    {
     "name": "stdout",
     "output_type": "stream",
     "text": [
      "{'Civilite': 'M.', 'Nom': 'CORDIVAL', 'Prenom': 'Gilles', 'Mandat': 'Maire', 'Circonscription': 'Mont-Saint-Père', 'Departement': 'Aisne', 'Candidat': 'ARTHAUD Nathalie', 'DatePublication': '2022-02-01T00:00:00'}\n"
     ]
    },
    {
     "data": {
      "text/plain": [
       "'Gilles CORDIVAL Aisne'"
      ]
     },
     "execution_count": 48,
     "metadata": {},
     "output_type": "execute_result"
    }
   ],
   "source": [
    "print(ENDORSEMENTS[0])\n",
    "\n",
    "def endorsement_key(row):\n",
    "    return row['Prenom'] + ' ' + row['Nom'] + ' ' + row['Departement']\n",
    "\n",
    "endorsement_key(ENDORSEMENTS[0])"
   ]
  },
  {
   "cell_type": "code",
   "execution_count": 52,
   "id": "ffa2d3cd-7a2c-43ef-9036-c54b77dabeb0",
   "metadata": {},
   "outputs": [
    {
     "name": "stdout",
     "output_type": "stream",
     "text": [
      "{'Code du département': '01', 'Libellé du département': 'Ain', 'Code commune': '01004', 'Libellé commune': 'Ambérieu-en-Bugey', 'N° Panneau Liste': '1', 'Libellé abrégé liste': 'UNIS POUR AMBERIEU', 'Libellé Etendu Liste': 'UNIS POUR AMBERIEU', 'Nuance Liste': 'LDVC', 'N° candidat': '1', 'Sexe candidat': 'M', 'Nom candidat': 'FABRE', 'Prénom candidat': 'Daniel', 'Nationalité': 'Française', 'Candidat au conseil communautaire': 'O'}\n"
     ]
    },
    {
     "data": {
      "text/plain": [
       "'Daniel FABRE Ain'"
      ]
     },
     "execution_count": 52,
     "metadata": {},
     "output_type": "execute_result"
    }
   ],
   "source": [
    "print(MAYORS[0])\n",
    "\n",
    "def mayor_key(row):\n",
    "    return row['Prénom candidat'] + ' ' + row['Nom candidat'] + ' ' + row['Libellé du département']\n",
    "\n",
    "mayor_key(MAYORS[0])"
   ]
  },
  {
   "cell_type": "code",
   "execution_count": 57,
   "id": "3cea5400-491c-4775-85b0-7a52d33f626d",
   "metadata": {},
   "outputs": [
    {
     "data": {
      "text/plain": [
       "(8116, 8117)"
      ]
     },
     "execution_count": 57,
     "metadata": {},
     "output_type": "execute_result"
    }
   ],
   "source": [
    "# NOTE: it will map endorsement keys to endorsements\n",
    "ENDORSEMENT_INDEX = {}\n",
    "\n",
    "for endorsement in RELEVANT_ENDORSEMENTS:\n",
    "    key = endorsement_key(endorsement)\n",
    "    ENDORSEMENT_INDEX[key] = endorsement\n",
    "\n",
    "len(ENDORSEMENT_INDEX), len(RELEVANT_ENDORSEMENTS)"
   ]
  },
  {
   "cell_type": "code",
   "execution_count": 55,
   "id": "7c5f82e8-28aa-4670-93a9-0257f3846ab5",
   "metadata": {},
   "outputs": [
    {
     "data": {
      "text/plain": [
       "{'Civilite': 'M.',\n",
       " 'Nom': 'RUIZ',\n",
       " 'Prenom': 'Albert',\n",
       " 'Mandat': \"Maire délégué d'une commune associée ou d'une commune déléguée\",\n",
       " 'Circonscription': 'Bourmont-entre-Meuse-et-Mouzon',\n",
       " 'Departement': 'Haute-Marne',\n",
       " 'Candidat': 'ARTHAUD Nathalie',\n",
       " 'DatePublication': '2022-02-01T00:00:00'}"
      ]
     },
     "execution_count": 55,
     "metadata": {},
     "output_type": "execute_result"
    }
   ],
   "source": [
    "ENDORSEMENT_INDEX[endorsement_key(ENDORSEMENTS[9])]"
   ]
  },
  {
   "cell_type": "code",
   "execution_count": 67,
   "id": "bb5eaff4-9b8c-4250-bf45-a301742d22b1",
   "metadata": {},
   "outputs": [
    {
     "data": {
      "text/plain": [
       "[('', 564996),\n",
       " ('LDVG', 74339),\n",
       " ('LDVD', 72617),\n",
       " ('LDIV', 49631),\n",
       " ('LDVC', 40296),\n",
       " ('LRN', 14408),\n",
       " ('LEXG', 13837),\n",
       " ('LLR', 10990),\n",
       " ('LUG', 10902),\n",
       " ('LREM', 9509),\n",
       " ('LVEC', 7299),\n",
       " ('LSOC', 6282),\n",
       " ('LECO', 6232),\n",
       " ('LCOM', 4317),\n",
       " ('LFI', 3197),\n",
       " ('LUC', 3113),\n",
       " ('LUD', 2917),\n",
       " ('LREG', 2674),\n",
       " ('LUDI', 1991),\n",
       " ('LEXD', 1269),\n",
       " ('LMDM', 713),\n",
       " ('LDLF', 420),\n",
       " ('LGJ', 362),\n",
       " ('LRDG', 183)]"
      ]
     },
     "execution_count": 67,
     "metadata": {},
     "output_type": "execute_result"
    }
   ],
   "source": [
    "distinct_nuance_list = Counter()\n",
    "\n",
    "for mayor in MAYORS:\n",
    "    distinct_nuance_list[mayor['Nuance Liste']] += 1\n",
    "\n",
    "distinct_nuance_list.most_common()"
   ]
  },
  {
   "cell_type": "code",
   "execution_count": 71,
   "id": "f94d52c0-31c9-445f-8eed-c2408c0c3a51",
   "metadata": {},
   "outputs": [
    {
     "data": {
      "text/plain": [
       "0.9906369348281385"
      ]
     },
     "execution_count": 71,
     "metadata": {},
     "output_type": "execute_result"
    }
   ],
   "source": [
    "matches = 0\n",
    "\n",
    "for mayor in MAYORS:\n",
    "    key = mayor_key(mayor)\n",
    "\n",
    "    match = ENDORSEMENT_INDEX.get(key)\n",
    "\n",
    "    if match is not None:\n",
    "        match['political_leaning'] = mayor['Nuance Liste']\n",
    "        matches += 1²\n",
    "\n",
    "matches / len(RELEVANT_ENDORSEMENTS)"
   ]
  },
  {
   "cell_type": "code",
   "execution_count": 70,
   "id": "6b2815d1-1bd5-4762-a766-2f55751ad6a7",
   "metadata": {},
   "outputs": [
    {
     "data": {
      "text/plain": [
       "([{'test': 46}], {'key': {'test': 46}})"
      ]
     },
     "execution_count": 70,
     "metadata": {},
     "output_type": "execute_result"
    }
   ],
   "source": [
    "l = [{'test': 45}]\n",
    "d = {'key': l[0]}\n",
    "l[0]['test'] = 46\n",
    "l, d"
   ]
  },
  {
   "cell_type": "code",
   "execution_count": 68,
   "id": "9c1a19fb-a59f-482c-ac07-e3b6eddbec26",
   "metadata": {},
   "outputs": [
    {
     "data": {
      "text/plain": [
       "{'Civilite': 'M.',\n",
       " 'Nom': 'GERAUDIE',\n",
       " 'Prenom': 'Ludovic',\n",
       " 'Mandat': 'Maire',\n",
       " 'Circonscription': 'Le Palais-sur-Vienne',\n",
       " 'Departement': 'Haute-Vienne',\n",
       " 'Candidat': 'HIDALGO Anne',\n",
       " 'DatePublication': '2022-02-03T00:00:00',\n",
       " 'political_leaning': 'LDVG'}"
      ]
     },
     "execution_count": 68,
     "metadata": {},
     "output_type": "execute_result"
    }
   ],
   "source": [
    "RELEVANT_ENDORSEMENTS[457]"
   ]
  }
 ],
 "metadata": {
  "kernelspec": {
   "display_name": "Python 3 (ipykernel)",
   "language": "python",
   "name": "python3"
  },
  "language_info": {
   "codemirror_mode": {
    "name": "ipython",
    "version": 3
   },
   "file_extension": ".py",
   "mimetype": "text/x-python",
   "name": "python",
   "nbconvert_exporter": "python",
   "pygments_lexer": "ipython3",
   "version": "3.8.16"
  }
 },
 "nbformat": 4,
 "nbformat_minor": 5
}
