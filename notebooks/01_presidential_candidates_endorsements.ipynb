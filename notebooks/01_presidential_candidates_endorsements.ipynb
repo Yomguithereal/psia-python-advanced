{
 "cells": [
  {
   "cell_type": "markdown",
   "id": "70a703cb-7934-4392-9b80-7f292f2deb6e",
   "metadata": {},
   "source": [
    "# Exploring presidential candidates endorsements"
   ]
  },
  {
   "cell_type": "code",
   "execution_count": 2,
   "id": "8cd2f0b7-ef19-43eb-b75d-01c2c0078746",
   "metadata": {},
   "outputs": [],
   "source": [
    "import json"
   ]
  },
  {
   "cell_type": "markdown",
   "id": "0be6c826-35e9-4a41-a68d-30bc8643e40d",
   "metadata": {},
   "source": [
    "## Reading and parsing the JSON file"
   ]
  },
  {
   "cell_type": "code",
   "execution_count": 8,
   "id": "671bf3a5-edde-4cc0-af47-86fcecc4ad32",
   "metadata": {
    "scrolled": true
   },
   "outputs": [],
   "source": [
    "with open(r\"../data/parrainages.json\", encoding=\"utf-8\") as f:\n",
    "    ENDORSEMENTS = json.load(f)"
   ]
  },
  {
   "cell_type": "code",
   "execution_count": 5,
   "id": "1abbae56-1547-4cff-96c4-87f2e2966273",
   "metadata": {},
   "outputs": [
    {
     "data": {
      "text/plain": [
       "{'Civilite': 'M.',\n",
       " 'Nom': 'CORDIVAL',\n",
       " 'Prenom': 'Gilles',\n",
       " 'Mandat': 'Maire',\n",
       " 'Circonscription': 'Mont-Saint-Père',\n",
       " 'Departement': 'Aisne',\n",
       " 'Candidat': 'ARTHAUD Nathalie',\n",
       " 'DatePublication': '2022-02-01T00:00:00'}"
      ]
     },
     "execution_count": 5,
     "metadata": {},
     "output_type": "execute_result"
    }
   ],
   "source": [
    "ENDORSEMENTS[0]"
   ]
  },
  {
   "cell_type": "code",
   "execution_count": 10,
   "id": "0749417e-8ad8-4a5a-a62a-e3c5848265f0",
   "metadata": {},
   "outputs": [
    {
     "data": {
      "text/plain": [
       "13427"
      ]
     },
     "execution_count": 10,
     "metadata": {},
     "output_type": "execute_result"
    }
   ],
   "source": [
    "len(ENDORSEMENTS)"
   ]
  },
  {
   "cell_type": "markdown",
   "id": "657da71f-9ee5-4cb1-a3e4-17eee7ecdaa1",
   "metadata": {},
   "source": [
    "## Find information about candidates"
   ]
  },
  {
   "cell_type": "markdown",
   "id": "f76484a0-08bf-439b-8433-8b26347793da",
   "metadata": {},
   "source": [
    "### Distinct number of candidates"
   ]
  },
  {
   "cell_type": "code",
   "execution_count": 15,
   "id": "3a55a3f0-4bfc-4e4e-a415-80053207e5a7",
   "metadata": {},
   "outputs": [
    {
     "data": {
      "text/plain": [
       "64"
      ]
     },
     "execution_count": 15,
     "metadata": {},
     "output_type": "execute_result"
    }
   ],
   "source": [
    "distinct_candidates = set()\n",
    "\n",
    "for endorsement in ENDORSEMENTS:\n",
    "    candidat = endorsement['Candidat']\n",
    "    distinct_candidates.add(candidat)\n",
    "\n",
    "len(distinct_candidates)"
   ]
  },
  {
   "cell_type": "markdown",
   "id": "b598eb4c-8d55-4ce9-82bb-bb396f58f124",
   "metadata": {},
   "source": [
    "### Endorsements per candidates (the hard way)"
   ]
  },
  {
   "cell_type": "code",
   "execution_count": 24,
   "id": "746b5cc3-611b-4feb-a97d-22d412465baf",
   "metadata": {},
   "outputs": [
    {
     "data": {
      "text/plain": [
       "64"
      ]
     },
     "execution_count": 24,
     "metadata": {},
     "output_type": "execute_result"
    }
   ],
   "source": [
    "endorsement_per_candidate = {}\n",
    "\n",
    "for endorsement in ENDORSEMENTS:\n",
    "    candidat = endorsement['Candidat']\n",
    "\n",
    "    if candidat not in endorsement_per_candidate:\n",
    "        endorsement_per_candidate[candidat] = 1\n",
    "    else:\n",
    "        endorsement_per_candidate[candidat] += 1\n",
    "\n",
    "len(endorsement_per_candidate)"
   ]
  },
  {
   "cell_type": "code",
   "execution_count": 49,
   "id": "24422efe-fb2a-4825-9401-8686ae8e3a2b",
   "metadata": {},
   "outputs": [
    {
     "data": {
      "text/plain": [
       "12"
      ]
     },
     "execution_count": 49,
     "metadata": {},
     "output_type": "execute_result"
    }
   ],
   "source": [
    "relevant_candidates = []\n",
    "\n",
    "for name, count in endorsement_per_candidate.items():\n",
    "    if count >= 400:\n",
    "        relevant_candidates.append((name, count))\n",
    "\n",
    "len(relevant_candidates)"
   ]
  },
  {
   "cell_type": "code",
   "execution_count": 50,
   "id": "290a3a0f-4eb8-496f-9bea-68730d31e677",
   "metadata": {},
   "outputs": [
    {
     "data": {
      "text/plain": [
       "[('PÉCRESSE Valérie', 2636),\n",
       " ('MACRON Emmanuel', 2098),\n",
       " ('HIDALGO Anne', 1440),\n",
       " ('MÉLENCHON Jean-Luc', 906),\n",
       " ('ZEMMOUR Éric', 741),\n",
       " ('JADOT Yannick', 712),\n",
       " ('LASSALLE Jean', 642),\n",
       " ('ROUSSEL Fabien', 626),\n",
       " ('LE PEN Marine', 622),\n",
       " ('DUPONT-AIGNAN Nicolas', 600),\n",
       " ('POUTOU Philippe', 596),\n",
       " ('ARTHAUD Nathalie', 576)]"
      ]
     },
     "execution_count": 50,
     "metadata": {},
     "output_type": "execute_result"
    }
   ],
   "source": [
    "sorted(relevant_candidates, key=lambda record: record[1], reverse=True)"
   ]
  },
  {
   "cell_type": "markdown",
   "id": "4686ba99-ce70-45f1-9d24-9e9e542f7b99",
   "metadata": {},
   "source": [
    "### Endorsements per candidates (the lazy way)"
   ]
  },
  {
   "cell_type": "code",
   "execution_count": 51,
   "id": "349c871d-c0f2-4d06-b7f7-b507a588fbf4",
   "metadata": {},
   "outputs": [],
   "source": [
    "from collections import Counter"
   ]
  },
  {
   "cell_type": "code",
   "execution_count": 55,
   "id": "211dc8c2-f02d-4935-aa02-9a108fcc0d96",
   "metadata": {},
   "outputs": [
    {
     "data": {
      "text/plain": [
       "0"
      ]
     },
     "execution_count": 55,
     "metadata": {},
     "output_type": "execute_result"
    }
   ],
   "source": [
    "counter = Counter()\n",
    "counter[\"i do not exists\"]"
   ]
  },
  {
   "cell_type": "code",
   "execution_count": 57,
   "id": "3b903f66-fe0b-41f9-8335-165e640ef88e",
   "metadata": {},
   "outputs": [
    {
     "data": {
      "text/plain": [
       "64"
      ]
     },
     "execution_count": 57,
     "metadata": {},
     "output_type": "execute_result"
    }
   ],
   "source": [
    "endorsement_per_candidate = Counter()\n",
    "\n",
    "for endorsement in ENDORSEMENTS:\n",
    "    endorsement_per_candidate[endorsement[\"Candidat\"]] += 1\n",
    "\n",
    "len(endorsement_per_candidate)"
   ]
  },
  {
   "cell_type": "code",
   "execution_count": 60,
   "id": "44951079-9b08-4311-902c-1ef62fb97259",
   "metadata": {},
   "outputs": [
    {
     "name": "stdout",
     "output_type": "stream",
     "text": [
      "PÉCRESSE Valérie 2636\n",
      "MACRON Emmanuel 2098\n",
      "HIDALGO Anne 1440\n",
      "MÉLENCHON Jean-Luc 906\n",
      "ZEMMOUR Éric 741\n",
      "JADOT Yannick 712\n",
      "LASSALLE Jean 642\n",
      "ROUSSEL Fabien 626\n",
      "LE PEN Marine 622\n",
      "DUPONT-AIGNAN Nicolas 600\n",
      "POUTOU Philippe 596\n",
      "ARTHAUD Nathalie 576\n"
     ]
    }
   ],
   "source": [
    "for name, count in endorsement_per_candidate.most_common():\n",
    "    if count < 500:\n",
    "        break\n",
    "    print(name, count)"
   ]
  },
  {
   "cell_type": "markdown",
   "id": "c52517c0-2eb7-44f9-8a55-b8a6da6edf03",
   "metadata": {},
   "source": [
    "### Finding the candidates who did run"
   ]
  },
  {
   "cell_type": "code",
   "execution_count": 61,
   "id": "268a61ea-0b3d-4586-a365-513060f82f3e",
   "metadata": {},
   "outputs": [
    {
     "data": {
      "text/plain": [
       "{'ARTHAUD Nathalie',\n",
       " 'DUPONT-AIGNAN Nicolas',\n",
       " 'HIDALGO Anne',\n",
       " 'JADOT Yannick',\n",
       " 'LASSALLE Jean',\n",
       " 'LE PEN Marine',\n",
       " 'MACRON Emmanuel',\n",
       " 'MÉLENCHON Jean-Luc',\n",
       " 'POUTOU Philippe',\n",
       " 'PÉCRESSE Valérie',\n",
       " 'ROUSSEL Fabien',\n",
       " 'ZEMMOUR Éric'}"
      ]
     },
     "execution_count": 61,
     "metadata": {},
     "output_type": "execute_result"
    }
   ],
   "source": [
    "candidates_who_ran = set()\n",
    "\n",
    "for name, count in endorsement_per_candidate.most_common():\n",
    "    if count < 500:\n",
    "        break\n",
    "\n",
    "    candidates_who_ran.add(name)\n",
    "\n",
    "candidates_who_ran"
   ]
  },
  {
   "cell_type": "markdown",
   "id": "ade22130-2357-4cc9-924d-025e9f204d5a",
   "metadata": {},
   "source": [
    "### Analyzing mandates"
   ]
  },
  {
   "cell_type": "code",
   "execution_count": 68,
   "id": "528df69a-cc47-4825-b5ca-e83e00783918",
   "metadata": {},
   "outputs": [
    {
     "data": {
      "text/plain": [
       "{'Conseiller de Paris',\n",
       " 'Conseiller départemental',\n",
       " 'Conseiller métropolitain de Lyon',\n",
       " 'Conseiller régional',\n",
       " \"Conseiller à l'Assemblée des Français de l'étranger\",\n",
       " 'Conseillère de Paris',\n",
       " 'Conseillère départementale',\n",
       " 'Conseillère métropolitaine de Lyon',\n",
       " 'Conseillère régionale',\n",
       " \"Conseillère à l'Assemblée des Français de l'étranger\",\n",
       " 'Député',\n",
       " 'Députée',\n",
       " 'Maire',\n",
       " \"Maire d'arrondissement\",\n",
       " \"Maire délégué d'une commune associée ou d'une commune déléguée\",\n",
       " \"Maire déléguée d'une commune associée ou d'une commune déléguée\",\n",
       " \"Membre d'une assemblée d'une collectivité territoriale d'outre-mer à statut particulier\",\n",
       " \"Membre de l'Assemblée de Corse\",\n",
       " \"Président d'un EPCI à fiscalité propre\",\n",
       " 'Président de la Polynésie française',\n",
       " 'Président du Conseil exécutif de Martinique',\n",
       " 'Président du conseil consulaire',\n",
       " 'Président du gouvernement de la Nouvelle-Calédonie',\n",
       " \"Présidente d'un EPCI à fiscalité propre\",\n",
       " 'Présidente du conseil consulaire',\n",
       " 'Représentant français au Parlement européen',\n",
       " 'Représentante française au Parlement européen',\n",
       " 'Sénateur',\n",
       " 'Sénatrice'}"
      ]
     },
     "execution_count": 68,
     "metadata": {},
     "output_type": "execute_result"
    }
   ],
   "source": [
    "distinct_mandates = set()\n",
    "\n",
    "for endorsement in ENDORSEMENTS:\n",
    "    distinct_mandates.add(endorsement['Mandat'])\n",
    "\n",
    "# Same as the above\n",
    "distinct_mandates = set(endorsement['Mandat'] for endorsement in ENDORSEMENTS)\n",
    "distinct_mandates"
   ]
  },
  {
   "cell_type": "markdown",
   "id": "25d7952b-7f40-44ac-bfd9-d59c2f6102ab",
   "metadata": {},
   "source": [
    "### Filtering the relevant endorsements"
   ]
  },
  {
   "cell_type": "code",
   "execution_count": 71,
   "id": "64e0258f-f24c-422a-8370-33920201cef6",
   "metadata": {},
   "outputs": [
    {
     "data": {
      "text/plain": [
       "0.6045281894689805"
      ]
     },
     "execution_count": 71,
     "metadata": {},
     "output_type": "execute_result"
    }
   ],
   "source": [
    "RELEVANT_ENDORSEMENTS = []\n",
    "\n",
    "for endorsement in ENDORSEMENTS:\n",
    "    if (\n",
    "        endorsement[\"Candidat\"] in candidates_who_ran and\n",
    "        endorsement[\"Mandat\"].startswith(\"Maire\")\n",
    "    ):\n",
    "        RELEVANT_ENDORSEMENTS.append(endorsement)\n",
    "\n",
    "len(RELEVANT_ENDORSEMENTS) / len(ENDORSEMENTS)"
   ]
  }
 ],
 "metadata": {
  "kernelspec": {
   "display_name": "Python 3 (ipykernel)",
   "language": "python",
   "name": "python3"
  },
  "language_info": {
   "codemirror_mode": {
    "name": "ipython",
    "version": 3
   },
   "file_extension": ".py",
   "mimetype": "text/x-python",
   "name": "python",
   "nbconvert_exporter": "python",
   "pygments_lexer": "ipython3",
   "version": "3.8.16"
  }
 },
 "nbformat": 4,
 "nbformat_minor": 5
}
