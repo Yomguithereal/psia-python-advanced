{
 "cells": [
  {
   "cell_type": "markdown",
   "id": "2098d37d-96e2-437e-abf8-c47395e4655d",
   "metadata": {},
   "source": [
    "# Exploring presidential candidates endorsements"
   ]
  },
  {
   "cell_type": "code",
   "execution_count": 18,
   "id": "49938159-47c0-4787-9cb1-567e80c5694c",
   "metadata": {
    "tags": []
   },
   "outputs": [],
   "source": [
    "import json\n",
    "import csv\n",
    "import gzip"
   ]
  },
  {
   "cell_type": "markdown",
   "id": "5883a61a-e18e-43e5-bed8-c73b34d4c820",
   "metadata": {},
   "source": [
    "## Reading the JSON file"
   ]
  },
  {
   "cell_type": "code",
   "execution_count": 2,
   "id": "b4b5dcfd-dffa-4ffa-b8b4-61e36fb1f4dc",
   "metadata": {
    "tags": []
   },
   "outputs": [],
   "source": [
    "with open('../data/parrainages.json', encoding='utf-8') as f:\n",
    "    ENDORSEMENTS = json.load(f)"
   ]
  },
  {
   "cell_type": "code",
   "execution_count": 3,
   "id": "d8d46919-9f73-4752-bd07-6b262425d5be",
   "metadata": {
    "tags": []
   },
   "outputs": [
    {
     "data": {
      "text/plain": [
       "{'Civilite': 'M.',\n",
       " 'Nom': 'CORDIVAL',\n",
       " 'Prenom': 'Gilles',\n",
       " 'Mandat': 'Maire',\n",
       " 'Circonscription': 'Mont-Saint-Père',\n",
       " 'Departement': 'Aisne',\n",
       " 'Candidat': 'ARTHAUD Nathalie',\n",
       " 'DatePublication': '2022-02-01T00:00:00'}"
      ]
     },
     "execution_count": 3,
     "metadata": {},
     "output_type": "execute_result"
    }
   ],
   "source": [
    "ENDORSEMENTS[0]"
   ]
  },
  {
   "cell_type": "code",
   "execution_count": 4,
   "id": "9e2a14c7-032f-4201-9ad0-bbe3fc361600",
   "metadata": {
    "tags": []
   },
   "outputs": [
    {
     "data": {
      "text/plain": [
       "13427"
      ]
     },
     "execution_count": 4,
     "metadata": {},
     "output_type": "execute_result"
    }
   ],
   "source": [
    "len(ENDORSEMENTS)"
   ]
  },
  {
   "cell_type": "markdown",
   "id": "8f7a13c2-81dd-423c-97e7-d8935a4b476a",
   "metadata": {},
   "source": [
    "## Couting & finding distinct candidates"
   ]
  },
  {
   "cell_type": "code",
   "execution_count": 5,
   "id": "f83d1df0-e1f7-4dba-afe3-878bf15c6119",
   "metadata": {
    "tags": []
   },
   "outputs": [
    {
     "data": {
      "text/plain": [
       "64"
      ]
     },
     "execution_count": 5,
     "metadata": {},
     "output_type": "execute_result"
    }
   ],
   "source": [
    "candidate_names = set()\n",
    "\n",
    "for endorsment in ENDORSEMENTS:\n",
    "    candidate_names.add(endorsment['Candidat'])\n",
    "\n",
    "len(candidate_names)"
   ]
  },
  {
   "cell_type": "markdown",
   "id": "29d686ee-b708-4243-9cf1-3c578d5d7a35",
   "metadata": {},
   "source": [
    "## Filtering candidates that could not run\n",
    "\n",
    "In France, candidates can only run if they could secure at least 500 endorsements."
   ]
  },
  {
   "cell_type": "code",
   "execution_count": 6,
   "id": "9f9d4c38-e02d-40c3-8a04-e62a25687851",
   "metadata": {
    "tags": []
   },
   "outputs": [
    {
     "name": "stdout",
     "output_type": "stream",
     "text": [
      "PÉCRESSE Valérie 2636\n",
      "MACRON Emmanuel 2098\n",
      "HIDALGO Anne 1440\n",
      "MÉLENCHON Jean-Luc 906\n",
      "ZEMMOUR Éric 741\n",
      "JADOT Yannick 712\n",
      "LASSALLE Jean 642\n",
      "ROUSSEL Fabien 626\n",
      "LE PEN Marine 622\n",
      "DUPONT-AIGNAN Nicolas 600\n",
      "POUTOU Philippe 596\n",
      "ARTHAUD Nathalie 576\n",
      "ASSELINEAU François 293\n",
      "TAUBIRA Christiane 274\n",
      "KAZIB Anasse 160\n",
      "THOUY Hélène 139\n",
      "KOENIG Gaspard 107\n",
      "KUZMANOVIC Georges 49\n",
      "MIGUET Nicolas 40\n",
      "EGGER Clara 36\n"
     ]
    }
   ],
   "source": [
    "endorsements_per_candidate = {}\n",
    "\n",
    "for endorsement in ENDORSEMENTS:\n",
    "    candidate_name = endorsement['Candidat']\n",
    "    \n",
    "    if candidate_name not in endorsements_per_candidate:\n",
    "        endorsements_per_candidate[candidate_name] = 0\n",
    "        \n",
    "    endorsements_per_candidate[candidate_name] += 1\n",
    "\n",
    "for candidate_name, count in sorted(endorsements_per_candidate.items(), key=lambda item: item[1], reverse=True)[:20]:\n",
    "    print(candidate_name, count)"
   ]
  },
  {
   "cell_type": "code",
   "execution_count": 7,
   "id": "6e2d748c-d59b-45de-9fff-d46ee3b9380a",
   "metadata": {
    "tags": []
   },
   "outputs": [],
   "source": [
    "from collections import Counter"
   ]
  },
  {
   "cell_type": "code",
   "execution_count": 8,
   "id": "0f3be8b3-ef0a-4248-87df-ead63d7bbc8a",
   "metadata": {
    "tags": []
   },
   "outputs": [
    {
     "data": {
      "text/plain": [
       "0"
      ]
     },
     "execution_count": 8,
     "metadata": {},
     "output_type": "execute_result"
    }
   ],
   "source": [
    "Counter()['something']"
   ]
  },
  {
   "cell_type": "code",
   "execution_count": 9,
   "id": "8c846bb9-2726-411b-b523-e01a1ffc2246",
   "metadata": {
    "tags": []
   },
   "outputs": [
    {
     "data": {
      "text/plain": [
       "[('PÉCRESSE Valérie', 2636),\n",
       " ('MACRON Emmanuel', 2098),\n",
       " ('HIDALGO Anne', 1440),\n",
       " ('MÉLENCHON Jean-Luc', 906),\n",
       " ('ZEMMOUR Éric', 741),\n",
       " ('JADOT Yannick', 712),\n",
       " ('LASSALLE Jean', 642),\n",
       " ('ROUSSEL Fabien', 626),\n",
       " ('LE PEN Marine', 622),\n",
       " ('DUPONT-AIGNAN Nicolas', 600)]"
      ]
     },
     "execution_count": 9,
     "metadata": {},
     "output_type": "execute_result"
    }
   ],
   "source": [
    "endorsements_per_candidate = Counter()\n",
    "\n",
    "for endorsement in ENDORSEMENTS:\n",
    "    endorsements_per_candidate[endorsement['Candidat']] += 1\n",
    "    \n",
    "endorsements_per_candidate.most_common(10)"
   ]
  },
  {
   "cell_type": "code",
   "execution_count": 10,
   "id": "b19d552b-9bdd-4863-97b0-887a728a0fa3",
   "metadata": {
    "tags": []
   },
   "outputs": [
    {
     "data": {
      "text/plain": [
       "({'ARTHAUD Nathalie',\n",
       "  'DUPONT-AIGNAN Nicolas',\n",
       "  'HIDALGO Anne',\n",
       "  'JADOT Yannick',\n",
       "  'LASSALLE Jean',\n",
       "  'LE PEN Marine',\n",
       "  'MACRON Emmanuel',\n",
       "  'MÉLENCHON Jean-Luc',\n",
       "  'POUTOU Philippe',\n",
       "  'PÉCRESSE Valérie',\n",
       "  'ROUSSEL Fabien',\n",
       "  'ZEMMOUR Éric'},\n",
       " 12)"
      ]
     },
     "execution_count": 10,
     "metadata": {},
     "output_type": "execute_result"
    }
   ],
   "source": [
    "candidates_able_to_run = set()\n",
    "\n",
    "for name, count in endorsements_per_candidate.items():\n",
    "    if count >= 500:\n",
    "        candidates_able_to_run.add(name)\n",
    "        \n",
    "candidates_able_to_run, len(candidates_able_to_run)"
   ]
  },
  {
   "cell_type": "markdown",
   "id": "0ffc972f-0270-4a43-acec-39adf66af3df",
   "metadata": {},
   "source": [
    "## Keeping only relevant endorsements\n",
    "\n",
    "We are only interested in endorsements for running candidates and by mayors."
   ]
  },
  {
   "cell_type": "code",
   "execution_count": 11,
   "id": "275f688f-d96b-42ff-92c4-f2bed39a5d66",
   "metadata": {
    "tags": []
   },
   "outputs": [
    {
     "data": {
      "text/plain": [
       "{'Conseiller de Paris',\n",
       " 'Conseiller départemental',\n",
       " 'Conseiller métropolitain de Lyon',\n",
       " 'Conseiller régional',\n",
       " \"Conseiller à l'Assemblée des Français de l'étranger\",\n",
       " 'Conseillère de Paris',\n",
       " 'Conseillère départementale',\n",
       " 'Conseillère métropolitaine de Lyon',\n",
       " 'Conseillère régionale',\n",
       " \"Conseillère à l'Assemblée des Français de l'étranger\",\n",
       " 'Député',\n",
       " 'Députée',\n",
       " 'Maire',\n",
       " \"Maire d'arrondissement\",\n",
       " \"Maire délégué d'une commune associée ou d'une commune déléguée\",\n",
       " \"Maire déléguée d'une commune associée ou d'une commune déléguée\",\n",
       " \"Membre d'une assemblée d'une collectivité territoriale d'outre-mer à statut particulier\",\n",
       " \"Membre de l'Assemblée de Corse\",\n",
       " \"Président d'un EPCI à fiscalité propre\",\n",
       " 'Président de la Polynésie française',\n",
       " 'Président du Conseil exécutif de Martinique',\n",
       " 'Président du conseil consulaire',\n",
       " 'Président du gouvernement de la Nouvelle-Calédonie',\n",
       " \"Présidente d'un EPCI à fiscalité propre\",\n",
       " 'Présidente du conseil consulaire',\n",
       " 'Représentant français au Parlement européen',\n",
       " 'Représentante française au Parlement européen',\n",
       " 'Sénateur',\n",
       " 'Sénatrice'}"
      ]
     },
     "execution_count": 11,
     "metadata": {},
     "output_type": "execute_result"
    }
   ],
   "source": [
    "mandates = set()\n",
    "\n",
    "for endorsement in ENDORSEMENTS:\n",
    "    mandates.add(endorsement['Mandat'])\n",
    "    \n",
    "mandates"
   ]
  },
  {
   "cell_type": "code",
   "execution_count": 12,
   "id": "558c1ea5-0141-4144-85bf-527065c0de26",
   "metadata": {
    "tags": []
   },
   "outputs": [],
   "source": [
    "RELEVANT_ENDORSEMENTS = []\n",
    "\n",
    "for endorsement in ENDORSEMENTS:\n",
    "    if endorsement['Candidat'] in candidates_able_to_run and endorsement['Mandat'].startswith('Maire'):\n",
    "        RELEVANT_ENDORSEMENTS.append(endorsement)"
   ]
  },
  {
   "cell_type": "code",
   "execution_count": 13,
   "id": "27e24cae-3187-4b16-ba47-5a8d67ee1701",
   "metadata": {
    "tags": []
   },
   "outputs": [
    {
     "data": {
      "text/plain": [
       "(13427, 8117)"
      ]
     },
     "execution_count": 13,
     "metadata": {},
     "output_type": "execute_result"
    }
   ],
   "source": [
    "len(ENDORSEMENTS), len(RELEVANT_ENDORSEMENTS)"
   ]
  },
  {
   "cell_type": "markdown",
   "id": "96542188-df18-4055-9b69-8e32ae78504e",
   "metadata": {},
   "source": [
    "## Computing per-candidate gender ratios"
   ]
  },
  {
   "cell_type": "code",
   "execution_count": 14,
   "id": "f0d73249-ba0a-459e-ad96-ad5b0af6c860",
   "metadata": {
    "tags": []
   },
   "outputs": [
    {
     "data": {
      "text/plain": [
       "{'ARTHAUD Nathalie': {'man': 463, 'woman': 112},\n",
       " 'DUPONT-AIGNAN Nicolas': {'man': 531, 'woman': 60},\n",
       " 'HIDALGO Anne': {'man': 565, 'woman': 147},\n",
       " 'JADOT Yannick': {'man': 253, 'woman': 59},\n",
       " 'LASSALLE Jean': {'man': 566, 'woman': 57},\n",
       " 'LE PEN Marine': {'man': 263, 'woman': 50},\n",
       " 'MACRON Emmanuel': {'man': 1110, 'woman': 186},\n",
       " 'MÉLENCHON Jean-Luc': {'man': 586, 'woman': 112},\n",
       " 'PÉCRESSE Valérie': {'man': 1161, 'woman': 212},\n",
       " 'POUTOU Philippe': {'man': 451, 'woman': 94},\n",
       " 'ROUSSEL Fabien': {'man': 346, 'woman': 62},\n",
       " 'ZEMMOUR Éric': {'man': 595, 'woman': 76}}"
      ]
     },
     "execution_count": 14,
     "metadata": {},
     "output_type": "execute_result"
    }
   ],
   "source": [
    "genders_per_candidates = {}\n",
    "\n",
    "for endorsement in RELEVANT_ENDORSEMENTS:\n",
    "    mayor_is_a_man = endorsement['Civilite'] == 'M.'\n",
    "    candidate_name = endorsement['Candidat']\n",
    "    \n",
    "    if candidate_name not in genders_per_candidates:\n",
    "        genders_per_candidates[candidate_name] = {'man': 0, 'woman': 0}\n",
    "        \n",
    "    gender_key = 'woman'\n",
    "    \n",
    "    if mayor_is_a_man:\n",
    "        gender_key = 'man'\n",
    "        \n",
    "    genders_per_candidates[candidate_name][gender_key] += 1\n",
    "    \n",
    "genders_per_candidates"
   ]
  },
  {
   "cell_type": "code",
   "execution_count": 15,
   "id": "e5d90583-142d-4d0f-a8fc-2a4cabc87161",
   "metadata": {
    "tags": []
   },
   "outputs": [
    {
     "name": "stdout",
     "output_type": "stream",
     "text": [
      "ARTHAUD Nathalie 19.47826086956522\n",
      "DUPONT-AIGNAN Nicolas 10.152284263959391\n",
      "HIDALGO Anne 20.646067415730336\n",
      "JADOT Yannick 18.91025641025641\n",
      "LASSALLE Jean 9.149277688603531\n",
      "LE PEN Marine 15.974440894568689\n",
      "MACRON Emmanuel 14.351851851851851\n",
      "MÉLENCHON Jean-Luc 16.045845272206304\n",
      "PÉCRESSE Valérie 15.440640932265111\n",
      "POUTOU Philippe 17.24770642201835\n",
      "ROUSSEL Fabien 15.196078431372548\n",
      "ZEMMOUR Éric 11.326378539493295\n"
     ]
    }
   ],
   "source": [
    "gender_ratios_per_candidates = {}\n",
    "\n",
    "for name, counters in genders_per_candidates.items():\n",
    "    total = counters['woman'] + counters['man']\n",
    "    ratio = counters['woman'] / total\n",
    "    gender_ratios_per_candidates[name] = ratio\n",
    "    \n",
    "for name, ratio in gender_ratios_per_candidates.items():\n",
    "    print(name, ratio * 100)"
   ]
  },
  {
   "cell_type": "markdown",
   "id": "7551ab18-702d-4891-8520-18b833dffb18",
   "metadata": {
    "tags": []
   },
   "source": [
    "## Reading the mayor 2020 election file"
   ]
  },
  {
   "cell_type": "code",
   "execution_count": 26,
   "id": "c22919b3-0c2e-415e-9764-11b98bb3e1d8",
   "metadata": {
    "tags": []
   },
   "outputs": [
    {
     "data": {
      "text/plain": [
       "902494"
      ]
     },
     "execution_count": 26,
     "metadata": {},
     "output_type": "execute_result"
    }
   ],
   "source": [
    "with gzip.open('../data/municipale2020.csv.gz', 'rt', encoding='utf-8') as f:\n",
    "    reader = csv.DictReader(f)\n",
    "    \n",
    "    MAYOR_CANDIDATES = []\n",
    "    \n",
    "    for row in reader:\n",
    "        MAYOR_CANDIDATES.append(row)\n",
    "        \n",
    "len(MAYOR_CANDIDATES)"
   ]
  },
  {
   "cell_type": "code",
   "execution_count": 27,
   "id": "c794f51a-2f1a-4d04-83f8-58551237a07a",
   "metadata": {
    "tags": []
   },
   "outputs": [
    {
     "data": {
      "text/plain": [
       "OrderedDict([('Code du département', '01'),\n",
       "             ('Libellé du département', 'Ain'),\n",
       "             ('Code commune', '01004'),\n",
       "             ('Libellé commune', 'Ambérieu-en-Bugey'),\n",
       "             ('N° Panneau Liste', '1'),\n",
       "             ('Libellé abrégé liste', 'UNIS POUR AMBERIEU'),\n",
       "             ('Libellé Etendu Liste', 'UNIS POUR AMBERIEU'),\n",
       "             ('Nuance Liste', 'LDVC'),\n",
       "             ('N° candidat', '1'),\n",
       "             ('Sexe candidat', 'M'),\n",
       "             ('Nom candidat', 'FABRE'),\n",
       "             ('Prénom candidat', 'Daniel'),\n",
       "             ('Nationalité', 'Française'),\n",
       "             ('Candidat au conseil communautaire', 'O')])"
      ]
     },
     "execution_count": 27,
     "metadata": {},
     "output_type": "execute_result"
    }
   ],
   "source": [
    "MAYOR_CANDIDATES[0]"
   ]
  },
  {
   "cell_type": "code",
   "execution_count": 55,
   "id": "a4f9d87a-1cd8-44ee-a43d-39042589ab84",
   "metadata": {
    "tags": []
   },
   "outputs": [
    {
     "data": {
      "text/plain": [
       "[('', 564996),\n",
       " ('LDVG', 74339),\n",
       " ('LDVD', 72617),\n",
       " ('LDIV', 49631),\n",
       " ('LDVC', 40296),\n",
       " ('LRN', 14408),\n",
       " ('LEXG', 13837),\n",
       " ('LLR', 10990),\n",
       " ('LUG', 10902),\n",
       " ('LREM', 9509)]"
      ]
     },
     "execution_count": 55,
     "metadata": {},
     "output_type": "execute_result"
    }
   ],
   "source": [
    "Counter(row['Nuance Liste'] for row in MAYOR_CANDIDATES).most_common(10)"
   ]
  },
  {
   "cell_type": "code",
   "execution_count": 33,
   "id": "2aefca5e-d03d-41a9-b048-fa2ea9022a6a",
   "metadata": {
    "tags": []
   },
   "outputs": [
    {
     "data": {
      "text/plain": [
       "'daniel fabre ain'"
      ]
     },
     "execution_count": 33,
     "metadata": {},
     "output_type": "execute_result"
    }
   ],
   "source": [
    "def mayor_candidate_key(row):\n",
    "    return row['Prénom candidat'].lower() + ' ' + row['Nom candidat'].lower() + ' ' + row['Libellé du département'].lower()\n",
    "\n",
    "mayor_candidate_key(MAYOR_CANDIDATES[0])"
   ]
  },
  {
   "cell_type": "code",
   "execution_count": 34,
   "id": "f43bb9b2-bbc6-4712-983d-e9e683252dcf",
   "metadata": {
    "tags": []
   },
   "outputs": [
    {
     "name": "stdout",
     "output_type": "stream",
     "text": [
      "daniel muller moselle 5\n",
      "isabelle petit pas-de-calais 5\n",
      "pierre weber bas-rhin 5\n",
      "michel schmitt bas-rhin 5\n",
      "frédéric meyer bas-rhin 5\n",
      "philippe lefevre aisne 4\n",
      "alain marie calvados 4\n",
      "catherine marie calvados 4\n",
      "yvon briand côtes-d'armor 4\n",
      "christophe muller moselle 4\n"
     ]
    }
   ],
   "source": [
    "naming_collisions = Counter()\n",
    "\n",
    "for row in MAYOR_CANDIDATES:\n",
    "    naming_collisions[mayor_candidate_key(row)] += 1\n",
    "\n",
    "for name, count in naming_collisions.most_common(10):\n",
    "    print(name, count)"
   ]
  },
  {
   "cell_type": "code",
   "execution_count": 36,
   "id": "c8335205-aa86-4add-aadf-f3c3430de317",
   "metadata": {
    "tags": []
   },
   "outputs": [
    {
     "data": {
      "text/plain": [
       "'gilles cordival aisne'"
      ]
     },
     "execution_count": 36,
     "metadata": {},
     "output_type": "execute_result"
    }
   ],
   "source": [
    "def endorsement_key(row):\n",
    "    return row['Prenom'].lower() + ' ' + row['Nom'].lower() + ' ' + row['Departement'].lower()\n",
    "\n",
    "endorsement_key(RELEVANT_ENDORSEMENTS[0])"
   ]
  },
  {
   "cell_type": "code",
   "execution_count": 40,
   "id": "c0c975f4-48c0-446e-a52a-41933c77b6d4",
   "metadata": {
    "tags": []
   },
   "outputs": [
    {
     "data": {
      "text/plain": [
       "(8116, 8117)"
      ]
     },
     "execution_count": 40,
     "metadata": {},
     "output_type": "execute_result"
    }
   ],
   "source": [
    "# Indexation\n",
    "RELEVANT_ENDORSEMENTS_INDEX = {}\n",
    "\n",
    "for endorsement in RELEVANT_ENDORSEMENTS:\n",
    "    RELEVANT_ENDORSEMENTS_INDEX[endorsement_key(endorsement)] = endorsement\n",
    "    \n",
    "len(RELEVANT_ENDORSEMENTS_INDEX), len(RELEVANT_ENDORSEMENTS)"
   ]
  },
  {
   "cell_type": "code",
   "execution_count": 56,
   "id": "5c673468-2cf3-4c59-8f92-cdaff78f2cd2",
   "metadata": {
    "tags": []
   },
   "outputs": [],
   "source": [
    "for row in MAYOR_CANDIDATES:\n",
    "    key = mayor_candidate_key(row)\n",
    "    \n",
    "    match = RELEVANT_ENDORSEMENTS_INDEX.get(key)\n",
    "    \n",
    "    if match is not None and row['Nuance Liste'] != '':\n",
    "        match['Political Leaning'] = row['Nuance Liste']"
   ]
  },
  {
   "cell_type": "code",
   "execution_count": 58,
   "id": "67a56f1e-54c5-4be1-b5ee-7fee55ee16cf",
   "metadata": {
    "tags": []
   },
   "outputs": [
    {
     "data": {
      "text/plain": [
       "6653"
      ]
     },
     "execution_count": 58,
     "metadata": {},
     "output_type": "execute_result"
    }
   ],
   "source": [
    "sum(1 if 'Political Leaning' not in row or row['Political Leaning'] == '' else 0 for row in RELEVANT_ENDORSEMENTS)"
   ]
  },
  {
   "cell_type": "code",
   "execution_count": 60,
   "id": "14584ece-ea1b-48e0-9e70-77df56873d21",
   "metadata": {
    "tags": []
   },
   "outputs": [
    {
     "data": {
      "text/plain": [
       "1464"
      ]
     },
     "execution_count": 60,
     "metadata": {},
     "output_type": "execute_result"
    }
   ],
   "source": [
    "POLITICAL_ENDORSMENTS = []\n",
    "\n",
    "for endorsement in RELEVANT_ENDORSEMENTS:\n",
    "    if endorsement.get('Political Leaning'):\n",
    "        POLITICAL_ENDORSMENTS.append(endorsement)\n",
    "        \n",
    "len(POLITICAL_ENDORSMENTS)"
   ]
  },
  {
   "cell_type": "code",
   "execution_count": 61,
   "id": "0c84e2f2-1a1a-46a5-85a2-02018cf8fd38",
   "metadata": {
    "tags": []
   },
   "outputs": [
    {
     "data": {
      "text/plain": [
       "1464"
      ]
     },
     "execution_count": 61,
     "metadata": {},
     "output_type": "execute_result"
    }
   ],
   "source": [
    "len(RELEVANT_ENDORSEMENTS) - 6653"
   ]
  },
  {
   "cell_type": "code",
   "execution_count": 62,
   "id": "d37717e2-448b-4d48-ab57-26dd49c5956d",
   "metadata": {
    "tags": []
   },
   "outputs": [
    {
     "data": {
      "text/plain": [
       "[('LDVD', 386),\n",
       " ('LDVG', 349),\n",
       " ('LDVC', 147),\n",
       " ('LLR', 132),\n",
       " ('LDIV', 129),\n",
       " ('LUG', 94),\n",
       " ('LSOC', 69),\n",
       " ('LCOM', 42),\n",
       " ('LUD', 35),\n",
       " ('LVEC', 16),\n",
       " ('LUDI', 16),\n",
       " ('LREM', 13),\n",
       " ('LUC', 10),\n",
       " ('LRN', 9),\n",
       " ('LECO', 5),\n",
       " ('LEXD', 4),\n",
       " ('LREG', 4),\n",
       " ('LMDM', 3),\n",
       " ('LFI', 1)]"
      ]
     },
     "execution_count": 62,
     "metadata": {},
     "output_type": "execute_result"
    }
   ],
   "source": [
    "Counter(row['Political Leaning'] for row in POLITICAL_ENDORSMENTS).most_common()"
   ]
  },
  {
   "cell_type": "code",
   "execution_count": 71,
   "id": "78358edd-e0a4-4623-bb9c-2067e805b000",
   "metadata": {
    "tags": []
   },
   "outputs": [],
   "source": [
    "with open('political-endorsements.csv', 'w', encoding='utf-8', newline='') as f:\n",
    "    fieldnames = list(POLITICAL_ENDORSMENTS[0].keys())\n",
    "    writer = csv.DictWriter(f, fieldnames)\n",
    "    writer.writeheader()\n",
    "    \n",
    "    for endorsement in POLITICAL_ENDORSMENTS:\n",
    "        writer.writerow(endorsement)"
   ]
  },
  {
   "cell_type": "code",
   "execution_count": 79,
   "id": "29edb7df-0eaf-41f6-853d-c9154a2ddb99",
   "metadata": {
    "tags": []
   },
   "outputs": [],
   "source": [
    "GROUPS = {\n",
    "    \"LDVD\": \"right\",\n",
    "    \"LDVG\": \"left\",\n",
    "    \"LDVC\": \"center\",\n",
    "    \"LLR\": \"right\",\n",
    "    \"LDIV\": \"center\",\n",
    "    \"LUG\": \"left\",\n",
    "    \"LSOC\": \"left\",\n",
    "    \"LCOM\": \"left\",\n",
    "}"
   ]
  },
  {
   "cell_type": "code",
   "execution_count": 80,
   "id": "07b36a50-f2da-41e0-96dc-72682570a7a2",
   "metadata": {
    "tags": []
   },
   "outputs": [
    {
     "data": {
      "text/plain": [
       "{'Civilite': 'M.',\n",
       " 'Nom': 'THOMAS',\n",
       " 'Prenom': 'Jean-Jacques',\n",
       " 'Mandat': 'Maire',\n",
       " 'Circonscription': 'Hirson',\n",
       " 'Departement': 'Aisne',\n",
       " 'Candidat': 'HIDALGO Anne',\n",
       " 'DatePublication': '2022-02-01T00:00:00',\n",
       " 'Political Leaning': 'LSOC'}"
      ]
     },
     "execution_count": 80,
     "metadata": {},
     "output_type": "execute_result"
    }
   ],
   "source": [
    "POLITICAL_ENDORSMENTS[0]"
   ]
  }
 ],
 "metadata": {
  "kernelspec": {
   "display_name": "Python 3 (ipykernel)",
   "language": "python",
   "name": "python3"
  },
  "language_info": {
   "codemirror_mode": {
    "name": "ipython",
    "version": 3
   },
   "file_extension": ".py",
   "mimetype": "text/x-python",
   "name": "python",
   "nbconvert_exporter": "python",
   "pygments_lexer": "ipython3",
   "version": "3.7.16"
  }
 },
 "nbformat": 4,
 "nbformat_minor": 5
}
