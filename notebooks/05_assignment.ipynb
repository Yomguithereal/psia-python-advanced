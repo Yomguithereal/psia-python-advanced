{
 "cells": [
  {
   "cell_type": "markdown",
   "id": "313ac8dc-08ed-43ab-9b99-9faaf6dc2f0c",
   "metadata": {},
   "source": [
    "# Final Assignment Correction"
   ]
  },
  {
   "cell_type": "markdown",
   "id": "710279c2-91f4-46c8-88ac-562420225548",
   "metadata": {},
   "source": [
    "## Subject"
   ]
  },
  {
   "cell_type": "markdown",
   "id": "7ef8c5b5-0e5b-4b38-8846-793a06473ab7",
   "metadata": {},
   "source": [
    "1. Install `minet`, `ural` using `pip`.\n",
    "2. Using `minet` (relevant documentation [here](https://github.com/medialab/minet/blob/master/docs/twitter.md)), scrape all tweets matched by the `(blocage OR occupation) sciencespo` query, and store them in a list (this should amount to roughly ~1300 tweets). As this can take some minutes, print the number of tweets scraped each time you scrape 100 tweets so you can have feedback on what's happening.\n",
    "3. Find the top tweet by number of retweets and display its text, its author's screen name and its number of retweets.\n",
    "4. Find the 10 accounts that tweeted the most in our corpus (you should rely on the `user_screen_name` key).\n",
    "5. Find the 10 most influent accounts by total number of retweets in our corpus.\n",
    "6. For nonzero values, compute descriptive statistics (min, max, mean, median, stdev) of the numbers of retweets in our corpus (remember python has a [`statistics`](https://docs.python.org/3/library/statistics.html) module).\n",
    "7. Write a csv file using a [`csv.DictWriter`](https://docs.python.org/3.6/library/csv.html#csv.DictWriter) with two columns `url` and `count`, containing all the shared urls along with the number of times they were shared in our corpus (using the `links` key, containing the urls shared by a single tweet).\n",
    "8. Find the 10 most shared urls.\n",
    "9.  Find the 25 most used hashtags (check out the `hashtags` key).\n",
    "10. Try running your own queries on the dataset to better explore it.\n",
    "11. Redact a concise paragraph explaining what you understood of the subject at hand and the way people spoke of it on Twitter, by exploring this corpus of tweets."
   ]
  },
  {
   "cell_type": "markdown",
   "id": "9fdc2d44-7fe6-49ba-a3b5-9780b3012be0",
   "metadata": {},
   "source": [
    "## Answers"
   ]
  },
  {
   "cell_type": "code",
   "execution_count": 1,
   "id": "07e80c0b-d3ed-494c-a455-9cbf6ece3035",
   "metadata": {
    "collapsed": true,
    "jupyter": {
     "outputs_hidden": true
    },
    "tags": []
   },
   "outputs": [
    {
     "name": "stdout",
     "output_type": "stream",
     "text": [
      "Requirement already satisfied: minet in /home/yomguithereal/.pyenv/versions/3.8.5/envs/psia/lib/python3.8/site-packages (0.60.1)\n",
      "Requirement already satisfied: ural in /home/yomguithereal/.pyenv/versions/3.8.5/envs/psia/lib/python3.8/site-packages (0.32.1)\n",
      "Requirement already satisfied: persist-queue>=0.7.0 in /home/yomguithereal/.pyenv/versions/3.8.5/envs/psia/lib/python3.8/site-packages (from minet) (0.7.0)\n",
      "Requirement already satisfied: dateparser>=1.0.0 in /home/yomguithereal/.pyenv/versions/3.8.5/envs/psia/lib/python3.8/site-packages (from minet) (1.1.1)\n",
      "Requirement already satisfied: urllib3[secure]<2,>=1.25.3 in /home/yomguithereal/.pyenv/versions/3.8.5/envs/psia/lib/python3.8/site-packages (from minet) (1.26.8)\n",
      "Requirement already satisfied: lxml>=4.3.0 in /home/yomguithereal/.pyenv/versions/3.8.5/envs/psia/lib/python3.8/site-packages (from minet) (4.8.0)\n",
      "Requirement already satisfied: keyring<19.3 in /home/yomguithereal/.pyenv/versions/3.8.5/envs/psia/lib/python3.8/site-packages (from minet) (19.2.0)\n",
      "Requirement already satisfied: cchardet>=2.1.7 in /home/yomguithereal/.pyenv/versions/3.8.5/envs/psia/lib/python3.8/site-packages (from minet) (2.1.7)\n",
      "Requirement already satisfied: tqdm>=4.60.0 in /home/yomguithereal/.pyenv/versions/3.8.5/envs/psia/lib/python3.8/site-packages (from minet) (4.63.0)\n",
      "Requirement already satisfied: json5>=0.8.5 in /home/yomguithereal/.pyenv/versions/3.8.5/envs/psia/lib/python3.8/site-packages (from minet) (0.9.6)\n",
      "Requirement already satisfied: browser-cookie3==0.13.0 in /home/yomguithereal/.pyenv/versions/3.8.5/envs/psia/lib/python3.8/site-packages (from minet) (0.13.0)\n",
      "Requirement already satisfied: pyyaml in /home/yomguithereal/.pyenv/versions/3.8.5/envs/psia/lib/python3.8/site-packages (from minet) (6.0)\n",
      "Requirement already satisfied: soupsieve>=2.1 in /home/yomguithereal/.pyenv/versions/3.8.5/envs/psia/lib/python3.8/site-packages (from minet) (2.3.2.post1)\n",
      "Requirement already satisfied: termcolor>=1.0.0 in /home/yomguithereal/.pyenv/versions/3.8.5/envs/psia/lib/python3.8/site-packages (from minet) (1.1.0)\n",
      "Requirement already satisfied: tenacity>=7.0.0 in /home/yomguithereal/.pyenv/versions/3.8.5/envs/psia/lib/python3.8/site-packages (from minet) (8.0.1)\n",
      "Requirement already satisfied: colorama>=0.4.0 in /home/yomguithereal/.pyenv/versions/3.8.5/envs/psia/lib/python3.8/site-packages (from minet) (0.4.4)\n",
      "Requirement already satisfied: ndjson>=0.3.1 in /home/yomguithereal/.pyenv/versions/3.8.5/envs/psia/lib/python3.8/site-packages (from minet) (0.3.1)\n",
      "Requirement already satisfied: twitwi<0.11,>=0.10.2 in /home/yomguithereal/.pyenv/versions/3.8.5/envs/psia/lib/python3.8/site-packages (from minet) (0.10.2)\n",
      "Requirement already satisfied: casanova<0.18,>=0.17.1 in /home/yomguithereal/.pyenv/versions/3.8.5/envs/psia/lib/python3.8/site-packages (from minet) (0.17.1)\n",
      "Requirement already satisfied: ebbe<2,>=1.3.1 in /home/yomguithereal/.pyenv/versions/3.8.5/envs/psia/lib/python3.8/site-packages (from minet) (1.8.0)\n",
      "Requirement already satisfied: beautifulsoup4>=4.7.1 in /home/yomguithereal/.pyenv/versions/3.8.5/envs/psia/lib/python3.8/site-packages (from minet) (4.11.1)\n",
      "Requirement already satisfied: trafilatura<0.10,>=0.9.1 in /home/yomguithereal/.pyenv/versions/3.8.5/envs/psia/lib/python3.8/site-packages (from minet) (0.9.3)\n",
      "Requirement already satisfied: quenouille<2,>=1.4.2 in /home/yomguithereal/.pyenv/versions/3.8.5/envs/psia/lib/python3.8/site-packages (from minet) (1.4.2)\n",
      "Requirement already satisfied: pyaes in /home/yomguithereal/.pyenv/versions/3.8.5/envs/psia/lib/python3.8/site-packages (from browser-cookie3==0.13.0->minet) (1.6.1)\n",
      "Requirement already satisfied: pbkdf2 in /home/yomguithereal/.pyenv/versions/3.8.5/envs/psia/lib/python3.8/site-packages (from browser-cookie3==0.13.0->minet) (1.3)\n",
      "Requirement already satisfied: lz4 in /home/yomguithereal/.pyenv/versions/3.8.5/envs/psia/lib/python3.8/site-packages (from browser-cookie3==0.13.0->minet) (4.0.0)\n",
      "Requirement already satisfied: pycryptodome in /home/yomguithereal/.pyenv/versions/3.8.5/envs/psia/lib/python3.8/site-packages (from browser-cookie3==0.13.0->minet) (3.14.1)\n",
      "Requirement already satisfied: SecretStorage in /home/yomguithereal/.pyenv/versions/3.8.5/envs/psia/lib/python3.8/site-packages (from browser-cookie3==0.13.0->minet) (3.3.2)\n",
      "Requirement already satisfied: pycountry<19,>=18.12.8 in /home/yomguithereal/.pyenv/versions/3.8.5/envs/psia/lib/python3.8/site-packages (from ural) (18.12.8)\n",
      "Requirement already satisfied: phylactery<0.3,>=0.2.3 in /home/yomguithereal/.pyenv/versions/3.8.5/envs/psia/lib/python3.8/site-packages (from ural) (0.2.3)\n",
      "Requirement already satisfied: tld<1,>=0.12.1 in /home/yomguithereal/.pyenv/versions/3.8.5/envs/psia/lib/python3.8/site-packages (from ural) (0.12.6)\n",
      "Requirement already satisfied: file-read-backwards<3,>=2.0.0 in /home/yomguithereal/.pyenv/versions/3.8.5/envs/psia/lib/python3.8/site-packages (from casanova<0.18,>=0.17.1->minet) (2.0.0)\n",
      "Requirement already satisfied: pytz in /home/yomguithereal/.pyenv/versions/3.8.5/envs/psia/lib/python3.8/site-packages (from dateparser>=1.0.0->minet) (2021.3)\n",
      "Requirement already satisfied: regex!=2019.02.19,!=2021.8.27,<2022.3.15 in /home/yomguithereal/.pyenv/versions/3.8.5/envs/psia/lib/python3.8/site-packages (from dateparser>=1.0.0->minet) (2022.3.2)\n",
      "Requirement already satisfied: tzlocal in /home/yomguithereal/.pyenv/versions/3.8.5/envs/psia/lib/python3.8/site-packages (from dateparser>=1.0.0->minet) (4.2)\n",
      "Requirement already satisfied: python-dateutil in /home/yomguithereal/.pyenv/versions/3.8.5/envs/psia/lib/python3.8/site-packages (from dateparser>=1.0.0->minet) (2.8.2)\n",
      "Requirement already satisfied: entrypoints in /home/yomguithereal/.pyenv/versions/3.8.5/envs/psia/lib/python3.8/site-packages (from keyring<19.3->minet) (0.4)\n",
      "Requirement already satisfied: justext>=3.0.0 in /home/yomguithereal/.pyenv/versions/3.8.5/envs/psia/lib/python3.8/site-packages (from trafilatura<0.10,>=0.9.1->minet) (3.0.0)\n",
      "Requirement already satisfied: readability-lxml>=0.8.1 in /home/yomguithereal/.pyenv/versions/3.8.5/envs/psia/lib/python3.8/site-packages (from trafilatura<0.10,>=0.9.1->minet) (0.8.1)\n",
      "Requirement already satisfied: htmldate>=0.9.1 in /home/yomguithereal/.pyenv/versions/3.8.5/envs/psia/lib/python3.8/site-packages (from trafilatura<0.10,>=0.9.1->minet) (1.2.1)\n",
      "Requirement already satisfied: charset-normalizer>=2.0.7 in /home/yomguithereal/.pyenv/versions/3.8.5/envs/psia/lib/python3.8/site-packages (from trafilatura<0.10,>=0.9.1->minet) (2.0.12)\n",
      "Requirement already satisfied: courlan>=0.4.2 in /home/yomguithereal/.pyenv/versions/3.8.5/envs/psia/lib/python3.8/site-packages (from trafilatura<0.10,>=0.9.1->minet) (0.7.1)\n",
      "Requirement already satisfied: certifi in /home/yomguithereal/.pyenv/versions/3.8.5/envs/psia/lib/python3.8/site-packages (from trafilatura<0.10,>=0.9.1->minet) (2021.10.8)\n",
      "Requirement already satisfied: twitter==2.0a0 in /home/yomguithereal/.pyenv/versions/3.8.5/envs/psia/lib/python3.8/site-packages (from twitwi<0.11,>=0.10.2->minet) (2.0a0)\n",
      "Requirement already satisfied: cryptography>=1.3.4 in /home/yomguithereal/.pyenv/versions/3.8.5/envs/psia/lib/python3.8/site-packages (from urllib3[secure]<2,>=1.25.3->minet) (36.0.2)\n",
      "Requirement already satisfied: idna>=2.0.0 in /home/yomguithereal/.pyenv/versions/3.8.5/envs/psia/lib/python3.8/site-packages (from urllib3[secure]<2,>=1.25.3->minet) (3.3)\n",
      "Requirement already satisfied: pyOpenSSL>=0.14 in /home/yomguithereal/.pyenv/versions/3.8.5/envs/psia/lib/python3.8/site-packages (from urllib3[secure]<2,>=1.25.3->minet) (22.0.0)\n",
      "Requirement already satisfied: langcodes>=3.3.0 in /home/yomguithereal/.pyenv/versions/3.8.5/envs/psia/lib/python3.8/site-packages (from courlan>=0.4.2->trafilatura<0.10,>=0.9.1->minet) (3.3.0)\n",
      "Requirement already satisfied: cffi>=1.12 in /home/yomguithereal/.pyenv/versions/3.8.5/envs/psia/lib/python3.8/site-packages (from cryptography>=1.3.4->urllib3[secure]<2,>=1.25.3->minet) (1.15.0)\n",
      "Requirement already satisfied: six>=1.5 in /home/yomguithereal/.pyenv/versions/3.8.5/envs/psia/lib/python3.8/site-packages (from python-dateutil->dateparser>=1.0.0->minet) (1.16.0)\n",
      "Requirement already satisfied: cssselect in /home/yomguithereal/.pyenv/versions/3.8.5/envs/psia/lib/python3.8/site-packages (from readability-lxml>=0.8.1->trafilatura<0.10,>=0.9.1->minet) (1.1.0)\n",
      "Requirement already satisfied: chardet in /home/yomguithereal/.pyenv/versions/3.8.5/envs/psia/lib/python3.8/site-packages (from readability-lxml>=0.8.1->trafilatura<0.10,>=0.9.1->minet) (4.0.0)\n",
      "Requirement already satisfied: jeepney>=0.6 in /home/yomguithereal/.pyenv/versions/3.8.5/envs/psia/lib/python3.8/site-packages (from SecretStorage->browser-cookie3==0.13.0->minet) (0.8.0)\n",
      "Requirement already satisfied: pytz-deprecation-shim in /home/yomguithereal/.pyenv/versions/3.8.5/envs/psia/lib/python3.8/site-packages (from tzlocal->dateparser>=1.0.0->minet) (0.1.0.post0)\n",
      "Requirement already satisfied: backports.zoneinfo in /home/yomguithereal/.pyenv/versions/3.8.5/envs/psia/lib/python3.8/site-packages (from tzlocal->dateparser>=1.0.0->minet) (0.2.1)\n",
      "Requirement already satisfied: pycparser in /home/yomguithereal/.pyenv/versions/3.8.5/envs/psia/lib/python3.8/site-packages (from cffi>=1.12->cryptography>=1.3.4->urllib3[secure]<2,>=1.25.3->minet) (2.21)\n",
      "Requirement already satisfied: tzdata in /home/yomguithereal/.pyenv/versions/3.8.5/envs/psia/lib/python3.8/site-packages (from pytz-deprecation-shim->tzlocal->dateparser>=1.0.0->minet) (2022.1)\n",
      "\u001b[33mWARNING: You are using pip version 22.0.4; however, version 22.1.1 is available.\n",
      "You should consider upgrading via the '/home/yomguithereal/.pyenv/versions/3.8.5/envs/psia/bin/python3.8 -m pip install --upgrade pip' command.\u001b[0m\u001b[33m\n",
      "\u001b[0m"
     ]
    }
   ],
   "source": [
    "# 1.\n",
    "!pip install minet ural"
   ]
  },
  {
   "cell_type": "code",
   "execution_count": 2,
   "id": "3421decc-7225-420e-ab4c-a20af21061c5",
   "metadata": {},
   "outputs": [],
   "source": [
    "# Imports\n",
    "import csv\n",
    "from minet.twitter import TwitterAPIScraper\n",
    "from statistics import mean, median, stdev\n",
    "from collections import Counter"
   ]
  },
  {
   "cell_type": "code",
   "execution_count": 3,
   "id": "25a372aa-50c1-4a81-9e87-f6f0bb927c30",
   "metadata": {},
   "outputs": [
    {
     "name": "stdout",
     "output_type": "stream",
     "text": [
      "Retrieved 100 tweets\n",
      "Retrieved 200 tweets\n",
      "Retrieved 300 tweets\n",
      "Retrieved 400 tweets\n",
      "Retrieved 500 tweets\n",
      "Retrieved 600 tweets\n",
      "Retrieved 700 tweets\n",
      "Retrieved 800 tweets\n",
      "Retrieved 900 tweets\n",
      "Retrieved 1000 tweets\n",
      "Retrieved 1100 tweets\n",
      "Retrieved 1200 tweets\n"
     ]
    },
    {
     "data": {
      "text/plain": [
       "1282"
      ]
     },
     "execution_count": 3,
     "metadata": {},
     "output_type": "execute_result"
    }
   ],
   "source": [
    "# 2.\n",
    "scraper = TwitterAPIScraper()\n",
    "\n",
    "TWEETS = []\n",
    "nb = 0\n",
    "\n",
    "for tweet in scraper.search_tweets('(blocage OR occupation) sciencespo'):\n",
    "    TWEETS.append(tweet)\n",
    "    \n",
    "    nb += 1\n",
    "    \n",
    "    # Using modulo operator to print a message every 100 tweet\n",
    "    if nb % 100 == 0:\n",
    "        print('Retrieved', nb, 'tweets')\n",
    "        \n",
    "len(TWEETS)"
   ]
  },
  {
   "cell_type": "code",
   "execution_count": 4,
   "id": "93266721-fb6d-4a1f-8113-d94035232c94",
   "metadata": {},
   "outputs": [
    {
     "data": {
      "text/plain": [
       "{'id': '1524071820466569218',\n",
       " 'local_time': '2022-05-10T17:00:12',\n",
       " 'timestamp_utc': 1652202012,\n",
       " 'text': '@marsaturanus @Antoine_pepito Précision tout de même: Quentin a 18ans, il est en L1 à sciences po. Pas forcément armé pour répondre au niveau d’un ingénieur. Ça ne justifie pas le blocage mais bon… ;)',\n",
       " 'url': 'https://twitter.com/MonlyAdam/status/1524071820466569218',\n",
       " 'quoted_id': None,\n",
       " 'quoted_user': None,\n",
       " 'quoted_user_id': None,\n",
       " 'quoted_timestamp_utc': None,\n",
       " 'retweeted_id': None,\n",
       " 'retweeted_user': None,\n",
       " 'retweeted_user_id': None,\n",
       " 'retweeted_timestamp_utc': None,\n",
       " 'media_files': [],\n",
       " 'media_types': [],\n",
       " 'media_urls': [],\n",
       " 'links': [],\n",
       " 'links_to_resolve': False,\n",
       " 'domains': [],\n",
       " 'hashtags': [],\n",
       " 'mentioned_ids': ['969903829', '740599442068373504'],\n",
       " 'mentioned_names': ['antoine_pepito', 'marsaturanus'],\n",
       " 'collection_time': '2022-05-24T15:36:50.607172',\n",
       " 'match_query': True,\n",
       " 'collected_via': ['scraping'],\n",
       " 'coordinates': None,\n",
       " 'to_tweetid': '1524049172143427585',\n",
       " 'to_username': 'marsaturanus',\n",
       " 'to_userid': '740599442068373504',\n",
       " 'lang': 'fr',\n",
       " 'retweet_count': 0,\n",
       " 'like_count': 0,\n",
       " 'reply_count': 1,\n",
       " 'user_screen_name': 'MonlyAdam',\n",
       " 'user_name': 'Adam Monly',\n",
       " 'user_friends': 307,\n",
       " 'user_followers': 260,\n",
       " 'user_location': None,\n",
       " 'user_verified': False,\n",
       " 'user_description': 'Ma mère est complotiste, mon père est franc-maçon. anarcho-taoïste, RALeur militant #LRAL #LaRépubliqueAuLit #FatiguéPride 🐢🐌',\n",
       " 'user_created_at': '2021-07-24T19:03:31',\n",
       " 'user_id': '1419010311777046535',\n",
       " 'user_tweets': 2359,\n",
       " 'user_likes': 4406,\n",
       " 'user_lists': 1,\n",
       " 'user_image': 'https://pbs.twimg.com/profile_images/1419027502605950982/ZrDtYiJf_normal.jpg',\n",
       " 'user_url': None,\n",
       " 'user_timestamp_utc': 1627153411,\n",
       " 'source_url': 'http://twitter.com/download/iphone',\n",
       " 'source_name': 'Twitter for iPhone'}"
      ]
     },
     "execution_count": 4,
     "metadata": {},
     "output_type": "execute_result"
    }
   ],
   "source": [
    "TWEETS[0]"
   ]
  },
  {
   "cell_type": "code",
   "execution_count": 5,
   "id": "795907fb-21f0-4f25-bd2d-e9fa36e28413",
   "metadata": {},
   "outputs": [
    {
     "name": "stdout",
     "output_type": "stream",
     "text": [
      "Text: 💥📣OCCUPATION EN COURS A SCIENCES PO !  \n",
      "Après l' #ENS et la #Sorbonne, c'est au tour des étudiant-es de SciencesPo à #Paris de se mobiliser. \n",
      "Ni Le Pen, ni Macron, contre la précarité, le déni écologique et la violation des droits humains, la jeunesse s'organise ! https://twitter.com/sarah_chp/status/1514499001948774403/photo/1\n",
      "User: sarah_chp\n",
      "Retweets: 357\n"
     ]
    }
   ],
   "source": [
    "# 3.\n",
    "top_tweet = max(TWEETS, key=lambda tweet: tweet['retweet_count'])\n",
    "print('Text:', top_tweet['text'])\n",
    "print('User:', top_tweet['user_screen_name'])\n",
    "print('Retweets:', top_tweet['retweet_count'])"
   ]
  },
  {
   "cell_type": "code",
   "execution_count": 6,
   "id": "7671381b-5f34-4ef8-b7e7-b338b2aa3541",
   "metadata": {},
   "outputs": [
    {
     "data": {
      "text/plain": [
       "[('sciencespo', 19),\n",
       " ('MatthDes', 18),\n",
       " ('DavidLibeau', 17),\n",
       " ('LaPeniche', 15),\n",
       " ('ubellier', 15),\n",
       " ('SieurHibou', 11),\n",
       " ('st3vK', 8),\n",
       " ('wnewspresse', 7),\n",
       " ('ActusNonStop', 6),\n",
       " ('unisciencespo', 6)]"
      ]
     },
     "execution_count": 6,
     "metadata": {},
     "output_type": "execute_result"
    }
   ],
   "source": [
    "# 4.\n",
    "top_accounts = Counter(tweet['user_screen_name'] for tweet in TWEETS)\n",
    "top_accounts.most_common(10)"
   ]
  },
  {
   "cell_type": "code",
   "execution_count": 7,
   "id": "a77669a8-4067-420a-bb5e-197d486250f6",
   "metadata": {},
   "outputs": [
    {
     "data": {
      "text/plain": [
       "[('sarah_chp', 357),\n",
       " ('Anton1Ferreira', 349),\n",
       " ('RemyBuisine', 294),\n",
       " ('LarrereMathilde', 290),\n",
       " ('sciencespo', 271),\n",
       " ('LesNews', 239),\n",
       " ('LEtudiant_Libre', 222),\n",
       " ('Valeurs', 199),\n",
       " ('InsoumisJeunes', 181),\n",
       " ('UrsusArctos92', 166)]"
      ]
     },
     "execution_count": 7,
     "metadata": {},
     "output_type": "execute_result"
    }
   ],
   "source": [
    "# 5.\n",
    "influent_accounts = Counter()\n",
    "\n",
    "for tweet in TWEETS:\n",
    "    influent_accounts[tweet['user_screen_name']] += tweet['retweet_count']\n",
    "\n",
    "influent_accounts.most_common(10)"
   ]
  },
  {
   "cell_type": "code",
   "execution_count": 8,
   "id": "2544ae51-28f7-4335-8488-59f7dbbb0cb0",
   "metadata": {},
   "outputs": [
    {
     "name": "stdout",
     "output_type": "stream",
     "text": [
      "min 1\n",
      "max 357\n",
      "mean 14.649048625792812\n",
      "median 3\n",
      "stdev 36.38721086534486\n"
     ]
    }
   ],
   "source": [
    "# 6.\n",
    "nonzero_retweets = [tweet['retweet_count'] for tweet in TWEETS if tweet['retweet_count'] != 0]\n",
    "print('min', min(nonzero_retweets))\n",
    "print('max', max(nonzero_retweets))\n",
    "print('mean', mean(nonzero_retweets))\n",
    "print('median', median(nonzero_retweets))\n",
    "print('stdev', stdev(nonzero_retweets))"
   ]
  },
  {
   "cell_type": "code",
   "execution_count": 9,
   "id": "482b2639-a072-4ddc-9f9e-8cc8a575fa75",
   "metadata": {},
   "outputs": [],
   "source": [
    "# 7.\n",
    "urls = Counter()\n",
    "\n",
    "for tweet in TWEETS:\n",
    "    for url in tweet['links']:\n",
    "        urls[url] += 1\n",
    "        \n",
    "with open('../data/urls.csv', 'w', encoding='utf-8', newline='') as f:\n",
    "    writer = csv.DictWriter(f, fieldnames=['url', 'shares'])\n",
    "    writer.writeheader()\n",
    "    \n",
    "    # NOTE: if you don't give a number to most_common, it will iterate over\n",
    "    # items in decreasing count\n",
    "    for url, shares in urls.most_common():\n",
    "        writer.writerow({'url': url, 'shares': shares})"
   ]
  },
  {
   "cell_type": "code",
   "execution_count": 10,
   "id": "458b85ec-1702-4040-b3d3-50c841e015b7",
   "metadata": {},
   "outputs": [
    {
     "data": {
      "text/plain": [
       "[('https://youtu.be/hPzR5g-sdoU', 18),\n",
       " ('http://www.lemonde.fr/enseignement-superieur/article/2013/02/27/sciences-po-occupation-d-un-amphi-contre-la-procedure-de-succession_1840022_1473692.html',\n",
       "  18),\n",
       " ('https://www.huffingtonpost.fr/2018/04/18/blocage-a-sciencespo-reconnaitrez-vous-la-replique-de-film-culte-citee-par-cet-etudiant_a_23414065/',\n",
       "  12),\n",
       " ('http://www.lemonde.fr/campus/article/2018/04/20/a-sciences-po-paris-le-blocage-etudiant-leve-apres-des-negociations_5288336_4401467.html',\n",
       "  10),\n",
       " ('https://www.ouest-france.fr/education/universites/blocage-des-universites-sciences-po-bloque-paris-et-rennes-5705238',\n",
       "  7),\n",
       " ('http://lemde.fr/13Z0Vjv', 7),\n",
       " ('http://militant.es', 6),\n",
       " ('https://www.leparisien.fr/elections/presidentielle/presidentielle-occupation-de-la-sorbonne-lens-a-paris-et-de-sciences-po-nancy-par-des-etudiants-en-colere-13-04-2022-MP76WOAVI5ANVISJ7ELSFONBGE.phpnull',\n",
       "  6),\n",
       " ('http://www.revolutionpermanente.fr/L-occupation-de-Sciences-Po-Toulouse-votee-a-une-ecrasante-majorite',\n",
       "  6),\n",
       " ('https://ift.tt/2HeHazG', 6)]"
      ]
     },
     "execution_count": 10,
     "metadata": {},
     "output_type": "execute_result"
    }
   ],
   "source": [
    "# 8.\n",
    "urls.most_common(10)"
   ]
  },
  {
   "cell_type": "code",
   "execution_count": 11,
   "id": "28cc89df-9af7-46c8-b39f-104dff495c70",
   "metadata": {},
   "outputs": [
    {
     "data": {
      "text/plain": [
       "[('sciencespo', 222),\n",
       " ('blocage', 71),\n",
       " ('nuitdebout', 58),\n",
       " ('periscope', 55),\n",
       " ('occupation', 21),\n",
       " ('paris', 21),\n",
       " ('loitravail', 19),\n",
       " ('sorbonne', 17),\n",
       " ('blocus', 16),\n",
       " ('agsciencespo', 16),\n",
       " ('rennes', 14),\n",
       " ('occupyscpo', 14),\n",
       " ('toulouse', 11),\n",
       " ('tolbiac', 9),\n",
       " ('macron', 8),\n",
       " ('occupyboutmy', 8),\n",
       " ('giletsjaunes', 7),\n",
       " ('sciencespofacoccupee', 7),\n",
       " ('agloitravail', 7),\n",
       " ('sciences', 6),\n",
       " ('nonalaselection', 6),\n",
       " ('lgophilippot', 6),\n",
       " ('étudiants', 5),\n",
       " ('unef', 5),\n",
       " ('grenoble', 5)]"
      ]
     },
     "execution_count": 11,
     "metadata": {},
     "output_type": "execute_result"
    }
   ],
   "source": [
    "# 9.\n",
    "hashtags = Counter()\n",
    "\n",
    "for tweet in TWEETS:\n",
    "    for hashtag in tweet['hashtags']:\n",
    "        hashtags[hashtag] += 1\n",
    "\n",
    "hashtags.most_common(25)"
   ]
  }
 ],
 "metadata": {
  "kernelspec": {
   "display_name": "Python 3 (ipykernel)",
   "language": "python",
   "name": "python3"
  },
  "language_info": {
   "codemirror_mode": {
    "name": "ipython",
    "version": 3
   },
   "file_extension": ".py",
   "mimetype": "text/x-python",
   "name": "python",
   "nbconvert_exporter": "python",
   "pygments_lexer": "ipython3",
   "version": "3.8.5"
  }
 },
 "nbformat": 4,
 "nbformat_minor": 5
}
