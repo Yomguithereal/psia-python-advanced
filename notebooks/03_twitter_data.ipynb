{
 "cells": [
  {
   "cell_type": "markdown",
   "id": "7b6ebc66-c371-465f-a800-09626d6328ca",
   "metadata": {},
   "source": [
    "# Retrieving and analysing Twitter data"
   ]
  },
  {
   "cell_type": "code",
   "execution_count": 79,
   "id": "19514654-18d0-448c-a0a3-f97ecfea4dac",
   "metadata": {},
   "outputs": [],
   "source": [
    "from collections import Counter"
   ]
  },
  {
   "cell_type": "code",
   "execution_count": 1,
   "id": "07e0e549-633c-443d-93d1-40f448f525b7",
   "metadata": {
    "collapsed": true,
    "jupyter": {
     "outputs_hidden": true
    },
    "tags": []
   },
   "outputs": [
    {
     "name": "stdout",
     "output_type": "stream",
     "text": [
      "Requirement already satisfied: minet in /home/yomguithereal/.pyenv/versions/3.8.5/envs/psia/lib/python3.8/site-packages (0.60.1)\n",
      "Requirement already satisfied: browser-cookie3==0.13.0 in /home/yomguithereal/.pyenv/versions/3.8.5/envs/psia/lib/python3.8/site-packages (from minet) (0.13.0)\n",
      "Requirement already satisfied: twitwi<0.11,>=0.10.2 in /home/yomguithereal/.pyenv/versions/3.8.5/envs/psia/lib/python3.8/site-packages (from minet) (0.10.2)\n",
      "Requirement already satisfied: soupsieve>=2.1 in /home/yomguithereal/.pyenv/versions/3.8.5/envs/psia/lib/python3.8/site-packages (from minet) (2.3.2.post1)\n",
      "Requirement already satisfied: termcolor>=1.0.0 in /home/yomguithereal/.pyenv/versions/3.8.5/envs/psia/lib/python3.8/site-packages (from minet) (1.1.0)\n",
      "Requirement already satisfied: ebbe<2,>=1.3.1 in /home/yomguithereal/.pyenv/versions/3.8.5/envs/psia/lib/python3.8/site-packages (from minet) (1.8.0)\n",
      "Requirement already satisfied: dateparser>=1.0.0 in /home/yomguithereal/.pyenv/versions/3.8.5/envs/psia/lib/python3.8/site-packages (from minet) (1.1.1)\n",
      "Requirement already satisfied: beautifulsoup4>=4.7.1 in /home/yomguithereal/.pyenv/versions/3.8.5/envs/psia/lib/python3.8/site-packages (from minet) (4.11.1)\n",
      "Requirement already satisfied: colorama>=0.4.0 in /home/yomguithereal/.pyenv/versions/3.8.5/envs/psia/lib/python3.8/site-packages (from minet) (0.4.4)\n",
      "Requirement already satisfied: tenacity>=7.0.0 in /home/yomguithereal/.pyenv/versions/3.8.5/envs/psia/lib/python3.8/site-packages (from minet) (8.0.1)\n",
      "Requirement already satisfied: cchardet>=2.1.7 in /home/yomguithereal/.pyenv/versions/3.8.5/envs/psia/lib/python3.8/site-packages (from minet) (2.1.7)\n",
      "Requirement already satisfied: urllib3[secure]<2,>=1.25.3 in /home/yomguithereal/.pyenv/versions/3.8.5/envs/psia/lib/python3.8/site-packages (from minet) (1.26.8)\n",
      "Requirement already satisfied: trafilatura<0.10,>=0.9.1 in /home/yomguithereal/.pyenv/versions/3.8.5/envs/psia/lib/python3.8/site-packages (from minet) (0.9.3)\n",
      "Requirement already satisfied: tqdm>=4.60.0 in /home/yomguithereal/.pyenv/versions/3.8.5/envs/psia/lib/python3.8/site-packages (from minet) (4.63.0)\n",
      "Requirement already satisfied: persist-queue>=0.7.0 in /home/yomguithereal/.pyenv/versions/3.8.5/envs/psia/lib/python3.8/site-packages (from minet) (0.7.0)\n",
      "Requirement already satisfied: pyyaml in /home/yomguithereal/.pyenv/versions/3.8.5/envs/psia/lib/python3.8/site-packages (from minet) (6.0)\n",
      "Requirement already satisfied: lxml>=4.3.0 in /home/yomguithereal/.pyenv/versions/3.8.5/envs/psia/lib/python3.8/site-packages (from minet) (4.8.0)\n",
      "Requirement already satisfied: keyring<19.3 in /home/yomguithereal/.pyenv/versions/3.8.5/envs/psia/lib/python3.8/site-packages (from minet) (19.2.0)\n",
      "Requirement already satisfied: casanova<0.18,>=0.17.1 in /home/yomguithereal/.pyenv/versions/3.8.5/envs/psia/lib/python3.8/site-packages (from minet) (0.17.1)\n",
      "Requirement already satisfied: ndjson>=0.3.1 in /home/yomguithereal/.pyenv/versions/3.8.5/envs/psia/lib/python3.8/site-packages (from minet) (0.3.1)\n",
      "Requirement already satisfied: ural<0.33,>=0.32.0 in /home/yomguithereal/.pyenv/versions/3.8.5/envs/psia/lib/python3.8/site-packages (from minet) (0.32.1)\n",
      "Requirement already satisfied: json5>=0.8.5 in /home/yomguithereal/.pyenv/versions/3.8.5/envs/psia/lib/python3.8/site-packages (from minet) (0.9.6)\n",
      "Requirement already satisfied: quenouille<2,>=1.4.2 in /home/yomguithereal/.pyenv/versions/3.8.5/envs/psia/lib/python3.8/site-packages (from minet) (1.4.2)\n",
      "Requirement already satisfied: pyaes in /home/yomguithereal/.pyenv/versions/3.8.5/envs/psia/lib/python3.8/site-packages (from browser-cookie3==0.13.0->minet) (1.6.1)\n",
      "Requirement already satisfied: pbkdf2 in /home/yomguithereal/.pyenv/versions/3.8.5/envs/psia/lib/python3.8/site-packages (from browser-cookie3==0.13.0->minet) (1.3)\n",
      "Requirement already satisfied: lz4 in /home/yomguithereal/.pyenv/versions/3.8.5/envs/psia/lib/python3.8/site-packages (from browser-cookie3==0.13.0->minet) (4.0.0)\n",
      "Requirement already satisfied: pycryptodome in /home/yomguithereal/.pyenv/versions/3.8.5/envs/psia/lib/python3.8/site-packages (from browser-cookie3==0.13.0->minet) (3.14.1)\n",
      "Requirement already satisfied: SecretStorage in /home/yomguithereal/.pyenv/versions/3.8.5/envs/psia/lib/python3.8/site-packages (from browser-cookie3==0.13.0->minet) (3.3.2)\n",
      "Requirement already satisfied: file-read-backwards<3,>=2.0.0 in /home/yomguithereal/.pyenv/versions/3.8.5/envs/psia/lib/python3.8/site-packages (from casanova<0.18,>=0.17.1->minet) (2.0.0)\n",
      "Requirement already satisfied: tzlocal in /home/yomguithereal/.pyenv/versions/3.8.5/envs/psia/lib/python3.8/site-packages (from dateparser>=1.0.0->minet) (4.2)\n",
      "Requirement already satisfied: python-dateutil in /home/yomguithereal/.pyenv/versions/3.8.5/envs/psia/lib/python3.8/site-packages (from dateparser>=1.0.0->minet) (2.8.2)\n",
      "Requirement already satisfied: regex!=2019.02.19,!=2021.8.27,<2022.3.15 in /home/yomguithereal/.pyenv/versions/3.8.5/envs/psia/lib/python3.8/site-packages (from dateparser>=1.0.0->minet) (2022.3.2)\n",
      "Requirement already satisfied: pytz in /home/yomguithereal/.pyenv/versions/3.8.5/envs/psia/lib/python3.8/site-packages (from dateparser>=1.0.0->minet) (2021.3)\n",
      "Requirement already satisfied: entrypoints in /home/yomguithereal/.pyenv/versions/3.8.5/envs/psia/lib/python3.8/site-packages (from keyring<19.3->minet) (0.4)\n",
      "Requirement already satisfied: courlan>=0.4.2 in /home/yomguithereal/.pyenv/versions/3.8.5/envs/psia/lib/python3.8/site-packages (from trafilatura<0.10,>=0.9.1->minet) (0.7.1)\n",
      "Requirement already satisfied: justext>=3.0.0 in /home/yomguithereal/.pyenv/versions/3.8.5/envs/psia/lib/python3.8/site-packages (from trafilatura<0.10,>=0.9.1->minet) (3.0.0)\n",
      "Requirement already satisfied: readability-lxml>=0.8.1 in /home/yomguithereal/.pyenv/versions/3.8.5/envs/psia/lib/python3.8/site-packages (from trafilatura<0.10,>=0.9.1->minet) (0.8.1)\n",
      "Requirement already satisfied: charset-normalizer>=2.0.7 in /home/yomguithereal/.pyenv/versions/3.8.5/envs/psia/lib/python3.8/site-packages (from trafilatura<0.10,>=0.9.1->minet) (2.0.12)\n",
      "Requirement already satisfied: htmldate>=0.9.1 in /home/yomguithereal/.pyenv/versions/3.8.5/envs/psia/lib/python3.8/site-packages (from trafilatura<0.10,>=0.9.1->minet) (1.2.1)\n",
      "Requirement already satisfied: certifi in /home/yomguithereal/.pyenv/versions/3.8.5/envs/psia/lib/python3.8/site-packages (from trafilatura<0.10,>=0.9.1->minet) (2021.10.8)\n",
      "Requirement already satisfied: twitter==2.0a0 in /home/yomguithereal/.pyenv/versions/3.8.5/envs/psia/lib/python3.8/site-packages (from twitwi<0.11,>=0.10.2->minet) (2.0a0)\n",
      "Requirement already satisfied: tld<1,>=0.12.1 in /home/yomguithereal/.pyenv/versions/3.8.5/envs/psia/lib/python3.8/site-packages (from ural<0.33,>=0.32.0->minet) (0.12.6)\n",
      "Requirement already satisfied: pycountry<19,>=18.12.8 in /home/yomguithereal/.pyenv/versions/3.8.5/envs/psia/lib/python3.8/site-packages (from ural<0.33,>=0.32.0->minet) (18.12.8)\n",
      "Requirement already satisfied: phylactery<0.3,>=0.2.3 in /home/yomguithereal/.pyenv/versions/3.8.5/envs/psia/lib/python3.8/site-packages (from ural<0.33,>=0.32.0->minet) (0.2.3)\n",
      "Requirement already satisfied: pyOpenSSL>=0.14 in /home/yomguithereal/.pyenv/versions/3.8.5/envs/psia/lib/python3.8/site-packages (from urllib3[secure]<2,>=1.25.3->minet) (22.0.0)\n",
      "Requirement already satisfied: idna>=2.0.0 in /home/yomguithereal/.pyenv/versions/3.8.5/envs/psia/lib/python3.8/site-packages (from urllib3[secure]<2,>=1.25.3->minet) (3.3)\n",
      "Requirement already satisfied: cryptography>=1.3.4 in /home/yomguithereal/.pyenv/versions/3.8.5/envs/psia/lib/python3.8/site-packages (from urllib3[secure]<2,>=1.25.3->minet) (36.0.2)\n",
      "Requirement already satisfied: langcodes>=3.3.0 in /home/yomguithereal/.pyenv/versions/3.8.5/envs/psia/lib/python3.8/site-packages (from courlan>=0.4.2->trafilatura<0.10,>=0.9.1->minet) (3.3.0)\n",
      "Requirement already satisfied: cffi>=1.12 in /home/yomguithereal/.pyenv/versions/3.8.5/envs/psia/lib/python3.8/site-packages (from cryptography>=1.3.4->urllib3[secure]<2,>=1.25.3->minet) (1.15.0)\n",
      "Requirement already satisfied: six>=1.5 in /home/yomguithereal/.pyenv/versions/3.8.5/envs/psia/lib/python3.8/site-packages (from python-dateutil->dateparser>=1.0.0->minet) (1.16.0)\n",
      "Requirement already satisfied: cssselect in /home/yomguithereal/.pyenv/versions/3.8.5/envs/psia/lib/python3.8/site-packages (from readability-lxml>=0.8.1->trafilatura<0.10,>=0.9.1->minet) (1.1.0)\n",
      "Requirement already satisfied: chardet in /home/yomguithereal/.pyenv/versions/3.8.5/envs/psia/lib/python3.8/site-packages (from readability-lxml>=0.8.1->trafilatura<0.10,>=0.9.1->minet) (4.0.0)\n",
      "Requirement already satisfied: jeepney>=0.6 in /home/yomguithereal/.pyenv/versions/3.8.5/envs/psia/lib/python3.8/site-packages (from SecretStorage->browser-cookie3==0.13.0->minet) (0.8.0)\n",
      "Requirement already satisfied: pytz-deprecation-shim in /home/yomguithereal/.pyenv/versions/3.8.5/envs/psia/lib/python3.8/site-packages (from tzlocal->dateparser>=1.0.0->minet) (0.1.0.post0)\n",
      "Requirement already satisfied: backports.zoneinfo in /home/yomguithereal/.pyenv/versions/3.8.5/envs/psia/lib/python3.8/site-packages (from tzlocal->dateparser>=1.0.0->minet) (0.2.1)\n",
      "Requirement already satisfied: pycparser in /home/yomguithereal/.pyenv/versions/3.8.5/envs/psia/lib/python3.8/site-packages (from cffi>=1.12->cryptography>=1.3.4->urllib3[secure]<2,>=1.25.3->minet) (2.21)\n",
      "Requirement already satisfied: tzdata in /home/yomguithereal/.pyenv/versions/3.8.5/envs/psia/lib/python3.8/site-packages (from pytz-deprecation-shim->tzlocal->dateparser>=1.0.0->minet) (2022.1)\n"
     ]
    }
   ],
   "source": [
    "!pip3 install minet"
   ]
  },
  {
   "cell_type": "code",
   "execution_count": 90,
   "id": "9d7b43e0-d92d-484e-9884-619b5f8dc748",
   "metadata": {},
   "outputs": [
    {
     "name": "stdout",
     "output_type": "stream",
     "text": [
      "Requirement already satisfied: ural in /home/yomguithereal/.pyenv/versions/3.8.5/envs/psia/lib/python3.8/site-packages (0.32.1)\n",
      "Requirement already satisfied: tld<1,>=0.12.1 in /home/yomguithereal/.pyenv/versions/3.8.5/envs/psia/lib/python3.8/site-packages (from ural) (0.12.6)\n",
      "Requirement already satisfied: pycountry<19,>=18.12.8 in /home/yomguithereal/.pyenv/versions/3.8.5/envs/psia/lib/python3.8/site-packages (from ural) (18.12.8)\n",
      "Requirement already satisfied: phylactery<0.3,>=0.2.3 in /home/yomguithereal/.pyenv/versions/3.8.5/envs/psia/lib/python3.8/site-packages (from ural) (0.2.3)\n"
     ]
    }
   ],
   "source": [
    "!pip3 install ural"
   ]
  },
  {
   "cell_type": "markdown",
   "id": "560b1d60-8ef0-4b8b-8135-0458d8e749cf",
   "metadata": {},
   "source": [
    "## Collecting tweets"
   ]
  },
  {
   "cell_type": "code",
   "execution_count": 3,
   "id": "0ae0a8cc-5559-472d-80dd-efd3124be6de",
   "metadata": {},
   "outputs": [],
   "source": [
    "from minet.twitter import TwitterAPIScraper"
   ]
  },
  {
   "cell_type": "code",
   "execution_count": 4,
   "id": "57ab55fd-9682-40d7-9183-8dcba64f69a4",
   "metadata": {},
   "outputs": [],
   "source": [
    "scraper = TwitterAPIScraper()"
   ]
  },
  {
   "cell_type": "code",
   "execution_count": 72,
   "id": "181379de-b1f8-4200-826f-5711a5b3bf51",
   "metadata": {},
   "outputs": [
    {
     "data": {
      "text/plain": [
       "1000"
      ]
     },
     "execution_count": 72,
     "metadata": {},
     "output_type": "execute_result"
    }
   ],
   "source": [
    "TWEETS = []\n",
    "\n",
    "for tweet in scraper.search_tweets('holiday lang:en filter:links -filter:media', limit=1000):\n",
    "    TWEETS.append(tweet)\n",
    "    \n",
    "len(TWEETS)"
   ]
  },
  {
   "cell_type": "code",
   "execution_count": 77,
   "id": "372cf180-6592-45d3-8cf8-f4214214fee8",
   "metadata": {},
   "outputs": [
    {
     "name": "stdout",
     "output_type": "stream",
     "text": [
      "id = 1517416162333757442\n",
      "local_time = 2022-04-22T08:12:59\n",
      "timestamp_utc = 1650615179\n",
      "text = Travel always makes us #smile and @HeathrowExpress just gave us another opportunity to put on our happy face... courtesy of @WavemakerUK.\n",
      "#Travel\n",
      "#holidays \n",
      "#DOOH\n",
      "https://mediashotz.co.uk/inflation-a-barrier-to-sustainable-food-shopping-quantilope/\n",
      "url = https://twitter.com/mediashotz/status/1517416162333757442\n",
      "quoted_id = None\n",
      "quoted_user = None\n",
      "quoted_user_id = None\n",
      "quoted_timestamp_utc = None\n",
      "retweeted_id = None\n",
      "retweeted_user = None\n",
      "retweeted_user_id = None\n",
      "retweeted_timestamp_utc = None\n",
      "media_files = []\n",
      "media_types = []\n",
      "media_urls = []\n",
      "links = ['https://mediashotz.co.uk/inflation-a-barrier-to-sustainable-food-shopping-quantilope/']\n",
      "links_to_resolve = True\n",
      "domains = ['mediashotz.co.uk']\n",
      "hashtags = ['dooh', 'holidays', 'smile', 'travel']\n",
      "mentioned_ids = ['20240678', '902544740058628098']\n",
      "mentioned_names = ['heathrowexpress', 'wavemakeruk']\n",
      "collection_time = 2022-04-22T10:14:03.679450\n",
      "match_query = True\n",
      "collected_via = ['scraping']\n",
      "coordinates = None\n",
      "to_tweetid = None\n",
      "to_username = None\n",
      "to_userid = None\n",
      "lang = en\n",
      "possibly_sensitive = False\n",
      "retweet_count = 0\n",
      "like_count = 0\n",
      "reply_count = 0\n",
      "user_screen_name = mediashotz\n",
      "user_name = mediashotz\n",
      "user_friends = 386\n",
      "user_followers = 487\n",
      "user_location = London\n",
      "user_verified = False\n",
      "user_description = FOLLOW US for all the latest on the ads, brands, campaigns and creative content from around the UK. \n",
      "We love the creative industries.\n",
      "user_created_at = 2019-11-07T17:22:30\n",
      "user_id = 1192492427317256192\n",
      "user_tweets = 6264\n",
      "user_likes = 494\n",
      "user_lists = 0\n",
      "user_image = https://pbs.twimg.com/profile_images/1192494008762847235/dYXvvS3Y_normal.jpg\n",
      "user_url = http://www.mediashotz.co.uk\n",
      "user_timestamp_utc = 1573147350\n",
      "source_url = https://about.twitter.com/products/tweetdeck\n",
      "source_name = TweetDeck\n"
     ]
    }
   ],
   "source": [
    "for k, v in TWEETS[1].items():\n",
    "    print(k, '=', v)"
   ]
  },
  {
   "cell_type": "markdown",
   "id": "9cbae4fd-3531-431a-9d8a-aecddf282403",
   "metadata": {},
   "source": [
    "## Analysing the set of tweeted urls"
   ]
  },
  {
   "cell_type": "code",
   "execution_count": 99,
   "id": "b0b02593-f386-4a68-9da9-c275df15c4bf",
   "metadata": {},
   "outputs": [
    {
     "data": {
      "text/plain": [
       "[('http://www.laburnumlodge.com', 26),\n",
       " ('https://tvblackbox.com.au/page/2022/04/22/explore-the-destinations-of-the-super-wealthy-on-worlds-most-luxurious-holidays/',\n",
       "  6),\n",
       " ('http://cutt.ly/OeQ4V5W', 5),\n",
       " ('https://www.telegraph.co.uk/news/2022/04/21/summer-holidays-threat-british-airways-cancels-popular-routes/',\n",
       "  4),\n",
       " ('https://portobellobookblog.com/2022/04/22/my-holiday-reading-plans/', 3),\n",
       " ('http://organicholidays.com/at/1792.htm', 3),\n",
       " ('https://distrokid.com/hyperfollow/henryadams1/holiday', 2),\n",
       " ('https://www.independentcottages.co.uk/4071', 2),\n",
       " ('https://twitter.com/i/events/1517071964015370241', 2),\n",
       " ('https://www.telegraph.co.uk/business/2022/04/22/hard-forgive-emmanuel-macron/',\n",
       "  2)]"
      ]
     },
     "execution_count": 99,
     "metadata": {},
     "output_type": "execute_result"
    }
   ],
   "source": [
    "urls = Counter()\n",
    "\n",
    "for tweet in TWEETS:\n",
    "    for link in tweet['links']:\n",
    "        urls[link] += 1\n",
    "        \n",
    "urls.most_common(10)"
   ]
  },
  {
   "cell_type": "code",
   "execution_count": 100,
   "id": "a0a9fb97-d4e2-4654-b35f-e40a820fe8f4",
   "metadata": {},
   "outputs": [
    {
     "data": {
      "text/plain": [
       "850"
      ]
     },
     "execution_count": 100,
     "metadata": {},
     "output_type": "execute_result"
    }
   ],
   "source": [
    "len(urls)"
   ]
  },
  {
   "cell_type": "code",
   "execution_count": 91,
   "id": "76724292-c6c4-4464-a294-1319cafd7df1",
   "metadata": {},
   "outputs": [],
   "source": [
    "from ural import get_domain_name, normalize_url, is_shortened_url"
   ]
  },
  {
   "cell_type": "code",
   "execution_count": 95,
   "id": "44361e20-9a4f-4039-b1e3-f0796a583882",
   "metadata": {},
   "outputs": [
    {
     "data": {
      "text/plain": [
       "('lemonde.fr', 'lemonde.fr')"
      ]
     },
     "execution_count": 95,
     "metadata": {},
     "output_type": "execute_result"
    }
   ],
   "source": [
    "normalize_url('http://www.lemonde.fr'), normalize_url('https://lemonde.fr')"
   ]
  },
  {
   "cell_type": "markdown",
   "id": "38fb138f-e8c0-435d-b961-255dc01f5d16",
   "metadata": {},
   "source": [
    "*Goals*\n",
    "\n",
    "1. Let's redo the stats with normalized urls to see what changes in the top\n",
    "2. Do those stats directly on the domain names\n",
    "3. Compute the proportion of shortened urls"
   ]
  },
  {
   "cell_type": "code",
   "execution_count": 109,
   "id": "18dde4d9-2662-40c9-920e-7eeefdae3f2d",
   "metadata": {},
   "outputs": [
    {
     "data": {
      "text/plain": [
       "[('laburnumlodge.com', 26),\n",
       " ('tvblackbox.com.au/page/2022/04/22/explore-the-destinations-of-the-super-wealthy-on-worlds-most-luxurious-holidays',\n",
       "  6),\n",
       " ('telegraph.co.uk/news/2022/04/21/summer-holidays-threat-british-airways-cancels-popular-routes',\n",
       "  5),\n",
       " ('cutt.ly/OeQ4V5W', 5),\n",
       " ('portobellobookblog.com/2022/04/22/my-holiday-reading-plans', 4),\n",
       " ('organicholidays.com/at/1792.htm', 3),\n",
       " ('thesun.co.uk/travel/18336898/summer-holidays-risk-british-airways-cancel',\n",
       "  3),\n",
       " ('distrokid.com/hyperfollow/henryadams1/holiday', 2),\n",
       " ('independentcottages.co.uk/4071', 2),\n",
       " ('twitter.com/i/events/1517071964015370241', 2)]"
      ]
     },
     "execution_count": 109,
     "metadata": {},
     "output_type": "execute_result"
    }
   ],
   "source": [
    "normalized_urls = Counter()\n",
    "\n",
    "for tweet in TWEETS:\n",
    "    for link in tweet['links']:\n",
    "        normalized_urls[normalize_url(link)] += 1\n",
    "\n",
    "normalized_urls.most_common(10)"
   ]
  },
  {
   "cell_type": "code",
   "execution_count": 102,
   "id": "b4b43e70-561a-455f-afbd-8889816f857a",
   "metadata": {},
   "outputs": [
    {
     "data": {
      "text/plain": [
       "845"
      ]
     },
     "execution_count": 102,
     "metadata": {},
     "output_type": "execute_result"
    }
   ],
   "source": [
    "len(normalized_urls)"
   ]
  },
  {
   "cell_type": "code",
   "execution_count": 107,
   "id": "e40c6290-22e3-411c-8fa0-50bd90451edd",
   "metadata": {},
   "outputs": [
    {
     "data": {
      "text/plain": [
       "[('alpes-holidays.com', 100),\n",
       " ('ebay.com', 45),\n",
       " ('bit.ly', 35),\n",
       " ('instagram.com', 34),\n",
       " ('laburnumlodge.com', 26),\n",
       " ('etsy.me', 22),\n",
       " ('twitter.com', 22),\n",
       " ('dlvr.it', 21),\n",
       " ('ift.tt', 19),\n",
       " ('visitingeu.com', 14)]"
      ]
     },
     "execution_count": 107,
     "metadata": {},
     "output_type": "execute_result"
    }
   ],
   "source": [
    "domains = Counter()\n",
    "\n",
    "for tweet in TWEETS:\n",
    "    for link in tweet['links']:\n",
    "        domains[get_domain_name(link)] += 1\n",
    "        \n",
    "domains.most_common(10)"
   ]
  },
  {
   "cell_type": "code",
   "execution_count": 111,
   "id": "d79f402f-69b9-435e-b97f-873d0769d69b",
   "metadata": {},
   "outputs": [
    {
     "data": {
      "text/plain": [
       "(919, 124, 0.13492927094668117)"
      ]
     },
     "execution_count": 111,
     "metadata": {},
     "output_type": "execute_result"
    }
   ],
   "source": [
    "total_urls_count = 0\n",
    "shortened_urls_count = 0\n",
    "\n",
    "for tweet in TWEETS:\n",
    "    for link in tweet['links']:\n",
    "        total_urls_count += 1\n",
    "        \n",
    "        if is_shortened_url(link):\n",
    "            shortened_urls_count += 1\n",
    "            \n",
    "total_urls_count, shortened_urls_count, shortened_urls_count / total_urls_count"
   ]
  }
 ],
 "metadata": {
  "kernelspec": {
   "display_name": "Python 3 (ipykernel)",
   "language": "python",
   "name": "python3"
  },
  "language_info": {
   "codemirror_mode": {
    "name": "ipython",
    "version": 3
   },
   "file_extension": ".py",
   "mimetype": "text/x-python",
   "name": "python",
   "nbconvert_exporter": "python",
   "pygments_lexer": "ipython3",
   "version": "3.8.5"
  }
 },
 "nbformat": 4,
 "nbformat_minor": 5
}
