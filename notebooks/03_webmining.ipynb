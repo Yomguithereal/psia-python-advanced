{
 "cells": [
  {
   "cell_type": "markdown",
   "id": "34a199cb-0526-4726-8924-72d67d0597dc",
   "metadata": {},
   "source": [
    "# Webmining"
   ]
  },
  {
   "cell_type": "code",
   "execution_count": 1,
   "id": "7152edc2-fdcc-4504-807c-7547c5d1216e",
   "metadata": {
    "tags": []
   },
   "outputs": [
    {
     "name": "stdout",
     "output_type": "stream",
     "text": [
      "Requirement already satisfied: requests in /home/yomguithereal/.pyenv/versions/3.7.16/envs/psia-python-advanced/lib/python3.7/site-packages (2.28.2)\n",
      "Requirement already satisfied: beautifulsoup4 in /home/yomguithereal/.pyenv/versions/3.7.16/envs/psia-python-advanced/lib/python3.7/site-packages (4.11.2)\n",
      "Requirement already satisfied: certifi>=2017.4.17 in /home/yomguithereal/.pyenv/versions/3.7.16/envs/psia-python-advanced/lib/python3.7/site-packages (from requests) (2022.12.7)\n",
      "Requirement already satisfied: idna<4,>=2.5 in /home/yomguithereal/.pyenv/versions/3.7.16/envs/psia-python-advanced/lib/python3.7/site-packages (from requests) (3.4)\n",
      "Requirement already satisfied: charset-normalizer<4,>=2 in /home/yomguithereal/.pyenv/versions/3.7.16/envs/psia-python-advanced/lib/python3.7/site-packages (from requests) (3.1.0)\n",
      "Requirement already satisfied: urllib3<1.27,>=1.21.1 in /home/yomguithereal/.pyenv/versions/3.7.16/envs/psia-python-advanced/lib/python3.7/site-packages (from requests) (1.26.15)\n",
      "Requirement already satisfied: soupsieve>1.2 in /home/yomguithereal/.pyenv/versions/3.7.16/envs/psia-python-advanced/lib/python3.7/site-packages (from beautifulsoup4) (2.4)\n"
     ]
    }
   ],
   "source": [
    "!pip install requests beautifulsoup4"
   ]
  },
  {
   "cell_type": "markdown",
   "id": "9fa13de3-109f-4c56-8def-9ae29dfe6051",
   "metadata": {},
   "source": [
    "## Using the IMF API\n",
    "\n",
    "API docs: https://www.imf.org/external/datamapper/api/help"
   ]
  },
  {
   "cell_type": "code",
   "execution_count": 24,
   "id": "4f57fabe-52c4-4a4f-996f-556aff9f476d",
   "metadata": {
    "tags": []
   },
   "outputs": [],
   "source": [
    "import requests\n",
    "import csv\n",
    "import json\n",
    "import time\n",
    "from bs4 import BeautifulSoup"
   ]
  },
  {
   "cell_type": "code",
   "execution_count": 3,
   "id": "606cd609-fb05-466c-97a0-687d216e3744",
   "metadata": {
    "tags": []
   },
   "outputs": [
    {
     "data": {
      "text/plain": [
       "200"
      ]
     },
     "execution_count": 3,
     "metadata": {},
     "output_type": "execute_result"
    }
   ],
   "source": [
    "# First step: getting the list of indicators\n",
    "response = requests.get('https://www.imf.org/external/datamapper/api/v1/indicators')\n",
    "response.status_code"
   ]
  },
  {
   "cell_type": "code",
   "execution_count": 4,
   "id": "c1525436-e18f-4deb-893f-9fac0ccd9868",
   "metadata": {
    "tags": []
   },
   "outputs": [],
   "source": [
    "indicators_data = response.json()"
   ]
  },
  {
   "cell_type": "code",
   "execution_count": 5,
   "id": "e275faea-f2c5-409d-8815-05ab71a4df21",
   "metadata": {
    "tags": []
   },
   "outputs": [
    {
     "data": {
      "text/plain": [
       "127"
      ]
     },
     "execution_count": 5,
     "metadata": {},
     "output_type": "execute_result"
    }
   ],
   "source": [
    "INDICATORS = []\n",
    "\n",
    "for indicator_key, indicator_metadata in indicators_data['indicators'].items():\n",
    "    if not indicator_key:\n",
    "        continue\n",
    "        \n",
    "    INDICATORS.append((indicator_key, indicator_metadata['label']))\n",
    "    \n",
    "len(INDICATORS)"
   ]
  },
  {
   "cell_type": "code",
   "execution_count": 6,
   "id": "9a3f07c0-9d58-4ef7-9b6f-cc0272f7f00a",
   "metadata": {},
   "outputs": [
    {
     "data": {
      "text/plain": [
       "('NGDP_RPCH', 'Real GDP growth')"
      ]
     },
     "execution_count": 6,
     "metadata": {},
     "output_type": "execute_result"
    }
   ],
   "source": [
    "INDICATORS[0]"
   ]
  },
  {
   "cell_type": "code",
   "execution_count": 7,
   "id": "6aecb20e-986b-43e2-8737-4cd32fd24f7e",
   "metadata": {
    "tags": []
   },
   "outputs": [],
   "source": [
    "BASE_URL = 'https://www.imf.org/external/datamapper/api/v1'\n",
    "\n",
    "def retrieve_indicator_for_country(indicator, country):\n",
    "    url = '{base_url}/{indicator}/{country}'.format(base_url=BASE_URL, indicator=indicator, country=country)\n",
    "    r = requests.get(url)\n",
    "    data = r.json()\n",
    "    return data['values'][indicator][country]"
   ]
  },
  {
   "cell_type": "code",
   "execution_count": 8,
   "id": "8a1afddf-6275-4e23-86a1-a5158f6e6162",
   "metadata": {
    "tags": []
   },
   "outputs": [
    {
     "data": {
      "text/plain": [
       "{'1980': 4.9,\n",
       " '1981': 3.9,\n",
       " '1982': 1.2,\n",
       " '1983': -2.8,\n",
       " '1984': 4.2,\n",
       " '1985': 4.4,\n",
       " '1986': 3.1,\n",
       " '1987': -6,\n",
       " '1988': 10.5,\n",
       " '1989': 0.3,\n",
       " '1990': 3,\n",
       " '1991': 5.1,\n",
       " '1992': 3.6,\n",
       " '1993': 2,\n",
       " '1994': 4.3,\n",
       " '1995': 2.3,\n",
       " '1996': 1.7,\n",
       " '1997': 4.3,\n",
       " '1998': 3.3,\n",
       " '1999': -4.7,\n",
       " '2000': 1.1,\n",
       " '2001': 4,\n",
       " '2002': 4.1,\n",
       " '2003': 2.7,\n",
       " '2004': 8.2,\n",
       " '2005': 5.3,\n",
       " '2006': 4.4,\n",
       " '2007': 2.2,\n",
       " '2008': 6.4,\n",
       " '2009': 0.6,\n",
       " '2010': 3.5,\n",
       " '2011': 7.9,\n",
       " '2012': 5.6,\n",
       " '2013': 4.9,\n",
       " '2014': 3.8,\n",
       " '2015': 0.1,\n",
       " '2016': -1.2,\n",
       " '2017': 2.4,\n",
       " '2018': 1.3,\n",
       " '2019': 0,\n",
       " '2020': -7.8,\n",
       " '2021': 4.2,\n",
       " '2022': 3,\n",
       " '2023': 2.9,\n",
       " '2024': 2.8,\n",
       " '2025': 2.8,\n",
       " '2026': 2.8,\n",
       " '2027': 2.8,\n",
       " '2028': 2.8}"
      ]
     },
     "execution_count": 8,
     "metadata": {},
     "output_type": "execute_result"
    }
   ],
   "source": [
    "retrieve_indicator_for_country('NGDP_RPCH', 'ECU')"
   ]
  },
  {
   "cell_type": "code",
   "execution_count": 9,
   "id": "259952aa-0d04-4048-9e36-4ffb1089d07e",
   "metadata": {
    "tags": []
   },
   "outputs": [
    {
     "name": "stdout",
     "output_type": "stream",
     "text": [
      "Retrieving NGDP_RPCH\n",
      "Retrieving NGDPD\n",
      "Retrieving NGDPDPC\n",
      "Retrieving PPPGDP\n",
      "Retrieving PPPPC\n"
     ]
    }
   ],
   "source": [
    "with open('imf.csv', 'w', encoding='utf-8') as f:\n",
    "    writer = csv.DictWriter(f, fieldnames=['country', 'indicator', 'year', 'value'])\n",
    "    writer.writeheader()\n",
    "\n",
    "    for indicator_name, indicator_label in INDICATORS[:5]:\n",
    "        print('Retrieving', indicator_name)\n",
    "        \n",
    "        data = retrieve_indicator_for_country(indicator_name, 'ECU')\n",
    "        \n",
    "        for year, value in data.items():\n",
    "            writer.writerow({'year': year, 'value': value, 'country': 'ECU', 'indicator': indicator_name})\n",
    "\n",
    "        time.sleep(2)"
   ]
  },
  {
   "cell_type": "code",
   "execution_count": null,
   "id": "d85d65dc-5cbb-41fe-bb21-9d0ca35d0cae",
   "metadata": {},
   "outputs": [],
   "source": []
  },
  {
   "cell_type": "markdown",
   "id": "17ca6672-14c9-472f-8f28-7060e26c4b93",
   "metadata": {},
   "source": [
    "## Scraping EchoJS"
   ]
  },
  {
   "cell_type": "code",
   "execution_count": 11,
   "id": "991eebdd-cde1-444e-aa7c-94530bdea1bf",
   "metadata": {
    "tags": []
   },
   "outputs": [],
   "source": [
    "response = requests.get('https://www.echojs.com/')"
   ]
  },
  {
   "cell_type": "code",
   "execution_count": 13,
   "id": "50a01c0a-8af2-4ceb-86a9-7eb9c7a71be2",
   "metadata": {
    "tags": []
   },
   "outputs": [],
   "source": [
    "soup = BeautifulSoup(response.text)"
   ]
  },
  {
   "cell_type": "code",
   "execution_count": 14,
   "id": "46c72869-2e02-4456-9d35-9ecb7cdc4060",
   "metadata": {
    "tags": []
   },
   "outputs": [
    {
     "data": {
      "text/plain": [
       "bs4.BeautifulSoup"
      ]
     },
     "execution_count": 14,
     "metadata": {},
     "output_type": "execute_result"
    }
   ],
   "source": [
    "type(soup)"
   ]
  },
  {
   "cell_type": "code",
   "execution_count": 17,
   "id": "1a039908-2180-4cc7-8f4e-6eccf23d33e3",
   "metadata": {
    "tags": []
   },
   "outputs": [
    {
     "data": {
      "text/plain": [
       "30"
      ]
     },
     "execution_count": 17,
     "metadata": {},
     "output_type": "execute_result"
    }
   ],
   "source": [
    "articles = soup.select('#newslist article')\n",
    "len(articles)"
   ]
  },
  {
   "cell_type": "code",
   "execution_count": 18,
   "id": "63d46af0-6d62-4891-93d6-8cdd10c4c530",
   "metadata": {
    "tags": []
   },
   "outputs": [
    {
     "data": {
      "text/plain": [
       "<article data-news-id=\"41680\"><a class=\"uparrow\" href=\"#up\">▲</a> <h2><a href=\"https://github.com/Exact-Realty/routemate\" rel=\"nofollow\">Routemate: Simple Multi-Runtime JS Router</a></h2> <address>at github.com</address><a class=\"downarrow\" href=\"#down\">▼</a><p><span class=\"upvotes\">1</span> up and <span class=\"downvotes\">0</span> down, posted by <username><a href=\"/user/tinnyste\">tinnyste</a></username> 8 hours ago <a href=\"/news/41680\">discuss</a></p></article>"
      ]
     },
     "execution_count": 18,
     "metadata": {},
     "output_type": "execute_result"
    }
   ],
   "source": [
    "articles[0]"
   ]
  },
  {
   "cell_type": "code",
   "execution_count": 22,
   "id": "ececdfd2-cd23-4ad0-92a8-2ada95f16482",
   "metadata": {
    "tags": []
   },
   "outputs": [
    {
     "data": {
      "text/plain": [
       "30"
      ]
     },
     "execution_count": 22,
     "metadata": {},
     "output_type": "execute_result"
    }
   ],
   "source": [
    "scraped_data = []\n",
    "\n",
    "for article in articles:\n",
    "    link = article.select_one('h2 > a')\n",
    "    title = link.get_text().strip()\n",
    "    url = link.get('href')\n",
    "    \n",
    "    data = {'title': title, 'url': url}\n",
    "    \n",
    "    # NOTE: same thing as this\n",
    "    data = {}\n",
    "    data['title'] = title\n",
    "    data['url'] = url\n",
    "    \n",
    "    scraped_data.append(data)\n",
    "    \n",
    "len(scraped_data)"
   ]
  },
  {
   "cell_type": "code",
   "execution_count": 23,
   "id": "d87bee6a-0338-4876-b9c0-a80b9c9d7b2e",
   "metadata": {
    "tags": []
   },
   "outputs": [
    {
     "data": {
      "text/plain": [
       "{'title': 'Routemate: Simple Multi-Runtime JS Router',\n",
       " 'url': 'https://github.com/Exact-Realty/routemate'}"
      ]
     },
     "execution_count": 23,
     "metadata": {},
     "output_type": "execute_result"
    }
   ],
   "source": [
    "scraped_data[0]"
   ]
  },
  {
   "cell_type": "code",
   "execution_count": 26,
   "id": "010eb4a4-b582-4765-b3b3-55552445a696",
   "metadata": {
    "tags": []
   },
   "outputs": [],
   "source": [
    "with open('scraped.json', 'w', encoding='utf-8') as f:\n",
    "    json.dump(scraped_data, f, indent=2)"
   ]
  },
  {
   "cell_type": "markdown",
   "id": "49824055-c667-4d52-a25c-96dcf45c3887",
   "metadata": {},
   "source": [
    "## Scraping Angular 2 HN?\n",
    "\n",
    "`li.post` seems to be a good selector.\n",
    "\n",
    "[https://angular2-hn.firebaseapp.com/news/1](https://angular2-hn.firebaseapp.com/news/1)"
   ]
  },
  {
   "cell_type": "code",
   "execution_count": 27,
   "id": "49c87175-137f-4e11-b94d-ac61d8e33f0d",
   "metadata": {
    "tags": []
   },
   "outputs": [],
   "source": [
    "response = requests.get('https://node-hnapi.herokuapp.com/news?page=1')"
   ]
  },
  {
   "cell_type": "code",
   "execution_count": 29,
   "id": "1cad0caa-5119-4954-935d-4d48e1fcbd8c",
   "metadata": {
    "tags": []
   },
   "outputs": [],
   "source": [
    "with open('data.json', 'w', encoding='utf-8') as f:\n",
    "    f.write(response.text)"
   ]
  }
 ],
 "metadata": {
  "kernelspec": {
   "display_name": "Python 3 (ipykernel)",
   "language": "python",
   "name": "python3"
  },
  "language_info": {
   "codemirror_mode": {
    "name": "ipython",
    "version": 3
   },
   "file_extension": ".py",
   "mimetype": "text/x-python",
   "name": "python",
   "nbconvert_exporter": "python",
   "pygments_lexer": "ipython3",
   "version": "3.7.16"
  }
 },
 "nbformat": 4,
 "nbformat_minor": 5
}
