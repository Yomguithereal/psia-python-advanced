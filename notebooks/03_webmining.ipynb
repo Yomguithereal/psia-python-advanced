{
 "cells": [
  {
   "cell_type": "markdown",
   "id": "34a199cb-0526-4726-8924-72d67d0597dc",
   "metadata": {},
   "source": [
    "# Webmining"
   ]
  },
  {
   "cell_type": "code",
   "execution_count": 1,
   "id": "7152edc2-fdcc-4504-807c-7547c5d1216e",
   "metadata": {
    "collapsed": true,
    "jupyter": {
     "outputs_hidden": true
    },
    "tags": []
   },
   "outputs": [
    {
     "name": "stdout",
     "output_type": "stream",
     "text": [
      "Requirement already satisfied: requests in /home/yomguithereal/.pyenv/versions/3.7.16/envs/psia-python-advanced/lib/python3.7/site-packages (2.28.2)\n",
      "Requirement already satisfied: beautifulsoup4 in /home/yomguithereal/.pyenv/versions/3.7.16/envs/psia-python-advanced/lib/python3.7/site-packages (4.11.2)\n",
      "Requirement already satisfied: charset-normalizer<4,>=2 in /home/yomguithereal/.pyenv/versions/3.7.16/envs/psia-python-advanced/lib/python3.7/site-packages (from requests) (3.1.0)\n",
      "Requirement already satisfied: urllib3<1.27,>=1.21.1 in /home/yomguithereal/.pyenv/versions/3.7.16/envs/psia-python-advanced/lib/python3.7/site-packages (from requests) (1.26.15)\n",
      "Requirement already satisfied: idna<4,>=2.5 in /home/yomguithereal/.pyenv/versions/3.7.16/envs/psia-python-advanced/lib/python3.7/site-packages (from requests) (3.4)\n",
      "Requirement already satisfied: certifi>=2017.4.17 in /home/yomguithereal/.pyenv/versions/3.7.16/envs/psia-python-advanced/lib/python3.7/site-packages (from requests) (2022.12.7)\n",
      "Requirement already satisfied: soupsieve>1.2 in /home/yomguithereal/.pyenv/versions/3.7.16/envs/psia-python-advanced/lib/python3.7/site-packages (from beautifulsoup4) (2.4)\n"
     ]
    }
   ],
   "source": [
    "!pip install requests beautifulsoup4"
   ]
  },
  {
   "cell_type": "markdown",
   "id": "9fa13de3-109f-4c56-8def-9ae29dfe6051",
   "metadata": {},
   "source": [
    "## Using the IMF API\n",
    "\n",
    "API docs: https://www.imf.org/external/datamapper/api/help"
   ]
  },
  {
   "cell_type": "code",
   "execution_count": 19,
   "id": "4f57fabe-52c4-4a4f-996f-556aff9f476d",
   "metadata": {
    "tags": []
   },
   "outputs": [],
   "source": [
    "import requests\n",
    "import csv\n",
    "import time"
   ]
  },
  {
   "cell_type": "code",
   "execution_count": 5,
   "id": "606cd609-fb05-466c-97a0-687d216e3744",
   "metadata": {
    "tags": []
   },
   "outputs": [
    {
     "data": {
      "text/plain": [
       "200"
      ]
     },
     "execution_count": 5,
     "metadata": {},
     "output_type": "execute_result"
    }
   ],
   "source": [
    "# First step: getting the list of indicators\n",
    "response = requests.get('https://www.imf.org/external/datamapper/api/v1/indicators')\n",
    "response.status_code"
   ]
  },
  {
   "cell_type": "code",
   "execution_count": 7,
   "id": "c1525436-e18f-4deb-893f-9fac0ccd9868",
   "metadata": {
    "tags": []
   },
   "outputs": [],
   "source": [
    "indicators_data = response.json()"
   ]
  },
  {
   "cell_type": "code",
   "execution_count": 12,
   "id": "e275faea-f2c5-409d-8815-05ab71a4df21",
   "metadata": {
    "tags": []
   },
   "outputs": [
    {
     "data": {
      "text/plain": [
       "127"
      ]
     },
     "execution_count": 12,
     "metadata": {},
     "output_type": "execute_result"
    }
   ],
   "source": [
    "INDICATORS = []\n",
    "\n",
    "for indicator_key, indicator_metadata in indicators_data['indicators'].items():\n",
    "    if not indicator_key:\n",
    "        continue\n",
    "        \n",
    "    INDICATORS.append((indicator_key, indicator_metadata['label']))\n",
    "    \n",
    "len(INDICATORS)"
   ]
  },
  {
   "cell_type": "code",
   "execution_count": 13,
   "id": "9a3f07c0-9d58-4ef7-9b6f-cc0272f7f00a",
   "metadata": {},
   "outputs": [
    {
     "data": {
      "text/plain": [
       "('NGDP_RPCH', 'Real GDP growth')"
      ]
     },
     "execution_count": 13,
     "metadata": {},
     "output_type": "execute_result"
    }
   ],
   "source": [
    "INDICATORS[0]"
   ]
  },
  {
   "cell_type": "code",
   "execution_count": 16,
   "id": "6aecb20e-986b-43e2-8737-4cd32fd24f7e",
   "metadata": {
    "tags": []
   },
   "outputs": [],
   "source": [
    "BASE_URL = 'https://www.imf.org/external/datamapper/api/v1'\n",
    "\n",
    "def retrieve_indicator_for_country(indicator, country):\n",
    "    url = '{base_url}/{indicator}/{country}'.format(base_url=BASE_URL, indicator=indicator, country=country)\n",
    "    r = requests.get(url)\n",
    "    data = r.json()\n",
    "    return data['values'][indicator][country]"
   ]
  },
  {
   "cell_type": "code",
   "execution_count": 17,
   "id": "8a1afddf-6275-4e23-86a1-a5158f6e6162",
   "metadata": {
    "tags": []
   },
   "outputs": [
    {
     "data": {
      "text/plain": [
       "{'1980': 4.9,\n",
       " '1981': 3.9,\n",
       " '1982': 1.2,\n",
       " '1983': -2.8,\n",
       " '1984': 4.2,\n",
       " '1985': 4.4,\n",
       " '1986': 3.1,\n",
       " '1987': -6,\n",
       " '1988': 10.5,\n",
       " '1989': 0.3,\n",
       " '1990': 3,\n",
       " '1991': 5.1,\n",
       " '1992': 3.6,\n",
       " '1993': 2,\n",
       " '1994': 4.3,\n",
       " '1995': 2.3,\n",
       " '1996': 1.7,\n",
       " '1997': 4.3,\n",
       " '1998': 3.3,\n",
       " '1999': -4.7,\n",
       " '2000': 1.1,\n",
       " '2001': 4,\n",
       " '2002': 4.1,\n",
       " '2003': 2.7,\n",
       " '2004': 8.2,\n",
       " '2005': 5.3,\n",
       " '2006': 4.4,\n",
       " '2007': 2.2,\n",
       " '2008': 6.4,\n",
       " '2009': 0.6,\n",
       " '2010': 3.5,\n",
       " '2011': 7.9,\n",
       " '2012': 5.6,\n",
       " '2013': 4.9,\n",
       " '2014': 3.8,\n",
       " '2015': 0.1,\n",
       " '2016': -1.2,\n",
       " '2017': 2.4,\n",
       " '2018': 1.3,\n",
       " '2019': 0,\n",
       " '2020': -7.8,\n",
       " '2021': 4.2,\n",
       " '2022': 2.9,\n",
       " '2023': 2.7,\n",
       " '2024': 2.8,\n",
       " '2025': 2.8,\n",
       " '2026': 2.8,\n",
       " '2027': 2.8}"
      ]
     },
     "execution_count": 17,
     "metadata": {},
     "output_type": "execute_result"
    }
   ],
   "source": [
    "retrieve_indicator_for_country('NGDP_RPCH', 'ECU')"
   ]
  },
  {
   "cell_type": "code",
   "execution_count": 22,
   "id": "259952aa-0d04-4048-9e36-4ffb1089d07e",
   "metadata": {
    "tags": []
   },
   "outputs": [
    {
     "name": "stdout",
     "output_type": "stream",
     "text": [
      "Retrieving NGDP_RPCH\n",
      "Retrieving NGDPD\n",
      "Retrieving NGDPDPC\n",
      "Retrieving PPPGDP\n",
      "Retrieving PPPPC\n"
     ]
    }
   ],
   "source": [
    "with open('imf.csv', 'w', encoding='utf-8') as f:\n",
    "    writer = csv.DictWriter(f, fieldnames=['country', 'indicator', 'year', 'value'])\n",
    "    writer.writeheader()\n",
    "\n",
    "    for indicator_name, indicator_label in INDICATORS[:5]:\n",
    "        print('Retrieving', indicator_name)\n",
    "        \n",
    "        data = retrieve_indicator_for_country(indicator_name, 'ECU')\n",
    "        \n",
    "        for year, value in data.items():\n",
    "            writer.writerow({'year': year, 'value': value, 'country': 'ECU', 'indicator': indicator_name})\n",
    "\n",
    "        time.sleep(2)"
   ]
  }
 ],
 "metadata": {
  "kernelspec": {
   "display_name": "Python 3 (ipykernel)",
   "language": "python",
   "name": "python3"
  },
  "language_info": {
   "codemirror_mode": {
    "name": "ipython",
    "version": 3
   },
   "file_extension": ".py",
   "mimetype": "text/x-python",
   "name": "python",
   "nbconvert_exporter": "python",
   "pygments_lexer": "ipython3",
   "version": "3.7.16"
  }
 },
 "nbformat": 4,
 "nbformat_minor": 5
}
