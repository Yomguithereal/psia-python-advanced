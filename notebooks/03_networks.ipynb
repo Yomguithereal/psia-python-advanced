{
 "cells": [
  {
   "cell_type": "markdown",
   "id": "67c40d8e-c4c4-41cd-bb37-f426edc4980d",
   "metadata": {},
   "source": [
    "# Networks"
   ]
  },
  {
   "cell_type": "code",
   "execution_count": 1,
   "id": "02056baa-c102-468c-b002-3558050122fe",
   "metadata": {
    "collapsed": true,
    "jupyter": {
     "outputs_hidden": true
    }
   },
   "outputs": [
    {
     "name": "stdout",
     "output_type": "stream",
     "text": [
      "Requirement already satisfied: networkx in /home/yomguithereal/.pyenv/versions/3.8.16/envs/psia-python-advanced/lib/python3.8/site-packages (2.8.8)\n",
      "Requirement already satisfied: ipysigma in /home/yomguithereal/.pyenv/versions/3.8.16/envs/psia-python-advanced/lib/python3.8/site-packages (0.24.2)\n",
      "Requirement already satisfied: pelote in /home/yomguithereal/.pyenv/versions/3.8.16/envs/psia-python-advanced/lib/python3.8/site-packages (0.8.2)\n",
      "Requirement already satisfied: ipywidgets>=7.0.0 in /home/yomguithereal/.pyenv/versions/3.8.16/envs/psia-python-advanced/lib/python3.8/site-packages (from ipysigma) (8.1.2)\n",
      "Requirement already satisfied: ebbe<2,>=1.9.0 in /home/yomguithereal/.pyenv/versions/3.8.16/envs/psia-python-advanced/lib/python3.8/site-packages (from pelote) (1.13.2)\n",
      "Requirement already satisfied: pyllist in /home/yomguithereal/.pyenv/versions/3.8.16/envs/psia-python-advanced/lib/python3.8/site-packages (from pelote) (0.3)\n",
      "Requirement already satisfied: typing-extensions in /home/yomguithereal/.pyenv/versions/3.8.16/envs/psia-python-advanced/lib/python3.8/site-packages (from ebbe<2,>=1.9.0->pelote) (4.10.0)\n",
      "Requirement already satisfied: comm>=0.1.3 in /home/yomguithereal/.pyenv/versions/3.8.16/envs/psia-python-advanced/lib/python3.8/site-packages (from ipywidgets>=7.0.0->ipysigma) (0.2.1)\n",
      "Requirement already satisfied: ipython>=6.1.0 in /home/yomguithereal/.pyenv/versions/3.8.16/envs/psia-python-advanced/lib/python3.8/site-packages (from ipywidgets>=7.0.0->ipysigma) (8.12.3)\n",
      "Requirement already satisfied: traitlets>=4.3.1 in /home/yomguithereal/.pyenv/versions/3.8.16/envs/psia-python-advanced/lib/python3.8/site-packages (from ipywidgets>=7.0.0->ipysigma) (5.14.1)\n",
      "Requirement already satisfied: widgetsnbextension~=4.0.10 in /home/yomguithereal/.pyenv/versions/3.8.16/envs/psia-python-advanced/lib/python3.8/site-packages (from ipywidgets>=7.0.0->ipysigma) (4.0.10)\n",
      "Requirement already satisfied: jupyterlab-widgets~=3.0.10 in /home/yomguithereal/.pyenv/versions/3.8.16/envs/psia-python-advanced/lib/python3.8/site-packages (from ipywidgets>=7.0.0->ipysigma) (3.0.10)\n",
      "Requirement already satisfied: backcall in /home/yomguithereal/.pyenv/versions/3.8.16/envs/psia-python-advanced/lib/python3.8/site-packages (from ipython>=6.1.0->ipywidgets>=7.0.0->ipysigma) (0.2.0)\n",
      "Requirement already satisfied: decorator in /home/yomguithereal/.pyenv/versions/3.8.16/envs/psia-python-advanced/lib/python3.8/site-packages (from ipython>=6.1.0->ipywidgets>=7.0.0->ipysigma) (5.1.1)\n",
      "Requirement already satisfied: jedi>=0.16 in /home/yomguithereal/.pyenv/versions/3.8.16/envs/psia-python-advanced/lib/python3.8/site-packages (from ipython>=6.1.0->ipywidgets>=7.0.0->ipysigma) (0.19.1)\n",
      "Requirement already satisfied: matplotlib-inline in /home/yomguithereal/.pyenv/versions/3.8.16/envs/psia-python-advanced/lib/python3.8/site-packages (from ipython>=6.1.0->ipywidgets>=7.0.0->ipysigma) (0.1.6)\n",
      "Requirement already satisfied: pickleshare in /home/yomguithereal/.pyenv/versions/3.8.16/envs/psia-python-advanced/lib/python3.8/site-packages (from ipython>=6.1.0->ipywidgets>=7.0.0->ipysigma) (0.7.5)\n",
      "Requirement already satisfied: prompt-toolkit!=3.0.37,<3.1.0,>=3.0.30 in /home/yomguithereal/.pyenv/versions/3.8.16/envs/psia-python-advanced/lib/python3.8/site-packages (from ipython>=6.1.0->ipywidgets>=7.0.0->ipysigma) (3.0.43)\n",
      "Requirement already satisfied: pygments>=2.4.0 in /home/yomguithereal/.pyenv/versions/3.8.16/envs/psia-python-advanced/lib/python3.8/site-packages (from ipython>=6.1.0->ipywidgets>=7.0.0->ipysigma) (2.17.2)\n",
      "Requirement already satisfied: stack-data in /home/yomguithereal/.pyenv/versions/3.8.16/envs/psia-python-advanced/lib/python3.8/site-packages (from ipython>=6.1.0->ipywidgets>=7.0.0->ipysigma) (0.6.3)\n",
      "Requirement already satisfied: pexpect>4.3 in /home/yomguithereal/.pyenv/versions/3.8.16/envs/psia-python-advanced/lib/python3.8/site-packages (from ipython>=6.1.0->ipywidgets>=7.0.0->ipysigma) (4.9.0)\n",
      "Requirement already satisfied: parso<0.9.0,>=0.8.3 in /home/yomguithereal/.pyenv/versions/3.8.16/envs/psia-python-advanced/lib/python3.8/site-packages (from jedi>=0.16->ipython>=6.1.0->ipywidgets>=7.0.0->ipysigma) (0.8.3)\n",
      "Requirement already satisfied: ptyprocess>=0.5 in /home/yomguithereal/.pyenv/versions/3.8.16/envs/psia-python-advanced/lib/python3.8/site-packages (from pexpect>4.3->ipython>=6.1.0->ipywidgets>=7.0.0->ipysigma) (0.7.0)\n",
      "Requirement already satisfied: wcwidth in /home/yomguithereal/.pyenv/versions/3.8.16/envs/psia-python-advanced/lib/python3.8/site-packages (from prompt-toolkit!=3.0.37,<3.1.0,>=3.0.30->ipython>=6.1.0->ipywidgets>=7.0.0->ipysigma) (0.2.13)\n",
      "Requirement already satisfied: executing>=1.2.0 in /home/yomguithereal/.pyenv/versions/3.8.16/envs/psia-python-advanced/lib/python3.8/site-packages (from stack-data->ipython>=6.1.0->ipywidgets>=7.0.0->ipysigma) (2.0.1)\n",
      "Requirement already satisfied: asttokens>=2.1.0 in /home/yomguithereal/.pyenv/versions/3.8.16/envs/psia-python-advanced/lib/python3.8/site-packages (from stack-data->ipython>=6.1.0->ipywidgets>=7.0.0->ipysigma) (2.4.1)\n",
      "Requirement already satisfied: pure-eval in /home/yomguithereal/.pyenv/versions/3.8.16/envs/psia-python-advanced/lib/python3.8/site-packages (from stack-data->ipython>=6.1.0->ipywidgets>=7.0.0->ipysigma) (0.2.2)\n",
      "Requirement already satisfied: six>=1.12.0 in /home/yomguithereal/.pyenv/versions/3.8.16/envs/psia-python-advanced/lib/python3.8/site-packages (from asttokens>=2.1.0->stack-data->ipython>=6.1.0->ipywidgets>=7.0.0->ipysigma) (1.16.0)\n"
     ]
    }
   ],
   "source": [
    "!pip install networkx ipysigma pelote"
   ]
  },
  {
   "cell_type": "code",
   "execution_count": 2,
   "id": "893af8f0-00a6-4b81-b4b9-11226cfe5991",
   "metadata": {},
   "outputs": [],
   "source": [
    "import networkx as nx"
   ]
  },
  {
   "cell_type": "markdown",
   "id": "7b30c5ce-2fc8-4ed7-b1fc-315af4ef8531",
   "metadata": {},
   "source": [
    "## A basic graph"
   ]
  },
  {
   "cell_type": "code",
   "execution_count": 3,
   "id": "3f5ff2b0-7e1a-4d40-a52a-8b66b02de318",
   "metadata": {},
   "outputs": [],
   "source": [
    "graph = nx.Graph()"
   ]
  },
  {
   "cell_type": "code",
   "execution_count": 16,
   "id": "b93ed790-85dd-4653-a6da-31600e1e77aa",
   "metadata": {},
   "outputs": [],
   "source": [
    "graph.add_node('Lucy', cool=True)\n",
    "graph.add_node('John', cool=True)\n",
    "graph.add_node('Peter', cool=False)\n",
    "graph.add_node('Tony', cool=False)"
   ]
  },
  {
   "cell_type": "code",
   "execution_count": 6,
   "id": "5dc97964-aba1-4b85-a986-0688c54526a0",
   "metadata": {},
   "outputs": [
    {
     "data": {
      "text/plain": [
       "4"
      ]
     },
     "execution_count": 6,
     "metadata": {},
     "output_type": "execute_result"
    }
   ],
   "source": [
    "len(graph)"
   ]
  },
  {
   "cell_type": "code",
   "execution_count": 8,
   "id": "5951c602-73b6-41ad-8b56-7ae0c4029d41",
   "metadata": {},
   "outputs": [],
   "source": [
    "graph.add_edge('Tony', 'Peter', kind=\"BEST_FRIENDS\")\n",
    "\n",
    "for node in graph:\n",
    "    if node == 'Lucy':\n",
    "        continue\n",
    "\n",
    "    graph.add_edge('Lucy', node)"
   ]
  },
  {
   "cell_type": "code",
   "execution_count": 10,
   "id": "75310237-3928-4c01-bd77-51b0d0d4d92d",
   "metadata": {},
   "outputs": [
    {
     "data": {
      "text/plain": [
       "(4, 4)"
      ]
     },
     "execution_count": 10,
     "metadata": {},
     "output_type": "execute_result"
    }
   ],
   "source": [
    "graph.order(), graph.size()"
   ]
  },
  {
   "cell_type": "code",
   "execution_count": 11,
   "id": "8b9d974d-1c07-4fb6-ab81-cca4535370f1",
   "metadata": {},
   "outputs": [],
   "source": [
    "from ipysigma import Sigma"
   ]
  },
  {
   "cell_type": "code",
   "execution_count": 19,
   "id": "9e017b6c-9934-4006-9fbb-383b4f683135",
   "metadata": {},
   "outputs": [
    {
     "data": {
      "application/vnd.jupyter.widget-view+json": {
       "model_id": "83b772c81ded4bedb573476ff169898c",
       "version_major": 2,
       "version_minor": 0
      },
      "text/plain": [
       "Sigma(nx.Graph with 4 nodes and 4 edges)"
      ]
     },
     "execution_count": 19,
     "metadata": {},
     "output_type": "execute_result"
    }
   ],
   "source": [
    "Sigma(graph, node_size=graph.degree, node_color=\"cool\", node_color_palette={True: \"lightblue\", False: \"red\"})"
   ]
  }
 ],
 "metadata": {
  "kernelspec": {
   "display_name": "Python 3 (ipykernel)",
   "language": "python",
   "name": "python3"
  },
  "language_info": {
   "codemirror_mode": {
    "name": "ipython",
    "version": 3
   },
   "file_extension": ".py",
   "mimetype": "text/x-python",
   "name": "python",
   "nbconvert_exporter": "python",
   "pygments_lexer": "ipython3",
   "version": "3.8.16"
  }
 },
 "nbformat": 4,
 "nbformat_minor": 5
}
