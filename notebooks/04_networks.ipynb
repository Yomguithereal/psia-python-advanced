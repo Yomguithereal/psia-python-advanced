{
 "cells": [
  {
   "cell_type": "markdown",
   "id": "dd277484-7e02-4275-8ae3-06264421a14d",
   "metadata": {},
   "source": [
    "# Networks"
   ]
  },
  {
   "cell_type": "code",
   "execution_count": 1,
   "id": "7cb8fa96-1b80-4675-83c6-7a0bd1bae8ba",
   "metadata": {
    "collapsed": true,
    "jupyter": {
     "outputs_hidden": true
    },
    "tags": []
   },
   "outputs": [
    {
     "name": "stdout",
     "output_type": "stream",
     "text": [
      "Requirement already satisfied: networkx in /home/yomguithereal/.pyenv/versions/3.7.16/envs/psia-python-advanced/lib/python3.7/site-packages (2.6.3)\n",
      "Requirement already satisfied: ipysigma in /home/yomguithereal/.pyenv/versions/3.7.16/envs/psia-python-advanced/lib/python3.7/site-packages (0.24.1)\n",
      "Requirement already satisfied: ipywidgets>=7.0.0 in /home/yomguithereal/.pyenv/versions/3.7.16/envs/psia-python-advanced/lib/python3.7/site-packages (from ipysigma) (8.0.6)\n",
      "Requirement already satisfied: jupyterlab-widgets~=3.0.7 in /home/yomguithereal/.pyenv/versions/3.7.16/envs/psia-python-advanced/lib/python3.7/site-packages (from ipywidgets>=7.0.0->ipysigma) (3.0.7)\n",
      "Requirement already satisfied: ipython>=6.1.0 in /home/yomguithereal/.pyenv/versions/3.7.16/envs/psia-python-advanced/lib/python3.7/site-packages (from ipywidgets>=7.0.0->ipysigma) (7.34.0)\n",
      "Requirement already satisfied: widgetsnbextension~=4.0.7 in /home/yomguithereal/.pyenv/versions/3.7.16/envs/psia-python-advanced/lib/python3.7/site-packages (from ipywidgets>=7.0.0->ipysigma) (4.0.7)\n",
      "Requirement already satisfied: ipykernel>=4.5.1 in /home/yomguithereal/.pyenv/versions/3.7.16/envs/psia-python-advanced/lib/python3.7/site-packages (from ipywidgets>=7.0.0->ipysigma) (6.16.2)\n",
      "Requirement already satisfied: traitlets>=4.3.1 in /home/yomguithereal/.pyenv/versions/3.7.16/envs/psia-python-advanced/lib/python3.7/site-packages (from ipywidgets>=7.0.0->ipysigma) (5.9.0)\n",
      "Requirement already satisfied: debugpy>=1.0 in /home/yomguithereal/.pyenv/versions/3.7.16/envs/psia-python-advanced/lib/python3.7/site-packages (from ipykernel>=4.5.1->ipywidgets>=7.0.0->ipysigma) (1.6.6)\n",
      "Requirement already satisfied: jupyter-client>=6.1.12 in /home/yomguithereal/.pyenv/versions/3.7.16/envs/psia-python-advanced/lib/python3.7/site-packages (from ipykernel>=4.5.1->ipywidgets>=7.0.0->ipysigma) (7.4.9)\n",
      "Requirement already satisfied: nest-asyncio in /home/yomguithereal/.pyenv/versions/3.7.16/envs/psia-python-advanced/lib/python3.7/site-packages (from ipykernel>=4.5.1->ipywidgets>=7.0.0->ipysigma) (1.5.6)\n",
      "Requirement already satisfied: psutil in /home/yomguithereal/.pyenv/versions/3.7.16/envs/psia-python-advanced/lib/python3.7/site-packages (from ipykernel>=4.5.1->ipywidgets>=7.0.0->ipysigma) (5.9.4)\n",
      "Requirement already satisfied: tornado>=6.1 in /home/yomguithereal/.pyenv/versions/3.7.16/envs/psia-python-advanced/lib/python3.7/site-packages (from ipykernel>=4.5.1->ipywidgets>=7.0.0->ipysigma) (6.2)\n",
      "Requirement already satisfied: matplotlib-inline>=0.1 in /home/yomguithereal/.pyenv/versions/3.7.16/envs/psia-python-advanced/lib/python3.7/site-packages (from ipykernel>=4.5.1->ipywidgets>=7.0.0->ipysigma) (0.1.6)\n",
      "Requirement already satisfied: packaging in /home/yomguithereal/.pyenv/versions/3.7.16/envs/psia-python-advanced/lib/python3.7/site-packages (from ipykernel>=4.5.1->ipywidgets>=7.0.0->ipysigma) (23.0)\n",
      "Requirement already satisfied: pyzmq>=17 in /home/yomguithereal/.pyenv/versions/3.7.16/envs/psia-python-advanced/lib/python3.7/site-packages (from ipykernel>=4.5.1->ipywidgets>=7.0.0->ipysigma) (25.0.1)\n",
      "Requirement already satisfied: setuptools>=18.5 in /home/yomguithereal/.pyenv/versions/3.7.16/envs/psia-python-advanced/lib/python3.7/site-packages (from ipython>=6.1.0->ipywidgets>=7.0.0->ipysigma) (47.1.0)\n",
      "Requirement already satisfied: prompt-toolkit!=3.0.0,!=3.0.1,<3.1.0,>=2.0.0 in /home/yomguithereal/.pyenv/versions/3.7.16/envs/psia-python-advanced/lib/python3.7/site-packages (from ipython>=6.1.0->ipywidgets>=7.0.0->ipysigma) (3.0.38)\n",
      "Requirement already satisfied: pexpect>4.3 in /home/yomguithereal/.pyenv/versions/3.7.16/envs/psia-python-advanced/lib/python3.7/site-packages (from ipython>=6.1.0->ipywidgets>=7.0.0->ipysigma) (4.8.0)\n",
      "Requirement already satisfied: backcall in /home/yomguithereal/.pyenv/versions/3.7.16/envs/psia-python-advanced/lib/python3.7/site-packages (from ipython>=6.1.0->ipywidgets>=7.0.0->ipysigma) (0.2.0)\n",
      "Requirement already satisfied: jedi>=0.16 in /home/yomguithereal/.pyenv/versions/3.7.16/envs/psia-python-advanced/lib/python3.7/site-packages (from ipython>=6.1.0->ipywidgets>=7.0.0->ipysigma) (0.18.2)\n",
      "Requirement already satisfied: pygments in /home/yomguithereal/.pyenv/versions/3.7.16/envs/psia-python-advanced/lib/python3.7/site-packages (from ipython>=6.1.0->ipywidgets>=7.0.0->ipysigma) (2.14.0)\n",
      "Requirement already satisfied: pickleshare in /home/yomguithereal/.pyenv/versions/3.7.16/envs/psia-python-advanced/lib/python3.7/site-packages (from ipython>=6.1.0->ipywidgets>=7.0.0->ipysigma) (0.7.5)\n",
      "Requirement already satisfied: decorator in /home/yomguithereal/.pyenv/versions/3.7.16/envs/psia-python-advanced/lib/python3.7/site-packages (from ipython>=6.1.0->ipywidgets>=7.0.0->ipysigma) (5.1.1)\n",
      "Requirement already satisfied: parso<0.9.0,>=0.8.0 in /home/yomguithereal/.pyenv/versions/3.7.16/envs/psia-python-advanced/lib/python3.7/site-packages (from jedi>=0.16->ipython>=6.1.0->ipywidgets>=7.0.0->ipysigma) (0.8.3)\n",
      "Requirement already satisfied: entrypoints in /home/yomguithereal/.pyenv/versions/3.7.16/envs/psia-python-advanced/lib/python3.7/site-packages (from jupyter-client>=6.1.12->ipykernel>=4.5.1->ipywidgets>=7.0.0->ipysigma) (0.4)\n",
      "Requirement already satisfied: python-dateutil>=2.8.2 in /home/yomguithereal/.pyenv/versions/3.7.16/envs/psia-python-advanced/lib/python3.7/site-packages (from jupyter-client>=6.1.12->ipykernel>=4.5.1->ipywidgets>=7.0.0->ipysigma) (2.8.2)\n",
      "Requirement already satisfied: jupyter-core>=4.9.2 in /home/yomguithereal/.pyenv/versions/3.7.16/envs/psia-python-advanced/lib/python3.7/site-packages (from jupyter-client>=6.1.12->ipykernel>=4.5.1->ipywidgets>=7.0.0->ipysigma) (4.12.0)\n",
      "Requirement already satisfied: ptyprocess>=0.5 in /home/yomguithereal/.pyenv/versions/3.7.16/envs/psia-python-advanced/lib/python3.7/site-packages (from pexpect>4.3->ipython>=6.1.0->ipywidgets>=7.0.0->ipysigma) (0.7.0)\n",
      "Requirement already satisfied: wcwidth in /home/yomguithereal/.pyenv/versions/3.7.16/envs/psia-python-advanced/lib/python3.7/site-packages (from prompt-toolkit!=3.0.0,!=3.0.1,<3.1.0,>=2.0.0->ipython>=6.1.0->ipywidgets>=7.0.0->ipysigma) (0.2.6)\n",
      "Requirement already satisfied: six>=1.5 in /home/yomguithereal/.pyenv/versions/3.7.16/envs/psia-python-advanced/lib/python3.7/site-packages (from python-dateutil>=2.8.2->jupyter-client>=6.1.12->ipykernel>=4.5.1->ipywidgets>=7.0.0->ipysigma) (1.16.0)\n"
     ]
    }
   ],
   "source": [
    "!pip install networkx ipysigma"
   ]
  },
  {
   "cell_type": "code",
   "execution_count": 2,
   "id": "2684fa5c-453f-4f1d-bf93-354b16886f42",
   "metadata": {
    "tags": []
   },
   "outputs": [],
   "source": [
    "import networkx as nx\n",
    "from ipysigma import Sigma"
   ]
  },
  {
   "cell_type": "code",
   "execution_count": 3,
   "id": "85a3654e-dd28-4ce2-a88d-a29d3dc921c6",
   "metadata": {
    "tags": []
   },
   "outputs": [
    {
     "data": {
      "application/vnd.jupyter.widget-view+json": {
       "model_id": "291ee63c847c4b1582d4b4e7352ef7ee",
       "version_major": 2,
       "version_minor": 0
      },
      "text/plain": [
       "Sigma(nx.Graph with 34 nodes and 78 edges)"
      ]
     },
     "execution_count": 3,
     "metadata": {},
     "output_type": "execute_result"
    }
   ],
   "source": [
    "Sigma(nx.karate_club_graph())"
   ]
  },
  {
   "cell_type": "markdown",
   "id": "91e83ff4-0b9d-4b2e-bf6d-a641c0793b74",
   "metadata": {},
   "source": [
    "## Learning how to create a graph\n",
    "\n",
    "https://networkx.org/"
   ]
  },
  {
   "cell_type": "code",
   "execution_count": 5,
   "id": "b4922ede-b58b-48ff-a663-da8d18857711",
   "metadata": {
    "tags": []
   },
   "outputs": [
    {
     "data": {
      "text/plain": [
       "networkx.classes.graph.Graph"
      ]
     },
     "execution_count": 5,
     "metadata": {},
     "output_type": "execute_result"
    }
   ],
   "source": [
    "graph = nx.Graph()\n",
    "type(graph)"
   ]
  },
  {
   "cell_type": "code",
   "execution_count": 6,
   "id": "0ae712f6-9ffc-4df1-9584-cbe4b9059738",
   "metadata": {
    "tags": []
   },
   "outputs": [],
   "source": [
    "graph.add_node('one')"
   ]
  },
  {
   "cell_type": "code",
   "execution_count": 7,
   "id": "4a89079e-eb32-4b1a-8c8a-fe2ef0b4ec8d",
   "metadata": {
    "tags": []
   },
   "outputs": [
    {
     "data": {
      "text/plain": [
       "1"
      ]
     },
     "execution_count": 7,
     "metadata": {},
     "output_type": "execute_result"
    }
   ],
   "source": [
    "len(graph)"
   ]
  },
  {
   "cell_type": "code",
   "execution_count": 8,
   "id": "2534c371-e8ba-47c1-8756-a2944a95602f",
   "metadata": {
    "tags": []
   },
   "outputs": [],
   "source": [
    "graph.add_node('two')\n",
    "graph.add_node('three')"
   ]
  },
  {
   "cell_type": "code",
   "execution_count": 9,
   "id": "2d3d4ea4-0594-48a2-8c40-c9a17eaa3d16",
   "metadata": {
    "tags": []
   },
   "outputs": [
    {
     "data": {
      "text/plain": [
       "3"
      ]
     },
     "execution_count": 9,
     "metadata": {},
     "output_type": "execute_result"
    }
   ],
   "source": [
    "len(graph)"
   ]
  },
  {
   "cell_type": "code",
   "execution_count": 10,
   "id": "13931791-1098-4fb2-9e72-bae388d8862d",
   "metadata": {
    "tags": []
   },
   "outputs": [],
   "source": [
    "graph.add_edge('one', 'two')"
   ]
  },
  {
   "cell_type": "code",
   "execution_count": 11,
   "id": "fa559f79-4d36-4eb4-86c1-aee41ea4f12d",
   "metadata": {
    "tags": []
   },
   "outputs": [
    {
     "data": {
      "text/plain": [
       "(3, 1)"
      ]
     },
     "execution_count": 11,
     "metadata": {},
     "output_type": "execute_result"
    }
   ],
   "source": [
    "graph.order(), graph.size()"
   ]
  },
  {
   "cell_type": "code",
   "execution_count": 12,
   "id": "90c84085-9d9b-4f64-8bc9-489674ad2b77",
   "metadata": {
    "tags": []
   },
   "outputs": [],
   "source": [
    "graph.add_edge('two', 'three')"
   ]
  },
  {
   "cell_type": "code",
   "execution_count": 14,
   "id": "9c852598-ab32-47c4-9a22-9240bb82ee8b",
   "metadata": {
    "collapsed": true,
    "jupyter": {
     "outputs_hidden": true
    },
    "tags": []
   },
   "outputs": [
    {
     "data": {
      "application/vnd.jupyter.widget-view+json": {
       "model_id": "aecb38e26cdd41d6be1b6657d419b8f7",
       "version_major": 2,
       "version_minor": 0
      },
      "text/plain": [
       "Sigma(nx.Graph with 3 nodes and 2 edges)"
      ]
     },
     "execution_count": 14,
     "metadata": {},
     "output_type": "execute_result"
    }
   ],
   "source": [
    "Sigma(graph)"
   ]
  },
  {
   "cell_type": "code",
   "execution_count": 15,
   "id": "d0e33e1b-1b4c-41be-b969-58d6e2c105f2",
   "metadata": {
    "tags": []
   },
   "outputs": [],
   "source": [
    "graph.add_node('four', color='red')"
   ]
  },
  {
   "cell_type": "code",
   "execution_count": 16,
   "id": "d8722366-f33e-4699-8644-645d98235d66",
   "metadata": {
    "tags": []
   },
   "outputs": [
    {
     "name": "stdout",
     "output_type": "stream",
     "text": [
      "one\n",
      "two\n",
      "three\n",
      "four\n"
     ]
    }
   ],
   "source": [
    "# Iterating over nodes\n",
    "for node in graph:\n",
    "    print(node)"
   ]
  },
  {
   "cell_type": "code",
   "execution_count": 18,
   "id": "ef624d55-4577-44b1-bc5e-a21df32f0a2c",
   "metadata": {
    "tags": []
   },
   "outputs": [
    {
     "name": "stdout",
     "output_type": "stream",
     "text": [
      "one {}\n",
      "two {}\n",
      "three {}\n",
      "four {'color': 'red'}\n"
     ]
    }
   ],
   "source": [
    "# Iterating over nodes with attributes\n",
    "for node, attributes in graph.nodes.data():\n",
    "    print(node, attributes)"
   ]
  },
  {
   "cell_type": "code",
   "execution_count": 19,
   "id": "e7ba937b-49e3-48c6-918f-64e34a080cad",
   "metadata": {
    "tags": []
   },
   "outputs": [
    {
     "name": "stdout",
     "output_type": "stream",
     "text": [
      "one two\n",
      "two three\n"
     ]
    }
   ],
   "source": [
    "# Iterate over edges\n",
    "for source, target in graph.edges:\n",
    "    print(source, target)"
   ]
  },
  {
   "cell_type": "code",
   "execution_count": 20,
   "id": "7dbbec89-566e-4606-b910-8473706c683e",
   "metadata": {
    "tags": []
   },
   "outputs": [
    {
     "name": "stdout",
     "output_type": "stream",
     "text": [
      "one two {}\n",
      "two three {}\n"
     ]
    }
   ],
   "source": [
    "# Iterate over edges with attributes\n",
    "for source, target, attributes in graph.edges.data():\n",
    "    print(source, target, attributes)"
   ]
  },
  {
   "cell_type": "code",
   "execution_count": 21,
   "id": "f2a4609b-45ad-484f-9d1e-2e7f707bb4de",
   "metadata": {
    "tags": []
   },
   "outputs": [
    {
     "data": {
      "text/plain": [
       "False"
      ]
     },
     "execution_count": 21,
     "metadata": {},
     "output_type": "execute_result"
    }
   ],
   "source": [
    "'five' in graph"
   ]
  },
  {
   "cell_type": "code",
   "execution_count": 23,
   "id": "3fd86ef4-be0d-448d-9b40-99095bc66058",
   "metadata": {
    "tags": []
   },
   "outputs": [
    {
     "data": {
      "text/plain": [
       "(True, True)"
      ]
     },
     "execution_count": 23,
     "metadata": {},
     "output_type": "execute_result"
    }
   ],
   "source": [
    "graph.has_edge('one', 'two'), graph.has_edge('two', 'one')"
   ]
  },
  {
   "cell_type": "code",
   "execution_count": 24,
   "id": "39ccdb00-72c3-4edb-b1d8-1a70f8d20485",
   "metadata": {
    "tags": []
   },
   "outputs": [],
   "source": [
    "digraph = nx.DiGraph()"
   ]
  },
  {
   "cell_type": "markdown",
   "id": "724c3623-53ed-41a2-b9b0-99aac113bca9",
   "metadata": {},
   "source": [
    "## A bipartite graph of twitter accounts to hashtags"
   ]
  },
  {
   "cell_type": "markdown",
   "id": "ab606c0d-9a8e-441f-bbe9-12c3e2928607",
   "metadata": {},
   "source": [
    "### Collecting the data"
   ]
  },
  {
   "cell_type": "code",
   "execution_count": 26,
   "id": "cee873b1-3ed6-40e6-bcfc-a12ce042cdde",
   "metadata": {
    "tags": []
   },
   "outputs": [],
   "source": [
    "from minet.twitter import TwitterAPIScraper"
   ]
  },
  {
   "cell_type": "code",
   "execution_count": 27,
   "id": "f05f13ff-277c-4bd9-8eb1-7082d49e9eae",
   "metadata": {
    "tags": []
   },
   "outputs": [],
   "source": [
    "scraper = TwitterAPIScraper()"
   ]
  },
  {
   "cell_type": "code",
   "execution_count": 29,
   "id": "a6a6b7f5-312c-4605-acdf-f04e74f9d15c",
   "metadata": {
    "tags": []
   },
   "outputs": [],
   "source": [
    "TWEETS = []\n",
    "\n",
    "for tweet in scraper.search_tweets('\"conseil constitutionnel\" lang:fr', limit=500):\n",
    "    TWEETS.append(tweet)"
   ]
  },
  {
   "cell_type": "code",
   "execution_count": 30,
   "id": "610ca6fb-a1d8-4b63-9a39-849bb2246be8",
   "metadata": {
    "tags": []
   },
   "outputs": [
    {
     "data": {
      "text/plain": [
       "131"
      ]
     },
     "execution_count": 30,
     "metadata": {},
     "output_type": "execute_result"
    }
   ],
   "source": [
    "tweets_with_hashtags = 0\n",
    "\n",
    "for tweet in TWEETS:\n",
    "    if tweet['hashtags']:\n",
    "        tweets_with_hashtags += 1\n",
    "        \n",
    "tweets_with_hashtags"
   ]
  },
  {
   "cell_type": "markdown",
   "id": "4c9686e4-3580-4049-b091-ec268eb84e10",
   "metadata": {},
   "source": [
    "### Building the network"
   ]
  },
  {
   "cell_type": "code",
   "execution_count": 56,
   "id": "42346034-ec23-4dec-a582-75545e9e695a",
   "metadata": {
    "tags": []
   },
   "outputs": [
    {
     "data": {
      "text/plain": [
       "(212, 256)"
      ]
     },
     "execution_count": 56,
     "metadata": {},
     "output_type": "execute_result"
    }
   ],
   "source": [
    "bipartite = nx.Graph()\n",
    "\n",
    "for tweet in TWEETS:\n",
    "    if not tweet['hashtags']:\n",
    "        continue\n",
    "    \n",
    "    user = '@' + tweet['user_screen_name']\n",
    "    \n",
    "    if user not in bipartite:\n",
    "        bipartite.add_node(user, part='user')\n",
    "        \n",
    "    for hashtag in tweet['hashtags']:\n",
    "        hashtag = '#' + hashtag\n",
    "        \n",
    "        if hashtag not in bipartite:\n",
    "            bipartite.add_node(hashtag, part='hashtag')\n",
    "        \n",
    "        bipartite.add_edge(user, hashtag)\n",
    "        \n",
    "bipartite.order(), bipartite.size()"
   ]
  },
  {
   "cell_type": "code",
   "execution_count": 57,
   "id": "4cded570-e84f-4754-96c3-31d2f760b07a",
   "metadata": {
    "tags": []
   },
   "outputs": [
    {
     "data": {
      "text/plain": [
       "2"
      ]
     },
     "execution_count": 57,
     "metadata": {},
     "output_type": "execute_result"
    }
   ],
   "source": [
    "bipartite.degree('@AlexKiddzz')"
   ]
  },
  {
   "cell_type": "code",
   "execution_count": 58,
   "id": "07462e33-5402-4659-b75e-ae305fbde3ac",
   "metadata": {
    "tags": []
   },
   "outputs": [
    {
     "data": {
      "application/vnd.jupyter.widget-view+json": {
       "model_id": "a61f79f5ddba45fbb867b7012e762bd8",
       "version_major": 2,
       "version_minor": 0
      },
      "text/plain": [
       "Sigma(nx.Graph with 212 nodes and 256 edges)"
      ]
     },
     "execution_count": 58,
     "metadata": {},
     "output_type": "execute_result"
    }
   ],
   "source": [
    "Sigma(bipartite, node_size=bipartite.degree, node_color='part', node_color_palette={'user': 'red', 'hashtag': 'blue'})"
   ]
  },
  {
   "cell_type": "code",
   "execution_count": 61,
   "id": "85a9e19f-2849-4dec-98e9-56bbaf786ee5",
   "metadata": {
    "tags": []
   },
   "outputs": [
    {
     "data": {
      "application/vnd.jupyter.widget-view+json": {
       "model_id": "ef982c0814f84efebdd9da09fa68e2ac",
       "version_major": 2,
       "version_minor": 0
      },
      "text/plain": [
       "Sigma(nx.Graph with 212 nodes and 256 edges)"
      ]
     },
     "execution_count": 61,
     "metadata": {},
     "output_type": "execute_result"
    }
   ],
   "source": [
    "Sigma(\n",
    "    bipartite,\n",
    "    node_size=bipartite.degree,\n",
    "    node_metrics=['louvain'],\n",
    "    node_color='louvain'\n",
    ")"
   ]
  }
 ],
 "metadata": {
  "kernelspec": {
   "display_name": "Python 3 (ipykernel)",
   "language": "python",
   "name": "python3"
  },
  "language_info": {
   "codemirror_mode": {
    "name": "ipython",
    "version": 3
   },
   "file_extension": ".py",
   "mimetype": "text/x-python",
   "name": "python",
   "nbconvert_exporter": "python",
   "pygments_lexer": "ipython3",
   "version": "3.7.16"
  }
 },
 "nbformat": 4,
 "nbformat_minor": 5
}
