{
 "cells": [
  {
   "cell_type": "markdown",
   "id": "a2d22706-2280-432b-ae56-6db42c565443",
   "metadata": {
    "tags": []
   },
   "source": [
    "# Python basics review"
   ]
  },
  {
   "cell_type": "markdown",
   "id": "de9b46f7-c811-4168-a01c-58b7dcf5decf",
   "metadata": {
    "tags": []
   },
   "source": [
    "## Variable types"
   ]
  },
  {
   "cell_type": "code",
   "execution_count": 28,
   "id": "4cfab9b8-6880-43b0-aca4-4efdca7f7715",
   "metadata": {
    "tags": []
   },
   "outputs": [],
   "source": [
    "# Listing the common scalar types\n",
    "integer = 45\n",
    "long_integer = 1_000\n",
    "nothing = None\n",
    "floating = 4.5\n",
    "string = \"this is a string\"\n",
    "other_string = 'this is another string'\n",
    "escaped_string = \"Hello my name is \\\"John\\\"\"\n",
    "line_break = 'Hello\\nGoodBye'\n",
    "exotic_string = \"\"\"\n",
    "Hello\n",
    "GoodBye\n",
    "Whatever\n",
    "\"\"\"\n",
    "boolean = True\n",
    "not_true = False"
   ]
  },
  {
   "cell_type": "code",
   "execution_count": 27,
   "id": "2b773607-9c9f-48c7-b1f7-e5eab4db2b38",
   "metadata": {
    "tags": []
   },
   "outputs": [
    {
     "data": {
      "text/plain": [
       "False"
      ]
     },
     "execution_count": 27,
     "metadata": {},
     "output_type": "execute_result"
    }
   ],
   "source": [
    "not boolean"
   ]
  },
  {
   "cell_type": "code",
   "execution_count": 22,
   "id": "31da4248-74b7-42c4-9728-fe47927adb77",
   "metadata": {
    "tags": []
   },
   "outputs": [
    {
     "data": {
      "text/plain": [
       "float"
      ]
     },
     "execution_count": 22,
     "metadata": {},
     "output_type": "execute_result"
    }
   ],
   "source": [
    "type(integer + floating)"
   ]
  },
  {
   "cell_type": "code",
   "execution_count": 26,
   "id": "6654ecc6-6ffc-4ff0-94dc-a6eb5ca5a531",
   "metadata": {
    "tags": []
   },
   "outputs": [
    {
     "data": {
      "text/plain": [
       "1"
      ]
     },
     "execution_count": 26,
     "metadata": {},
     "output_type": "execute_result"
    }
   ],
   "source": [
    "boolean + not_true"
   ]
  },
  {
   "cell_type": "code",
   "execution_count": 24,
   "id": "f17ed5f0-0a26-47e0-a7ba-87c5444cedd0",
   "metadata": {
    "tags": []
   },
   "outputs": [
    {
     "data": {
      "text/plain": [
       "'this is a stringthis is a stringthis is a stringthis is a stringthis is a string'"
      ]
     },
     "execution_count": 24,
     "metadata": {},
     "output_type": "execute_result"
    }
   ],
   "source": [
    "string * 5"
   ]
  },
  {
   "cell_type": "code",
   "execution_count": 21,
   "id": "6b7a7b14-2c4d-4711-b510-a408e19c2587",
   "metadata": {
    "tags": []
   },
   "outputs": [
    {
     "data": {
      "text/plain": [
       "0.30000000000000004"
      ]
     },
     "execution_count": 21,
     "metadata": {},
     "output_type": "execute_result"
    }
   ],
   "source": [
    "0.2 + 0.1"
   ]
  },
  {
   "cell_type": "code",
   "execution_count": 17,
   "id": "6ef4124b-9894-42b7-8bf9-1f2d525eec70",
   "metadata": {
    "tags": []
   },
   "outputs": [
    {
     "data": {
      "text/plain": [
       "'\\nHello\\nGoodBye\\nWhatever\\n'"
      ]
     },
     "execution_count": 17,
     "metadata": {},
     "output_type": "execute_result"
    }
   ],
   "source": [
    "exotic_string"
   ]
  },
  {
   "cell_type": "code",
   "execution_count": 16,
   "id": "b126cb83-9e2f-4182-b98a-2557c2ff5da4",
   "metadata": {},
   "outputs": [
    {
     "name": "stdout",
     "output_type": "stream",
     "text": [
      "\n",
      "Hello\n",
      "GoodBye\n",
      "Whatever\n",
      "\n"
     ]
    }
   ],
   "source": [
    "print(exotic_string)"
   ]
  },
  {
   "cell_type": "markdown",
   "id": "1759f9ee-c156-4cec-ab33-093e49faeaa0",
   "metadata": {},
   "source": [
    "## Functions"
   ]
  },
  {
   "cell_type": "code",
   "execution_count": 40,
   "id": "14bd5003-fac7-414e-b19a-cb395a1e2b14",
   "metadata": {
    "tags": []
   },
   "outputs": [],
   "source": [
    "def add(a, b, c=10):\n",
    "    print('c', c)\n",
    "    # this is inside the function\n",
    "    x = a + b + c\n",
    "    print(x)\n",
    "    return x\n",
    "# we are outside"
   ]
  },
  {
   "cell_type": "code",
   "execution_count": 41,
   "id": "4aa05052-995f-4439-8afb-ead883375ac4",
   "metadata": {
    "tags": []
   },
   "outputs": [
    {
     "name": "stdout",
     "output_type": "stream",
     "text": [
      "c 10\n",
      "62\n",
      "c 50\n",
      "168\n"
     ]
    },
    {
     "data": {
      "text/plain": [
       "168"
      ]
     },
     "execution_count": 41,
     "metadata": {},
     "output_type": "execute_result"
    }
   ],
   "source": [
    "value = add(46, 6)\n",
    "add(value, 56, 50)"
   ]
  },
  {
   "cell_type": "markdown",
   "id": "eef5f663-696a-442c-9c22-69d0f308efbc",
   "metadata": {},
   "source": [
    "## Conditions"
   ]
  },
  {
   "cell_type": "code",
   "execution_count": 49,
   "id": "47f8a2cd-c058-401d-81ff-81fa947ded3e",
   "metadata": {
    "tags": []
   },
   "outputs": [],
   "source": [
    "def is_number_high(n):\n",
    "    if n >= 56:\n",
    "        print('yes')\n",
    "    elif n >= 20:\n",
    "        print('ok')\n",
    "    else:\n",
    "        print('no')"
   ]
  },
  {
   "cell_type": "code",
   "execution_count": 50,
   "id": "296b5ae5-506d-437a-98c5-82af620503cd",
   "metadata": {
    "tags": []
   },
   "outputs": [
    {
     "name": "stdout",
     "output_type": "stream",
     "text": [
      "ok\n"
     ]
    }
   ],
   "source": [
    "is_number_high(21)"
   ]
  },
  {
   "cell_type": "code",
   "execution_count": 51,
   "id": "e4913dd9-dd6c-489f-876c-6081e5206dcf",
   "metadata": {
    "tags": []
   },
   "outputs": [
    {
     "name": "stdout",
     "output_type": "stream",
     "text": [
      "ok\n"
     ]
    }
   ],
   "source": [
    "if 45:\n",
    "    print('ok')"
   ]
  },
  {
   "cell_type": "code",
   "execution_count": 52,
   "id": "d7f8e84b-c748-4af7-a9c9-58ef4fc9d207",
   "metadata": {
    "tags": []
   },
   "outputs": [],
   "source": [
    "# Falsey values\n",
    "# False\n",
    "# None\n",
    "# 0\n",
    "# []\n",
    "# ''"
   ]
  },
  {
   "cell_type": "markdown",
   "id": "3d975be2-342b-418e-8ac6-b3a4c478266b",
   "metadata": {},
   "source": [
    "## Container values"
   ]
  },
  {
   "cell_type": "code",
   "execution_count": 56,
   "id": "2e0ebb33-5aa6-4b0d-966d-3879fbca2e32",
   "metadata": {
    "tags": []
   },
   "outputs": [],
   "source": [
    "my_list = [1, 2, 3, ['TEST', [5, 6, [7]]], 5]"
   ]
  },
  {
   "cell_type": "code",
   "execution_count": 57,
   "id": "38d7360e-a13b-4148-9321-7966741b0325",
   "metadata": {
    "tags": []
   },
   "outputs": [
    {
     "data": {
      "text/plain": [
       "5"
      ]
     },
     "execution_count": 57,
     "metadata": {},
     "output_type": "execute_result"
    }
   ],
   "source": [
    "len(my_list)"
   ]
  },
  {
   "cell_type": "code",
   "execution_count": 62,
   "id": "6f6d3823-1da4-483a-9bec-a72485bd49df",
   "metadata": {
    "tags": []
   },
   "outputs": [
    {
     "data": {
      "text/plain": [
       "'TEST'"
      ]
     },
     "execution_count": 62,
     "metadata": {},
     "output_type": "execute_result"
    }
   ],
   "source": [
    "my_list[3][0]"
   ]
  },
  {
   "cell_type": "code",
   "execution_count": 64,
   "id": "a70b8923-396b-4a0f-8b73-b74102bbd265",
   "metadata": {
    "tags": []
   },
   "outputs": [
    {
     "name": "stdout",
     "output_type": "stream",
     "text": [
      "1\n",
      "2\n",
      "3\n",
      "['TEST', [5, 6, [7]]]\n",
      "5\n"
     ]
    }
   ],
   "source": [
    "i = 0\n",
    "while i < len(my_list):\n",
    "    item = my_list[i]\n",
    "    print(item)\n",
    "    i = i + 1"
   ]
  },
  {
   "cell_type": "code",
   "execution_count": 65,
   "id": "3ab0efa0-d521-4700-a541-7a7a2a8ad869",
   "metadata": {
    "tags": []
   },
   "outputs": [
    {
     "name": "stdout",
     "output_type": "stream",
     "text": [
      "1\n",
      "2\n",
      "3\n",
      "['TEST', [5, 6, [7]]]\n",
      "5\n"
     ]
    }
   ],
   "source": [
    "for item in my_list:\n",
    "    print(item)"
   ]
  },
  {
   "cell_type": "code",
   "execution_count": 66,
   "id": "6b95c2c4-8d6f-4558-ae61-e7439a0b0a0a",
   "metadata": {
    "tags": []
   },
   "outputs": [],
   "source": [
    "x = 14\n",
    "x = 454\n",
    "my_list[0] = 5"
   ]
  },
  {
   "cell_type": "code",
   "execution_count": 67,
   "id": "181fb36c-9357-4958-8247-4b4d6ac8478c",
   "metadata": {
    "tags": []
   },
   "outputs": [
    {
     "data": {
      "text/plain": [
       "[5, 2, 3, ['TEST', [5, 6, [7]]], 5]"
      ]
     },
     "execution_count": 67,
     "metadata": {},
     "output_type": "execute_result"
    }
   ],
   "source": [
    "my_list"
   ]
  },
  {
   "cell_type": "code",
   "execution_count": 151,
   "id": "f71be358-d59a-4a86-bbee-3361767cd251",
   "metadata": {
    "tags": []
   },
   "outputs": [
    {
     "data": {
      "text/plain": [
       "[5, 2]"
      ]
     },
     "execution_count": 151,
     "metadata": {},
     "output_type": "execute_result"
    }
   ],
   "source": [
    "my_list[0:2]"
   ]
  },
  {
   "cell_type": "code",
   "execution_count": 152,
   "id": "9ac6225d-43b5-4188-b577-ef7c9666385f",
   "metadata": {
    "tags": []
   },
   "outputs": [
    {
     "data": {
      "text/plain": [
       "3"
      ]
     },
     "execution_count": 152,
     "metadata": {},
     "output_type": "execute_result"
    }
   ],
   "source": [
    "my_list[-1]"
   ]
  },
  {
   "cell_type": "code",
   "execution_count": 68,
   "id": "e2d0b52e-0881-4fbf-8629-bb7fa8108829",
   "metadata": {
    "tags": []
   },
   "outputs": [
    {
     "ename": "IndexError",
     "evalue": "list index out of range",
     "output_type": "error",
     "traceback": [
      "\u001b[0;31m---------------------------------------------------------------------------\u001b[0m",
      "\u001b[0;31mIndexError\u001b[0m                                Traceback (most recent call last)",
      "\u001b[0;32m/tmp/ipykernel_39742/614161078.py\u001b[0m in \u001b[0;36m<module>\u001b[0;34m\u001b[0m\n\u001b[0;32m----> 1\u001b[0;31m \u001b[0mmy_list\u001b[0m\u001b[0;34m[\u001b[0m\u001b[0;36m45\u001b[0m\u001b[0;34m]\u001b[0m\u001b[0;34m\u001b[0m\u001b[0;34m\u001b[0m\u001b[0m\n\u001b[0m",
      "\u001b[0;31mIndexError\u001b[0m: list index out of range"
     ]
    }
   ],
   "source": [
    "my_list[45]"
   ]
  },
  {
   "cell_type": "code",
   "execution_count": 72,
   "id": "a46c014d-8a24-45c0-a522-76fda047a9be",
   "metadata": {
    "tags": []
   },
   "outputs": [],
   "source": [
    "my_list.append(3)"
   ]
  },
  {
   "cell_type": "code",
   "execution_count": 73,
   "id": "1bc0efe6-ad85-4380-afc4-8fb3cb8fcdd1",
   "metadata": {
    "tags": []
   },
   "outputs": [
    {
     "data": {
      "text/plain": [
       "[5, 2, 3, ['TEST', [5, 6, [7]]], 5, 3, 3]"
      ]
     },
     "execution_count": 73,
     "metadata": {},
     "output_type": "execute_result"
    }
   ],
   "source": [
    "my_list"
   ]
  },
  {
   "cell_type": "code",
   "execution_count": 74,
   "id": "1327e931-221b-4514-a39e-86876be38be0",
   "metadata": {
    "tags": []
   },
   "outputs": [],
   "source": [
    "o = {}"
   ]
  },
  {
   "cell_type": "code",
   "execution_count": 81,
   "id": "7f95642e-16b9-44ff-9707-a977fbab17e1",
   "metadata": {
    "tags": []
   },
   "outputs": [],
   "source": [
    "o['title'] = 'Python advanced'\n",
    "o['subtitle'] = 'For social scientists'\n",
    "o['students'] = ['john', 'paul']"
   ]
  },
  {
   "cell_type": "code",
   "execution_count": 82,
   "id": "6e933da2-992d-4be7-b39d-6898dd63221c",
   "metadata": {
    "tags": []
   },
   "outputs": [
    {
     "data": {
      "text/plain": [
       "{'title': 'Python advanced',\n",
       " 'subtitle': 'For social scientists',\n",
       " 'students': ['john', 'paul']}"
      ]
     },
     "execution_count": 82,
     "metadata": {},
     "output_type": "execute_result"
    }
   ],
   "source": [
    "o"
   ]
  },
  {
   "cell_type": "code",
   "execution_count": 84,
   "id": "89a4ec93-4e6e-4e1c-aeb7-c268a5b697fe",
   "metadata": {
    "tags": []
   },
   "outputs": [],
   "source": [
    "if 'not-there' in o:\n",
    "    print('yes')"
   ]
  },
  {
   "cell_type": "code",
   "execution_count": 85,
   "id": "3b53b47b-1b11-494c-b164-cae3b42c0424",
   "metadata": {
    "tags": []
   },
   "outputs": [
    {
     "name": "stdout",
     "output_type": "stream",
     "text": [
      "title\n",
      "subtitle\n",
      "students\n"
     ]
    }
   ],
   "source": [
    "for key in o:\n",
    "    print(key)"
   ]
  },
  {
   "cell_type": "code",
   "execution_count": 86,
   "id": "0f0de76f-90ad-4b1b-a353-f1e4f11f43fb",
   "metadata": {
    "tags": []
   },
   "outputs": [
    {
     "name": "stdout",
     "output_type": "stream",
     "text": [
      "Python advanced\n",
      "For social scientists\n",
      "['john', 'paul']\n"
     ]
    }
   ],
   "source": [
    "for value in o.values():\n",
    "    print(value)"
   ]
  },
  {
   "cell_type": "code",
   "execution_count": 87,
   "id": "2a1a2aa9-46cf-45c0-969a-1a79b1d66b39",
   "metadata": {
    "tags": []
   },
   "outputs": [
    {
     "name": "stdout",
     "output_type": "stream",
     "text": [
      "title Python advanced\n",
      "subtitle For social scientists\n",
      "students ['john', 'paul']\n"
     ]
    }
   ],
   "source": [
    "for key, value in o.items():\n",
    "    print(key, value)"
   ]
  },
  {
   "cell_type": "code",
   "execution_count": 91,
   "id": "eb51d177-5e8e-4f36-a689-6c6ce2a10bb4",
   "metadata": {
    "tags": []
   },
   "outputs": [
    {
     "name": "stdout",
     "output_type": "stream",
     "text": [
      "('title', 'Python advanced') <class 'tuple'>\n",
      "('subtitle', 'For social scientists') <class 'tuple'>\n",
      "('students', ['john', 'paul']) <class 'tuple'>\n"
     ]
    }
   ],
   "source": [
    "for pair in o.items():\n",
    "    print(pair, type(pair))"
   ]
  },
  {
   "cell_type": "code",
   "execution_count": 90,
   "id": "d2aaf60b-88a5-4244-bfff-9e462b883d1b",
   "metadata": {
    "tags": []
   },
   "outputs": [
    {
     "data": {
      "text/plain": [
       "45"
      ]
     },
     "execution_count": 90,
     "metadata": {},
     "output_type": "execute_result"
    }
   ],
   "source": [
    "t = (45, 56)\n",
    "t[0]"
   ]
  },
  {
   "cell_type": "markdown",
   "id": "d4462db0-aba5-4f16-83a8-15c7dd113618",
   "metadata": {},
   "source": [
    "## Classes"
   ]
  },
  {
   "cell_type": "code",
   "execution_count": 120,
   "id": "8b57f0b3-11fd-450e-b9a0-e10976ff4b87",
   "metadata": {
    "tags": []
   },
   "outputs": [],
   "source": [
    "class Student:\n",
    "    def __init__(self, name, surname, age):\n",
    "        self.name = name\n",
    "        self.surname = surname\n",
    "        self.age = age\n",
    "        \n",
    "    def __repr__(self):\n",
    "        return self.name + ' ' + str(self.age)\n",
    "\n",
    "    def hello(self):\n",
    "        # print('Hello my name is \"' + self.name + '\"')\n",
    "        print('Hello my name is \"{name}\" and my surname is \"{surname}\"'.format(surname=self.surname, name=self.name))"
   ]
  },
  {
   "cell_type": "code",
   "execution_count": null,
   "id": "43a550d6-6eb3-4275-b1ca-5bbb7a1ef69f",
   "metadata": {},
   "outputs": [],
   "source": [
    "# dunder methods\n",
    "# double underscore methods\n",
    "# __init__"
   ]
  },
  {
   "cell_type": "code",
   "execution_count": 121,
   "id": "e99a8905-362e-4c9e-b2e6-20af70c50394",
   "metadata": {
    "tags": []
   },
   "outputs": [],
   "source": [
    "student = Student(\"John\", \"Smith\", 45)"
   ]
  },
  {
   "cell_type": "code",
   "execution_count": 114,
   "id": "c317c2fb-c804-4932-b189-ca9618fb161e",
   "metadata": {
    "tags": []
   },
   "outputs": [
    {
     "name": "stdout",
     "output_type": "stream",
     "text": [
      "Hello my name is \"John\" and my surname is \"Smith\"\n"
     ]
    }
   ],
   "source": [
    "student.hello()"
   ]
  },
  {
   "cell_type": "code",
   "execution_count": 94,
   "id": "7451d152-aab8-4f5c-bd83-d5d413999fe3",
   "metadata": {
    "tags": []
   },
   "outputs": [
    {
     "data": {
      "text/plain": [
       "__main__.Student"
      ]
     },
     "execution_count": 94,
     "metadata": {},
     "output_type": "execute_result"
    }
   ],
   "source": [
    "type(student)"
   ]
  },
  {
   "cell_type": "code",
   "execution_count": 95,
   "id": "b5ccd1dd-41e0-4194-940f-8c30d278a2a0",
   "metadata": {
    "tags": []
   },
   "outputs": [
    {
     "data": {
      "text/plain": [
       "'John'"
      ]
     },
     "execution_count": 95,
     "metadata": {},
     "output_type": "execute_result"
    }
   ],
   "source": [
    "student.name"
   ]
  },
  {
   "cell_type": "code",
   "execution_count": 122,
   "id": "59dc79c1-6204-41fd-abaa-ea5f31d3f01f",
   "metadata": {
    "tags": []
   },
   "outputs": [
    {
     "data": {
      "text/plain": [
       "John 45"
      ]
     },
     "execution_count": 122,
     "metadata": {},
     "output_type": "execute_result"
    }
   ],
   "source": [
    "student"
   ]
  },
  {
   "cell_type": "code",
   "execution_count": 123,
   "id": "0cf973cd-0391-4f7f-9366-604fc0a03ca5",
   "metadata": {
    "tags": []
   },
   "outputs": [],
   "source": [
    "list_of_students = [Student('Mary', 'Sue', 56), Student('John', 'Locke', 78)]"
   ]
  },
  {
   "cell_type": "code",
   "execution_count": 124,
   "id": "7286041e-01ab-4a7e-b9de-a7735ac4b916",
   "metadata": {
    "tags": []
   },
   "outputs": [
    {
     "name": "stdout",
     "output_type": "stream",
     "text": [
      "Hello my name is \"Mary\" and my surname is \"Sue\"\n"
     ]
    }
   ],
   "source": [
    "list_of_students[0].hello()"
   ]
  },
  {
   "cell_type": "markdown",
   "id": "3a633416-1350-4ecd-a677-e3c3c8181ad6",
   "metadata": {},
   "source": [
    "## Exceptions"
   ]
  },
  {
   "cell_type": "code",
   "execution_count": 125,
   "id": "2a437062-b0e1-4864-8405-a3e94719923a",
   "metadata": {
    "tags": []
   },
   "outputs": [],
   "source": [
    "empty_list = []"
   ]
  },
  {
   "cell_type": "code",
   "execution_count": 126,
   "id": "79be73c3-7b3b-4b5d-aaba-05e1413785c9",
   "metadata": {
    "tags": []
   },
   "outputs": [
    {
     "ename": "IndexError",
     "evalue": "list index out of range",
     "output_type": "error",
     "traceback": [
      "\u001b[0;31m---------------------------------------------------------------------------\u001b[0m",
      "\u001b[0;31mIndexError\u001b[0m                                Traceback (most recent call last)",
      "\u001b[0;32m/tmp/ipykernel_39742/1403798421.py\u001b[0m in \u001b[0;36m<module>\u001b[0;34m\u001b[0m\n\u001b[0;32m----> 1\u001b[0;31m \u001b[0mempty_list\u001b[0m\u001b[0;34m[\u001b[0m\u001b[0;36m0\u001b[0m\u001b[0;34m]\u001b[0m\u001b[0;34m\u001b[0m\u001b[0;34m\u001b[0m\u001b[0m\n\u001b[0m",
      "\u001b[0;31mIndexError\u001b[0m: list index out of range"
     ]
    }
   ],
   "source": [
    "empty_list[0]"
   ]
  },
  {
   "cell_type": "code",
   "execution_count": 128,
   "id": "20218ed0-5147-4f9a-a0d6-c43eac49ec8c",
   "metadata": {
    "tags": []
   },
   "outputs": [
    {
     "name": "stdout",
     "output_type": "stream",
     "text": [
      "exception happend\n"
     ]
    }
   ],
   "source": [
    "try:\n",
    "    empty_list[0]\n",
    "except IndexError:\n",
    "    print('exception happend')"
   ]
  },
  {
   "cell_type": "code",
   "execution_count": 133,
   "id": "c42ab8c4-ae6f-42c9-80fa-eb9ca4b163a0",
   "metadata": {
    "tags": []
   },
   "outputs": [],
   "source": [
    "def get(a_list, an_index, a_default_arg):\n",
    "    if an_index >= len(a_list):\n",
    "        return a_default_arg\n",
    "    else:\n",
    "        return a_list[an_index]"
   ]
  },
  {
   "cell_type": "code",
   "execution_count": 135,
   "id": "686f2178-382e-411e-a582-75fcb9fd983b",
   "metadata": {
    "tags": []
   },
   "outputs": [],
   "source": [
    "def get(a_list, an_index, a_default_arg):\n",
    "    try:\n",
    "        return a_list[an_index]\n",
    "    except IndexError:\n",
    "        return a_default_arg"
   ]
  },
  {
   "cell_type": "code",
   "execution_count": 134,
   "id": "a42d02c1-997e-4d59-ad9c-29530648da14",
   "metadata": {
    "tags": []
   },
   "outputs": [],
   "source": [
    "assert get([], 4, True) == True"
   ]
  },
  {
   "cell_type": "markdown",
   "id": "36ff9a29-f02e-46c7-840b-dc320477a5fb",
   "metadata": {},
   "source": [
    "## Imports"
   ]
  },
  {
   "cell_type": "code",
   "execution_count": 136,
   "id": "e865f772-7d20-422f-b235-f83b2f77575d",
   "metadata": {
    "tags": []
   },
   "outputs": [],
   "source": [
    "import math"
   ]
  },
  {
   "cell_type": "code",
   "execution_count": 137,
   "id": "3eed072f-b57d-4a02-bcd2-f029a4fe0b6b",
   "metadata": {
    "tags": []
   },
   "outputs": [
    {
     "data": {
      "text/plain": [
       "698274.7281507473"
      ]
     },
     "execution_count": 137,
     "metadata": {},
     "output_type": "execute_result"
    }
   ],
   "source": [
    "math.sqrt(487587595974)"
   ]
  },
  {
   "cell_type": "code",
   "execution_count": 139,
   "id": "ee4d88a8-00f2-43b4-8d1f-94b9a4d9718a",
   "metadata": {
    "tags": []
   },
   "outputs": [
    {
     "data": {
      "text/plain": [
       "\u001b[0;31mSignature:\u001b[0m \u001b[0mmath\u001b[0m\u001b[0;34m.\u001b[0m\u001b[0msqrt\u001b[0m\u001b[0;34m(\u001b[0m\u001b[0mx\u001b[0m\u001b[0;34m,\u001b[0m \u001b[0;34m/\u001b[0m\u001b[0;34m)\u001b[0m\u001b[0;34m\u001b[0m\u001b[0;34m\u001b[0m\u001b[0m\n",
       "\u001b[0;31mDocstring:\u001b[0m Return the square root of x.\n",
       "\u001b[0;31mType:\u001b[0m      builtin_function_or_method\n"
      ]
     },
     "metadata": {},
     "output_type": "display_data"
    }
   ],
   "source": [
    "math.sqrt?"
   ]
  },
  {
   "cell_type": "code",
   "execution_count": 140,
   "id": "70ecc3c8-ab45-469d-8216-c63b1dbb4eea",
   "metadata": {
    "tags": []
   },
   "outputs": [],
   "source": [
    "from math import sqrt"
   ]
  },
  {
   "cell_type": "code",
   "execution_count": 141,
   "id": "a0e18ccd-74fa-4e14-be0c-aae207bd0af8",
   "metadata": {
    "tags": []
   },
   "outputs": [
    {
     "data": {
      "text/plain": [
       "70.53367989832942"
      ]
     },
     "execution_count": 141,
     "metadata": {},
     "output_type": "execute_result"
    }
   ],
   "source": [
    "sqrt(4975)"
   ]
  },
  {
   "cell_type": "code",
   "execution_count": 143,
   "id": "9a89c18c-b2cf-4f3c-a8c2-b7a3f8120eda",
   "metadata": {
    "tags": []
   },
   "outputs": [
    {
     "name": "stdout",
     "output_type": "stream",
     "text": [
      "Requirement already satisfied: requests in /home/yomguithereal/.pyenv/versions/3.7.16/envs/psia-python-advanced/lib/python3.7/site-packages (2.28.2)\n",
      "Requirement already satisfied: certifi>=2017.4.17 in /home/yomguithereal/.pyenv/versions/3.7.16/envs/psia-python-advanced/lib/python3.7/site-packages (from requests) (2022.12.7)\n",
      "Requirement already satisfied: charset-normalizer<4,>=2 in /home/yomguithereal/.pyenv/versions/3.7.16/envs/psia-python-advanced/lib/python3.7/site-packages (from requests) (3.1.0)\n",
      "Requirement already satisfied: urllib3<1.27,>=1.21.1 in /home/yomguithereal/.pyenv/versions/3.7.16/envs/psia-python-advanced/lib/python3.7/site-packages (from requests) (1.26.15)\n",
      "Requirement already satisfied: idna<4,>=2.5 in /home/yomguithereal/.pyenv/versions/3.7.16/envs/psia-python-advanced/lib/python3.7/site-packages (from requests) (3.4)\n"
     ]
    }
   ],
   "source": [
    "!pip install requests"
   ]
  },
  {
   "cell_type": "code",
   "execution_count": 144,
   "id": "73fed9ee-f300-46d4-ab36-5cf73479725d",
   "metadata": {
    "tags": []
   },
   "outputs": [],
   "source": [
    "import requests"
   ]
  },
  {
   "cell_type": "code",
   "execution_count": 145,
   "id": "ee9ef011-cca2-4519-ba6f-f891e0f74a0d",
   "metadata": {
    "tags": []
   },
   "outputs": [],
   "source": [
    "response = requests.get('https://www.lemonde.fr')"
   ]
  },
  {
   "cell_type": "code",
   "execution_count": 149,
   "id": "48b040b7-7b84-46c1-8d85-eabc0452cd78",
   "metadata": {
    "tags": []
   },
   "outputs": [
    {
     "data": {
      "text/plain": [
       "200"
      ]
     },
     "execution_count": 149,
     "metadata": {},
     "output_type": "execute_result"
    }
   ],
   "source": [
    "response.status_code"
   ]
  },
  {
   "cell_type": "markdown",
   "id": "f7fd4b1b-4d40-4e70-a4af-e7eece735cff",
   "metadata": {},
   "source": [
    "# Regular expressions"
   ]
  },
  {
   "cell_type": "code",
   "execution_count": 154,
   "id": "4d67cc69-0cad-4f44-8a1f-e59b1d399d3f",
   "metadata": {
    "tags": []
   },
   "outputs": [],
   "source": [
    "label = 'Prof. John Howards'"
   ]
  },
  {
   "cell_type": "code",
   "execution_count": 155,
   "id": "969c337a-1c2c-46d5-b161-21988c2b9a61",
   "metadata": {
    "tags": []
   },
   "outputs": [
    {
     "data": {
      "text/plain": [
       "True"
      ]
     },
     "execution_count": 155,
     "metadata": {},
     "output_type": "execute_result"
    }
   ],
   "source": [
    "'Prof.' in label"
   ]
  },
  {
   "cell_type": "code",
   "execution_count": 162,
   "id": "e2bf8390-4d3c-4e3a-aa4c-f44dc5e25713",
   "metadata": {
    "tags": []
   },
   "outputs": [],
   "source": [
    "another_label = 'prof guillaume Plyke'\n",
    "yet_another_label = 'Helen Profiteroles'"
   ]
  },
  {
   "cell_type": "code",
   "execution_count": 167,
   "id": "99a0ccda-dbd4-40f9-b910-f9bb4f992681",
   "metadata": {
    "tags": []
   },
   "outputs": [
    {
     "data": {
      "text/plain": [
       "'SCUNTHORPE'"
      ]
     },
     "execution_count": 167,
     "metadata": {},
     "output_type": "execute_result"
    }
   ],
   "source": [
    "'Scunthorpe'.upper()"
   ]
  },
  {
   "cell_type": "code",
   "execution_count": 157,
   "id": "e2225ecc-043b-4d0a-acf8-31b4c729a673",
   "metadata": {
    "tags": []
   },
   "outputs": [],
   "source": [
    "import re"
   ]
  },
  {
   "cell_type": "code",
   "execution_count": 164,
   "id": "7148e0ec-f241-4e6a-a5da-eaab72f97a05",
   "metadata": {
    "tags": []
   },
   "outputs": [],
   "source": [
    "pattern = re.compile(r'^(prof\\.?|teacher) ', re.I)"
   ]
  },
  {
   "cell_type": "code",
   "execution_count": 165,
   "id": "16ed7b20-b747-4c2b-8d86-eb2f36f6ab20",
   "metadata": {
    "tags": []
   },
   "outputs": [
    {
     "data": {
      "text/plain": [
       "<re.Match object; span=(0, 5), match='prof '>"
      ]
     },
     "execution_count": 165,
     "metadata": {},
     "output_type": "execute_result"
    }
   ],
   "source": [
    "pattern.match(another_label)"
   ]
  },
  {
   "cell_type": "code",
   "execution_count": 181,
   "id": "ac35fed6-1c7d-42c5-abb4-6e63f4d1cdb0",
   "metadata": {
    "tags": []
   },
   "outputs": [],
   "source": [
    "match = pattern.match(yet_another_label)"
   ]
  },
  {
   "cell_type": "code",
   "execution_count": 170,
   "id": "6a44865c-3c81-4f49-95a9-60c1d83e8e25",
   "metadata": {
    "tags": []
   },
   "outputs": [
    {
     "data": {
      "text/plain": [
       "False"
      ]
     },
     "execution_count": 170,
     "metadata": {},
     "output_type": "execute_result"
    }
   ],
   "source": [
    "match is not None"
   ]
  },
  {
   "cell_type": "code",
   "execution_count": 171,
   "id": "15f036e7-a4b6-4e1b-acf5-e9ad3e3a0b61",
   "metadata": {
    "tags": []
   },
   "outputs": [
    {
     "data": {
      "text/plain": [
       "True"
      ]
     },
     "execution_count": 171,
     "metadata": {},
     "output_type": "execute_result"
    }
   ],
   "source": [
    "match == None"
   ]
  },
  {
   "cell_type": "code",
   "execution_count": 176,
   "id": "7354c75c-c70b-4775-9c17-75a4210db24b",
   "metadata": {
    "tags": []
   },
   "outputs": [],
   "source": [
    "a = [1, 2, 3]\n",
    "b = [1, 2, 3]\n",
    "c = b"
   ]
  },
  {
   "cell_type": "code",
   "execution_count": 178,
   "id": "d0dc95b8-706f-465d-9814-8daaf19fbee3",
   "metadata": {
    "tags": []
   },
   "outputs": [],
   "source": [
    "c.append(4)"
   ]
  },
  {
   "cell_type": "code",
   "execution_count": 180,
   "id": "390e3287-7479-4614-be0e-3bd7f5974993",
   "metadata": {
    "tags": []
   },
   "outputs": [
    {
     "data": {
      "text/plain": [
       "[1, 2, 3, 4]"
      ]
     },
     "execution_count": 180,
     "metadata": {},
     "output_type": "execute_result"
    }
   ],
   "source": [
    "b"
   ]
  },
  {
   "cell_type": "code",
   "execution_count": 174,
   "id": "36902373-287d-445d-b86c-0f0b61583ee1",
   "metadata": {
    "tags": []
   },
   "outputs": [
    {
     "data": {
      "text/plain": [
       "False"
      ]
     },
     "execution_count": 174,
     "metadata": {},
     "output_type": "execute_result"
    }
   ],
   "source": [
    "a != b"
   ]
  },
  {
   "cell_type": "code",
   "execution_count": 177,
   "id": "95ec4c8c-de6d-478d-8cff-36d5d746611a",
   "metadata": {
    "tags": []
   },
   "outputs": [
    {
     "data": {
      "text/plain": [
       "True"
      ]
     },
     "execution_count": 177,
     "metadata": {},
     "output_type": "execute_result"
    }
   ],
   "source": [
    "b is c"
   ]
  },
  {
   "cell_type": "code",
   "execution_count": 182,
   "id": "aed7fd3f-b997-4562-86aa-93e8bbacaab1",
   "metadata": {
    "tags": []
   },
   "outputs": [
    {
     "name": "stdout",
     "output_type": "stream",
     "text": [
      "/home/yomguithereal/adhoc/psia-python-advanced/notebooks\n"
     ]
    }
   ],
   "source": [
    "!pwd"
   ]
  }
 ],
 "metadata": {
  "kernelspec": {
   "display_name": "Python 3 (ipykernel)",
   "language": "python",
   "name": "python3"
  },
  "language_info": {
   "codemirror_mode": {
    "name": "ipython",
    "version": 3
   },
   "file_extension": ".py",
   "mimetype": "text/x-python",
   "name": "python",
   "nbconvert_exporter": "python",
   "pygments_lexer": "ipython3",
   "version": "3.7.16"
  }
 },
 "nbformat": 4,
 "nbformat_minor": 5
}
