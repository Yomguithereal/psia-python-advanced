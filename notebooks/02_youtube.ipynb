{
 "cells": [
  {
   "cell_type": "markdown",
   "id": "0bf7436a-d309-4939-b803-128c15729fb4",
   "metadata": {},
   "source": [
    "# Learning how to use the YouTube API"
   ]
  },
  {
   "cell_type": "code",
   "execution_count": 1,
   "id": "0225c801-8f9a-4591-a252-bfd0e4a73a02",
   "metadata": {
    "collapsed": true,
    "jupyter": {
     "outputs_hidden": true
    }
   },
   "outputs": [
    {
     "name": "stdout",
     "output_type": "stream",
     "text": [
      "Requirement already satisfied: minet in /home/yomguithereal/.pyenv/versions/3.8.16/envs/psia-python-advanced/lib/python3.8/site-packages (1.5.1)\n",
      "Requirement already satisfied: about-time<5,>=4 in /home/yomguithereal/.pyenv/versions/3.8.16/envs/psia-python-advanced/lib/python3.8/site-packages (from minet) (4.2.1)\n",
      "Requirement already satisfied: beautifulsoup4<5,>=4.7.1 in /home/yomguithereal/.pyenv/versions/3.8.16/envs/psia-python-advanced/lib/python3.8/site-packages (from minet) (4.12.3)\n",
      "Requirement already satisfied: browser-cookie3==0.19.1 in /home/yomguithereal/.pyenv/versions/3.8.16/envs/psia-python-advanced/lib/python3.8/site-packages (from minet) (0.19.1)\n",
      "Requirement already satisfied: casanova<3,>=2.0.1 in /home/yomguithereal/.pyenv/versions/3.8.16/envs/psia-python-advanced/lib/python3.8/site-packages (from minet) (2.0.2)\n",
      "Requirement already satisfied: charset-normalizer<4,>=3 in /home/yomguithereal/.pyenv/versions/3.8.16/envs/psia-python-advanced/lib/python3.8/site-packages (from minet) (3.3.2)\n",
      "Requirement already satisfied: dateparser>=1.1.1 in /home/yomguithereal/.pyenv/versions/3.8.16/envs/psia-python-advanced/lib/python3.8/site-packages (from minet) (1.2.0)\n",
      "Requirement already satisfied: ebbe<2,>=1.13 in /home/yomguithereal/.pyenv/versions/3.8.16/envs/psia-python-advanced/lib/python3.8/site-packages (from minet) (1.13.2)\n",
      "Requirement already satisfied: json5>=0.8.5 in /home/yomguithereal/.pyenv/versions/3.8.16/envs/psia-python-advanced/lib/python3.8/site-packages (from minet) (0.9.22)\n",
      "Requirement already satisfied: lxml>=4.3.0 in /home/yomguithereal/.pyenv/versions/3.8.16/envs/psia-python-advanced/lib/python3.8/site-packages (from minet) (5.1.0)\n",
      "Requirement already satisfied: nanoid<3,>=2 in /home/yomguithereal/.pyenv/versions/3.8.16/envs/psia-python-advanced/lib/python3.8/site-packages (from minet) (2.0.0)\n",
      "Requirement already satisfied: playwright<1.36,>=1.35 in /home/yomguithereal/.pyenv/versions/3.8.16/envs/psia-python-advanced/lib/python3.8/site-packages (from minet) (1.35.0)\n",
      "Requirement already satisfied: playwright-stealth<2,>=1 in /home/yomguithereal/.pyenv/versions/3.8.16/envs/psia-python-advanced/lib/python3.8/site-packages (from minet) (1.0.6)\n",
      "Requirement already satisfied: pyyaml in /home/yomguithereal/.pyenv/versions/3.8.16/envs/psia-python-advanced/lib/python3.8/site-packages (from minet) (6.0.1)\n",
      "Requirement already satisfied: quenouille<2,>=1.9.1 in /home/yomguithereal/.pyenv/versions/3.8.16/envs/psia-python-advanced/lib/python3.8/site-packages (from minet) (1.9.1)\n",
      "Requirement already satisfied: rich<14,>=13 in /home/yomguithereal/.pyenv/versions/3.8.16/envs/psia-python-advanced/lib/python3.8/site-packages (from minet) (13.7.1)\n",
      "Requirement already satisfied: rich-argparse<2,>=1 in /home/yomguithereal/.pyenv/versions/3.8.16/envs/psia-python-advanced/lib/python3.8/site-packages (from minet) (1.4.0)\n",
      "Requirement already satisfied: soupsieve<3,>=2.1 in /home/yomguithereal/.pyenv/versions/3.8.16/envs/psia-python-advanced/lib/python3.8/site-packages (from minet) (2.5)\n",
      "Requirement already satisfied: tenacity<9,>=8 in /home/yomguithereal/.pyenv/versions/3.8.16/envs/psia-python-advanced/lib/python3.8/site-packages (from minet) (8.2.3)\n",
      "Requirement already satisfied: trafilatura<1.8,>=1.7 in /home/yomguithereal/.pyenv/versions/3.8.16/envs/psia-python-advanced/lib/python3.8/site-packages (from minet) (1.7.0)\n",
      "Requirement already satisfied: twitwi<0.19,>=0.18.2 in /home/yomguithereal/.pyenv/versions/3.8.16/envs/psia-python-advanced/lib/python3.8/site-packages (from minet) (0.18.2)\n",
      "Requirement already satisfied: ural<2,>=1.3.2 in /home/yomguithereal/.pyenv/versions/3.8.16/envs/psia-python-advanced/lib/python3.8/site-packages (from minet) (1.3.2)\n",
      "Requirement already satisfied: urllib3<2,>=1.26.16 in /home/yomguithereal/.pyenv/versions/3.8.16/envs/psia-python-advanced/lib/python3.8/site-packages (from minet) (1.26.18)\n",
      "Requirement already satisfied: typing-extensions>=4.3 in /home/yomguithereal/.pyenv/versions/3.8.16/envs/psia-python-advanced/lib/python3.8/site-packages (from minet) (4.10.0)\n",
      "Requirement already satisfied: lz4 in /home/yomguithereal/.pyenv/versions/3.8.16/envs/psia-python-advanced/lib/python3.8/site-packages (from browser-cookie3==0.19.1->minet) (4.3.3)\n",
      "Requirement already satisfied: pycryptodomex in /home/yomguithereal/.pyenv/versions/3.8.16/envs/psia-python-advanced/lib/python3.8/site-packages (from browser-cookie3==0.19.1->minet) (3.20.0)\n",
      "Requirement already satisfied: jeepney in /home/yomguithereal/.pyenv/versions/3.8.16/envs/psia-python-advanced/lib/python3.8/site-packages (from browser-cookie3==0.19.1->minet) (0.8.0)\n",
      "Requirement already satisfied: python-dateutil in /home/yomguithereal/.pyenv/versions/3.8.16/envs/psia-python-advanced/lib/python3.8/site-packages (from dateparser>=1.1.1->minet) (2.9.0.post0)\n",
      "Requirement already satisfied: pytz in /home/yomguithereal/.pyenv/versions/3.8.16/envs/psia-python-advanced/lib/python3.8/site-packages (from dateparser>=1.1.1->minet) (2024.1)\n",
      "Requirement already satisfied: regex!=2019.02.19,!=2021.8.27 in /home/yomguithereal/.pyenv/versions/3.8.16/envs/psia-python-advanced/lib/python3.8/site-packages (from dateparser>=1.1.1->minet) (2023.12.25)\n",
      "Requirement already satisfied: tzlocal in /home/yomguithereal/.pyenv/versions/3.8.16/envs/psia-python-advanced/lib/python3.8/site-packages (from dateparser>=1.1.1->minet) (5.2)\n",
      "Collecting greenlet==2.0.2 (from playwright<1.36,>=1.35->minet)\n",
      "  Using cached greenlet-2.0.2-cp38-cp38-manylinux_2_17_x86_64.manylinux2014_x86_64.whl.metadata (4.1 kB)\n",
      "Requirement already satisfied: pyee==9.0.4 in /home/yomguithereal/.pyenv/versions/3.8.16/envs/psia-python-advanced/lib/python3.8/site-packages (from playwright<1.36,>=1.35->minet) (9.0.4)\n",
      "Requirement already satisfied: markdown-it-py>=2.2.0 in /home/yomguithereal/.pyenv/versions/3.8.16/envs/psia-python-advanced/lib/python3.8/site-packages (from rich<14,>=13->minet) (3.0.0)\n",
      "Requirement already satisfied: pygments<3.0.0,>=2.13.0 in /home/yomguithereal/.pyenv/versions/3.8.16/envs/psia-python-advanced/lib/python3.8/site-packages (from rich<14,>=13->minet) (2.17.2)\n",
      "Requirement already satisfied: certifi in /home/yomguithereal/.pyenv/versions/3.8.16/envs/psia-python-advanced/lib/python3.8/site-packages (from trafilatura<1.8,>=1.7->minet) (2024.2.2)\n",
      "Requirement already satisfied: courlan>=0.9.5 in /home/yomguithereal/.pyenv/versions/3.8.16/envs/psia-python-advanced/lib/python3.8/site-packages (from trafilatura<1.8,>=1.7->minet) (1.0.0)\n",
      "Requirement already satisfied: htmldate>=1.7.0 in /home/yomguithereal/.pyenv/versions/3.8.16/envs/psia-python-advanced/lib/python3.8/site-packages (from trafilatura<1.8,>=1.7->minet) (1.8.0)\n",
      "Requirement already satisfied: justext>=3.0.0 in /home/yomguithereal/.pyenv/versions/3.8.16/envs/psia-python-advanced/lib/python3.8/site-packages (from trafilatura<1.8,>=1.7->minet) (3.0.0)\n",
      "Requirement already satisfied: twitter==2.0a2 in /home/yomguithereal/.pyenv/versions/3.8.16/envs/psia-python-advanced/lib/python3.8/site-packages (from twitwi<0.19,>=0.18.2->minet) (2.0a2)\n",
      "Requirement already satisfied: langcodes>=3.3.0 in /home/yomguithereal/.pyenv/versions/3.8.16/envs/psia-python-advanced/lib/python3.8/site-packages (from courlan>=0.9.5->trafilatura<1.8,>=1.7->minet) (3.3.0)\n",
      "Requirement already satisfied: tld>=0.13 in /home/yomguithereal/.pyenv/versions/3.8.16/envs/psia-python-advanced/lib/python3.8/site-packages (from courlan>=0.9.5->trafilatura<1.8,>=1.7->minet) (0.13)\n",
      "Requirement already satisfied: mdurl~=0.1 in /home/yomguithereal/.pyenv/versions/3.8.16/envs/psia-python-advanced/lib/python3.8/site-packages (from markdown-it-py>=2.2.0->rich<14,>=13->minet) (0.1.2)\n",
      "Requirement already satisfied: six>=1.5 in /home/yomguithereal/.pyenv/versions/3.8.16/envs/psia-python-advanced/lib/python3.8/site-packages (from python-dateutil->dateparser>=1.1.1->minet) (1.16.0)\n",
      "Requirement already satisfied: backports.zoneinfo in /home/yomguithereal/.pyenv/versions/3.8.16/envs/psia-python-advanced/lib/python3.8/site-packages (from tzlocal->dateparser>=1.1.1->minet) (0.2.1)\n",
      "Using cached greenlet-2.0.2-cp38-cp38-manylinux_2_17_x86_64.manylinux2014_x86_64.whl (618 kB)\n",
      "Installing collected packages: greenlet\n",
      "  Attempting uninstall: greenlet\n",
      "    Found existing installation: greenlet 2.0.0\n",
      "    Uninstalling greenlet-2.0.0:\n",
      "      Successfully uninstalled greenlet-2.0.0\n",
      "Successfully installed greenlet-2.0.2\n"
     ]
    }
   ],
   "source": [
    "!pip install minet"
   ]
  },
  {
   "cell_type": "code",
   "execution_count": 2,
   "id": "a6a7e13e-8c7e-4026-b325-b44ccad7a77b",
   "metadata": {},
   "outputs": [
    {
     "name": "stdout",
     "output_type": "stream",
     "text": [
      "Requirement already satisfied: tqdm in /home/yomguithereal/.pyenv/versions/3.8.16/envs/psia-python-advanced/lib/python3.8/site-packages (4.66.2)\n"
     ]
    }
   ],
   "source": [
    "!pip install tqdm"
   ]
  },
  {
   "cell_type": "code",
   "execution_count": 3,
   "id": "5d401c6e-0627-4bdb-9a97-9311dc936407",
   "metadata": {},
   "outputs": [
    {
     "name": "stdout",
     "output_type": "stream",
     "text": [
      "\u001b[39mminet 1.5.1 (2024-03-28)\u001b[0m\n"
     ]
    }
   ],
   "source": [
    "!minet --version"
   ]
  },
  {
   "cell_type": "code",
   "execution_count": 4,
   "id": "14f791fb-9cfc-40dd-a0a8-022cb1c394f9",
   "metadata": {},
   "outputs": [],
   "source": [
    "# DO NOT DO THAT\n",
    "from minet.cli.utils import get_rcfile"
   ]
  },
  {
   "cell_type": "code",
   "execution_count": 5,
   "id": "c8899586-fa3c-494c-aff4-d6cbd15b5845",
   "metadata": {},
   "outputs": [],
   "source": [
    "from minet.youtube import YouTubeAPIClient\n",
    "from tqdm import tqdm"
   ]
  },
  {
   "cell_type": "code",
   "execution_count": 6,
   "id": "0c15980e-f840-46fc-bc44-ccf40576825c",
   "metadata": {},
   "outputs": [],
   "source": [
    "# NOTE: students, this is you\n",
    "# client = YouTubeAPIClient(\"your-api-key\", sleep=False)\n",
    "client = YouTubeAPIClient(get_rcfile()['youtube']['key'], sleep=False)"
   ]
  },
  {
   "cell_type": "code",
   "execution_count": 7,
   "id": "32d6b2db-08d6-462a-ba17-227040fbf00a",
   "metadata": {},
   "outputs": [
    {
     "data": {
      "text/plain": [
       "{'kind': 'youtube#video',\n",
       " 'etag': 'A0aE2Icdl6FsHaXNGQSndw4PR5Y',\n",
       " 'id': 'yaYGnW9FQsg',\n",
       " 'snippet': {'publishedAt': '2024-03-28T22:10:16Z',\n",
       "  'channelId': 'UCJLsfsSpIiUBPvYYSUAclrw',\n",
       "  'title': \"SAV de l'Archéologie : Soirée en direct #02\",\n",
       "  'description': \"Service Après Vente de l'Archéologie bonjour !\\n\\nOn se retrouve en live et vous pourrez monter sur Discord pour poser vos question et discuter un peu d'archéo dans les grandes ligne. \\n\\nAbonnez vous et suivez : \\nFacebook : http://facebook.com/tpsmort \\n\\nSi vous avez envie d'aider la chaîne :\\nhttps://fr.tipeee.com/tempsmort\\n\\nLes sujets de la soirée :\\nà venir\\n\\nLe discord pour accéder au SAS :\\nhttps://discord.gg/QSpd6PXB\\n\\n\\nMay His story Be With You !\",\n",
       "  'thumbnails': {'default': {'url': 'https://i.ytimg.com/vi/yaYGnW9FQsg/default.jpg',\n",
       "    'width': 120,\n",
       "    'height': 90},\n",
       "   'medium': {'url': 'https://i.ytimg.com/vi/yaYGnW9FQsg/mqdefault.jpg',\n",
       "    'width': 320,\n",
       "    'height': 180},\n",
       "   'high': {'url': 'https://i.ytimg.com/vi/yaYGnW9FQsg/hqdefault.jpg',\n",
       "    'width': 480,\n",
       "    'height': 360},\n",
       "   'standard': {'url': 'https://i.ytimg.com/vi/yaYGnW9FQsg/sddefault.jpg',\n",
       "    'width': 640,\n",
       "    'height': 480},\n",
       "   'maxres': {'url': 'https://i.ytimg.com/vi/yaYGnW9FQsg/maxresdefault.jpg',\n",
       "    'width': 1280,\n",
       "    'height': 720}},\n",
       "  'channelTitle': 'Temps Mort',\n",
       "  'categoryId': '27',\n",
       "  'liveBroadcastContent': 'none',\n",
       "  'localized': {'title': \"SAV de l'Archéologie : Soirée en direct #02\",\n",
       "   'description': \"Service Après Vente de l'Archéologie bonjour !\\n\\nOn se retrouve en live et vous pourrez monter sur Discord pour poser vos question et discuter un peu d'archéo dans les grandes ligne. \\n\\nAbonnez vous et suivez : \\nFacebook : http://facebook.com/tpsmort \\n\\nSi vous avez envie d'aider la chaîne :\\nhttps://fr.tipeee.com/tempsmort\\n\\nLes sujets de la soirée :\\nà venir\\n\\nLe discord pour accéder au SAS :\\nhttps://discord.gg/QSpd6PXB\\n\\n\\nMay His story Be With You !\"},\n",
       "  'defaultAudioLanguage': 'fr'},\n",
       " 'contentDetails': {'duration': 'PT2H7M19S',\n",
       "  'dimension': '2d',\n",
       "  'definition': 'hd',\n",
       "  'caption': 'false',\n",
       "  'licensedContent': True,\n",
       "  'contentRating': {},\n",
       "  'projection': 'rectangular'},\n",
       " 'statistics': {'viewCount': '4317',\n",
       "  'likeCount': '288',\n",
       "  'favoriteCount': '0',\n",
       "  'commentCount': '35'},\n",
       " 'topicDetails': {'topicCategories': ['https://en.wikipedia.org/wiki/Knowledge',\n",
       "   'https://en.wikipedia.org/wiki/Religion']}}"
      ]
     },
     "execution_count": 7,
     "metadata": {},
     "output_type": "execute_result"
    }
   ],
   "source": [
    "client.video('https://www.youtube.com/watch?v=yaYGnW9FQsg', raw=True)"
   ]
  },
  {
   "cell_type": "code",
   "execution_count": 8,
   "id": "c76c34bf-1ebf-4a3c-8760-86ee589dfbc5",
   "metadata": {},
   "outputs": [
    {
     "data": {
      "text/plain": [
       "{'kind': 'youtube#channel',\n",
       " 'etag': 'WY5rjZQA2X7o8nulz9AVGr71hMU',\n",
       " 'id': 'UCjaCN9r_oyIgyUwY7wgACkA',\n",
       " 'snippet': {'title': 'Sciences Po',\n",
       "  'description': 'Founded in 1872, Sciences Po is France’s leading university in the social sciences. \\n\\nSciences Po offers degrees at the Undergraduate, Masters, Ph.D and Executive Education levels. \\n \\nIn France, life at Sciences Po takes place on seven multicultural campuses. They host 13.000 students, 46%  of which have a nationality other than French, bringing together 150 nationalities.Education at Sciences Po is interdisciplinary, multicultural and multilingual.\\n \\nSciences Po also developed double degrees and exchange programmes with prestigious partner universities including Columbia University, Freie Universität Berlin, Fudan University, Harvard University, Keio University, LSE, Princeton University, etc.\\n\\nThe research projects bring together over 220 faculty members.\\n\\nAs a result of this complete education, Sciences Po graduates are highly sought after by top recruiters: 87% of Sciences Po graduates are hired within six months of obtaining their degree.',\n",
       "  'customUrl': '@sciencespo',\n",
       "  'publishedAt': '2006-06-06T20:16:50Z',\n",
       "  'thumbnails': {'default': {'url': 'https://yt3.ggpht.com/ytc/AIdro_m-cJPk75Ve7s9KU-WFh5089n_nnLwGeVecMl0UE1jWXWM=s88-c-k-c0x00ffffff-no-rj',\n",
       "    'width': 88,\n",
       "    'height': 88},\n",
       "   'medium': {'url': 'https://yt3.ggpht.com/ytc/AIdro_m-cJPk75Ve7s9KU-WFh5089n_nnLwGeVecMl0UE1jWXWM=s240-c-k-c0x00ffffff-no-rj',\n",
       "    'width': 240,\n",
       "    'height': 240},\n",
       "   'high': {'url': 'https://yt3.ggpht.com/ytc/AIdro_m-cJPk75Ve7s9KU-WFh5089n_nnLwGeVecMl0UE1jWXWM=s800-c-k-c0x00ffffff-no-rj',\n",
       "    'width': 800,\n",
       "    'height': 800}},\n",
       "  'localized': {'title': 'Sciences Po',\n",
       "   'description': 'Founded in 1872, Sciences Po is France’s leading university in the social sciences. \\n\\nSciences Po offers degrees at the Undergraduate, Masters, Ph.D and Executive Education levels. \\n \\nIn France, life at Sciences Po takes place on seven multicultural campuses. They host 13.000 students, 46%  of which have a nationality other than French, bringing together 150 nationalities.Education at Sciences Po is interdisciplinary, multicultural and multilingual.\\n \\nSciences Po also developed double degrees and exchange programmes with prestigious partner universities including Columbia University, Freie Universität Berlin, Fudan University, Harvard University, Keio University, LSE, Princeton University, etc.\\n\\nThe research projects bring together over 220 faculty members.\\n\\nAs a result of this complete education, Sciences Po graduates are highly sought after by top recruiters: 87% of Sciences Po graduates are hired within six months of obtaining their degree.'},\n",
       "  'country': 'FR'},\n",
       " 'contentDetails': {'relatedPlaylists': {'likes': '',\n",
       "   'uploads': 'UUjaCN9r_oyIgyUwY7wgACkA'}},\n",
       " 'statistics': {'viewCount': '9009117',\n",
       "  'subscriberCount': '56400',\n",
       "  'hiddenSubscriberCount': False,\n",
       "  'videoCount': '1895'},\n",
       " 'topicDetails': {'topicIds': ['/m/05qt0', '/m/098wr', '/m/01k8wb'],\n",
       "  'topicCategories': ['https://en.wikipedia.org/wiki/Politics',\n",
       "   'https://en.wikipedia.org/wiki/Society',\n",
       "   'https://en.wikipedia.org/wiki/Knowledge']},\n",
       " 'status': {'privacyStatus': 'public',\n",
       "  'isLinked': True,\n",
       "  'longUploadsStatus': 'longUploadsUnspecified'},\n",
       " 'brandingSettings': {'channel': {'title': 'Sciences Po',\n",
       "   'description': 'Founded in 1872, Sciences Po is France’s leading university in the social sciences. \\n\\nSciences Po offers degrees at the Undergraduate, Masters, Ph.D and Executive Education levels. \\n \\nIn France, life at Sciences Po takes place on seven multicultural campuses. They host 13.000 students, 46%  of which have a nationality other than French, bringing together 150 nationalities.Education at Sciences Po is interdisciplinary, multicultural and multilingual.\\n \\nSciences Po also developed double degrees and exchange programmes with prestigious partner universities including Columbia University, Freie Universität Berlin, Fudan University, Harvard University, Keio University, LSE, Princeton University, etc.\\n\\nThe research projects bring together over 220 faculty members.\\n\\nAs a result of this complete education, Sciences Po graduates are highly sought after by top recruiters: 87% of Sciences Po graduates are hired within six months of obtaining their degree.',\n",
       "   'keywords': 'Sciences Po education sciencespo \"sciences po\"',\n",
       "   'trackingAnalyticsAccountId': 'UA-89113945-1',\n",
       "   'unsubscribedTrailer': 'Gvn6W6bDxAk',\n",
       "   'country': 'FR'},\n",
       "  'image': {'bannerExternalUrl': 'https://yt3.googleusercontent.com/dEBWpN0EJ8GhHIWnFydlrsgfSAOxxkCl1acFVEs5aYqOk-ePaxsxSgg_ha5ITkMgpUvs6WreLw'}}}"
      ]
     },
     "execution_count": 8,
     "metadata": {},
     "output_type": "execute_result"
    }
   ],
   "source": [
    "client.channel('https://www.youtube.com/@sciencespo', raw=True)"
   ]
  },
  {
   "cell_type": "code",
   "execution_count": 9,
   "id": "5947b2e5-fe9e-4636-b7df-57d69ec3b7dc",
   "metadata": {},
   "outputs": [
    {
     "name": "stderr",
     "output_type": "stream",
     "text": [
      "1898it [00:11, 163.19it/s]\n"
     ]
    },
    {
     "data": {
      "text/plain": [
       "1898"
      ]
     },
     "execution_count": 9,
     "metadata": {},
     "output_type": "execute_result"
    }
   ],
   "source": [
    "VIDEOS = []\n",
    "\n",
    "for video in tqdm(client.channel_videos('https://www.youtube.com/@sciencespo', raw=True)):\n",
    "    VIDEOS.append(video)\n",
    "\n",
    "len(VIDEOS)"
   ]
  },
  {
   "cell_type": "code",
   "execution_count": 10,
   "id": "545bc78d-dcca-4c6f-a5fe-d68f672cd93b",
   "metadata": {},
   "outputs": [
    {
     "data": {
      "text/plain": [
       "{'kind': 'youtube#playlistItem',\n",
       " 'etag': 'Nw_-Ll9FkPmGYxE38tN0cdmAl4I',\n",
       " 'id': 'VVVqYUNOOXJfb3lJZ3lVd1k3d2dBQ2tBLk9rNVZCdGVWYlRv',\n",
       " 'snippet': {'publishedAt': '2024-04-04T15:45:01Z',\n",
       "  'channelId': 'UCjaCN9r_oyIgyUwY7wgACkA',\n",
       "  'title': \"European Personal Data in the USA: The Privacy Shield Framework, with Florence G'sell\",\n",
       "  'description': 'In this exclusive video-interview, Professor Florence G’sell, Sciences Po Digital Governance and Sovereignty Chairholder, delves into the ongoing legal saga of European personal data transfers to the US. After summarizing the rich history of legal decisions and agreements concerning the issue and legal problems revolving around the US surveillance practices, she shares valuable insights on the upcoming session of the US Congress regarding the Section 702 of the Foreign Intelligence Surveillance Act as well as its potential impact on the future ECJ decision on the matter.\\nThis interview was conducted by Can Şimşek.\\nFollow our activities on our website https://www.sciencespo.fr/public/chaire-numerique/en/ and X account : https://twitter.com/ScPoChaireDGS\\n---\\nSciences Po is an international research university, both selective and open onto the world, ranking among the finest institutions in the fields of humanities and social sciences. Click for more information about Sciences Po. http://bit.ly/2bQkwiG\\n\\n---\\nFollow us on social media!\\n---\\n\\nYoutube: https://www.youtube.com/channel/UCjaCN9r_oyIgyUwY7wgACkA\\nFacebook: https://www.facebook.com/SciencesPo.En/\\nTwitter: https://twitter.com/sciencespo\\nInstagram: https://www.instagram.com/sciencespo/\\nTikTok : https://www.tiktok.com/@sciencespo\\nSnapchat: https://www.snapchat.com/add/sciencespo\\nLinkedIn : https://fr.linkedin.com/school/sciences-po/\\nFacebook group: https://www.facebook.com/groups/sciencespogroup/\\n\\nOur newsletter: http://bit.ly/2NPQ6yo\\nSciences Po App - Google Play: https://bit.ly/3sH5LpR\\nSciences Po App - App Store: https://apple.co/3Bl43OC',\n",
       "  'thumbnails': {'default': {'url': 'https://i.ytimg.com/vi/Ok5VBteVbTo/default.jpg',\n",
       "    'width': 120,\n",
       "    'height': 90},\n",
       "   'medium': {'url': 'https://i.ytimg.com/vi/Ok5VBteVbTo/mqdefault.jpg',\n",
       "    'width': 320,\n",
       "    'height': 180},\n",
       "   'high': {'url': 'https://i.ytimg.com/vi/Ok5VBteVbTo/hqdefault.jpg',\n",
       "    'width': 480,\n",
       "    'height': 360},\n",
       "   'standard': {'url': 'https://i.ytimg.com/vi/Ok5VBteVbTo/sddefault.jpg',\n",
       "    'width': 640,\n",
       "    'height': 480},\n",
       "   'maxres': {'url': 'https://i.ytimg.com/vi/Ok5VBteVbTo/maxresdefault.jpg',\n",
       "    'width': 1280,\n",
       "    'height': 720}},\n",
       "  'channelTitle': 'Sciences Po',\n",
       "  'playlistId': 'UUjaCN9r_oyIgyUwY7wgACkA',\n",
       "  'position': 0,\n",
       "  'resourceId': {'kind': 'youtube#video', 'videoId': 'Ok5VBteVbTo'},\n",
       "  'videoOwnerChannelTitle': 'Sciences Po',\n",
       "  'videoOwnerChannelId': 'UCjaCN9r_oyIgyUwY7wgACkA'}}"
      ]
     },
     "execution_count": 10,
     "metadata": {},
     "output_type": "execute_result"
    }
   ],
   "source": [
    "VIDEOS[0]"
   ]
  },
  {
   "cell_type": "code",
   "execution_count": 11,
   "id": "f1207278-b593-48e4-8a1e-b73b72d37dff",
   "metadata": {},
   "outputs": [],
   "source": [
    "VIDEO_IDS = []\n",
    "\n",
    "for video in VIDEOS:\n",
    "    video_id = video['snippet']['resourceId']['videoId']\n",
    "    VIDEO_IDS.append(video_id)\n",
    "\n",
    "assert len(VIDEOS) == len(VIDEO_IDS)"
   ]
  },
  {
   "cell_type": "code",
   "execution_count": 12,
   "id": "3fb1a3d8-2c7f-4a08-80b2-afca03539809",
   "metadata": {},
   "outputs": [
    {
     "name": "stderr",
     "output_type": "stream",
     "text": [
      "1898it [00:13, 137.51it/s]\n"
     ]
    },
    {
     "data": {
      "text/plain": [
       "1898"
      ]
     },
     "execution_count": 12,
     "metadata": {},
     "output_type": "execute_result"
    }
   ],
   "source": [
    "ENRICHED_VIDEOS = []\n",
    "\n",
    "for video_id, video in tqdm(client.videos(VIDEO_IDS, raw=True)):\n",
    "    ENRICHED_VIDEOS.append(video)\n",
    "\n",
    "len(ENRICHED_VIDEOS)"
   ]
  },
  {
   "cell_type": "code",
   "execution_count": 13,
   "id": "093d5ec4-f429-4cd7-baab-e0ad9755032f",
   "metadata": {},
   "outputs": [
    {
     "data": {
      "text/plain": [
       "{'kind': 'youtube#video',\n",
       " 'etag': 'bw4j1_keV3Q93S6NoAh6sDKNOk4',\n",
       " 'id': 'Ok5VBteVbTo',\n",
       " 'snippet': {'publishedAt': '2024-04-04T15:45:01Z',\n",
       "  'channelId': 'UCjaCN9r_oyIgyUwY7wgACkA',\n",
       "  'title': \"European Personal Data in the USA: The Privacy Shield Framework, with Florence G'sell\",\n",
       "  'description': 'In this exclusive video-interview, Professor Florence G’sell, Sciences Po Digital Governance and Sovereignty Chairholder, delves into the ongoing legal saga of European personal data transfers to the US. After summarizing the rich history of legal decisions and agreements concerning the issue and legal problems revolving around the US surveillance practices, she shares valuable insights on the upcoming session of the US Congress regarding the Section 702 of the Foreign Intelligence Surveillance Act as well as its potential impact on the future ECJ decision on the matter.\\nThis interview was conducted by Can Şimşek.\\nFollow our activities on our website https://www.sciencespo.fr/public/chaire-numerique/en/ and X account : https://twitter.com/ScPoChaireDGS\\n---\\nSciences Po is an international research university, both selective and open onto the world, ranking among the finest institutions in the fields of humanities and social sciences. Click for more information about Sciences Po. http://bit.ly/2bQkwiG\\n\\n---\\nFollow us on social media!\\n---\\n\\nYoutube: https://www.youtube.com/channel/UCjaCN9r_oyIgyUwY7wgACkA\\nFacebook: https://www.facebook.com/SciencesPo.En/\\nTwitter: https://twitter.com/sciencespo\\nInstagram: https://www.instagram.com/sciencespo/\\nTikTok : https://www.tiktok.com/@sciencespo\\nSnapchat: https://www.snapchat.com/add/sciencespo\\nLinkedIn : https://fr.linkedin.com/school/sciences-po/\\nFacebook group: https://www.facebook.com/groups/sciencespogroup/\\n\\nOur newsletter: http://bit.ly/2NPQ6yo\\nSciences Po App - Google Play: https://bit.ly/3sH5LpR\\nSciences Po App - App Store: https://apple.co/3Bl43OC',\n",
       "  'thumbnails': {'default': {'url': 'https://i.ytimg.com/vi/Ok5VBteVbTo/default.jpg',\n",
       "    'width': 120,\n",
       "    'height': 90},\n",
       "   'medium': {'url': 'https://i.ytimg.com/vi/Ok5VBteVbTo/mqdefault.jpg',\n",
       "    'width': 320,\n",
       "    'height': 180},\n",
       "   'high': {'url': 'https://i.ytimg.com/vi/Ok5VBteVbTo/hqdefault.jpg',\n",
       "    'width': 480,\n",
       "    'height': 360},\n",
       "   'standard': {'url': 'https://i.ytimg.com/vi/Ok5VBteVbTo/sddefault.jpg',\n",
       "    'width': 640,\n",
       "    'height': 480},\n",
       "   'maxres': {'url': 'https://i.ytimg.com/vi/Ok5VBteVbTo/maxresdefault.jpg',\n",
       "    'width': 1280,\n",
       "    'height': 720}},\n",
       "  'channelTitle': 'Sciences Po',\n",
       "  'tags': ['sciences po',\n",
       "   'IEP de Paris',\n",
       "   'sciences-po',\n",
       "   'sciencespo',\n",
       "   'science po',\n",
       "   'university',\n",
       "   'IEP',\n",
       "   'study in France'],\n",
       "  'categoryId': '27',\n",
       "  'liveBroadcastContent': 'none',\n",
       "  'defaultLanguage': 'fr',\n",
       "  'localized': {'title': \"European Personal Data in the USA: The Privacy Shield Framework, with Florence G'sell\",\n",
       "   'description': 'In this exclusive video-interview, Professor Florence G’sell, Sciences Po Digital Governance and Sovereignty Chairholder, delves into the ongoing legal saga of European personal data transfers to the US. After summarizing the rich history of legal decisions and agreements concerning the issue and legal problems revolving around the US surveillance practices, she shares valuable insights on the upcoming session of the US Congress regarding the Section 702 of the Foreign Intelligence Surveillance Act as well as its potential impact on the future ECJ decision on the matter.\\nThis interview was conducted by Can Şimşek.\\nFollow our activities on our website https://www.sciencespo.fr/public/chaire-numerique/en/ and X account : https://twitter.com/ScPoChaireDGS\\n---\\nSciences Po is an international research university, both selective and open onto the world, ranking among the finest institutions in the fields of humanities and social sciences. Click for more information about Sciences Po. http://bit.ly/2bQkwiG\\n\\n---\\nFollow us on social media!\\n---\\n\\nYoutube: https://www.youtube.com/channel/UCjaCN9r_oyIgyUwY7wgACkA\\nFacebook: https://www.facebook.com/SciencesPo.En/\\nTwitter: https://twitter.com/sciencespo\\nInstagram: https://www.instagram.com/sciencespo/\\nTikTok : https://www.tiktok.com/@sciencespo\\nSnapchat: https://www.snapchat.com/add/sciencespo\\nLinkedIn : https://fr.linkedin.com/school/sciences-po/\\nFacebook group: https://www.facebook.com/groups/sciencespogroup/\\n\\nOur newsletter: http://bit.ly/2NPQ6yo\\nSciences Po App - Google Play: https://bit.ly/3sH5LpR\\nSciences Po App - App Store: https://apple.co/3Bl43OC'},\n",
       "  'defaultAudioLanguage': 'en'},\n",
       " 'contentDetails': {'duration': 'PT3M17S',\n",
       "  'dimension': '2d',\n",
       "  'definition': 'hd',\n",
       "  'caption': 'false',\n",
       "  'licensedContent': False,\n",
       "  'contentRating': {},\n",
       "  'projection': 'rectangular'},\n",
       " 'statistics': {'viewCount': '53', 'favoriteCount': '0', 'commentCount': '0'},\n",
       " 'topicDetails': {'topicCategories': ['https://en.wikipedia.org/wiki/Knowledge']}}"
      ]
     },
     "execution_count": 13,
     "metadata": {},
     "output_type": "execute_result"
    }
   ],
   "source": [
    "ENRICHED_VIDEOS[0]"
   ]
  },
  {
   "cell_type": "code",
   "execution_count": 16,
   "id": "45065164-cbbc-4659-9ba7-70241450ec5b",
   "metadata": {},
   "outputs": [
    {
     "data": {
      "text/plain": [
       "795"
      ]
     },
     "execution_count": 16,
     "metadata": {},
     "output_type": "execute_result"
    }
   ],
   "source": [
    "COMMENTED_VIDEO_IDS = []\n",
    "\n",
    "for video in ENRICHED_VIDEOS:\n",
    "    comment_count = int(video['statistics'].get('commentCount', 0))\n",
    "\n",
    "    if comment_count > 0:\n",
    "        COMMENTED_VIDEO_IDS.append(video['id'])\n",
    "\n",
    "len(COMMENTED_VIDEO_IDS)"
   ]
  },
  {
   "cell_type": "code",
   "execution_count": 27,
   "id": "9e186c62-6a4e-4c2d-8fdb-6790d6aeec05",
   "metadata": {},
   "outputs": [
    {
     "name": "stderr",
     "output_type": "stream",
     "text": [
      "100%|███████████████████████████████████████████████████████████████████████████| 795/795 [01:30<00:00,  8.79it/s]\n"
     ]
    },
    {
     "data": {
      "text/plain": [
       "7024"
      ]
     },
     "execution_count": 27,
     "metadata": {},
     "output_type": "execute_result"
    }
   ],
   "source": [
    "COMMENTS = []\n",
    "\n",
    "for commented_video_id in tqdm(COMMENTED_VIDEO_IDS):\n",
    "    for comment in client.comments(commented_video_id):\n",
    "        COMMENTS.append(comment)\n",
    "\n",
    "len(COMMENTS)"
   ]
  },
  {
   "cell_type": "markdown",
   "id": "b724ee93-a7bb-4659-98be-c8f0301a15a0",
   "metadata": {},
   "source": [
    "## Analyzing the comments"
   ]
  },
  {
   "cell_type": "markdown",
   "id": "c09b87c2-10f6-4547-be4b-d9d2ae6ac1b9",
   "metadata": {},
   "source": [
    "### Mean/median of comment likes"
   ]
  },
  {
   "cell_type": "code",
   "execution_count": 35,
   "id": "84babbb2-1985-49e2-9e97-6e9b281b67e2",
   "metadata": {},
   "outputs": [],
   "source": [
    "import statistics"
   ]
  },
  {
   "cell_type": "code",
   "execution_count": 45,
   "id": "489a02c5-1d39-4429-8a2d-860117b08e73",
   "metadata": {},
   "outputs": [
    {
     "data": {
      "text/plain": [
       "(4.12001708428246, 0, 1341)"
      ]
     },
     "execution_count": 45,
     "metadata": {},
     "output_type": "execute_result"
    }
   ],
   "source": [
    "like_counts = []\n",
    "\n",
    "for comment in COMMENTS:\n",
    "    like_counts.append(comment.like_count)\n",
    "\n",
    "statistics.mean(like_counts), min(like_counts), max(like_counts)"
   ]
  },
  {
   "cell_type": "code",
   "execution_count": 44,
   "id": "1a51126d-5123-423f-a304-9f646d46facb",
   "metadata": {},
   "outputs": [
    {
     "data": {
      "text/plain": [
       "1.0"
      ]
     },
     "execution_count": 44,
     "metadata": {},
     "output_type": "execute_result"
    }
   ],
   "source": [
    "statistics.median([comment.like_count for comment in COMMENTS])"
   ]
  },
  {
   "cell_type": "code",
   "execution_count": 54,
   "id": "cf7fb767-f68a-477a-8982-6adf8a4d1713",
   "metadata": {},
   "outputs": [
    {
     "data": {
      "text/plain": [
       "('Ils confondent être éloquents et faire de la comédie. Politicien, humoriste, même formation.',\n",
       " 1341,\n",
       " '@nephastgweiz1022')"
      ]
     },
     "execution_count": 54,
     "metadata": {},
     "output_type": "execute_result"
    }
   ],
   "source": [
    "# Getting the text from the most liked comment\n",
    "comment = max(COMMENTS, key=lambda c: c.like_count)\n",
    "comment.text, comment.like_count, comment.author_name"
   ]
  },
  {
   "cell_type": "code",
   "execution_count": 56,
   "id": "0970ee79-b46f-4df3-8b91-b9d7551e0907",
   "metadata": {},
   "outputs": [],
   "source": [
    "# Let's get to know the commenters\n",
    "from collections import Counter\n",
    "\n",
    "commenters_by_comment_count = Counter()\n",
    "commenters_by_like_count = Counter()\n",
    "\n",
    "for comment in COMMENTS:\n",
    "    author = comment.author_name\n",
    "    commenters_by_comment_count[author] += 1\n",
    "    commenters_by_like_count[author] += comment.like_count"
   ]
  },
  {
   "cell_type": "code",
   "execution_count": 57,
   "id": "2f0dc382-2c42-47e2-9940-2426fb1fa9ab",
   "metadata": {},
   "outputs": [
    {
     "data": {
      "text/plain": [
       "[('@sciencespo', 55),\n",
       " ('@svavhel', 44),\n",
       " ('@freikorpsdamonisch8127', 40),\n",
       " ('@toughr1506', 35),\n",
       " ('@marie-pierreconde1852', 30)]"
      ]
     },
     "execution_count": 57,
     "metadata": {},
     "output_type": "execute_result"
    }
   ],
   "source": [
    "commenters_by_comment_count.most_common(5)"
   ]
  },
  {
   "cell_type": "code",
   "execution_count": 58,
   "id": "876f3495-187c-4d8f-a5d1-4ad8baec00b3",
   "metadata": {},
   "outputs": [
    {
     "data": {
      "text/plain": [
       "[('@nephastgweiz1022', 1341),\n",
       " ('@cloudy-sky134', 782),\n",
       " ('@guillaumeb3711', 766),\n",
       " ('@shawnchauvet5084', 653),\n",
       " ('@user-eb1qb3jw2c', 584)]"
      ]
     },
     "execution_count": 58,
     "metadata": {},
     "output_type": "execute_result"
    }
   ],
   "source": [
    "commenters_by_like_count.most_common(5)"
   ]
  },
  {
   "cell_type": "code",
   "execution_count": 66,
   "id": "51934e93-46ea-4b1a-8e7f-be3523e0f9b4",
   "metadata": {},
   "outputs": [
    {
     "name": "stdout",
     "output_type": "stream",
     "text": [
      "0 Hello,\n",
      "\n",
      "Thank you for your interest in Sciences Po! \n",
      "\n",
      "We welcome all applicant profiles regardless of background and country of origin. What matters most to us is your talent and your desire to pursue a Sciences Po education. Applications must demonstrate the candidate’s academic excellence, desire to study at Sciences Po, a clear and purposeful set of personal goals, and involvement in extra-curricular activities. The application and interviews give each candidate the opportunity to present his or her qualities and potential. \n",
      "\n",
      "Please feel free to ask if you need further information,\n",
      "Kind regards.\n",
      "\n"
     ]
    }
   ],
   "source": [
    "# Let's investigate a user\n",
    "for comment in COMMENTS:\n",
    "    if comment.author_name != '@sciencespo':\n",
    "        continue\n",
    "\n",
    "    print(comment.like_count, comment.text)\n",
    "    print()\n",
    "\n",
    "    # Remove this to read all the comments\n",
    "    break"
   ]
  },
  {
   "cell_type": "code",
   "execution_count": 75,
   "id": "33e24838-5571-4d9b-bf1b-32af32e403d6",
   "metadata": {},
   "outputs": [
    {
     "data": {
      "text/plain": [
       "1898"
      ]
     },
     "execution_count": 75,
     "metadata": {},
     "output_type": "execute_result"
    }
   ],
   "source": [
    "# Let's find the videos commented by some user\n",
    "VIDEO_INDEX = {}\n",
    "\n",
    "for video in ENRICHED_VIDEOS:\n",
    "    VIDEO_INDEX[video[\"id\"]] = video\n",
    "\n",
    "len(VIDEO_INDEX)"
   ]
  },
  {
   "cell_type": "code",
   "execution_count": 73,
   "id": "825ae103-814f-40ed-a407-c6298849d834",
   "metadata": {},
   "outputs": [
    {
     "data": {
      "text/plain": [
       "[('9_0E9IzXT34', 40)]"
      ]
     },
     "execution_count": 73,
     "metadata": {},
     "output_type": "execute_result"
    }
   ],
   "source": [
    "user_videos = Counter()\n",
    "\n",
    "for comment in COMMENTS:\n",
    "    if comment.author_name == \"@freikorpsdamonisch8127\":\n",
    "        user_videos[comment.video_id] += 1\n",
    "\n",
    "user_videos.most_common(5)"
   ]
  },
  {
   "cell_type": "code",
   "execution_count": 74,
   "id": "2545c418-dd00-443b-9683-1e492e2c47f7",
   "metadata": {},
   "outputs": [
    {
     "data": {
      "text/plain": [
       "'Inside Russia with Ekaterina Schulmann'"
      ]
     },
     "execution_count": 74,
     "metadata": {},
     "output_type": "execute_result"
    }
   ],
   "source": [
    "VIDEO_INDEX[\"9_0E9IzXT34\"][\"snippet\"][\"title\"]"
   ]
  },
  {
   "cell_type": "markdown",
   "id": "6ea98c23-39ad-4295-a59d-9e34871a7838",
   "metadata": {},
   "source": [
    "### Counting the video topics"
   ]
  },
  {
   "cell_type": "code",
   "execution_count": 87,
   "id": "9da32a8f-266e-4731-971a-9994b1e279e1",
   "metadata": {},
   "outputs": [
    {
     "data": {
      "text/plain": [
       "['https:', '', 'en.wikipedia.org', 'wiki', 'Knowledge']"
      ]
     },
     "execution_count": 87,
     "metadata": {},
     "output_type": "execute_result"
    }
   ],
   "source": [
    "\"https://en.wikipedia.org/wiki/Knowledge\".split('/')"
   ]
  },
  {
   "cell_type": "code",
   "execution_count": 88,
   "id": "3b0e9488-cc83-43ef-9a1a-fed7c00a8b6b",
   "metadata": {},
   "outputs": [
    {
     "data": {
      "text/plain": [
       "'Knowledge'"
      ]
     },
     "execution_count": 88,
     "metadata": {},
     "output_type": "execute_result"
    }
   ],
   "source": [
    "\"https://en.wikipedia.org/wiki/Knowledge\".split('/')[-1]"
   ]
  },
  {
   "cell_type": "code",
   "execution_count": 86,
   "id": "115fe7c2-2b9a-41f1-a9cf-7f3a857be924",
   "metadata": {},
   "outputs": [
    {
     "data": {
      "text/plain": [
       "[('Knowledge', 943),\n",
       " ('Society', 890),\n",
       " ('Politics', 795),\n",
       " ('Business', 154),\n",
       " ('Health', 32),\n",
       " ('Entertainment', 32),\n",
       " ('Performing_arts', 24),\n",
       " ('Classical_music', 16),\n",
       " ('Music', 16),\n",
       " ('Tourism', 9),\n",
       " ('Religion', 8),\n",
       " ('Sport', 8),\n",
       " ('Technology', 7),\n",
       " ('Film', 6),\n",
       " ('Television_program', 6),\n",
       " ('Association_football', 4),\n",
       " ('Lifestyle_(sociology)', 4),\n",
       " ('Food', 3),\n",
       " ('Fashion', 2),\n",
       " ('Basketball', 2),\n",
       " ('Music_of_Asia', 2),\n",
       " ('Hobby', 1),\n",
       " ('Jazz', 1),\n",
       " ('Music_of_Latin_America', 1)]"
      ]
     },
     "execution_count": 86,
     "metadata": {},
     "output_type": "execute_result"
    }
   ],
   "source": [
    "# Let's investigate video topics\n",
    "topic_counts = Counter()\n",
    "\n",
    "for video in ENRICHED_VIDEOS:\n",
    "    topics = video.get(\"topicDetails\", {}).get(\"topicCategories\", [])\n",
    "\n",
    "    for topic in topics:\n",
    "        topic_counts[topic.split('/')[-1]] += 1\n",
    "\n",
    "topic_counts.most_common()"
   ]
  },
  {
   "cell_type": "code",
   "execution_count": 89,
   "id": "e7002cb1-277b-4a31-ab4e-14b877e3116b",
   "metadata": {},
   "outputs": [
    {
     "name": "stdout",
     "output_type": "stream",
     "text": [
      "Requirement already satisfied: ural in /home/yomguithereal/.pyenv/versions/3.8.16/envs/psia-python-advanced/lib/python3.8/site-packages (1.3.2)\n"
     ]
    }
   ],
   "source": [
    "!pip install ural"
   ]
  },
  {
   "cell_type": "markdown",
   "id": "16e14f82-dd26-47a6-bd45-951cec90c65c",
   "metadata": {},
   "source": [
    "### Analyzing the urls"
   ]
  },
  {
   "cell_type": "code",
   "execution_count": 93,
   "id": "381bf229-24d2-4b85-9baa-1327ca879efe",
   "metadata": {},
   "outputs": [],
   "source": [
    "from ural import urls_from_text, is_shortened_url, normalize_url"
   ]
  },
  {
   "cell_type": "code",
   "execution_count": 94,
   "id": "ce7b3f35-2688-4566-b3a8-618c7877d82c",
   "metadata": {},
   "outputs": [
    {
     "data": {
      "text/plain": [
       "([('youtube.com/watch?v=ZoKnhXnp-Zk', 3),\n",
       "  ('youtu.be/wDfDnwM2M_k', 3),\n",
       "  ('youtube.com/watch?v=QKZcRPz3dFE', 2),\n",
       "  ('youtu.be/pzKhhtQsFQ8', 2),\n",
       "  ('youtube.com/watch?v=fP2GOQdqg8c', 2),\n",
       "  ('amazon.com/Snakes-Vijaya-Viswanathan-Author-Malhotra/dp/9392209096', 2),\n",
       "  ('youtube.com/watch?v=kBCDU_PnavQ', 2),\n",
       "  ('youtube.com/watch?v=qbAlqvHE0Ao', 2),\n",
       "  ('penseespontaneedunjour.penseespontanedunjour.com', 2),\n",
       "  ('bit.ly/2sFrmDa', 2)],\n",
       " 0.3742690058479532)"
      ]
     },
     "execution_count": 94,
     "metadata": {},
     "output_type": "execute_result"
    }
   ],
   "source": [
    "urls = Counter()\n",
    "shortened_count = 0\n",
    "\n",
    "for comment in COMMENTS:\n",
    "    for url in urls_from_text(comment.text):\n",
    "        urls[normalize_url(url)] += 1\n",
    "\n",
    "        if is_shortened_url(url):\n",
    "            shortened_count += 1\n",
    "\n",
    "urls.most_common(10), shortened_count / len(urls)"
   ]
  },
  {
   "cell_type": "markdown",
   "id": "7d9b15b0-8f63-4ab9-8dcb-95713391cefe",
   "metadata": {},
   "source": [
    "### Resolving urls"
   ]
  },
  {
   "cell_type": "code",
   "execution_count": 95,
   "id": "107e7251-ab6e-4189-9c52-5d32902dea81",
   "metadata": {},
   "outputs": [],
   "source": [
    "from minet.web import resolve"
   ]
  },
  {
   "cell_type": "code",
   "execution_count": 97,
   "id": "3f4deccd-ef05-4b40-aad7-f3aa281ecbb6",
   "metadata": {},
   "outputs": [
    {
     "data": {
      "text/plain": [
       "[<Redirection type='location-header' status=301 url='https://bit.ly/2sFrmDa'>,\n",
       " <Redirection type='location-header' status=302 url='https://www.sciencespo.fr/formations/%C3%A9coles-masters#Masters'>,\n",
       " <Redirection type='hit' status=200 url='https://www.sciencespo.fr/fr/formations/ecoles/'>]"
      ]
     },
     "execution_count": 97,
     "metadata": {},
     "output_type": "execute_result"
    }
   ],
   "source": [
    "resolve('https://bit.ly/2sFrmDa')"
   ]
  },
  {
   "cell_type": "code",
   "execution_count": 98,
   "id": "0e18e755-fda9-41f4-b1b7-e31afc69f366",
   "metadata": {},
   "outputs": [
    {
     "data": {
      "text/plain": [
       "'https://www.sciencespo.fr/fr/formations/ecoles/'"
      ]
     },
     "execution_count": 98,
     "metadata": {},
     "output_type": "execute_result"
    }
   ],
   "source": [
    "resolve('https://bit.ly/2sFrmDa')[-1].url"
   ]
  },
  {
   "cell_type": "markdown",
   "id": "9f2181e4-af70-4547-bd4d-8f9e814c7281",
   "metadata": {},
   "source": [
    "## Searching for videos"
   ]
  },
  {
   "cell_type": "code",
   "execution_count": 101,
   "id": "f4416bf1-565e-478a-ba43-1b673782cc5a",
   "metadata": {},
   "outputs": [
    {
     "data": {
      "text/plain": [
       "10"
      ]
     },
     "execution_count": 101,
     "metadata": {},
     "output_type": "execute_result"
    }
   ],
   "source": [
    "SEARCHED_VIDEOS = []\n",
    "\n",
    "# This is costly API-wise (500 points)\n",
    "for video in client.search_videos(\"sciencespo\", raw=True):\n",
    "    SEARCHED_VIDEOS.append(video)\n",
    "\n",
    "    if len(SEARCHED_VIDEOS) >= 10:\n",
    "        break\n",
    "\n",
    "len(SEARCHED_VIDEOS)"
   ]
  },
  {
   "cell_type": "code",
   "execution_count": 102,
   "id": "c8c2d977-4994-4171-864b-70fed70590f0",
   "metadata": {},
   "outputs": [
    {
     "name": "stdout",
     "output_type": "stream",
     "text": [
      "Why I chose Sciences Po\n",
      "Congratulations on your admission to Sciences Po\n",
      "Les campus de Sciences Po / Sciences Po&#39;s campus overview\n",
      "Sciences Po - le film de nos 150 ans\n",
      "Sciences Po Paris : présentation du campus\n",
      "The Sciences Po campus in Menton\n",
      "SCIENCES PO : RÉPONSE À TOUTES VOS QUESTIONS (+ conseils, concours, mon avis...)\n",
      "La rentrée sur le nouveau campus de Sciences Po\n",
      "Sciences Po LIVE - Master Cycle d&#39;urbanisme\n",
      "Sciences Po, la rentrée 2022 du Collège universitaire\n"
     ]
    }
   ],
   "source": [
    "for video in SEARCHED_VIDEOS:\n",
    "    print(video[\"snippet\"][\"title\"])"
   ]
  },
  {
   "cell_type": "markdown",
   "id": "454261f6-0878-4bbb-bfea-8f45c6cf4bad",
   "metadata": {},
   "source": [
    "## A primer on pprint"
   ]
  },
  {
   "cell_type": "code",
   "execution_count": 103,
   "id": "b334c6f8-181b-4e43-972f-5fc9dbd9223e",
   "metadata": {},
   "outputs": [],
   "source": [
    "from pprint import pprint"
   ]
  },
  {
   "cell_type": "code",
   "execution_count": 105,
   "id": "f33abfd2-e455-4f51-a455-00c36b53d9f6",
   "metadata": {},
   "outputs": [
    {
     "name": "stdout",
     "output_type": "stream",
     "text": [
      "{'contentDetails': {'caption': 'false',\n",
      "                    'contentRating': {},\n",
      "                    'definition': 'hd',\n",
      "                    'dimension': '2d',\n",
      "                    'duration': 'PT3M17S',\n",
      "                    'licensedContent': False,\n",
      "                    'projection': 'rectangular'},\n",
      " 'etag': 'bw4j1_keV3Q93S6NoAh6sDKNOk4',\n",
      " 'id': 'Ok5VBteVbTo',\n",
      " 'kind': 'youtube#video',\n",
      " 'snippet': {'categoryId': '27',\n",
      "             'channelId': 'UCjaCN9r_oyIgyUwY7wgACkA',\n",
      "             'channelTitle': 'Sciences Po',\n",
      "             'defaultAudioLanguage': 'en',\n",
      "             'defaultLanguage': 'fr',\n",
      "             'description': 'In this exclusive video-interview, Professor '\n",
      "                            'Florence G’sell, Sciences Po Digital Governance '\n",
      "                            'and Sovereignty Chairholder, delves into the '\n",
      "                            'ongoing legal saga of European personal data '\n",
      "                            'transfers to the US. After summarizing the rich '\n",
      "                            'history of legal decisions and agreements '\n",
      "                            'concerning the issue and legal problems revolving '\n",
      "                            'around the US surveillance practices, she shares '\n",
      "                            'valuable insights on the upcoming session of the '\n",
      "                            'US Congress regarding the Section 702 of the '\n",
      "                            'Foreign Intelligence Surveillance Act as well as '\n",
      "                            'its potential impact on the future ECJ decision '\n",
      "                            'on the matter.\\n'\n",
      "                            'This interview was conducted by Can Şimşek.\\n'\n",
      "                            'Follow our activities on our website '\n",
      "                            'https://www.sciencespo.fr/public/chaire-numerique/en/ '\n",
      "                            'and X account : '\n",
      "                            'https://twitter.com/ScPoChaireDGS\\n'\n",
      "                            '---\\n'\n",
      "                            'Sciences Po is an international research '\n",
      "                            'university, both selective and open onto the '\n",
      "                            'world, ranking among the finest institutions in '\n",
      "                            'the fields of humanities and social sciences. '\n",
      "                            'Click for more information about Sciences Po. '\n",
      "                            'http://bit.ly/2bQkwiG\\n'\n",
      "                            '\\n'\n",
      "                            '---\\n'\n",
      "                            'Follow us on social media!\\n'\n",
      "                            '---\\n'\n",
      "                            '\\n'\n",
      "                            'Youtube: '\n",
      "                            'https://www.youtube.com/channel/UCjaCN9r_oyIgyUwY7wgACkA\\n'\n",
      "                            'Facebook: '\n",
      "                            'https://www.facebook.com/SciencesPo.En/\\n'\n",
      "                            'Twitter: https://twitter.com/sciencespo\\n'\n",
      "                            'Instagram: https://www.instagram.com/sciencespo/\\n'\n",
      "                            'TikTok : https://www.tiktok.com/@sciencespo\\n'\n",
      "                            'Snapchat: '\n",
      "                            'https://www.snapchat.com/add/sciencespo\\n'\n",
      "                            'LinkedIn : '\n",
      "                            'https://fr.linkedin.com/school/sciences-po/\\n'\n",
      "                            'Facebook group: '\n",
      "                            'https://www.facebook.com/groups/sciencespogroup/\\n'\n",
      "                            '\\n'\n",
      "                            'Our newsletter: http://bit.ly/2NPQ6yo\\n'\n",
      "                            'Sciences Po App - Google Play: '\n",
      "                            'https://bit.ly/3sH5LpR\\n'\n",
      "                            'Sciences Po App - App Store: '\n",
      "                            'https://apple.co/3Bl43OC',\n",
      "             'liveBroadcastContent': 'none',\n",
      "             'localized': {'description': 'In this exclusive video-interview, '\n",
      "                                          'Professor Florence G’sell, Sciences '\n",
      "                                          'Po Digital Governance and '\n",
      "                                          'Sovereignty Chairholder, delves '\n",
      "                                          'into the ongoing legal saga of '\n",
      "                                          'European personal data transfers to '\n",
      "                                          'the US. After summarizing the rich '\n",
      "                                          'history of legal decisions and '\n",
      "                                          'agreements concerning the issue and '\n",
      "                                          'legal problems revolving around the '\n",
      "                                          'US surveillance practices, she '\n",
      "                                          'shares valuable insights on the '\n",
      "                                          'upcoming session of the US Congress '\n",
      "                                          'regarding the Section 702 of the '\n",
      "                                          'Foreign Intelligence Surveillance '\n",
      "                                          'Act as well as its potential impact '\n",
      "                                          'on the future ECJ decision on the '\n",
      "                                          'matter.\\n'\n",
      "                                          'This interview was conducted by Can '\n",
      "                                          'Şimşek.\\n'\n",
      "                                          'Follow our activities on our '\n",
      "                                          'website '\n",
      "                                          'https://www.sciencespo.fr/public/chaire-numerique/en/ '\n",
      "                                          'and X account : '\n",
      "                                          'https://twitter.com/ScPoChaireDGS\\n'\n",
      "                                          '---\\n'\n",
      "                                          'Sciences Po is an international '\n",
      "                                          'research university, both selective '\n",
      "                                          'and open onto the world, ranking '\n",
      "                                          'among the finest institutions in '\n",
      "                                          'the fields of humanities and social '\n",
      "                                          'sciences. Click for more '\n",
      "                                          'information about Sciences Po. '\n",
      "                                          'http://bit.ly/2bQkwiG\\n'\n",
      "                                          '\\n'\n",
      "                                          '---\\n'\n",
      "                                          'Follow us on social media!\\n'\n",
      "                                          '---\\n'\n",
      "                                          '\\n'\n",
      "                                          'Youtube: '\n",
      "                                          'https://www.youtube.com/channel/UCjaCN9r_oyIgyUwY7wgACkA\\n'\n",
      "                                          'Facebook: '\n",
      "                                          'https://www.facebook.com/SciencesPo.En/\\n'\n",
      "                                          'Twitter: '\n",
      "                                          'https://twitter.com/sciencespo\\n'\n",
      "                                          'Instagram: '\n",
      "                                          'https://www.instagram.com/sciencespo/\\n'\n",
      "                                          'TikTok : '\n",
      "                                          'https://www.tiktok.com/@sciencespo\\n'\n",
      "                                          'Snapchat: '\n",
      "                                          'https://www.snapchat.com/add/sciencespo\\n'\n",
      "                                          'LinkedIn : '\n",
      "                                          'https://fr.linkedin.com/school/sciences-po/\\n'\n",
      "                                          'Facebook group: '\n",
      "                                          'https://www.facebook.com/groups/sciencespogroup/\\n'\n",
      "                                          '\\n'\n",
      "                                          'Our newsletter: '\n",
      "                                          'http://bit.ly/2NPQ6yo\\n'\n",
      "                                          'Sciences Po App - Google Play: '\n",
      "                                          'https://bit.ly/3sH5LpR\\n'\n",
      "                                          'Sciences Po App - App Store: '\n",
      "                                          'https://apple.co/3Bl43OC',\n",
      "                           'title': 'European Personal Data in the USA: The '\n",
      "                                    'Privacy Shield Framework, with Florence '\n",
      "                                    \"G'sell\"},\n",
      "             'publishedAt': '2024-04-04T15:45:01Z',\n",
      "             'tags': ['sciences po',\n",
      "                      'IEP de Paris',\n",
      "                      'sciences-po',\n",
      "                      'sciencespo',\n",
      "                      'science po',\n",
      "                      'university',\n",
      "                      'IEP',\n",
      "                      'study in France'],\n",
      "             'thumbnails': {'default': {'height': 90,\n",
      "                                        'url': 'https://i.ytimg.com/vi/Ok5VBteVbTo/default.jpg',\n",
      "                                        'width': 120},\n",
      "                            'high': {'height': 360,\n",
      "                                     'url': 'https://i.ytimg.com/vi/Ok5VBteVbTo/hqdefault.jpg',\n",
      "                                     'width': 480},\n",
      "                            'maxres': {'height': 720,\n",
      "                                       'url': 'https://i.ytimg.com/vi/Ok5VBteVbTo/maxresdefault.jpg',\n",
      "                                       'width': 1280},\n",
      "                            'medium': {'height': 180,\n",
      "                                       'url': 'https://i.ytimg.com/vi/Ok5VBteVbTo/mqdefault.jpg',\n",
      "                                       'width': 320},\n",
      "                            'standard': {'height': 480,\n",
      "                                         'url': 'https://i.ytimg.com/vi/Ok5VBteVbTo/sddefault.jpg',\n",
      "                                         'width': 640}},\n",
      "             'title': 'European Personal Data in the USA: The Privacy Shield '\n",
      "                      \"Framework, with Florence G'sell\"},\n",
      " 'statistics': {'commentCount': '0', 'favoriteCount': '0', 'viewCount': '53'},\n",
      " 'topicDetails': {'topicCategories': ['https://en.wikipedia.org/wiki/Knowledge']}}\n"
     ]
    }
   ],
   "source": [
    "pprint(ENRICHED_VIDEOS[0])"
   ]
  }
 ],
 "metadata": {
  "kernelspec": {
   "display_name": "Python 3 (ipykernel)",
   "language": "python",
   "name": "python3"
  },
  "language_info": {
   "codemirror_mode": {
    "name": "ipython",
    "version": 3
   },
   "file_extension": ".py",
   "mimetype": "text/x-python",
   "name": "python",
   "nbconvert_exporter": "python",
   "pygments_lexer": "ipython3",
   "version": "3.8.16"
  }
 },
 "nbformat": 4,
 "nbformat_minor": 5
}
