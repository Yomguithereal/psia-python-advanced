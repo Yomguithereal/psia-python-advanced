{
 "cells": [
  {
   "cell_type": "markdown",
   "id": "0bf7436a-d309-4939-b803-128c15729fb4",
   "metadata": {},
   "source": [
    "# Learning how to use the YouTube API"
   ]
  },
  {
   "cell_type": "code",
   "execution_count": 1,
   "id": "0225c801-8f9a-4591-a252-bfd0e4a73a02",
   "metadata": {
    "collapsed": true,
    "jupyter": {
     "outputs_hidden": true
    }
   },
   "outputs": [
    {
     "name": "stdout",
     "output_type": "stream",
     "text": [
      "Requirement already satisfied: minet in /home/yomguithereal/.pyenv/versions/3.8.16/envs/psia-python-advanced/lib/python3.8/site-packages (1.5.1)\n",
      "Requirement already satisfied: about-time<5,>=4 in /home/yomguithereal/.pyenv/versions/3.8.16/envs/psia-python-advanced/lib/python3.8/site-packages (from minet) (4.2.1)\n",
      "Requirement already satisfied: beautifulsoup4<5,>=4.7.1 in /home/yomguithereal/.pyenv/versions/3.8.16/envs/psia-python-advanced/lib/python3.8/site-packages (from minet) (4.12.3)\n",
      "Requirement already satisfied: browser-cookie3==0.19.1 in /home/yomguithereal/.pyenv/versions/3.8.16/envs/psia-python-advanced/lib/python3.8/site-packages (from minet) (0.19.1)\n",
      "Requirement already satisfied: casanova<3,>=2.0.1 in /home/yomguithereal/.pyenv/versions/3.8.16/envs/psia-python-advanced/lib/python3.8/site-packages (from minet) (2.0.2)\n",
      "Requirement already satisfied: charset-normalizer<4,>=3 in /home/yomguithereal/.pyenv/versions/3.8.16/envs/psia-python-advanced/lib/python3.8/site-packages (from minet) (3.3.2)\n",
      "Requirement already satisfied: dateparser>=1.1.1 in /home/yomguithereal/.pyenv/versions/3.8.16/envs/psia-python-advanced/lib/python3.8/site-packages (from minet) (1.2.0)\n",
      "Requirement already satisfied: ebbe<2,>=1.13 in /home/yomguithereal/.pyenv/versions/3.8.16/envs/psia-python-advanced/lib/python3.8/site-packages (from minet) (1.13.2)\n",
      "Requirement already satisfied: json5>=0.8.5 in /home/yomguithereal/.pyenv/versions/3.8.16/envs/psia-python-advanced/lib/python3.8/site-packages (from minet) (0.9.22)\n",
      "Requirement already satisfied: lxml>=4.3.0 in /home/yomguithereal/.pyenv/versions/3.8.16/envs/psia-python-advanced/lib/python3.8/site-packages (from minet) (5.1.0)\n",
      "Requirement already satisfied: nanoid<3,>=2 in /home/yomguithereal/.pyenv/versions/3.8.16/envs/psia-python-advanced/lib/python3.8/site-packages (from minet) (2.0.0)\n",
      "Requirement already satisfied: playwright<1.36,>=1.35 in /home/yomguithereal/.pyenv/versions/3.8.16/envs/psia-python-advanced/lib/python3.8/site-packages (from minet) (1.35.0)\n",
      "Requirement already satisfied: playwright-stealth<2,>=1 in /home/yomguithereal/.pyenv/versions/3.8.16/envs/psia-python-advanced/lib/python3.8/site-packages (from minet) (1.0.6)\n",
      "Requirement already satisfied: pyyaml in /home/yomguithereal/.pyenv/versions/3.8.16/envs/psia-python-advanced/lib/python3.8/site-packages (from minet) (6.0.1)\n",
      "Requirement already satisfied: quenouille<2,>=1.9.1 in /home/yomguithereal/.pyenv/versions/3.8.16/envs/psia-python-advanced/lib/python3.8/site-packages (from minet) (1.9.1)\n",
      "Requirement already satisfied: rich<14,>=13 in /home/yomguithereal/.pyenv/versions/3.8.16/envs/psia-python-advanced/lib/python3.8/site-packages (from minet) (13.7.1)\n",
      "Requirement already satisfied: rich-argparse<2,>=1 in /home/yomguithereal/.pyenv/versions/3.8.16/envs/psia-python-advanced/lib/python3.8/site-packages (from minet) (1.4.0)\n",
      "Requirement already satisfied: soupsieve<3,>=2.1 in /home/yomguithereal/.pyenv/versions/3.8.16/envs/psia-python-advanced/lib/python3.8/site-packages (from minet) (2.5)\n",
      "Requirement already satisfied: tenacity<9,>=8 in /home/yomguithereal/.pyenv/versions/3.8.16/envs/psia-python-advanced/lib/python3.8/site-packages (from minet) (8.2.3)\n",
      "Requirement already satisfied: trafilatura<1.8,>=1.7 in /home/yomguithereal/.pyenv/versions/3.8.16/envs/psia-python-advanced/lib/python3.8/site-packages (from minet) (1.7.0)\n",
      "Requirement already satisfied: twitwi<0.19,>=0.18.2 in /home/yomguithereal/.pyenv/versions/3.8.16/envs/psia-python-advanced/lib/python3.8/site-packages (from minet) (0.18.2)\n",
      "Requirement already satisfied: ural<2,>=1.3.2 in /home/yomguithereal/.pyenv/versions/3.8.16/envs/psia-python-advanced/lib/python3.8/site-packages (from minet) (1.3.2)\n",
      "Requirement already satisfied: urllib3<2,>=1.26.16 in /home/yomguithereal/.pyenv/versions/3.8.16/envs/psia-python-advanced/lib/python3.8/site-packages (from minet) (1.26.18)\n",
      "Requirement already satisfied: typing-extensions>=4.3 in /home/yomguithereal/.pyenv/versions/3.8.16/envs/psia-python-advanced/lib/python3.8/site-packages (from minet) (4.10.0)\n",
      "Requirement already satisfied: lz4 in /home/yomguithereal/.pyenv/versions/3.8.16/envs/psia-python-advanced/lib/python3.8/site-packages (from browser-cookie3==0.19.1->minet) (4.3.3)\n",
      "Requirement already satisfied: pycryptodomex in /home/yomguithereal/.pyenv/versions/3.8.16/envs/psia-python-advanced/lib/python3.8/site-packages (from browser-cookie3==0.19.1->minet) (3.20.0)\n",
      "Requirement already satisfied: jeepney in /home/yomguithereal/.pyenv/versions/3.8.16/envs/psia-python-advanced/lib/python3.8/site-packages (from browser-cookie3==0.19.1->minet) (0.8.0)\n",
      "Requirement already satisfied: python-dateutil in /home/yomguithereal/.pyenv/versions/3.8.16/envs/psia-python-advanced/lib/python3.8/site-packages (from dateparser>=1.1.1->minet) (2.9.0.post0)\n",
      "Requirement already satisfied: pytz in /home/yomguithereal/.pyenv/versions/3.8.16/envs/psia-python-advanced/lib/python3.8/site-packages (from dateparser>=1.1.1->minet) (2024.1)\n",
      "Requirement already satisfied: regex!=2019.02.19,!=2021.8.27 in /home/yomguithereal/.pyenv/versions/3.8.16/envs/psia-python-advanced/lib/python3.8/site-packages (from dateparser>=1.1.1->minet) (2023.12.25)\n",
      "Requirement already satisfied: tzlocal in /home/yomguithereal/.pyenv/versions/3.8.16/envs/psia-python-advanced/lib/python3.8/site-packages (from dateparser>=1.1.1->minet) (5.2)\n",
      "Requirement already satisfied: greenlet==2.0.2 in /home/yomguithereal/.pyenv/versions/3.8.16/envs/psia-python-advanced/lib/python3.8/site-packages (from playwright<1.36,>=1.35->minet) (2.0.2)\n",
      "Requirement already satisfied: pyee==9.0.4 in /home/yomguithereal/.pyenv/versions/3.8.16/envs/psia-python-advanced/lib/python3.8/site-packages (from playwright<1.36,>=1.35->minet) (9.0.4)\n",
      "Requirement already satisfied: markdown-it-py>=2.2.0 in /home/yomguithereal/.pyenv/versions/3.8.16/envs/psia-python-advanced/lib/python3.8/site-packages (from rich<14,>=13->minet) (3.0.0)\n",
      "Requirement already satisfied: pygments<3.0.0,>=2.13.0 in /home/yomguithereal/.pyenv/versions/3.8.16/envs/psia-python-advanced/lib/python3.8/site-packages (from rich<14,>=13->minet) (2.17.2)\n",
      "Requirement already satisfied: certifi in /home/yomguithereal/.pyenv/versions/3.8.16/envs/psia-python-advanced/lib/python3.8/site-packages (from trafilatura<1.8,>=1.7->minet) (2024.2.2)\n",
      "Requirement already satisfied: courlan>=0.9.5 in /home/yomguithereal/.pyenv/versions/3.8.16/envs/psia-python-advanced/lib/python3.8/site-packages (from trafilatura<1.8,>=1.7->minet) (1.0.0)\n",
      "Requirement already satisfied: htmldate>=1.7.0 in /home/yomguithereal/.pyenv/versions/3.8.16/envs/psia-python-advanced/lib/python3.8/site-packages (from trafilatura<1.8,>=1.7->minet) (1.8.0)\n",
      "Requirement already satisfied: justext>=3.0.0 in /home/yomguithereal/.pyenv/versions/3.8.16/envs/psia-python-advanced/lib/python3.8/site-packages (from trafilatura<1.8,>=1.7->minet) (3.0.0)\n",
      "Requirement already satisfied: twitter==2.0a2 in /home/yomguithereal/.pyenv/versions/3.8.16/envs/psia-python-advanced/lib/python3.8/site-packages (from twitwi<0.19,>=0.18.2->minet) (2.0a2)\n",
      "Requirement already satisfied: langcodes>=3.3.0 in /home/yomguithereal/.pyenv/versions/3.8.16/envs/psia-python-advanced/lib/python3.8/site-packages (from courlan>=0.9.5->trafilatura<1.8,>=1.7->minet) (3.3.0)\n",
      "Requirement already satisfied: tld>=0.13 in /home/yomguithereal/.pyenv/versions/3.8.16/envs/psia-python-advanced/lib/python3.8/site-packages (from courlan>=0.9.5->trafilatura<1.8,>=1.7->minet) (0.13)\n",
      "Requirement already satisfied: mdurl~=0.1 in /home/yomguithereal/.pyenv/versions/3.8.16/envs/psia-python-advanced/lib/python3.8/site-packages (from markdown-it-py>=2.2.0->rich<14,>=13->minet) (0.1.2)\n",
      "Requirement already satisfied: six>=1.5 in /home/yomguithereal/.pyenv/versions/3.8.16/envs/psia-python-advanced/lib/python3.8/site-packages (from python-dateutil->dateparser>=1.1.1->minet) (1.16.0)\n",
      "Requirement already satisfied: backports.zoneinfo in /home/yomguithereal/.pyenv/versions/3.8.16/envs/psia-python-advanced/lib/python3.8/site-packages (from tzlocal->dateparser>=1.1.1->minet) (0.2.1)\n"
     ]
    }
   ],
   "source": [
    "!pip install minet"
   ]
  },
  {
   "cell_type": "code",
   "execution_count": 12,
   "id": "a6a7e13e-8c7e-4026-b325-b44ccad7a77b",
   "metadata": {},
   "outputs": [
    {
     "name": "stdout",
     "output_type": "stream",
     "text": [
      "Requirement already satisfied: tqdm in /home/yomguithereal/.pyenv/versions/3.8.16/envs/psia-python-advanced/lib/python3.8/site-packages (4.66.2)\n"
     ]
    }
   ],
   "source": [
    "!pip install tqdm"
   ]
  },
  {
   "cell_type": "code",
   "execution_count": 2,
   "id": "5d401c6e-0627-4bdb-9a97-9311dc936407",
   "metadata": {},
   "outputs": [
    {
     "name": "stdout",
     "output_type": "stream",
     "text": [
      "\u001b[39mminet 1.5.1 (2024-03-28)\u001b[0m\n"
     ]
    }
   ],
   "source": [
    "!minet --version"
   ]
  },
  {
   "cell_type": "code",
   "execution_count": 9,
   "id": "14f791fb-9cfc-40dd-a0a8-022cb1c394f9",
   "metadata": {},
   "outputs": [],
   "source": [
    "# DO NOT DO THAT\n",
    "from minet.cli.utils import get_rcfile"
   ]
  },
  {
   "cell_type": "code",
   "execution_count": 17,
   "id": "c8899586-fa3c-494c-aff4-d6cbd15b5845",
   "metadata": {},
   "outputs": [],
   "source": [
    "from minet.youtube import YouTubeAPIClient\n",
    "from tqdm import tqdm"
   ]
  },
  {
   "cell_type": "code",
   "execution_count": 10,
   "id": "0c15980e-f840-46fc-bc44-ccf40576825c",
   "metadata": {},
   "outputs": [],
   "source": [
    "# NOTE: students, this is you\n",
    "# client = YouTubeAPIClient(\"your-api-key\", sleep=False)\n",
    "client = YouTubeAPIClient(get_rcfile()['youtube']['key'], sleep=False)"
   ]
  },
  {
   "cell_type": "code",
   "execution_count": 11,
   "id": "32d6b2db-08d6-462a-ba17-227040fbf00a",
   "metadata": {},
   "outputs": [
    {
     "data": {
      "text/plain": [
       "{'kind': 'youtube#video',\n",
       " 'etag': 'wYZdI9HeIYZpNqA7XPcnU_02n74',\n",
       " 'id': 'yaYGnW9FQsg',\n",
       " 'snippet': {'publishedAt': '2024-03-28T22:10:16Z',\n",
       "  'channelId': 'UCJLsfsSpIiUBPvYYSUAclrw',\n",
       "  'title': \"SAV de l'Archéologie : Soirée en direct #02\",\n",
       "  'description': \"Service Après Vente de l'Archéologie bonjour !\\n\\nOn se retrouve en live et vous pourrez monter sur Discord pour poser vos question et discuter un peu d'archéo dans les grandes ligne. \\n\\nAbonnez vous et suivez : \\nFacebook : http://facebook.com/tpsmort \\n\\nSi vous avez envie d'aider la chaîne :\\nhttps://fr.tipeee.com/tempsmort\\n\\nLes sujets de la soirée :\\nà venir\\n\\nLe discord pour accéder au SAS :\\nhttps://discord.gg/QSpd6PXB\\n\\n\\nMay His story Be With You !\",\n",
       "  'thumbnails': {'default': {'url': 'https://i.ytimg.com/vi/yaYGnW9FQsg/default.jpg',\n",
       "    'width': 120,\n",
       "    'height': 90},\n",
       "   'medium': {'url': 'https://i.ytimg.com/vi/yaYGnW9FQsg/mqdefault.jpg',\n",
       "    'width': 320,\n",
       "    'height': 180},\n",
       "   'high': {'url': 'https://i.ytimg.com/vi/yaYGnW9FQsg/hqdefault.jpg',\n",
       "    'width': 480,\n",
       "    'height': 360},\n",
       "   'standard': {'url': 'https://i.ytimg.com/vi/yaYGnW9FQsg/sddefault.jpg',\n",
       "    'width': 640,\n",
       "    'height': 480},\n",
       "   'maxres': {'url': 'https://i.ytimg.com/vi/yaYGnW9FQsg/maxresdefault.jpg',\n",
       "    'width': 1280,\n",
       "    'height': 720}},\n",
       "  'channelTitle': 'Temps Mort',\n",
       "  'categoryId': '27',\n",
       "  'liveBroadcastContent': 'none',\n",
       "  'localized': {'title': \"SAV de l'Archéologie : Soirée en direct #02\",\n",
       "   'description': \"Service Après Vente de l'Archéologie bonjour !\\n\\nOn se retrouve en live et vous pourrez monter sur Discord pour poser vos question et discuter un peu d'archéo dans les grandes ligne. \\n\\nAbonnez vous et suivez : \\nFacebook : http://facebook.com/tpsmort \\n\\nSi vous avez envie d'aider la chaîne :\\nhttps://fr.tipeee.com/tempsmort\\n\\nLes sujets de la soirée :\\nà venir\\n\\nLe discord pour accéder au SAS :\\nhttps://discord.gg/QSpd6PXB\\n\\n\\nMay His story Be With You !\"},\n",
       "  'defaultAudioLanguage': 'fr'},\n",
       " 'contentDetails': {'duration': 'PT2H10M35S',\n",
       "  'dimension': '2d',\n",
       "  'definition': 'hd',\n",
       "  'caption': 'false',\n",
       "  'licensedContent': True,\n",
       "  'contentRating': {},\n",
       "  'projection': 'rectangular'},\n",
       " 'statistics': {'viewCount': '2015',\n",
       "  'likeCount': '186',\n",
       "  'favoriteCount': '0',\n",
       "  'commentCount': '11'},\n",
       " 'topicDetails': {'topicCategories': ['https://en.wikipedia.org/wiki/Knowledge',\n",
       "   'https://en.wikipedia.org/wiki/Religion']}}"
      ]
     },
     "execution_count": 11,
     "metadata": {},
     "output_type": "execute_result"
    }
   ],
   "source": [
    "client.video('https://www.youtube.com/watch?v=yaYGnW9FQsg', raw=True)"
   ]
  },
  {
   "cell_type": "code",
   "execution_count": 14,
   "id": "c76c34bf-1ebf-4a3c-8760-86ee589dfbc5",
   "metadata": {},
   "outputs": [
    {
     "data": {
      "text/plain": [
       "{'kind': 'youtube#channel',\n",
       " 'etag': 'r97j7YEb6t1ApcxyJ86QZOQGV9k',\n",
       " 'id': 'UCjaCN9r_oyIgyUwY7wgACkA',\n",
       " 'snippet': {'title': 'Sciences Po',\n",
       "  'description': 'Founded in 1872, Sciences Po is France’s leading university in the social sciences. \\n\\nSciences Po offers degrees at the Undergraduate, Masters, Ph.D and Executive Education levels. \\n \\nIn France, life at Sciences Po takes place on seven multicultural campuses. They host 13.000 students, 46%  of which have a nationality other than French, bringing together 150 nationalities.Education at Sciences Po is interdisciplinary, multicultural and multilingual.\\n \\nSciences Po also developed double degrees and exchange programmes with prestigious partner universities including Columbia University, Freie Universität Berlin, Fudan University, Harvard University, Keio University, LSE, Princeton University, etc.\\n\\nThe research projects bring together over 220 faculty members.\\n\\nAs a result of this complete education, Sciences Po graduates are highly sought after by top recruiters: 87% of Sciences Po graduates are hired within six months of obtaining their degree.',\n",
       "  'customUrl': '@sciencespo',\n",
       "  'publishedAt': '2006-06-06T20:16:50Z',\n",
       "  'thumbnails': {'default': {'url': 'https://yt3.ggpht.com/ytc/AIdro_kGqfwOD0fLaLg-lLpbV-EwY3bMIQ6oZNpuysCoMA=s88-c-k-c0x00ffffff-no-rj',\n",
       "    'width': 88,\n",
       "    'height': 88},\n",
       "   'medium': {'url': 'https://yt3.ggpht.com/ytc/AIdro_kGqfwOD0fLaLg-lLpbV-EwY3bMIQ6oZNpuysCoMA=s240-c-k-c0x00ffffff-no-rj',\n",
       "    'width': 240,\n",
       "    'height': 240},\n",
       "   'high': {'url': 'https://yt3.ggpht.com/ytc/AIdro_kGqfwOD0fLaLg-lLpbV-EwY3bMIQ6oZNpuysCoMA=s800-c-k-c0x00ffffff-no-rj',\n",
       "    'width': 800,\n",
       "    'height': 800}},\n",
       "  'localized': {'title': 'Sciences Po',\n",
       "   'description': 'Founded in 1872, Sciences Po is France’s leading university in the social sciences. \\n\\nSciences Po offers degrees at the Undergraduate, Masters, Ph.D and Executive Education levels. \\n \\nIn France, life at Sciences Po takes place on seven multicultural campuses. They host 13.000 students, 46%  of which have a nationality other than French, bringing together 150 nationalities.Education at Sciences Po is interdisciplinary, multicultural and multilingual.\\n \\nSciences Po also developed double degrees and exchange programmes with prestigious partner universities including Columbia University, Freie Universität Berlin, Fudan University, Harvard University, Keio University, LSE, Princeton University, etc.\\n\\nThe research projects bring together over 220 faculty members.\\n\\nAs a result of this complete education, Sciences Po graduates are highly sought after by top recruiters: 87% of Sciences Po graduates are hired within six months of obtaining their degree.'},\n",
       "  'country': 'FR'},\n",
       " 'contentDetails': {'relatedPlaylists': {'likes': '',\n",
       "   'uploads': 'UUjaCN9r_oyIgyUwY7wgACkA'}},\n",
       " 'statistics': {'viewCount': '8982555',\n",
       "  'subscriberCount': '56200',\n",
       "  'hiddenSubscriberCount': False,\n",
       "  'videoCount': '1889'},\n",
       " 'topicDetails': {'topicIds': ['/m/05qt0', '/m/098wr', '/m/01k8wb'],\n",
       "  'topicCategories': ['https://en.wikipedia.org/wiki/Politics',\n",
       "   'https://en.wikipedia.org/wiki/Society',\n",
       "   'https://en.wikipedia.org/wiki/Knowledge']},\n",
       " 'status': {'privacyStatus': 'public',\n",
       "  'isLinked': True,\n",
       "  'longUploadsStatus': 'longUploadsUnspecified'},\n",
       " 'brandingSettings': {'channel': {'title': 'Sciences Po',\n",
       "   'description': 'Founded in 1872, Sciences Po is France’s leading university in the social sciences. \\n\\nSciences Po offers degrees at the Undergraduate, Masters, Ph.D and Executive Education levels. \\n \\nIn France, life at Sciences Po takes place on seven multicultural campuses. They host 13.000 students, 46%  of which have a nationality other than French, bringing together 150 nationalities.Education at Sciences Po is interdisciplinary, multicultural and multilingual.\\n \\nSciences Po also developed double degrees and exchange programmes with prestigious partner universities including Columbia University, Freie Universität Berlin, Fudan University, Harvard University, Keio University, LSE, Princeton University, etc.\\n\\nThe research projects bring together over 220 faculty members.\\n\\nAs a result of this complete education, Sciences Po graduates are highly sought after by top recruiters: 87% of Sciences Po graduates are hired within six months of obtaining their degree.',\n",
       "   'keywords': 'Sciences Po education sciencespo \"sciences po\"',\n",
       "   'trackingAnalyticsAccountId': 'UA-89113945-1',\n",
       "   'unsubscribedTrailer': 'Gvn6W6bDxAk',\n",
       "   'country': 'FR'},\n",
       "  'image': {'bannerExternalUrl': 'https://yt3.googleusercontent.com/dEBWpN0EJ8GhHIWnFydlrsgfSAOxxkCl1acFVEs5aYqOk-ePaxsxSgg_ha5ITkMgpUvs6WreLw'}}}"
      ]
     },
     "execution_count": 14,
     "metadata": {},
     "output_type": "execute_result"
    }
   ],
   "source": [
    "client.channel('https://www.youtube.com/@sciencespo', raw=True)"
   ]
  },
  {
   "cell_type": "code",
   "execution_count": 15,
   "id": "5947b2e5-fe9e-4636-b7df-57d69ec3b7dc",
   "metadata": {},
   "outputs": [
    {
     "data": {
      "application/vnd.jupyter.widget-view+json": {
       "model_id": "62cba9fe06b44187a7d9a96ea402d5a6",
       "version_major": 2,
       "version_minor": 0
      },
      "text/plain": [
       "0it [00:00, ?it/s]"
      ]
     },
     "metadata": {},
     "output_type": "display_data"
    },
    {
     "data": {
      "text/plain": [
       "1893"
      ]
     },
     "execution_count": 15,
     "metadata": {},
     "output_type": "execute_result"
    }
   ],
   "source": [
    "VIDEOS = []\n",
    "\n",
    "for video in tqdm(client.channel_videos('https://www.youtube.com/@sciencespo', raw=True)):\n",
    "    VIDEOS.append(video)\n",
    "\n",
    "len(VIDEOS)"
   ]
  },
  {
   "cell_type": "code",
   "execution_count": 19,
   "id": "545bc78d-dcca-4c6f-a5fe-d68f672cd93b",
   "metadata": {},
   "outputs": [
    {
     "data": {
      "text/plain": [
       "{'kind': 'youtube#playlistItem',\n",
       " 'etag': 'c5M5GDckLVddCsDU8iprjlwyIBo',\n",
       " 'id': 'VVVqYUNOOXJfb3lJZ3lVd1k3d2dBQ2tBLjhCa3hJZjRwWTJJ',\n",
       " 'snippet': {'publishedAt': '2024-03-28T19:00:03Z',\n",
       "  'channelId': 'UCjaCN9r_oyIgyUwY7wgACkA',\n",
       "  'title': 'Table-ronde : Les impacts des discriminations sur la santé mentale',\n",
       "  'description': 'Les préoccupations autour de la santé mentale ont pris de l’ampleur depuis plusieurs années, alors que des enquêtes continuent d’alerter sur la dégradation de celle-ci notamment chez les jeunes.\\n\\nSi les causes de ces détériorations sont à l’évidence multifactorielles, en ce mois dédié à la diversité et l’inclusion, Sciences Po souhaite interroger le lien entre santé mentale et rapports sociaux inégalitaires, tels que le sexisme et le genrisme, l’hétérosexisme, le racisme ou encore le validisme. \\n\\nCette conférence permettra de lever les tabous autour de la santé mentale et de décrypter les liens entre santé mentale et le poids des stigmatisations, injonctions et mécanismes d’oppression, tout en partageant des pistes de solutions.\\n\\nAvec : \\nLouise Aubery, créatrice de contenus, autrice et entrepreneuse (diplômée de la promotion 2021)\\nSikou Niakate, auteur-réalisateur\\nCaroline Matte, co-fondatrice et directrice de La Maison Perchée\\nDr Fatma Bouvet de la Maisonneuve, psychiatre et écrivaine\\nMartin Aranguren, chercheur au CNRS, rattaché au CRIS de Sciences Po\\n\\nModération par Jeanne Lazarus, Doyenne du collège universitaire de Sciences Po, chargée de recherches CNRS au CSO.\\n----\\nSciences Po est une université de recherche internationale, sélective, ouverte sur le monde, qui se place parmi les meilleures en sciences humaines et sociales. Cliquez pour en savoir plus sur nos formations : http://bit.ly/2hz6Kr0\\n\\nComment se porter candidat ou candidate à Sciences Po ? http://bit.ly/2JlAxAD\\n\\n----\\nSuivez-nous sur les réseaux sociaux !\\n----\\n\\nYoutube : https://www.youtube.com/channel/UCjaCN9r_oyIgyUwY7wgACkA\\nTikTok : https://www.tiktok.com/@sciencespo\\nFacebook : https://www.facebook.com/SciencesPo/\\nTwitter : https://twitter.com/sciencespo\\nInstagram : https://www.instagram.com/sciencespo/\\nSnapchat : https://www.snapchat.com/add/sciencespo\\nLinkedIn : https://fr.linkedin.com/school/sciences-po/\\nPodcast : https://podcast.ausha.co/sans-transition\\n\\nNotre newsletter : http://bit.ly/2mCuojD\\nApplication Sciences Po sur Google Play  : https://bit.ly/3sH5LpR\\nApplication Sciences Po sur l’App Store : https://apple.co/3Bl43OC',\n",
       "  'thumbnails': {'default': {'url': 'https://i.ytimg.com/vi/8BkxIf4pY2I/default.jpg',\n",
       "    'width': 120,\n",
       "    'height': 90},\n",
       "   'medium': {'url': 'https://i.ytimg.com/vi/8BkxIf4pY2I/mqdefault.jpg',\n",
       "    'width': 320,\n",
       "    'height': 180},\n",
       "   'high': {'url': 'https://i.ytimg.com/vi/8BkxIf4pY2I/hqdefault.jpg',\n",
       "    'width': 480,\n",
       "    'height': 360},\n",
       "   'standard': {'url': 'https://i.ytimg.com/vi/8BkxIf4pY2I/sddefault.jpg',\n",
       "    'width': 640,\n",
       "    'height': 480},\n",
       "   'maxres': {'url': 'https://i.ytimg.com/vi/8BkxIf4pY2I/maxresdefault.jpg',\n",
       "    'width': 1280,\n",
       "    'height': 720}},\n",
       "  'channelTitle': 'Sciences Po',\n",
       "  'playlistId': 'UUjaCN9r_oyIgyUwY7wgACkA',\n",
       "  'position': 0,\n",
       "  'resourceId': {'kind': 'youtube#video', 'videoId': '8BkxIf4pY2I'},\n",
       "  'videoOwnerChannelTitle': 'Sciences Po',\n",
       "  'videoOwnerChannelId': 'UCjaCN9r_oyIgyUwY7wgACkA'}}"
      ]
     },
     "execution_count": 19,
     "metadata": {},
     "output_type": "execute_result"
    }
   ],
   "source": [
    "VIDEOS[0]"
   ]
  },
  {
   "cell_type": "code",
   "execution_count": 22,
   "id": "f1207278-b593-48e4-8a1e-b73b72d37dff",
   "metadata": {},
   "outputs": [],
   "source": [
    "VIDEO_IDS = []\n",
    "\n",
    "for video in VIDEOS:\n",
    "    video_id = video['snippet']['resourceId']['videoId']\n",
    "    VIDEO_IDS.append(video_id)\n",
    "\n",
    "assert len(VIDEOS) == len(VIDEO_IDS)"
   ]
  },
  {
   "cell_type": "code",
   "execution_count": 23,
   "id": "3fb1a3d8-2c7f-4a08-80b2-afca03539809",
   "metadata": {},
   "outputs": [
    {
     "name": "stderr",
     "output_type": "stream",
     "text": [
      "1893it [00:10, 186.85it/s]\n"
     ]
    },
    {
     "data": {
      "text/plain": [
       "1893"
      ]
     },
     "execution_count": 23,
     "metadata": {},
     "output_type": "execute_result"
    }
   ],
   "source": [
    "ENRICHED_VIDEOS = []\n",
    "\n",
    "for video_id, video in tqdm(client.videos(VIDEO_IDS, raw=True)):\n",
    "    ENRICHED_VIDEOS.append(video)\n",
    "\n",
    "len(ENRICHED_VIDEOS)"
   ]
  },
  {
   "cell_type": "code",
   "execution_count": 24,
   "id": "093d5ec4-f429-4cd7-baab-e0ad9755032f",
   "metadata": {},
   "outputs": [
    {
     "data": {
      "text/plain": [
       "{'kind': 'youtube#video',\n",
       " 'etag': 'kkvo34OaHAWh8h-D3Lz7Cz1t0mk',\n",
       " 'id': '8BkxIf4pY2I',\n",
       " 'snippet': {'publishedAt': '2024-03-28T19:00:03Z',\n",
       "  'channelId': 'UCjaCN9r_oyIgyUwY7wgACkA',\n",
       "  'title': 'Table-ronde : Les impacts des discriminations sur la santé mentale',\n",
       "  'description': 'Les préoccupations autour de la santé mentale ont pris de l’ampleur depuis plusieurs années, alors que des enquêtes continuent d’alerter sur la dégradation de celle-ci notamment chez les jeunes.\\n\\nSi les causes de ces détériorations sont à l’évidence multifactorielles, en ce mois dédié à la diversité et l’inclusion, Sciences Po souhaite interroger le lien entre santé mentale et rapports sociaux inégalitaires, tels que le sexisme et le genrisme, l’hétérosexisme, le racisme ou encore le validisme. \\n\\nCette conférence permettra de lever les tabous autour de la santé mentale et de décrypter les liens entre santé mentale et le poids des stigmatisations, injonctions et mécanismes d’oppression, tout en partageant des pistes de solutions.\\n\\nAvec : \\nLouise Aubery, créatrice de contenus, autrice et entrepreneuse (diplômée de la promotion 2021)\\nSikou Niakate, auteur-réalisateur\\nCaroline Matte, co-fondatrice et directrice de La Maison Perchée\\nDr Fatma Bouvet de la Maisonneuve, psychiatre et écrivaine\\nMartin Aranguren, chercheur au CNRS, rattaché au CRIS de Sciences Po\\n\\nModération par Jeanne Lazarus, Doyenne du collège universitaire de Sciences Po, chargée de recherches CNRS au CSO.\\n----\\nSciences Po est une université de recherche internationale, sélective, ouverte sur le monde, qui se place parmi les meilleures en sciences humaines et sociales. Cliquez pour en savoir plus sur nos formations : http://bit.ly/2hz6Kr0\\n\\nComment se porter candidat ou candidate à Sciences Po ? http://bit.ly/2JlAxAD\\n\\n----\\nSuivez-nous sur les réseaux sociaux !\\n----\\n\\nYoutube : https://www.youtube.com/channel/UCjaCN9r_oyIgyUwY7wgACkA\\nTikTok : https://www.tiktok.com/@sciencespo\\nFacebook : https://www.facebook.com/SciencesPo/\\nTwitter : https://twitter.com/sciencespo\\nInstagram : https://www.instagram.com/sciencespo/\\nSnapchat : https://www.snapchat.com/add/sciencespo\\nLinkedIn : https://fr.linkedin.com/school/sciences-po/\\nPodcast : https://podcast.ausha.co/sans-transition\\n\\nNotre newsletter : http://bit.ly/2mCuojD\\nApplication Sciences Po sur Google Play  : https://bit.ly/3sH5LpR\\nApplication Sciences Po sur l’App Store : https://apple.co/3Bl43OC',\n",
       "  'thumbnails': {'default': {'url': 'https://i.ytimg.com/vi/8BkxIf4pY2I/default.jpg',\n",
       "    'width': 120,\n",
       "    'height': 90},\n",
       "   'medium': {'url': 'https://i.ytimg.com/vi/8BkxIf4pY2I/mqdefault.jpg',\n",
       "    'width': 320,\n",
       "    'height': 180},\n",
       "   'high': {'url': 'https://i.ytimg.com/vi/8BkxIf4pY2I/hqdefault.jpg',\n",
       "    'width': 480,\n",
       "    'height': 360},\n",
       "   'standard': {'url': 'https://i.ytimg.com/vi/8BkxIf4pY2I/sddefault.jpg',\n",
       "    'width': 640,\n",
       "    'height': 480},\n",
       "   'maxres': {'url': 'https://i.ytimg.com/vi/8BkxIf4pY2I/maxresdefault.jpg',\n",
       "    'width': 1280,\n",
       "    'height': 720}},\n",
       "  'channelTitle': 'Sciences Po',\n",
       "  'tags': ['sciences po',\n",
       "   'IEP de Paris',\n",
       "   'sciences-po',\n",
       "   'sciencespo',\n",
       "   'science po',\n",
       "   'université',\n",
       "   'IEP'],\n",
       "  'categoryId': '27',\n",
       "  'liveBroadcastContent': 'none',\n",
       "  'defaultLanguage': 'fr',\n",
       "  'localized': {'title': 'Table-ronde : Les impacts des discriminations sur la santé mentale',\n",
       "   'description': 'Les préoccupations autour de la santé mentale ont pris de l’ampleur depuis plusieurs années, alors que des enquêtes continuent d’alerter sur la dégradation de celle-ci notamment chez les jeunes.\\n\\nSi les causes de ces détériorations sont à l’évidence multifactorielles, en ce mois dédié à la diversité et l’inclusion, Sciences Po souhaite interroger le lien entre santé mentale et rapports sociaux inégalitaires, tels que le sexisme et le genrisme, l’hétérosexisme, le racisme ou encore le validisme. \\n\\nCette conférence permettra de lever les tabous autour de la santé mentale et de décrypter les liens entre santé mentale et le poids des stigmatisations, injonctions et mécanismes d’oppression, tout en partageant des pistes de solutions.\\n\\nAvec : \\nLouise Aubery, créatrice de contenus, autrice et entrepreneuse (diplômée de la promotion 2021)\\nSikou Niakate, auteur-réalisateur\\nCaroline Matte, co-fondatrice et directrice de La Maison Perchée\\nDr Fatma Bouvet de la Maisonneuve, psychiatre et écrivaine\\nMartin Aranguren, chercheur au CNRS, rattaché au CRIS de Sciences Po\\n\\nModération par Jeanne Lazarus, Doyenne du collège universitaire de Sciences Po, chargée de recherches CNRS au CSO.\\n----\\nSciences Po est une université de recherche internationale, sélective, ouverte sur le monde, qui se place parmi les meilleures en sciences humaines et sociales. Cliquez pour en savoir plus sur nos formations : http://bit.ly/2hz6Kr0\\n\\nComment se porter candidat ou candidate à Sciences Po ? http://bit.ly/2JlAxAD\\n\\n----\\nSuivez-nous sur les réseaux sociaux !\\n----\\n\\nYoutube : https://www.youtube.com/channel/UCjaCN9r_oyIgyUwY7wgACkA\\nTikTok : https://www.tiktok.com/@sciencespo\\nFacebook : https://www.facebook.com/SciencesPo/\\nTwitter : https://twitter.com/sciencespo\\nInstagram : https://www.instagram.com/sciencespo/\\nSnapchat : https://www.snapchat.com/add/sciencespo\\nLinkedIn : https://fr.linkedin.com/school/sciences-po/\\nPodcast : https://podcast.ausha.co/sans-transition\\n\\nNotre newsletter : http://bit.ly/2mCuojD\\nApplication Sciences Po sur Google Play  : https://bit.ly/3sH5LpR\\nApplication Sciences Po sur l’App Store : https://apple.co/3Bl43OC'},\n",
       "  'defaultAudioLanguage': 'en'},\n",
       " 'contentDetails': {'duration': 'PT1H54M14S',\n",
       "  'dimension': '2d',\n",
       "  'definition': 'hd',\n",
       "  'caption': 'false',\n",
       "  'licensedContent': False,\n",
       "  'contentRating': {},\n",
       "  'projection': 'rectangular'},\n",
       " 'statistics': {'viewCount': '162', 'favoriteCount': '0', 'commentCount': '1'},\n",
       " 'topicDetails': {'topicCategories': ['https://en.wikipedia.org/wiki/Health',\n",
       "   'https://en.wikipedia.org/wiki/Society']}}"
      ]
     },
     "execution_count": 24,
     "metadata": {},
     "output_type": "execute_result"
    }
   ],
   "source": [
    "ENRICHED_VIDEOS[0]"
   ]
  },
  {
   "cell_type": "code",
   "execution_count": 29,
   "id": "45065164-cbbc-4659-9ba7-70241450ec5b",
   "metadata": {},
   "outputs": [
    {
     "data": {
      "text/plain": [
       "790"
      ]
     },
     "execution_count": 29,
     "metadata": {},
     "output_type": "execute_result"
    }
   ],
   "source": [
    "COMMENTED_VIDEO_IDS = []\n",
    "\n",
    "for video in ENRICHED_VIDEOS:\n",
    "    comment_count = int(video['statistics'].get('commentCount', 0))\n",
    "\n",
    "    if comment_count > 0:\n",
    "        COMMENTED_VIDEO_IDS.append(video['id'])\n",
    "\n",
    "len(COMMENTED_VIDEO_IDS)"
   ]
  },
  {
   "cell_type": "code",
   "execution_count": 30,
   "id": "9e186c62-6a4e-4c2d-8fdb-6790d6aeec05",
   "metadata": {},
   "outputs": [
    {
     "name": "stderr",
     "output_type": "stream",
     "text": [
      "100%|███████████████████████████████████████████████████████████████████████████| 790/790 [02:09<00:00,  6.11it/s]\n"
     ]
    },
    {
     "data": {
      "text/plain": [
       "6959"
      ]
     },
     "execution_count": 30,
     "metadata": {},
     "output_type": "execute_result"
    }
   ],
   "source": [
    "COMMENTS = []\n",
    "\n",
    "for commented_video_id in tqdm(COMMENTED_VIDEO_IDS):\n",
    "    for comment in client.comments(commented_video_id, raw=True):\n",
    "        COMMENTS.append(comment)\n",
    "\n",
    "len(COMMENTS)"
   ]
  }
 ],
 "metadata": {
  "kernelspec": {
   "display_name": "Python 3 (ipykernel)",
   "language": "python",
   "name": "python3"
  },
  "language_info": {
   "codemirror_mode": {
    "name": "ipython",
    "version": 3
   },
   "file_extension": ".py",
   "mimetype": "text/x-python",
   "name": "python",
   "nbconvert_exporter": "python",
   "pygments_lexer": "ipython3",
   "version": "3.8.16"
  }
 },
 "nbformat": 4,
 "nbformat_minor": 5
}
