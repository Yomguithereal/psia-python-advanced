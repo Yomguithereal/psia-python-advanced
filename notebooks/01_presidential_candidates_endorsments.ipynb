{
 "cells": [
  {
   "cell_type": "markdown",
   "id": "269d59b4-1f74-452e-a3ea-ef7b823d0154",
   "metadata": {},
   "source": [
    "# Exploring presidential candidate endorsements"
   ]
  },
  {
   "cell_type": "code",
   "execution_count": 1,
   "id": "80367efd-1b8a-4d51-89df-9192421ccee1",
   "metadata": {},
   "outputs": [],
   "source": [
    "import json\n",
    "from collections import Counter"
   ]
  },
  {
   "cell_type": "markdown",
   "id": "f626dddd-cd7d-4abb-967c-12e5b566f654",
   "metadata": {},
   "source": [
    "## Loading the endorsement JSON file"
   ]
  },
  {
   "cell_type": "code",
   "execution_count": 2,
   "id": "e6eaf006-bf98-4753-8758-6270fab65c56",
   "metadata": {},
   "outputs": [],
   "source": [
    "# NOTE: if you are using windows, you need to mind two additional things:\n",
    "#  1. You must double-escape your antislashes likewise: C:\\\\path\\\\to\\\\thing, else it will trigger syntax errors\n",
    "#  2. You will need to pass the `encoding` kwarg set to \"utf8\" to the `open` function\n",
    "with open('../data/parrainages.json') as f:\n",
    "    ENDORSEMENTS_RAW_DATA = json.load(f)"
   ]
  },
  {
   "cell_type": "code",
   "execution_count": 3,
   "id": "68478736-d966-4f2c-a55e-5942235a6dc1",
   "metadata": {},
   "outputs": [
    {
     "data": {
      "text/plain": [
       "{'Civilite': 'M.',\n",
       " 'Nom': 'CORDIVAL',\n",
       " 'Prenom': 'Gilles',\n",
       " 'Mandat': 'Maire',\n",
       " 'Circonscription': 'Mont-Saint-Père',\n",
       " 'Departement': 'Aisne',\n",
       " 'Candidat': 'ARTHAUD Nathalie',\n",
       " 'DatePublication': '2022-02-01T00:00:00'}"
      ]
     },
     "execution_count": 3,
     "metadata": {},
     "output_type": "execute_result"
    }
   ],
   "source": [
    "ENDORSEMENTS_RAW_DATA[0]"
   ]
  },
  {
   "cell_type": "code",
   "execution_count": 4,
   "id": "adc031ab-9e96-4ddd-b2c6-c7dc48c271a4",
   "metadata": {},
   "outputs": [
    {
     "data": {
      "text/plain": [
       "(13427, list)"
      ]
     },
     "execution_count": 4,
     "metadata": {},
     "output_type": "execute_result"
    }
   ],
   "source": [
    "len(ENDORSEMENTS_RAW_DATA), type(ENDORSEMENTS_RAW_DATA)"
   ]
  },
  {
   "cell_type": "code",
   "execution_count": 5,
   "id": "6b839237-563e-4677-bb38-f816f10f3c70",
   "metadata": {},
   "outputs": [],
   "source": [
    "# Reshaping the data\n",
    "ENDORSEMENTS_DATA = []\n",
    "\n",
    "for record in ENDORSEMENTS_RAW_DATA:\n",
    "    ENDORSEMENTS_DATA.append({\n",
    "        'name': record['Nom'],\n",
    "        'surname': record['Prenom'],\n",
    "        'mandate': record['Mandat'],\n",
    "        'department': record['Departement'],\n",
    "        'endorsement_date': record['DatePublication'],\n",
    "        'gender': 'male' if record['Civilite'] == 'M.' else 'female',\n",
    "        'candidate': record['Candidat']\n",
    "    })"
   ]
  },
  {
   "cell_type": "code",
   "execution_count": 6,
   "id": "a6ef925c-4191-4e92-a5c2-380164cab617",
   "metadata": {},
   "outputs": [
    {
     "data": {
      "text/plain": [
       "{'name': 'CORDIVAL',\n",
       " 'surname': 'Gilles',\n",
       " 'mandate': 'Maire',\n",
       " 'department': 'Aisne',\n",
       " 'endorsement_date': '2022-02-01T00:00:00',\n",
       " 'gender': 'male',\n",
       " 'candidate': 'ARTHAUD Nathalie'}"
      ]
     },
     "execution_count": 6,
     "metadata": {},
     "output_type": "execute_result"
    }
   ],
   "source": [
    "ENDORSEMENTS_DATA[0]"
   ]
  },
  {
   "cell_type": "markdown",
   "id": "6ad905d3-a8b4-4e99-8fbb-64e9bcb9f5fb",
   "metadata": {},
   "source": [
    "## Some stats about gender and candidates"
   ]
  },
  {
   "cell_type": "code",
   "execution_count": 7,
   "id": "439b614d-ab7b-47b0-837d-b9388ad8204a",
   "metadata": {},
   "outputs": [],
   "source": [
    "gender_stats = {}\n",
    "\n",
    "for record in ENDORSEMENTS_DATA:\n",
    "    gender = record['gender']\n",
    "    \n",
    "    if gender in gender_stats:\n",
    "        gender_stats[gender] += 1 # same as `gender_stats[gender] = gender_stats[gender] + 1`\n",
    "    else:\n",
    "        gender_stats[gender] = 1"
   ]
  },
  {
   "cell_type": "code",
   "execution_count": 8,
   "id": "cdf10176-8ba2-435e-91ad-393744f3b591",
   "metadata": {},
   "outputs": [
    {
     "data": {
      "text/plain": [
       "{'male': 9889, 'female': 3538}"
      ]
     },
     "execution_count": 8,
     "metadata": {},
     "output_type": "execute_result"
    }
   ],
   "source": [
    "gender_stats"
   ]
  },
  {
   "cell_type": "code",
   "execution_count": 9,
   "id": "b463968e-5318-469c-a7f7-03ccf8e1f4c5",
   "metadata": {},
   "outputs": [],
   "source": [
    "def ratio(d, n):\n",
    "    ratios = {}\n",
    "    \n",
    "    for k, v in d.items():\n",
    "        ratios[k] = v / n\n",
    "        \n",
    "    return ratios"
   ]
  },
  {
   "cell_type": "code",
   "execution_count": 10,
   "id": "087ff9f4-d230-4bf3-9053-a75a390231cf",
   "metadata": {},
   "outputs": [
    {
     "data": {
      "text/plain": [
       "{'male': 0.7365010799136069, 'female': 0.2634989200863931}"
      ]
     },
     "execution_count": 10,
     "metadata": {},
     "output_type": "execute_result"
    }
   ],
   "source": [
    "ratio(gender_stats, len(ENDORSEMENTS_DATA))"
   ]
  },
  {
   "cell_type": "code",
   "execution_count": 11,
   "id": "3e911ece-384d-48b2-8919-6871f7a95ad6",
   "metadata": {},
   "outputs": [],
   "source": [
    "candidates_stats = Counter()\n",
    "\n",
    "for record in ENDORSEMENTS_DATA:\n",
    "    candidate = record['candidate']\n",
    "    candidates_stats[candidate] += 1"
   ]
  },
  {
   "cell_type": "code",
   "execution_count": 12,
   "id": "bb4f8075-fd42-409e-9e71-033da792016e",
   "metadata": {},
   "outputs": [
    {
     "data": {
      "text/plain": [
       "[('PÉCRESSE Valérie', 2636),\n",
       " ('MACRON Emmanuel', 2098),\n",
       " ('HIDALGO Anne', 1440),\n",
       " ('MÉLENCHON Jean-Luc', 906),\n",
       " ('ZEMMOUR Éric', 741),\n",
       " ('JADOT Yannick', 712),\n",
       " ('LASSALLE Jean', 642),\n",
       " ('ROUSSEL Fabien', 626),\n",
       " ('LE PEN Marine', 622),\n",
       " ('DUPONT-AIGNAN Nicolas', 600),\n",
       " ('POUTOU Philippe', 596),\n",
       " ('ARTHAUD Nathalie', 576),\n",
       " ('ASSELINEAU François', 293),\n",
       " ('TAUBIRA Christiane', 274),\n",
       " ('KAZIB Anasse', 160)]"
      ]
     },
     "execution_count": 12,
     "metadata": {},
     "output_type": "execute_result"
    }
   ],
   "source": [
    "sorted(candidates_stats.items(), key=lambda x: x[1], reverse=True)[:15]"
   ]
  },
  {
   "cell_type": "code",
   "execution_count": 13,
   "id": "af4b6749-3fc4-4a87-bdcc-1ca2b9a4ad5b",
   "metadata": {},
   "outputs": [
    {
     "data": {
      "text/plain": [
       "[('PÉCRESSE Valérie', 2636),\n",
       " ('MACRON Emmanuel', 2098),\n",
       " ('HIDALGO Anne', 1440),\n",
       " ('MÉLENCHON Jean-Luc', 906),\n",
       " ('ZEMMOUR Éric', 741)]"
      ]
     },
     "execution_count": 13,
     "metadata": {},
     "output_type": "execute_result"
    }
   ],
   "source": [
    "candidates_stats.most_common(5)"
   ]
  }
 ],
 "metadata": {
  "kernelspec": {
   "display_name": "Python 3 (ipykernel)",
   "language": "python",
   "name": "python3"
  },
  "language_info": {
   "codemirror_mode": {
    "name": "ipython",
    "version": 3
   },
   "file_extension": ".py",
   "mimetype": "text/x-python",
   "name": "python",
   "nbconvert_exporter": "python",
   "pygments_lexer": "ipython3",
   "version": "3.8.2"
  }
 },
 "nbformat": 4,
 "nbformat_minor": 5
}
