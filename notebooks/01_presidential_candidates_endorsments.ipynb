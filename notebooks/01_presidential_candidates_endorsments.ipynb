{
 "cells": [
  {
   "cell_type": "markdown",
   "id": "269d59b4-1f74-452e-a3ea-ef7b823d0154",
   "metadata": {},
   "source": [
    "# Exploring presidential candidate endorsements"
   ]
  },
  {
   "cell_type": "code",
   "execution_count": 1,
   "id": "80367efd-1b8a-4d51-89df-9192421ccee1",
   "metadata": {},
   "outputs": [],
   "source": [
    "import json\n",
    "import csv\n",
    "from collections import Counter"
   ]
  },
  {
   "cell_type": "markdown",
   "id": "f626dddd-cd7d-4abb-967c-12e5b566f654",
   "metadata": {
    "jp-MarkdownHeadingCollapsed": true,
    "tags": []
   },
   "source": [
    "## 1. Loading the endorsement JSON file"
   ]
  },
  {
   "cell_type": "code",
   "execution_count": 2,
   "id": "e6eaf006-bf98-4753-8758-6270fab65c56",
   "metadata": {},
   "outputs": [],
   "source": [
    "# NOTE: if you are using windows, you need to mind two additional things:\n",
    "#  1. You must double-escape your antislashes likewise: C:\\\\path\\\\to\\\\thing, else it will trigger syntax errors\n",
    "#  2. You will need to pass the `encoding` kwarg set to \"utf8\" to the `open` function\n",
    "with open('../data/parrainages.json') as f:\n",
    "    ENDORSEMENTS_RAW_DATA = json.load(f)"
   ]
  },
  {
   "cell_type": "code",
   "execution_count": 3,
   "id": "68478736-d966-4f2c-a55e-5942235a6dc1",
   "metadata": {},
   "outputs": [
    {
     "data": {
      "text/plain": [
       "{'Civilite': 'M.',\n",
       " 'Nom': 'CORDIVAL',\n",
       " 'Prenom': 'Gilles',\n",
       " 'Mandat': 'Maire',\n",
       " 'Circonscription': 'Mont-Saint-Père',\n",
       " 'Departement': 'Aisne',\n",
       " 'Candidat': 'ARTHAUD Nathalie',\n",
       " 'DatePublication': '2022-02-01T00:00:00'}"
      ]
     },
     "execution_count": 3,
     "metadata": {},
     "output_type": "execute_result"
    }
   ],
   "source": [
    "ENDORSEMENTS_RAW_DATA[0]"
   ]
  },
  {
   "cell_type": "code",
   "execution_count": 4,
   "id": "adc031ab-9e96-4ddd-b2c6-c7dc48c271a4",
   "metadata": {},
   "outputs": [
    {
     "data": {
      "text/plain": [
       "(13427, list)"
      ]
     },
     "execution_count": 4,
     "metadata": {},
     "output_type": "execute_result"
    }
   ],
   "source": [
    "len(ENDORSEMENTS_RAW_DATA), type(ENDORSEMENTS_RAW_DATA)"
   ]
  },
  {
   "cell_type": "code",
   "execution_count": 5,
   "id": "6b839237-563e-4677-bb38-f816f10f3c70",
   "metadata": {},
   "outputs": [],
   "source": [
    "# Reshaping the data\n",
    "ENDORSEMENTS_DATA = []\n",
    "\n",
    "for record in ENDORSEMENTS_RAW_DATA:\n",
    "    ENDORSEMENTS_DATA.append({\n",
    "        'name': record['Nom'],\n",
    "        'surname': record['Prenom'],\n",
    "        'mandate': record['Mandat'],\n",
    "        'department': record['Departement'],\n",
    "        'endorsement_date': record['DatePublication'],\n",
    "        'gender': 'male' if record['Civilite'] == 'M.' else 'female',\n",
    "        'candidate': record['Candidat']\n",
    "    })"
   ]
  },
  {
   "cell_type": "code",
   "execution_count": 6,
   "id": "a6ef925c-4191-4e92-a5c2-380164cab617",
   "metadata": {},
   "outputs": [
    {
     "data": {
      "text/plain": [
       "{'name': 'CORDIVAL',\n",
       " 'surname': 'Gilles',\n",
       " 'mandate': 'Maire',\n",
       " 'department': 'Aisne',\n",
       " 'endorsement_date': '2022-02-01T00:00:00',\n",
       " 'gender': 'male',\n",
       " 'candidate': 'ARTHAUD Nathalie'}"
      ]
     },
     "execution_count": 6,
     "metadata": {},
     "output_type": "execute_result"
    }
   ],
   "source": [
    "ENDORSEMENTS_DATA[0]"
   ]
  },
  {
   "cell_type": "markdown",
   "id": "6ad905d3-a8b4-4e99-8fbb-64e9bcb9f5fb",
   "metadata": {},
   "source": [
    "### Some stats about gender and candidates"
   ]
  },
  {
   "cell_type": "code",
   "execution_count": 7,
   "id": "439b614d-ab7b-47b0-837d-b9388ad8204a",
   "metadata": {},
   "outputs": [],
   "source": [
    "gender_stats = {}\n",
    "\n",
    "for record in ENDORSEMENTS_DATA:\n",
    "    gender = record['gender']\n",
    "    \n",
    "    if gender in gender_stats:\n",
    "        gender_stats[gender] += 1 # same as `gender_stats[gender] = gender_stats[gender] + 1`\n",
    "    else:\n",
    "        gender_stats[gender] = 1"
   ]
  },
  {
   "cell_type": "code",
   "execution_count": 8,
   "id": "cdf10176-8ba2-435e-91ad-393744f3b591",
   "metadata": {},
   "outputs": [
    {
     "data": {
      "text/plain": [
       "{'male': 9889, 'female': 3538}"
      ]
     },
     "execution_count": 8,
     "metadata": {},
     "output_type": "execute_result"
    }
   ],
   "source": [
    "gender_stats"
   ]
  },
  {
   "cell_type": "code",
   "execution_count": 9,
   "id": "b463968e-5318-469c-a7f7-03ccf8e1f4c5",
   "metadata": {},
   "outputs": [],
   "source": [
    "def ratio(d, n):\n",
    "    ratios = {}\n",
    "    \n",
    "    for k, v in d.items():\n",
    "        ratios[k] = v / n\n",
    "        \n",
    "    return ratios"
   ]
  },
  {
   "cell_type": "code",
   "execution_count": 10,
   "id": "087ff9f4-d230-4bf3-9053-a75a390231cf",
   "metadata": {},
   "outputs": [
    {
     "data": {
      "text/plain": [
       "{'male': 0.7365010799136069, 'female': 0.2634989200863931}"
      ]
     },
     "execution_count": 10,
     "metadata": {},
     "output_type": "execute_result"
    }
   ],
   "source": [
    "ratio(gender_stats, len(ENDORSEMENTS_DATA))"
   ]
  },
  {
   "cell_type": "code",
   "execution_count": 11,
   "id": "3e911ece-384d-48b2-8919-6871f7a95ad6",
   "metadata": {},
   "outputs": [],
   "source": [
    "candidates_stats = Counter()\n",
    "\n",
    "for record in ENDORSEMENTS_DATA:\n",
    "    candidate = record['candidate']\n",
    "    candidates_stats[candidate] += 1"
   ]
  },
  {
   "cell_type": "code",
   "execution_count": 12,
   "id": "bb4f8075-fd42-409e-9e71-033da792016e",
   "metadata": {},
   "outputs": [
    {
     "data": {
      "text/plain": [
       "[('PÉCRESSE Valérie', 2636),\n",
       " ('MACRON Emmanuel', 2098),\n",
       " ('HIDALGO Anne', 1440),\n",
       " ('MÉLENCHON Jean-Luc', 906),\n",
       " ('ZEMMOUR Éric', 741),\n",
       " ('JADOT Yannick', 712),\n",
       " ('LASSALLE Jean', 642),\n",
       " ('ROUSSEL Fabien', 626),\n",
       " ('LE PEN Marine', 622),\n",
       " ('DUPONT-AIGNAN Nicolas', 600),\n",
       " ('POUTOU Philippe', 596),\n",
       " ('ARTHAUD Nathalie', 576),\n",
       " ('ASSELINEAU François', 293),\n",
       " ('TAUBIRA Christiane', 274),\n",
       " ('KAZIB Anasse', 160)]"
      ]
     },
     "execution_count": 12,
     "metadata": {},
     "output_type": "execute_result"
    }
   ],
   "source": [
    "sorted(candidates_stats.items(), key=lambda x: x[1], reverse=True)[:15]"
   ]
  },
  {
   "cell_type": "code",
   "execution_count": 13,
   "id": "af4b6749-3fc4-4a87-bdcc-1ca2b9a4ad5b",
   "metadata": {},
   "outputs": [
    {
     "data": {
      "text/plain": [
       "[('PÉCRESSE Valérie', 2636),\n",
       " ('MACRON Emmanuel', 2098),\n",
       " ('HIDALGO Anne', 1440),\n",
       " ('MÉLENCHON Jean-Luc', 906),\n",
       " ('ZEMMOUR Éric', 741)]"
      ]
     },
     "execution_count": 13,
     "metadata": {},
     "output_type": "execute_result"
    }
   ],
   "source": [
    "candidates_stats.most_common(5)"
   ]
  },
  {
   "cell_type": "code",
   "execution_count": 14,
   "id": "dbf18676-f800-4477-86ea-cd33ddf5dc2b",
   "metadata": {},
   "outputs": [
    {
     "data": {
      "text/plain": [
       "[('PÉCRESSE Valérie', 2636),\n",
       " ('MACRON Emmanuel', 2098),\n",
       " ('HIDALGO Anne', 1440),\n",
       " ('MÉLENCHON Jean-Luc', 906),\n",
       " ('ZEMMOUR Éric', 741)]"
      ]
     },
     "execution_count": 14,
     "metadata": {},
     "output_type": "execute_result"
    }
   ],
   "source": [
    "# Generator comprehension\n",
    "Counter(record['candidate'] for record in ENDORSEMENTS_DATA).most_common(5)"
   ]
  },
  {
   "cell_type": "code",
   "execution_count": 15,
   "id": "7513f83c-8644-4e87-9fbb-d3bd94c5bdc3",
   "metadata": {},
   "outputs": [
    {
     "data": {
      "text/plain": [
       "3538"
      ]
     },
     "execution_count": 15,
     "metadata": {},
     "output_type": "execute_result"
    }
   ],
   "source": [
    "# List comprehension\n",
    "len([record for record in ENDORSEMENTS_DATA if record['gender'] == 'female'])"
   ]
  },
  {
   "cell_type": "code",
   "execution_count": 16,
   "id": "fb79c9f1-c02f-43d5-92d4-94b0421e3c47",
   "metadata": {},
   "outputs": [
    {
     "data": {
      "text/plain": [
       "3538"
      ]
     },
     "execution_count": 16,
     "metadata": {},
     "output_type": "execute_result"
    }
   ],
   "source": [
    "# Same as above\n",
    "female_endorsements = []\n",
    "\n",
    "for record in ENDORSEMENTS_DATA:\n",
    "    if record['gender'] == 'female':\n",
    "        female_endorsements.append(record)\n",
    "\n",
    "len(female_endorsements)"
   ]
  },
  {
   "cell_type": "markdown",
   "id": "975610b6-b8a7-4f8c-8a35-fc06a942228e",
   "metadata": {},
   "source": [
    "### Goals so we can keep only the relevant endorsements:\n",
    "  1. Find the proportion of mayors endorsements\n",
    "  2. Find the running candidates (> 500 endorsements)\n",
    "  3. Filter out irrelevant endorsements:\n",
    "      - From non running candidates\n",
    "      - Endorsements from non mayors"
   ]
  },
  {
   "cell_type": "code",
   "execution_count": 17,
   "id": "03dcdf03-b550-47de-b121-69869bd70dc4",
   "metadata": {},
   "outputs": [
    {
     "data": {
      "text/plain": [
       "[('Maire', 8712),\n",
       " ('Conseillère départementale', 854),\n",
       " ('Conseiller départemental', 740),\n",
       " ('Conseillère régionale', 581),\n",
       " ('Conseiller régional', 511),\n",
       " (\"Maire délégué d'une commune associée ou d'une commune déléguée\", 345),\n",
       " ('Député', 309),\n",
       " ('Députée', 221),\n",
       " ('Sénateur', 191),\n",
       " (\"Membre d'une assemblée d'une collectivité territoriale d'outre-mer à statut particulier\",\n",
       "  150)]"
      ]
     },
     "execution_count": 17,
     "metadata": {},
     "output_type": "execute_result"
    }
   ],
   "source": [
    "# The mandate value is usually messy and \"Maire\" only won't cut it\n",
    "Counter(record['mandate'] for record in ENDORSEMENTS_DATA).most_common(10)"
   ]
  },
  {
   "cell_type": "code",
   "execution_count": 18,
   "id": "f3507753-bc83-4f6e-8eee-cd63167d7312",
   "metadata": {},
   "outputs": [
    {
     "data": {
      "text/plain": [
       "True"
      ]
     },
     "execution_count": 18,
     "metadata": {},
     "output_type": "execute_result"
    }
   ],
   "source": [
    "# Some reminders about substring tests in python\n",
    "string = 'Hello my friend'\n",
    "'friend' in string"
   ]
  },
  {
   "cell_type": "code",
   "execution_count": 19,
   "id": "1f1d932b-7615-48fb-946d-99fe6b47d66d",
   "metadata": {},
   "outputs": [
    {
     "data": {
      "text/plain": [
       "'hello my friend'"
      ]
     },
     "execution_count": 19,
     "metadata": {},
     "output_type": "execute_result"
    }
   ],
   "source": [
    "string.lower()"
   ]
  },
  {
   "cell_type": "code",
   "execution_count": 20,
   "id": "997dd333-4caf-4f1b-a446-c7a770374ea5",
   "metadata": {},
   "outputs": [
    {
     "data": {
      "text/plain": [
       "False"
      ]
     },
     "execution_count": 20,
     "metadata": {},
     "output_type": "execute_result"
    }
   ],
   "source": [
    "'maire' in string.lower()"
   ]
  },
  {
   "cell_type": "code",
   "execution_count": 21,
   "id": "7c9e1262-1c6b-44d9-be3f-bd0e1eba6039",
   "metadata": {},
   "outputs": [],
   "source": [
    "# Defining a function to have a fuzzy condition of mayor\n",
    "def is_endorsement_mayor(s):\n",
    "    return 'maire' in s.lower()"
   ]
  },
  {
   "cell_type": "code",
   "execution_count": 22,
   "id": "bddebd19-7085-4a39-b0c8-19d0bb05d16b",
   "metadata": {},
   "outputs": [],
   "source": [
    "# snake_case\n",
    "# camelCase\n",
    "# kebab-case\n",
    "# CapitalizedCase\n",
    "# CONSTANT_CASE"
   ]
  },
  {
   "cell_type": "code",
   "execution_count": 23,
   "id": "e1f2bbc4-211f-4606-9ff0-b1ad1d51bc2f",
   "metadata": {},
   "outputs": [
    {
     "data": {
      "text/plain": [
       "'68%'"
      ]
     },
     "execution_count": 23,
     "metadata": {},
     "output_type": "execute_result"
    }
   ],
   "source": [
    "# Mayor ratio\n",
    "mayor_endorsement_count = 0\n",
    "\n",
    "for record in ENDORSEMENTS_DATA:\n",
    "    if is_endorsement_mayor(record['mandate']):\n",
    "        mayor_endorsement_count += 1\n",
    "\n",
    "str(int((mayor_endorsement_count / len(ENDORSEMENTS_DATA)) * 100)) + '%'"
   ]
  },
  {
   "cell_type": "code",
   "execution_count": 24,
   "id": "55a86a6a-75a2-4fb1-8616-f2e24f660464",
   "metadata": {},
   "outputs": [
    {
     "name": "stdout",
     "output_type": "stream",
     "text": [
      "The running candidates are:\n",
      "  - ARTHAUD Nathalie\n",
      "  - DUPONT-AIGNAN Nicolas\n",
      "  - HIDALGO Anne\n",
      "  - JADOT Yannick\n",
      "  - LASSALLE Jean\n",
      "  - LE PEN Marine\n",
      "  - MACRON Emmanuel\n",
      "  - MÉLENCHON Jean-Luc\n",
      "  - PÉCRESSE Valérie\n",
      "  - POUTOU Philippe\n",
      "  - ROUSSEL Fabien\n",
      "  - ZEMMOUR Éric\n",
      "\n",
      "We have 12 of them\n"
     ]
    }
   ],
   "source": [
    "running_candidates = []\n",
    "for name, endorsements_count in candidates_stats.items():\n",
    "    if endorsements_count >= 500:\n",
    "        running_candidates.append(name)\n",
    "        \n",
    "print('The running candidates are:')\n",
    "for name in running_candidates:\n",
    "    print('  -', name)\n",
    "print()\n",
    "print('We have', len(running_candidates), 'of them')"
   ]
  },
  {
   "cell_type": "code",
   "execution_count": 25,
   "id": "5fd5801b-4311-44c2-8912-80a09a16d0dd",
   "metadata": {},
   "outputs": [
    {
     "data": {
      "text/plain": [
       "(True, False)"
      ]
     },
     "execution_count": 25,
     "metadata": {},
     "output_type": "execute_result"
    }
   ],
   "source": [
    "# Test that something exists in a list\n",
    "'MACRON Emmanuel' in running_candidates, 'PLIQUE Guillaume' in running_candidates"
   ]
  },
  {
   "cell_type": "code",
   "execution_count": 26,
   "id": "c1e85fb1-a83b-4159-9d32-5488dee2555a",
   "metadata": {},
   "outputs": [
    {
     "data": {
      "text/plain": [
       "0.6045281894689805"
      ]
     },
     "execution_count": 26,
     "metadata": {},
     "output_type": "execute_result"
    }
   ],
   "source": [
    "RELEVANT_ENDORSEMENTS_DATA = []\n",
    "\n",
    "for record in ENDORSEMENTS_DATA:\n",
    "    if (\n",
    "        is_endorsement_mayor(record['mandate']) and\n",
    "        record['candidate'] in running_candidates\n",
    "    ):\n",
    "        RELEVANT_ENDORSEMENTS_DATA.append(record)\n",
    "\n",
    "len(RELEVANT_ENDORSEMENTS_DATA) / len(ENDORSEMENTS_DATA)"
   ]
  },
  {
   "cell_type": "code",
   "execution_count": 27,
   "id": "1dd94edc-e3b2-4e10-aeb9-072e2bd88597",
   "metadata": {},
   "outputs": [
    {
     "data": {
      "text/plain": [
       "'60%'"
      ]
     },
     "execution_count": 27,
     "metadata": {},
     "output_type": "execute_result"
    }
   ],
   "source": [
    "# Updated mayor ratio\n",
    "mayor_endorsement_count = 0\n",
    "\n",
    "for record in RELEVANT_ENDORSEMENTS_DATA:\n",
    "    if is_endorsement_mayor(record['mandate']):\n",
    "        mayor_endorsement_count += 1\n",
    "\n",
    "str(int((mayor_endorsement_count / len(ENDORSEMENTS_DATA)) * 100)) + '%'"
   ]
  },
  {
   "cell_type": "markdown",
   "id": "2fe37431-0beb-41f3-b245-ca257d7b4033",
   "metadata": {},
   "source": [
    "## 2. Loading the RNE CSV file"
   ]
  },
  {
   "cell_type": "code",
   "execution_count": 28,
   "id": "b5b1d041-409b-4f29-ae38-0f93a11eb869",
   "metadata": {},
   "outputs": [],
   "source": [
    "# `iso8859` and `latin1` are the same encoding but the former works on most windows, not the latter...\n",
    "with open('../data/rne-maires.csv', encoding='iso8859') as f:\n",
    "    reader = csv.DictReader(f, delimiter=';')\n",
    "    RNE = list(reader)"
   ]
  },
  {
   "cell_type": "code",
   "execution_count": 29,
   "id": "bd9521c2-100a-4c9a-a793-716e441ca9f0",
   "metadata": {},
   "outputs": [
    {
     "data": {
      "text/plain": [
       "34921"
      ]
     },
     "execution_count": 29,
     "metadata": {},
     "output_type": "execute_result"
    }
   ],
   "source": [
    "len(RNE)"
   ]
  },
  {
   "cell_type": "code",
   "execution_count": 30,
   "id": "5419f4b0-bac4-4e48-9884-523f078d1139",
   "metadata": {},
   "outputs": [
    {
     "data": {
      "text/plain": [
       "{'Code du département': '01',\n",
       " 'Libellé du département': 'Ain',\n",
       " 'Code de la collectivité à statut particulier': '',\n",
       " 'Libellé de la collectivité à statut particulier': '',\n",
       " 'Code de la commune': '01001',\n",
       " 'Libellé de la commune': \"L'Abergement-Clémenciat\",\n",
       " \"Nom de l'élu\": 'BOULON',\n",
       " \"Prénom de l'élu\": 'Daniel',\n",
       " 'Code sexe': 'M',\n",
       " 'Date de naissance': '04/03/1951',\n",
       " 'Code de la catégorie socio-professionnelle': '74',\n",
       " 'Libellé de la catégorie socio-professionnelle': 'Ancien cadre',\n",
       " 'Date de début du mandat': '18/05/2020',\n",
       " 'Date de début de la fonction': '26/05/2020'}"
      ]
     },
     "execution_count": 30,
     "metadata": {},
     "output_type": "execute_result"
    }
   ],
   "source": [
    "RNE[0]"
   ]
  },
  {
   "cell_type": "raw",
   "id": "9b20f0da-70f4-4adc-aadf-edc02b96daca",
   "metadata": {},
   "source": [
    "# Example to convert to JSON\n",
    "with open('../data/rne-maires.json', 'w') as f:\n",
    "    json.dump(RNE, f, indent=2, ensure_ascii=False)"
   ]
  },
  {
   "cell_type": "code",
   "execution_count": 31,
   "id": "d0dbe8a8-25cf-4173-a930-7f8deaae2fd3",
   "metadata": {},
   "outputs": [],
   "source": [
    "def endorsement_key(endorsement):\n",
    "    return (\n",
    "        endorsement['name'].lower(),\n",
    "        endorsement['surname'].lower(),\n",
    "        endorsement['department'].lower()\n",
    "    )"
   ]
  },
  {
   "cell_type": "code",
   "execution_count": 32,
   "id": "bcfa8319-0fbc-4dad-8ead-d603b6cba22e",
   "metadata": {},
   "outputs": [
    {
     "name": "stdout",
     "output_type": "stream",
     "text": [
      "{'name': 'CORDIVAL', 'surname': 'Gilles', 'mandate': 'Maire', 'department': 'Aisne', 'endorsement_date': '2022-02-01T00:00:00', 'gender': 'male', 'candidate': 'ARTHAUD Nathalie'}\n",
      "('cordival', 'gilles', 'aisne')\n",
      "<class 'tuple'>\n"
     ]
    }
   ],
   "source": [
    "print(RELEVANT_ENDORSEMENTS_DATA[0])\n",
    "print(endorsement_key(RELEVANT_ENDORSEMENTS_DATA[0]))\n",
    "print(type(endorsement_key(RELEVANT_ENDORSEMENTS_DATA[0])))"
   ]
  },
  {
   "cell_type": "code",
   "execution_count": 35,
   "id": "b61dd03f-94f3-48fd-b396-1336d8f3ed51",
   "metadata": {},
   "outputs": [
    {
     "name": "stdout",
     "output_type": "stream",
     "text": [
      "Regional homonymy\n",
      "{'name': 'MARTIN', 'surname': 'Gérard', 'mandate': 'Maire', 'department': 'Dordogne', 'endorsement_date': '2022-02-15T00:00:00', 'gender': 'male', 'candidate': 'POUTOU Philippe'}\n",
      "{'name': 'MARTIN', 'surname': 'Gérard', 'mandate': 'Maire', 'department': 'Dordogne', 'endorsement_date': '2022-02-08T00:00:00', 'gender': 'male', 'candidate': 'MÉLENCHON Jean-Luc'}\n"
     ]
    },
    {
     "data": {
      "text/plain": [
       "(('cordival', 'gilles', 'aisne'),\n",
       " {'name': 'CORDIVAL',\n",
       "  'surname': 'Gilles',\n",
       "  'mandate': 'Maire',\n",
       "  'department': 'Aisne',\n",
       "  'endorsement_date': '2022-02-01T00:00:00',\n",
       "  'gender': 'male',\n",
       "  'candidate': 'ARTHAUD Nathalie'})"
      ]
     },
     "execution_count": 35,
     "metadata": {},
     "output_type": "execute_result"
    }
   ],
   "source": [
    "ENDORSEMENTS_INDEX = {}\n",
    "\n",
    "for record in RELEVANT_ENDORSEMENTS_DATA:\n",
    "    key = endorsement_key(record)\n",
    "    \n",
    "    if key in ENDORSEMENTS_INDEX:\n",
    "        print('Regional homonymy')\n",
    "        print(record)\n",
    "        print(ENDORSEMENTS_INDEX[key])\n",
    "        continue\n",
    "    \n",
    "    ENDORSEMENTS_INDEX[key] = record\n",
    "    \n",
    "next(iter(ENDORSEMENTS_INDEX.items()))"
   ]
  }
 ],
 "metadata": {
  "kernelspec": {
   "display_name": "Python 3 (ipykernel)",
   "language": "python",
   "name": "python3"
  },
  "language_info": {
   "codemirror_mode": {
    "name": "ipython",
    "version": 3
   },
   "file_extension": ".py",
   "mimetype": "text/x-python",
   "name": "python",
   "nbconvert_exporter": "python",
   "pygments_lexer": "ipython3",
   "version": "3.8.5"
  }
 },
 "nbformat": 4,
 "nbformat_minor": 5
}
