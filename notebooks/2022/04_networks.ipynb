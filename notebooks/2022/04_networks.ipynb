{
 "cells": [
  {
   "cell_type": "markdown",
   "id": "a8ba3b5f-7b60-4239-9ffa-00381f03a911",
   "metadata": {},
   "source": [
    "# A network of hashtags"
   ]
  },
  {
   "cell_type": "code",
   "execution_count": null,
   "id": "e15f7fa5-b711-41f7-911f-7ffaf5404f50",
   "metadata": {
    "tags": []
   },
   "outputs": [],
   "source": [
    "!pip install minet networkx ipysigma"
   ]
  },
  {
   "cell_type": "code",
   "execution_count": 2,
   "id": "9f36d819-0d88-46de-9850-6e75b95ec495",
   "metadata": {},
   "outputs": [],
   "source": [
    "from minet.twitter import TwitterAPIScraper\n",
    "import networkx as nx\n",
    "from ipysigma import Sigma"
   ]
  },
  {
   "cell_type": "markdown",
   "id": "63cc6800-09f1-4e37-ae5c-db0335bc6c30",
   "metadata": {},
   "source": [
    "## Trying ipysigma"
   ]
  },
  {
   "cell_type": "code",
   "execution_count": 3,
   "id": "ace2750b-9f46-45e5-ae08-00bd4dce8b57",
   "metadata": {},
   "outputs": [
    {
     "data": {
      "application/vnd.jupyter.widget-view+json": {
       "model_id": "5d7921450b9040d0bbab7c709ea657cf",
       "version_major": 2,
       "version_minor": 0
      },
      "text/plain": [
       "Sigma(nx.Graph with 34 nodes and 78 edges)"
      ]
     },
     "metadata": {},
     "output_type": "display_data"
    }
   ],
   "source": [
    "g = nx.karate_club_graph()\n",
    "Sigma(g)\n",
    "# If this does not display anything, try running this command in another cell:\n",
    "# `!jupyter nbextension enable --py --sys-prefix ipysigma`\n",
    "# Then restart anaconda & your notebook and try again"
   ]
  },
  {
   "cell_type": "code",
   "execution_count": 4,
   "id": "e9d5dd33-a54c-4644-aeec-a8912dda6268",
   "metadata": {},
   "outputs": [],
   "source": [
    "# If everything else fails:\n",
    "# nx.write_gexf(g, './graph.gexf')\n",
    "# And go to: https://medialab.github.io/nansi/"
   ]
  },
  {
   "cell_type": "markdown",
   "id": "6d0f82d1-3166-44dd-b7d4-cba1dc64fce7",
   "metadata": {},
   "source": [
    "## Learning how to use networkx"
   ]
  },
  {
   "cell_type": "code",
   "execution_count": 5,
   "id": "89b3006c-6993-4380-8050-dc55fa449491",
   "metadata": {},
   "outputs": [],
   "source": [
    "example_graph = nx.Graph()"
   ]
  },
  {
   "cell_type": "code",
   "execution_count": 6,
   "id": "2ceed9f4-5c20-48a0-a594-b45237a0ed47",
   "metadata": {},
   "outputs": [],
   "source": [
    "example_graph.add_node('John', gender='man')\n",
    "example_graph.add_node('Mary', gender='woman')\n",
    "example_graph.add_node('Susan', gender='woman')\n",
    "example_graph.add_node('Albert', gender='man')"
   ]
  },
  {
   "cell_type": "code",
   "execution_count": 7,
   "id": "dd43824b-e7fc-4784-83c7-060795a62106",
   "metadata": {},
   "outputs": [
    {
     "data": {
      "text/plain": [
       "4"
      ]
     },
     "execution_count": 7,
     "metadata": {},
     "output_type": "execute_result"
    }
   ],
   "source": [
    "len(example_graph)"
   ]
  },
  {
   "cell_type": "code",
   "execution_count": 8,
   "id": "16393f63-f5dc-4a73-8835-0d0fe67b6de0",
   "metadata": {},
   "outputs": [],
   "source": [
    "example_graph.add_edge('John', 'Mary', weight=10)\n",
    "example_graph.add_edge('John', 'Susan', weight=45)\n",
    "example_graph.add_edge('John', 'Albert', weight=1)\n",
    "example_graph.add_edge('Mary', 'Albert', weight=2)"
   ]
  },
  {
   "cell_type": "code",
   "execution_count": 9,
   "id": "e729f8d9-de6a-46f5-b091-2872dce0478b",
   "metadata": {},
   "outputs": [
    {
     "data": {
      "text/plain": [
       "True"
      ]
     },
     "execution_count": 9,
     "metadata": {},
     "output_type": "execute_result"
    }
   ],
   "source": [
    "'John' in example_graph"
   ]
  },
  {
   "cell_type": "code",
   "execution_count": 10,
   "id": "b8d8ce2a-a985-420d-a252-cbbb2cb79749",
   "metadata": {},
   "outputs": [
    {
     "data": {
      "text/plain": [
       "False"
      ]
     },
     "execution_count": 10,
     "metadata": {},
     "output_type": "execute_result"
    }
   ],
   "source": [
    "'Jack' in example_graph"
   ]
  },
  {
   "cell_type": "code",
   "execution_count": 11,
   "id": "adc3af28-9fb5-43d4-bfaa-bcba960e693a",
   "metadata": {},
   "outputs": [
    {
     "data": {
      "text/plain": [
       "(4, 4)"
      ]
     },
     "execution_count": 11,
     "metadata": {},
     "output_type": "execute_result"
    }
   ],
   "source": [
    "example_graph.order(), example_graph.size()"
   ]
  },
  {
   "cell_type": "code",
   "execution_count": 12,
   "id": "a81496ea-df42-4d50-bf2a-973284e63c92",
   "metadata": {},
   "outputs": [
    {
     "data": {
      "text/plain": [
       "[('John', {'gender': 'man'}),\n",
       " ('Mary', {'gender': 'woman'}),\n",
       " ('Susan', {'gender': 'woman'}),\n",
       " ('Albert', {'gender': 'man'})]"
      ]
     },
     "execution_count": 12,
     "metadata": {},
     "output_type": "execute_result"
    }
   ],
   "source": [
    "list(example_graph.nodes.data())"
   ]
  },
  {
   "cell_type": "code",
   "execution_count": 13,
   "id": "281eab0f-f604-4a85-b4c6-88eadfdfb19f",
   "metadata": {},
   "outputs": [
    {
     "data": {
      "application/vnd.jupyter.widget-view+json": {
       "model_id": "8fea3b4af88544d08feaa3c367db0aa8",
       "version_major": 2,
       "version_minor": 0
      },
      "text/plain": [
       "Sigma(nx.Graph with 4 nodes and 4 edges)"
      ]
     },
     "metadata": {},
     "output_type": "display_data"
    }
   ],
   "source": [
    "Sigma(example_graph, node_size=example_graph.degree, node_color='gender', edge_size='weight')"
   ]
  },
  {
   "cell_type": "markdown",
   "id": "d3b552bd-161f-466e-a9f8-cd6b7c3f88d3",
   "metadata": {},
   "source": [
    "## Downloading our tweets"
   ]
  },
  {
   "cell_type": "code",
   "execution_count": 14,
   "id": "a18f7c52-6d21-47ed-9c32-bbe9907d744e",
   "metadata": {},
   "outputs": [],
   "source": [
    "QUERY = '(blocage OR occupation) sciencespo'"
   ]
  },
  {
   "cell_type": "code",
   "execution_count": 15,
   "id": "6ab6a904-c214-497c-95f6-4b6caf589f85",
   "metadata": {},
   "outputs": [],
   "source": [
    "scraper = TwitterAPIScraper()"
   ]
  },
  {
   "cell_type": "code",
   "execution_count": 16,
   "id": "e46ecc18-61db-495b-aea6-4fdbfa6d8c86",
   "metadata": {},
   "outputs": [],
   "source": [
    "TWEETS = []\n",
    "\n",
    "for tweet in scraper.search_tweets(QUERY):\n",
    "    TWEETS.append(tweet)"
   ]
  },
  {
   "cell_type": "code",
   "execution_count": 17,
   "id": "5afa11e0-271f-4673-b189-1d2c5e52b9ef",
   "metadata": {},
   "outputs": [
    {
     "data": {
      "text/plain": [
       "1292"
      ]
     },
     "execution_count": 17,
     "metadata": {},
     "output_type": "execute_result"
    }
   ],
   "source": [
    "len(TWEETS)"
   ]
  },
  {
   "cell_type": "markdown",
   "id": "c269e934-f70b-4365-bc87-a80906596f30",
   "metadata": {},
   "source": [
    "## Building a bipartite graph\n",
    "\n",
    "*With two kind of nodes: Twitter users, on one side, and the hashtags they use, on the other.*"
   ]
  },
  {
   "cell_type": "code",
   "execution_count": 18,
   "id": "bf3e9374-03b1-467f-a3a9-a5b88577b697",
   "metadata": {},
   "outputs": [
    {
     "data": {
      "text/plain": [
       "(1346, 979)"
      ]
     },
     "execution_count": 18,
     "metadata": {},
     "output_type": "execute_result"
    }
   ],
   "source": [
    "graph = nx.Graph()\n",
    "\n",
    "for tweet in TWEETS:\n",
    "    user = '@' + tweet['user_screen_name']\n",
    "    graph.add_node(user, category='user')\n",
    "    \n",
    "    for hashtag in tweet['hashtags']:\n",
    "        hashtag = '#' + hashtag\n",
    "        graph.add_node(hashtag, category='hashtag')\n",
    "        graph.add_edge(user, hashtag)\n",
    "        \n",
    "graph.order(), graph.size()"
   ]
  },
  {
   "cell_type": "code",
   "execution_count": 19,
   "id": "03e3f36a-ba91-4cdf-a16f-c839ac67c991",
   "metadata": {},
   "outputs": [
    {
     "data": {
      "application/vnd.jupyter.widget-view+json": {
       "model_id": "aceaa323bcc245878a4a8ee97ca23265",
       "version_major": 2,
       "version_minor": 0
      },
      "text/plain": [
       "Sigma(nx.Graph with 1,346 nodes and 979 edges)"
      ]
     },
     "metadata": {},
     "output_type": "display_data"
    }
   ],
   "source": [
    "Sigma(\n",
    "    graph,\n",
    "    only_largest_component=True,\n",
    "    node_size=graph.degree,\n",
    "    node_color='louvain',\n",
    "    node_metrics=['louvain']\n",
    ")"
   ]
  },
  {
   "cell_type": "markdown",
   "id": "340d47b2-0ed2-4be2-8c20-63950178f7b2",
   "metadata": {},
   "source": [
    "## Projecting the graph"
   ]
  },
  {
   "cell_type": "code",
   "execution_count": 20,
   "id": "84eedf14-04ed-47d4-b6cb-56b17277f8a7",
   "metadata": {},
   "outputs": [
    {
     "name": "stdout",
     "output_type": "stream",
     "text": [
      "Requirement already satisfied: pelote in /home/yomguithereal/.pyenv/versions/3.8.5/envs/psia/lib/python3.8/site-packages (0.5.0)\n",
      "Requirement already satisfied: networkx<3,>=2 in /home/yomguithereal/.pyenv/versions/3.8.5/envs/psia/lib/python3.8/site-packages (from pelote) (2.8)\n",
      "Requirement already satisfied: typing-extensions>=4 in /home/yomguithereal/.pyenv/versions/3.8.5/envs/psia/lib/python3.8/site-packages (from pelote) (4.2.0)\n"
     ]
    }
   ],
   "source": [
    "!pip install pelote"
   ]
  },
  {
   "cell_type": "code",
   "execution_count": 21,
   "id": "d9d345dd-9e3a-47c0-9ade-cf596f4a56e9",
   "metadata": {},
   "outputs": [],
   "source": [
    "from pelote import monopartite_projection"
   ]
  },
  {
   "cell_type": "code",
   "execution_count": 22,
   "id": "c46a06bf-584b-412f-9356-fc56a5c8545d",
   "metadata": {},
   "outputs": [],
   "source": [
    "# Relevant documentation: https://github.com/medialab/pelote#monopartite_projection\n",
    "hashtag_graph = monopartite_projection(graph, 'hashtag', node_part_attr='category')"
   ]
  },
  {
   "cell_type": "code",
   "execution_count": 23,
   "id": "2b2bc520-b267-4766-a3cb-e5d7b3302f12",
   "metadata": {},
   "outputs": [
    {
     "data": {
      "text/plain": [
       "(369, 1504)"
      ]
     },
     "execution_count": 23,
     "metadata": {},
     "output_type": "execute_result"
    }
   ],
   "source": [
    "hashtag_graph.order(), hashtag_graph.size()"
   ]
  },
  {
   "cell_type": "code",
   "execution_count": 24,
   "id": "8d70081f-7e65-4c5a-8918-3e96bdd3f729",
   "metadata": {},
   "outputs": [
    {
     "data": {
      "application/vnd.jupyter.widget-view+json": {
       "model_id": "957f46c4d6ff45349e179cf2b995c9b6",
       "version_major": 2,
       "version_minor": 0
      },
      "text/plain": [
       "Sigma(nx.Graph with 369 nodes and 1,504 edges)"
      ]
     },
     "metadata": {},
     "output_type": "display_data"
    }
   ],
   "source": [
    "Sigma(\n",
    "    hashtag_graph,\n",
    "    only_largest_component=True,\n",
    "    node_size=graph.degree,\n",
    "    node_color='louvain',\n",
    "    node_metrics=['louvain']\n",
    ")"
   ]
  },
  {
   "cell_type": "code",
   "execution_count": 25,
   "id": "f90b92cb-33c9-4fa3-89bf-aff1bc810494",
   "metadata": {},
   "outputs": [],
   "source": [
    "user_graph = monopartite_projection(graph, 'user', node_part_attr='category')"
   ]
  },
  {
   "cell_type": "code",
   "execution_count": 26,
   "id": "8694ba01-e8d7-42e0-9c57-7cdf4f834c37",
   "metadata": {},
   "outputs": [
    {
     "data": {
      "application/vnd.jupyter.widget-view+json": {
       "model_id": "c68b7e34c58140a6baae8736d1a249ea",
       "version_major": 2,
       "version_minor": 0
      },
      "text/plain": [
       "Sigma(nx.Graph with 977 nodes and 16,492 edges)"
      ]
     },
     "metadata": {},
     "output_type": "display_data"
    }
   ],
   "source": [
    "Sigma(\n",
    "    user_graph,\n",
    "    only_largest_component=True,\n",
    "    node_size=graph.degree,\n",
    "    node_color='louvain',\n",
    "    node_metrics=['louvain'],\n",
    "    edge_size='weight',\n",
    "    edge_weight='weight'\n",
    ")"
   ]
  }
 ],
 "metadata": {
  "kernelspec": {
   "display_name": "Python 3 (ipykernel)",
   "language": "python",
   "name": "python3"
  },
  "language_info": {
   "codemirror_mode": {
    "name": "ipython",
    "version": 3
   },
   "file_extension": ".py",
   "mimetype": "text/x-python",
   "name": "python",
   "nbconvert_exporter": "python",
   "pygments_lexer": "ipython3",
   "version": "3.8.5"
  }
 },
 "nbformat": 4,
 "nbformat_minor": 5
}
