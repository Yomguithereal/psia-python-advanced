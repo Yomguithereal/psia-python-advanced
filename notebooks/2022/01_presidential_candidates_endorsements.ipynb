{
 "cells": [
  {
   "cell_type": "markdown",
   "id": "269d59b4-1f74-452e-a3ea-ef7b823d0154",
   "metadata": {},
   "source": [
    "# Exploring presidential candidate endorsements"
   ]
  },
  {
   "cell_type": "code",
   "execution_count": 1,
   "id": "80367efd-1b8a-4d51-89df-9192421ccee1",
   "metadata": {},
   "outputs": [],
   "source": [
    "import json\n",
    "import csv\n",
    "from collections import Counter"
   ]
  },
  {
   "cell_type": "markdown",
   "id": "f626dddd-cd7d-4abb-967c-12e5b566f654",
   "metadata": {
    "tags": []
   },
   "source": [
    "## 1. Loading the endorsement JSON file"
   ]
  },
  {
   "cell_type": "code",
   "execution_count": 2,
   "id": "e6eaf006-bf98-4753-8758-6270fab65c56",
   "metadata": {},
   "outputs": [],
   "source": [
    "# NOTE: if you are using windows, you need to mind two additional things:\n",
    "#  1. You must double-escape your antislashes likewise: C:\\\\path\\\\to\\\\thing, else it will trigger syntax errors\n",
    "#  2. You will need to pass the `encoding` kwarg set to \"utf8\" to the `open` function\n",
    "with open('../data/parrainages.json') as f:\n",
    "    ENDORSEMENTS_RAW_DATA = json.load(f)"
   ]
  },
  {
   "cell_type": "code",
   "execution_count": 3,
   "id": "68478736-d966-4f2c-a55e-5942235a6dc1",
   "metadata": {},
   "outputs": [
    {
     "data": {
      "text/plain": [
       "{'Civilite': 'M.',\n",
       " 'Nom': 'CORDIVAL',\n",
       " 'Prenom': 'Gilles',\n",
       " 'Mandat': 'Maire',\n",
       " 'Circonscription': 'Mont-Saint-Père',\n",
       " 'Departement': 'Aisne',\n",
       " 'Candidat': 'ARTHAUD Nathalie',\n",
       " 'DatePublication': '2022-02-01T00:00:00'}"
      ]
     },
     "execution_count": 3,
     "metadata": {},
     "output_type": "execute_result"
    }
   ],
   "source": [
    "ENDORSEMENTS_RAW_DATA[0]"
   ]
  },
  {
   "cell_type": "code",
   "execution_count": 4,
   "id": "adc031ab-9e96-4ddd-b2c6-c7dc48c271a4",
   "metadata": {},
   "outputs": [
    {
     "data": {
      "text/plain": [
       "(13427, list)"
      ]
     },
     "execution_count": 4,
     "metadata": {},
     "output_type": "execute_result"
    }
   ],
   "source": [
    "len(ENDORSEMENTS_RAW_DATA), type(ENDORSEMENTS_RAW_DATA)"
   ]
  },
  {
   "cell_type": "code",
   "execution_count": 5,
   "id": "6b839237-563e-4677-bb38-f816f10f3c70",
   "metadata": {},
   "outputs": [],
   "source": [
    "# Reshaping the data\n",
    "ENDORSEMENTS_DATA = []\n",
    "\n",
    "for record in ENDORSEMENTS_RAW_DATA:\n",
    "    ENDORSEMENTS_DATA.append({\n",
    "        'name': record['Prenom'],\n",
    "        'surname': record['Nom'],\n",
    "        'mandate': record['Mandat'],\n",
    "        'department': record['Departement'],\n",
    "        'endorsement_date': record['DatePublication'],\n",
    "        'gender': 'male' if record['Civilite'] == 'M.' else 'female',\n",
    "        'candidate': record['Candidat']\n",
    "    })"
   ]
  },
  {
   "cell_type": "code",
   "execution_count": 6,
   "id": "a6ef925c-4191-4e92-a5c2-380164cab617",
   "metadata": {},
   "outputs": [
    {
     "data": {
      "text/plain": [
       "{'name': 'Gilles',\n",
       " 'surname': 'CORDIVAL',\n",
       " 'mandate': 'Maire',\n",
       " 'department': 'Aisne',\n",
       " 'endorsement_date': '2022-02-01T00:00:00',\n",
       " 'gender': 'male',\n",
       " 'candidate': 'ARTHAUD Nathalie'}"
      ]
     },
     "execution_count": 6,
     "metadata": {},
     "output_type": "execute_result"
    }
   ],
   "source": [
    "ENDORSEMENTS_DATA[0]"
   ]
  },
  {
   "cell_type": "markdown",
   "id": "6ad905d3-a8b4-4e99-8fbb-64e9bcb9f5fb",
   "metadata": {},
   "source": [
    "### Some stats about gender and candidates"
   ]
  },
  {
   "cell_type": "code",
   "execution_count": 7,
   "id": "439b614d-ab7b-47b0-837d-b9388ad8204a",
   "metadata": {},
   "outputs": [],
   "source": [
    "gender_stats = {}\n",
    "\n",
    "for record in ENDORSEMENTS_DATA:\n",
    "    gender = record['gender']\n",
    "    \n",
    "    if gender in gender_stats:\n",
    "        gender_stats[gender] += 1 # same as `gender_stats[gender] = gender_stats[gender] + 1`\n",
    "    else:\n",
    "        gender_stats[gender] = 1"
   ]
  },
  {
   "cell_type": "code",
   "execution_count": 8,
   "id": "cdf10176-8ba2-435e-91ad-393744f3b591",
   "metadata": {},
   "outputs": [
    {
     "data": {
      "text/plain": [
       "{'male': 9889, 'female': 3538}"
      ]
     },
     "execution_count": 8,
     "metadata": {},
     "output_type": "execute_result"
    }
   ],
   "source": [
    "gender_stats"
   ]
  },
  {
   "cell_type": "code",
   "execution_count": 9,
   "id": "b463968e-5318-469c-a7f7-03ccf8e1f4c5",
   "metadata": {},
   "outputs": [],
   "source": [
    "def ratio(d, n):\n",
    "    ratios = {}\n",
    "    \n",
    "    for k, v in d.items():\n",
    "        ratios[k] = v / n\n",
    "        \n",
    "    return ratios"
   ]
  },
  {
   "cell_type": "code",
   "execution_count": 10,
   "id": "087ff9f4-d230-4bf3-9053-a75a390231cf",
   "metadata": {},
   "outputs": [
    {
     "data": {
      "text/plain": [
       "{'male': 0.7365010799136069, 'female': 0.2634989200863931}"
      ]
     },
     "execution_count": 10,
     "metadata": {},
     "output_type": "execute_result"
    }
   ],
   "source": [
    "ratio(gender_stats, len(ENDORSEMENTS_DATA))"
   ]
  },
  {
   "cell_type": "code",
   "execution_count": 11,
   "id": "3e911ece-384d-48b2-8919-6871f7a95ad6",
   "metadata": {},
   "outputs": [],
   "source": [
    "candidates_stats = Counter()\n",
    "\n",
    "for record in ENDORSEMENTS_DATA:\n",
    "    candidate = record['candidate']\n",
    "    candidates_stats[candidate] += 1"
   ]
  },
  {
   "cell_type": "code",
   "execution_count": 12,
   "id": "bb4f8075-fd42-409e-9e71-033da792016e",
   "metadata": {},
   "outputs": [
    {
     "data": {
      "text/plain": [
       "[('PÉCRESSE Valérie', 2636),\n",
       " ('MACRON Emmanuel', 2098),\n",
       " ('HIDALGO Anne', 1440),\n",
       " ('MÉLENCHON Jean-Luc', 906),\n",
       " ('ZEMMOUR Éric', 741),\n",
       " ('JADOT Yannick', 712),\n",
       " ('LASSALLE Jean', 642),\n",
       " ('ROUSSEL Fabien', 626),\n",
       " ('LE PEN Marine', 622),\n",
       " ('DUPONT-AIGNAN Nicolas', 600),\n",
       " ('POUTOU Philippe', 596),\n",
       " ('ARTHAUD Nathalie', 576),\n",
       " ('ASSELINEAU François', 293),\n",
       " ('TAUBIRA Christiane', 274),\n",
       " ('KAZIB Anasse', 160)]"
      ]
     },
     "execution_count": 12,
     "metadata": {},
     "output_type": "execute_result"
    }
   ],
   "source": [
    "sorted(candidates_stats.items(), key=lambda x: x[1], reverse=True)[:15]"
   ]
  },
  {
   "cell_type": "code",
   "execution_count": 13,
   "id": "af4b6749-3fc4-4a87-bdcc-1ca2b9a4ad5b",
   "metadata": {},
   "outputs": [
    {
     "data": {
      "text/plain": [
       "[('PÉCRESSE Valérie', 2636),\n",
       " ('MACRON Emmanuel', 2098),\n",
       " ('HIDALGO Anne', 1440),\n",
       " ('MÉLENCHON Jean-Luc', 906),\n",
       " ('ZEMMOUR Éric', 741)]"
      ]
     },
     "execution_count": 13,
     "metadata": {},
     "output_type": "execute_result"
    }
   ],
   "source": [
    "candidates_stats.most_common(5)"
   ]
  },
  {
   "cell_type": "code",
   "execution_count": 14,
   "id": "dbf18676-f800-4477-86ea-cd33ddf5dc2b",
   "metadata": {},
   "outputs": [
    {
     "data": {
      "text/plain": [
       "[('PÉCRESSE Valérie', 2636),\n",
       " ('MACRON Emmanuel', 2098),\n",
       " ('HIDALGO Anne', 1440),\n",
       " ('MÉLENCHON Jean-Luc', 906),\n",
       " ('ZEMMOUR Éric', 741)]"
      ]
     },
     "execution_count": 14,
     "metadata": {},
     "output_type": "execute_result"
    }
   ],
   "source": [
    "# Generator comprehension\n",
    "Counter(record['candidate'] for record in ENDORSEMENTS_DATA).most_common(5)"
   ]
  },
  {
   "cell_type": "code",
   "execution_count": 15,
   "id": "7513f83c-8644-4e87-9fbb-d3bd94c5bdc3",
   "metadata": {},
   "outputs": [
    {
     "data": {
      "text/plain": [
       "3538"
      ]
     },
     "execution_count": 15,
     "metadata": {},
     "output_type": "execute_result"
    }
   ],
   "source": [
    "# List comprehension\n",
    "len([record for record in ENDORSEMENTS_DATA if record['gender'] == 'female'])"
   ]
  },
  {
   "cell_type": "code",
   "execution_count": 16,
   "id": "fb79c9f1-c02f-43d5-92d4-94b0421e3c47",
   "metadata": {},
   "outputs": [
    {
     "data": {
      "text/plain": [
       "3538"
      ]
     },
     "execution_count": 16,
     "metadata": {},
     "output_type": "execute_result"
    }
   ],
   "source": [
    "# Same as above\n",
    "female_endorsements = []\n",
    "\n",
    "for record in ENDORSEMENTS_DATA:\n",
    "    if record['gender'] == 'female':\n",
    "        female_endorsements.append(record)\n",
    "\n",
    "len(female_endorsements)"
   ]
  },
  {
   "cell_type": "markdown",
   "id": "975610b6-b8a7-4f8c-8a35-fc06a942228e",
   "metadata": {},
   "source": [
    "### Goals so we can keep only the relevant endorsements:\n",
    "  1. Find the proportion of mayors endorsements\n",
    "  2. Find the running candidates (>= 500 endorsements)\n",
    "  3. Filter out irrelevant endorsements:\n",
    "      - From non running candidates\n",
    "      - Endorsements from non mayors"
   ]
  },
  {
   "cell_type": "code",
   "execution_count": 17,
   "id": "03dcdf03-b550-47de-b121-69869bd70dc4",
   "metadata": {},
   "outputs": [
    {
     "data": {
      "text/plain": [
       "[('Maire', 8712),\n",
       " ('Conseillère départementale', 854),\n",
       " ('Conseiller départemental', 740),\n",
       " ('Conseillère régionale', 581),\n",
       " ('Conseiller régional', 511),\n",
       " (\"Maire délégué d'une commune associée ou d'une commune déléguée\", 345),\n",
       " ('Député', 309),\n",
       " ('Députée', 221),\n",
       " ('Sénateur', 191),\n",
       " (\"Membre d'une assemblée d'une collectivité territoriale d'outre-mer à statut particulier\",\n",
       "  150)]"
      ]
     },
     "execution_count": 17,
     "metadata": {},
     "output_type": "execute_result"
    }
   ],
   "source": [
    "# The mandate value is usually messy and \"Maire\" only won't cut it\n",
    "Counter(record['mandate'] for record in ENDORSEMENTS_DATA).most_common(10)"
   ]
  },
  {
   "cell_type": "code",
   "execution_count": 18,
   "id": "f3507753-bc83-4f6e-8eee-cd63167d7312",
   "metadata": {},
   "outputs": [
    {
     "data": {
      "text/plain": [
       "True"
      ]
     },
     "execution_count": 18,
     "metadata": {},
     "output_type": "execute_result"
    }
   ],
   "source": [
    "# Some reminders about substring tests in python\n",
    "string = 'Hello my friend'\n",
    "'friend' in string"
   ]
  },
  {
   "cell_type": "code",
   "execution_count": 19,
   "id": "1f1d932b-7615-48fb-946d-99fe6b47d66d",
   "metadata": {},
   "outputs": [
    {
     "data": {
      "text/plain": [
       "'hello my friend'"
      ]
     },
     "execution_count": 19,
     "metadata": {},
     "output_type": "execute_result"
    }
   ],
   "source": [
    "string.lower()"
   ]
  },
  {
   "cell_type": "code",
   "execution_count": 20,
   "id": "997dd333-4caf-4f1b-a446-c7a770374ea5",
   "metadata": {},
   "outputs": [
    {
     "data": {
      "text/plain": [
       "False"
      ]
     },
     "execution_count": 20,
     "metadata": {},
     "output_type": "execute_result"
    }
   ],
   "source": [
    "'maire' in string.lower()"
   ]
  },
  {
   "cell_type": "code",
   "execution_count": 21,
   "id": "7c9e1262-1c6b-44d9-be3f-bd0e1eba6039",
   "metadata": {},
   "outputs": [],
   "source": [
    "# Defining a function to have a fuzzy condition of mayor\n",
    "def is_endorsement_mayor(s):\n",
    "    return 'maire' in s.lower()"
   ]
  },
  {
   "cell_type": "code",
   "execution_count": 22,
   "id": "bddebd19-7085-4a39-b0c8-19d0bb05d16b",
   "metadata": {},
   "outputs": [],
   "source": [
    "# snake_case\n",
    "# camelCase\n",
    "# kebab-case\n",
    "# CapitalizedCase\n",
    "# CONSTANT_CASE"
   ]
  },
  {
   "cell_type": "code",
   "execution_count": 23,
   "id": "e1f2bbc4-211f-4606-9ff0-b1ad1d51bc2f",
   "metadata": {},
   "outputs": [
    {
     "data": {
      "text/plain": [
       "'68%'"
      ]
     },
     "execution_count": 23,
     "metadata": {},
     "output_type": "execute_result"
    }
   ],
   "source": [
    "# Mayor ratio\n",
    "mayor_endorsement_count = 0\n",
    "\n",
    "for record in ENDORSEMENTS_DATA:\n",
    "    if is_endorsement_mayor(record['mandate']):\n",
    "        mayor_endorsement_count += 1\n",
    "\n",
    "str(int((mayor_endorsement_count / len(ENDORSEMENTS_DATA)) * 100)) + '%'"
   ]
  },
  {
   "cell_type": "code",
   "execution_count": 24,
   "id": "55a86a6a-75a2-4fb1-8616-f2e24f660464",
   "metadata": {},
   "outputs": [
    {
     "name": "stdout",
     "output_type": "stream",
     "text": [
      "The running candidates are:\n",
      "  - ARTHAUD Nathalie\n",
      "  - DUPONT-AIGNAN Nicolas\n",
      "  - HIDALGO Anne\n",
      "  - JADOT Yannick\n",
      "  - LASSALLE Jean\n",
      "  - LE PEN Marine\n",
      "  - MACRON Emmanuel\n",
      "  - MÉLENCHON Jean-Luc\n",
      "  - PÉCRESSE Valérie\n",
      "  - POUTOU Philippe\n",
      "  - ROUSSEL Fabien\n",
      "  - ZEMMOUR Éric\n",
      "\n",
      "We have 12 of them\n"
     ]
    }
   ],
   "source": [
    "running_candidates = []\n",
    "for name, endorsements_count in candidates_stats.items():\n",
    "    if endorsements_count >= 500:\n",
    "        running_candidates.append(name)\n",
    "        \n",
    "print('The running candidates are:')\n",
    "for name in running_candidates:\n",
    "    print('  -', name)\n",
    "print()\n",
    "print('We have', len(running_candidates), 'of them')"
   ]
  },
  {
   "cell_type": "code",
   "execution_count": 25,
   "id": "5fd5801b-4311-44c2-8912-80a09a16d0dd",
   "metadata": {},
   "outputs": [
    {
     "data": {
      "text/plain": [
       "(True, False)"
      ]
     },
     "execution_count": 25,
     "metadata": {},
     "output_type": "execute_result"
    }
   ],
   "source": [
    "# Test that something exists in a list\n",
    "'MACRON Emmanuel' in running_candidates, 'PLIQUE Guillaume' in running_candidates"
   ]
  },
  {
   "cell_type": "code",
   "execution_count": 26,
   "id": "c1e85fb1-a83b-4159-9d32-5488dee2555a",
   "metadata": {},
   "outputs": [
    {
     "data": {
      "text/plain": [
       "0.6045281894689805"
      ]
     },
     "execution_count": 26,
     "metadata": {},
     "output_type": "execute_result"
    }
   ],
   "source": [
    "RELEVANT_ENDORSEMENTS_DATA = []\n",
    "\n",
    "for record in ENDORSEMENTS_DATA:\n",
    "    if (\n",
    "        is_endorsement_mayor(record['mandate']) and\n",
    "        record['candidate'] in running_candidates\n",
    "    ):\n",
    "        RELEVANT_ENDORSEMENTS_DATA.append(record)\n",
    "\n",
    "len(RELEVANT_ENDORSEMENTS_DATA) / len(ENDORSEMENTS_DATA)"
   ]
  },
  {
   "cell_type": "code",
   "execution_count": 27,
   "id": "1dd94edc-e3b2-4e10-aeb9-072e2bd88597",
   "metadata": {},
   "outputs": [
    {
     "data": {
      "text/plain": [
       "'60%'"
      ]
     },
     "execution_count": 27,
     "metadata": {},
     "output_type": "execute_result"
    }
   ],
   "source": [
    "# Updated mayor ratio\n",
    "mayor_endorsement_count = 0\n",
    "\n",
    "for record in RELEVANT_ENDORSEMENTS_DATA:\n",
    "    if is_endorsement_mayor(record['mandate']):\n",
    "        mayor_endorsement_count += 1\n",
    "\n",
    "str(int((mayor_endorsement_count / len(ENDORSEMENTS_DATA)) * 100)) + '%'"
   ]
  },
  {
   "cell_type": "markdown",
   "id": "2fe37431-0beb-41f3-b245-ca257d7b4033",
   "metadata": {},
   "source": [
    "## 2. Loading the RNE CSV file"
   ]
  },
  {
   "cell_type": "code",
   "execution_count": 28,
   "id": "b5b1d041-409b-4f29-ae38-0f93a11eb869",
   "metadata": {},
   "outputs": [],
   "source": [
    "# `iso8859` and `latin1` are the same encoding but the former works on most windows, not the latter...\n",
    "with open('../data/rne-maires.csv', encoding='iso8859') as f:\n",
    "    reader = csv.DictReader(f, delimiter=';')\n",
    "    RNE_RAW_DATA = list(reader)"
   ]
  },
  {
   "cell_type": "code",
   "execution_count": 29,
   "id": "bd9521c2-100a-4c9a-a793-716e441ca9f0",
   "metadata": {},
   "outputs": [
    {
     "data": {
      "text/plain": [
       "34921"
      ]
     },
     "execution_count": 29,
     "metadata": {},
     "output_type": "execute_result"
    }
   ],
   "source": [
    "len(RNE_RAW_DATA)"
   ]
  },
  {
   "cell_type": "code",
   "execution_count": 30,
   "id": "5419f4b0-bac4-4e48-9884-523f078d1139",
   "metadata": {},
   "outputs": [
    {
     "data": {
      "text/plain": [
       "{'Code du département': '01',\n",
       " 'Libellé du département': 'Ain',\n",
       " 'Code de la collectivité à statut particulier': '',\n",
       " 'Libellé de la collectivité à statut particulier': '',\n",
       " 'Code de la commune': '01001',\n",
       " 'Libellé de la commune': \"L'Abergement-Clémenciat\",\n",
       " \"Nom de l'élu\": 'BOULON',\n",
       " \"Prénom de l'élu\": 'Daniel',\n",
       " 'Code sexe': 'M',\n",
       " 'Date de naissance': '04/03/1951',\n",
       " 'Code de la catégorie socio-professionnelle': '74',\n",
       " 'Libellé de la catégorie socio-professionnelle': 'Ancien cadre',\n",
       " 'Date de début du mandat': '18/05/2020',\n",
       " 'Date de début de la fonction': '26/05/2020'}"
      ]
     },
     "execution_count": 30,
     "metadata": {},
     "output_type": "execute_result"
    }
   ],
   "source": [
    "RNE_RAW_DATA[0]"
   ]
  },
  {
   "cell_type": "code",
   "execution_count": 31,
   "id": "986e5d87-f908-40e1-aa07-bdb60c1aa93d",
   "metadata": {},
   "outputs": [],
   "source": [
    "# If you ever need to convert the file to JSON\n",
    "# with open('../data/rne-maires.json', 'w') as f:\n",
    "#    json.dump(RNE, f, indent=2, ensure_ascii=False)"
   ]
  },
  {
   "cell_type": "code",
   "execution_count": 32,
   "id": "92add78d-bb61-410a-930d-2df952466ba0",
   "metadata": {},
   "outputs": [],
   "source": [
    "RNE_DATA = []\n",
    "\n",
    "for record in RNE_RAW_DATA:\n",
    "    birth_year = record['Date de naissance'].split('/')[-1]\n",
    "    # In our case, same as:\n",
    "    birth_year = record['Date de naissance'][-4:]\n",
    "    \n",
    "    RNE_DATA.append({\n",
    "        'surname': record[\"Nom de l'élu\"],\n",
    "        'name': record[\"Prénom de l'élu\"],\n",
    "        'department': record['Libellé du département'],\n",
    "        'profession': record['Libellé de la catégorie socio-professionnelle'],\n",
    "        'birth_year': birth_year,\n",
    "        'gender': 'male' if record['Code sexe'] == 'M' else 'female',\n",
    "        'age': 2022 - int(birth_year)\n",
    "    })"
   ]
  },
  {
   "cell_type": "code",
   "execution_count": 33,
   "id": "47a485d6-b16d-4de1-8ba3-beb35ddf85ea",
   "metadata": {},
   "outputs": [
    {
     "data": {
      "text/plain": [
       "{'surname': 'BOULON',\n",
       " 'name': 'Daniel',\n",
       " 'department': 'Ain',\n",
       " 'profession': 'Ancien cadre',\n",
       " 'birth_year': '1951',\n",
       " 'gender': 'male',\n",
       " 'age': 71}"
      ]
     },
     "execution_count": 33,
     "metadata": {},
     "output_type": "execute_result"
    }
   ],
   "source": [
    "RNE_DATA[0]"
   ]
  },
  {
   "cell_type": "code",
   "execution_count": 34,
   "id": "95de2da1-2147-45a5-a550-b90f04aa4f47",
   "metadata": {},
   "outputs": [],
   "source": [
    "import statistics"
   ]
  },
  {
   "cell_type": "code",
   "execution_count": 35,
   "id": "fd1e5f6b-4e6a-428c-ab17-f24f82b810e7",
   "metadata": {},
   "outputs": [
    {
     "data": {
      "text/plain": [
       "61.33375332894247"
      ]
     },
     "execution_count": 35,
     "metadata": {},
     "output_type": "execute_result"
    }
   ],
   "source": [
    "ages = [record['age'] for record in RNE_DATA]\n",
    "statistics.mean(ages)"
   ]
  },
  {
   "cell_type": "code",
   "execution_count": 36,
   "id": "70853301-f609-46da-87a2-1804114a2086",
   "metadata": {},
   "outputs": [
    {
     "data": {
      "text/plain": [
       "63"
      ]
     },
     "execution_count": 36,
     "metadata": {},
     "output_type": "execute_result"
    }
   ],
   "source": [
    "sorted_ages = sorted(ages)\n",
    "half = len(sorted_ages) // 2\n",
    "sorted_ages[half]"
   ]
  },
  {
   "cell_type": "code",
   "execution_count": 37,
   "id": "56bb1897-e3af-4c65-a60d-2f8fe09db9a9",
   "metadata": {},
   "outputs": [
    {
     "data": {
      "text/plain": [
       "True"
      ]
     },
     "execution_count": 37,
     "metadata": {},
     "output_type": "execute_result"
    }
   ],
   "source": [
    "4 in [1, 2, 3] # O(n)\n",
    "4 in {1: 'one', 2: 'two', 3: 'three', 4: 'four'} # O(1)"
   ]
  },
  {
   "cell_type": "code",
   "execution_count": 38,
   "id": "d0dbe8a8-25cf-4173-a930-7f8deaae2fd3",
   "metadata": {},
   "outputs": [],
   "source": [
    "def mayor_key(record):\n",
    "    return (\n",
    "        record['name'].lower(),\n",
    "        record['surname'].lower(),\n",
    "        record['department'].lower()\n",
    "    )"
   ]
  },
  {
   "cell_type": "code",
   "execution_count": 39,
   "id": "bcfa8319-0fbc-4dad-8ead-d603b6cba22e",
   "metadata": {},
   "outputs": [
    {
     "name": "stdout",
     "output_type": "stream",
     "text": [
      "{'name': 'Gilles', 'surname': 'CORDIVAL', 'mandate': 'Maire', 'department': 'Aisne', 'endorsement_date': '2022-02-01T00:00:00', 'gender': 'male', 'candidate': 'ARTHAUD Nathalie'}\n",
      "('gilles', 'cordival', 'aisne')\n",
      "<class 'tuple'>\n"
     ]
    }
   ],
   "source": [
    "print(RELEVANT_ENDORSEMENTS_DATA[0])\n",
    "print(mayor_key(RELEVANT_ENDORSEMENTS_DATA[0]))\n",
    "print(type(mayor_key(RELEVANT_ENDORSEMENTS_DATA[0])))"
   ]
  },
  {
   "cell_type": "code",
   "execution_count": 40,
   "id": "9bdea25b-c504-4e1c-b166-f6be6fab95fe",
   "metadata": {},
   "outputs": [
    {
     "data": {
      "text/plain": [
       "'gilles+cordival+aisne'"
      ]
     },
     "execution_count": 40,
     "metadata": {},
     "output_type": "execute_result"
    }
   ],
   "source": [
    "# This is how we would do in languages that don't have tuples\n",
    "'+'.join(mayor_key(RELEVANT_ENDORSEMENTS_DATA[0]))"
   ]
  },
  {
   "cell_type": "code",
   "execution_count": 41,
   "id": "3f164049-bf63-4257-a9d3-6c2915d9fd81",
   "metadata": {},
   "outputs": [
    {
     "data": {
      "text/plain": [
       "['cordival', 'gilles', 'aisne']"
      ]
     },
     "execution_count": 41,
     "metadata": {},
     "output_type": "execute_result"
    }
   ],
   "source": [
    "'cordival+gilles+aisne'.split('+')"
   ]
  },
  {
   "cell_type": "code",
   "execution_count": 42,
   "id": "1f76739d-02ff-4799-90d7-022d04c16e22",
   "metadata": {},
   "outputs": [
    {
     "data": {
      "text/plain": [
       "'1951'"
      ]
     },
     "execution_count": 42,
     "metadata": {},
     "output_type": "execute_result"
    }
   ],
   "source": [
    "# Reverse slice\n",
    "'04/03/1951'[-4:]"
   ]
  },
  {
   "cell_type": "code",
   "execution_count": 43,
   "id": "b61dd03f-94f3-48fd-b396-1336d8f3ed51",
   "metadata": {},
   "outputs": [],
   "source": [
    "ENDORSEMENTS_INDEX = {}\n",
    "\n",
    "for record in RELEVANT_ENDORSEMENTS_DATA:\n",
    "    key = mayor_key(record)\n",
    "    ENDORSEMENTS_INDEX[key] = record"
   ]
  },
  {
   "cell_type": "code",
   "execution_count": 44,
   "id": "4422c3e4-aab4-4389-a283-033800162cce",
   "metadata": {},
   "outputs": [
    {
     "name": "stdout",
     "output_type": "stream",
     "text": [
      "not found - in\n",
      "not found - except\n",
      "not found - get\n"
     ]
    }
   ],
   "source": [
    "# Trying to assess whether keys exists in a dictionary\n",
    "dummy_dict = {1: 'one'}\n",
    "\n",
    "if 2 not in dummy_dict:\n",
    "    print('not found - in')\n",
    "\n",
    "try:\n",
    "    dummy_dict[2]\n",
    "except KeyError:\n",
    "    print('not found - except')\n",
    "    \n",
    "print(dummy_dict.get(2, 'not found - get'))"
   ]
  },
  {
   "cell_type": "code",
   "execution_count": 45,
   "id": "e7a8fb9a-ce48-46cd-8ef4-1f153ba5cef7",
   "metadata": {},
   "outputs": [
    {
     "name": "stdout",
     "output_type": "stream",
     "text": [
      "We matched Judy 34 yellow\n",
      "We matched Alix 33 orange\n",
      "We made 12 operations\n",
      "\n",
      "We matched Judy 34 yellow\n",
      "We matched Alix 33 orange\n",
      "We made 4 operations\n"
     ]
    }
   ],
   "source": [
    "# What we are doing schematically\n",
    "left = [('Judy', 34), ('June', 55), ('Alix', 33)]\n",
    "right = [('Michael', 'red'), ('Judy', 'yellow'), ('Alix', 'orange'), ('Roger', 'purple')]\n",
    "\n",
    "# Using O(n²) loops\n",
    "operations = 0\n",
    "for name, age in left:\n",
    "    for other_name, color in right:\n",
    "        operations += 1\n",
    "        if name == other_name:\n",
    "            print('We matched', name, age, color)\n",
    "            \n",
    "print('We made %i operations' % operations)\n",
    "            \n",
    "# Using a dict (an order of magnitude faster)\n",
    "print()\n",
    "operations = 0\n",
    "left_index = {}\n",
    "\n",
    "for name, age in left:\n",
    "    left_index[name] = age\n",
    "    \n",
    "for name, color in right:\n",
    "    operations += 1\n",
    "    other_age = left_index.get(name)\n",
    "    \n",
    "    if other_age is not None:\n",
    "        print('We matched', name, other_age, color)\n",
    "        \n",
    "print('We made %i operations' % operations)"
   ]
  },
  {
   "cell_type": "code",
   "execution_count": 46,
   "id": "4f2782f9-32bb-4dbe-a049-b1f4a73145b5",
   "metadata": {},
   "outputs": [
    {
     "data": {
      "text/plain": [
       "(7629, 0.9398792657385734)"
      ]
     },
     "execution_count": 46,
     "metadata": {},
     "output_type": "execute_result"
    }
   ],
   "source": [
    "# Matching the RNE\n",
    "matches_count = 0\n",
    "for record in RNE_DATA:\n",
    "    matching_endorsement = ENDORSEMENTS_INDEX.get(mayor_key(record))\n",
    "    \n",
    "    if matching_endorsement is not None:\n",
    "        # Enriching the endorsement records with RNE ones (age, profession, etc.)\n",
    "        matching_endorsement['age'] = record['age']\n",
    "        matching_endorsement['birth_year'] = record['birth_year']\n",
    "        matching_endorsement['profession'] = record['profession']\n",
    "        matches_count += 1\n",
    "        \n",
    "matches_count, matches_count / len(RELEVANT_ENDORSEMENTS_DATA)"
   ]
  },
  {
   "cell_type": "code",
   "execution_count": 47,
   "id": "05fcbabe-4d58-46ca-96e9-7ca1728772db",
   "metadata": {},
   "outputs": [
    {
     "data": {
      "text/plain": [
       "{'name': 'Gilles',\n",
       " 'surname': 'CORDIVAL',\n",
       " 'mandate': 'Maire',\n",
       " 'department': 'Aisne',\n",
       " 'endorsement_date': '2022-02-01T00:00:00',\n",
       " 'gender': 'male',\n",
       " 'candidate': 'ARTHAUD Nathalie',\n",
       " 'age': 59,\n",
       " 'birth_year': '1963',\n",
       " 'profession': 'Professeur des écoles, instituteur et assimilé'}"
      ]
     },
     "execution_count": 47,
     "metadata": {},
     "output_type": "execute_result"
    }
   ],
   "source": [
    "RELEVANT_ENDORSEMENTS_DATA[0]"
   ]
  },
  {
   "cell_type": "markdown",
   "id": "0eedff89-59cc-4ae9-873e-8df3813af55c",
   "metadata": {},
   "source": [
    "### Research questions using RNE:\n",
    "\n",
    "- Check the proportion of female mayors in the RNE vs. proportion of female mayors endorsing candidates.\n",
    "- Check if there is a difference between candidates endorsed by male mayors vs. candidates endorsed by female mayors (*mind the ratio between both to avoid comparing absolute numbers in vain*)\n",
    "- Compare mean, median, min, max and stdev of mayor age in RNE vs. endorsing mayors, i.e. are endorsing mayors a representative sample wrt. age of the total mayor population?\n",
    "- Take a look at endorsing mayor professions, find what candidates are endorsed by teachers, for instance, or factory workers etc."
   ]
  },
  {
   "cell_type": "code",
   "execution_count": 48,
   "id": "341b322a-96e8-49c4-80cb-9e6e11538ea0",
   "metadata": {},
   "outputs": [
    {
     "data": {
      "text/plain": [
       "(7621, 8117, [59, 73, 59, 62, 66])"
      ]
     },
     "execution_count": 48,
     "metadata": {},
     "output_type": "execute_result"
    }
   ],
   "source": [
    "# Beware: some mayors were not matched in RNE, so some of the records don't have an age nor a profession\n",
    "filtered_ages1 = []\n",
    "\n",
    "for record in RELEVANT_ENDORSEMENTS_DATA:\n",
    "    if 'age' in record:\n",
    "        filtered_ages1.append(record['age'])\n",
    "        \n",
    "len(filtered_ages1), len(RELEVANT_ENDORSEMENTS_DATA), filtered_ages1[:5]"
   ]
  },
  {
   "cell_type": "code",
   "execution_count": 49,
   "id": "aceb256b-c9cd-4b86-9a9b-be6283c0ec9c",
   "metadata": {},
   "outputs": [],
   "source": [
    "# Shorthand syntax for the above (filtered list comprehension)\n",
    "filtered_ages2 = [record['age'] for record in RELEVANT_ENDORSEMENTS_DATA if 'age' in record]"
   ]
  },
  {
   "cell_type": "code",
   "execution_count": 50,
   "id": "e0602fb5-9aee-4c11-9f4b-cb60472b8e9a",
   "metadata": {},
   "outputs": [
    {
     "data": {
      "text/plain": [
       "True"
      ]
     },
     "execution_count": 50,
     "metadata": {},
     "output_type": "execute_result"
    }
   ],
   "source": [
    "filtered_ages1 == filtered_ages2"
   ]
  },
  {
   "cell_type": "markdown",
   "id": "bbe25edd-4a70-42dd-a135-6f90ca8390bd",
   "metadata": {},
   "source": [
    "#### 1. Female mayor proportions"
   ]
  },
  {
   "cell_type": "code",
   "execution_count": 51,
   "id": "cbd31b24-9916-4e19-b093-223c9c85e20b",
   "metadata": {},
   "outputs": [
    {
     "name": "stdout",
     "output_type": "stream",
     "text": [
      "Endorsing 0.2634989200863931\n",
      "Endorsing candidates 0.1511642232351854\n",
      "Mayors 0.20050972194381605\n"
     ]
    }
   ],
   "source": [
    "female_endorsements = [r for r in ENDORSEMENTS_DATA if r['gender'] == 'female']\n",
    "female_relevant_endorsements = [r for r in RELEVANT_ENDORSEMENTS_DATA if r['gender'] == 'female']\n",
    "female_mayors = [r for r in RNE_DATA if r['gender'] == 'female']\n",
    "\n",
    "print('Endorsing', len(female_endorsements) / len(ENDORSEMENTS_DATA))\n",
    "print('Endorsing candidates', len(female_relevant_endorsements) / len(RELEVANT_ENDORSEMENTS_DATA))\n",
    "print('Mayors', len(female_mayors) / len(RNE_DATA))"
   ]
  },
  {
   "cell_type": "markdown",
   "id": "ef2f051d-0b21-4d81-a6d3-1dbc0c122c0e",
   "metadata": {},
   "source": [
    "#### 2. Female endorsements proportion per candidate"
   ]
  },
  {
   "cell_type": "code",
   "execution_count": 52,
   "id": "fe962070-a083-4cb3-919d-00f32e9e83f0",
   "metadata": {},
   "outputs": [
    {
     "name": "stdout",
     "output_type": "stream",
     "text": [
      "ARTHAUD Nathalie 0.24190064794816415\n",
      "DUPONT-AIGNAN Nicolas 0.11299435028248588\n",
      "HIDALGO Anne 0.26017699115044246\n",
      "JADOT Yannick 0.233201581027668\n",
      "LASSALLE Jean 0.10070671378091872\n",
      "LE PEN Marine 0.19011406844106463\n",
      "MACRON Emmanuel 0.16756756756756758\n",
      "MÉLENCHON Jean-Luc 0.19112627986348124\n",
      "PÉCRESSE Valérie 0.1826012058570198\n",
      "POUTOU Philippe 0.20842572062084258\n",
      "ROUSSEL Fabien 0.1791907514450867\n",
      "ZEMMOUR Éric 0.12773109243697478\n"
     ]
    }
   ],
   "source": [
    "candidates_to_genders = {}\n",
    "\n",
    "for record in RELEVANT_ENDORSEMENTS_DATA:\n",
    "    candidate = record['candidate']\n",
    "    gender = record['gender']\n",
    "    \n",
    "    if candidate not in candidates_to_genders:\n",
    "        candidates_to_genders[candidate] = Counter()\n",
    "    \n",
    "    candidates_to_genders[candidate][gender] += 1\n",
    "        \n",
    "    \n",
    "for candidate, genders in candidates_to_genders.items():\n",
    "    print(candidate, genders['female'] / genders['male'])"
   ]
  },
  {
   "cell_type": "markdown",
   "id": "8b9c09fe-59ef-4ca9-b8a5-8aa2899cfa3f",
   "metadata": {},
   "source": [
    "#### 3. Investigating age stats"
   ]
  },
  {
   "cell_type": "code",
   "execution_count": 53,
   "id": "0f54331e-b9d1-4f17-9d95-82371f2358fb",
   "metadata": {},
   "outputs": [],
   "source": [
    "def compute_age_stats(data):\n",
    "    ages = [r['age'] for r in data if 'age' in r]\n",
    "    \n",
    "    return {\n",
    "        'min': min(ages),\n",
    "        'max': max(ages),\n",
    "        'mean': statistics.mean(ages),\n",
    "        'median': statistics.median(ages),\n",
    "        'stdev': statistics.median(ages)\n",
    "    }"
   ]
  },
  {
   "cell_type": "code",
   "execution_count": 54,
   "id": "5a4bf8aa-edea-4731-be0e-8774e60ecd54",
   "metadata": {},
   "outputs": [
    {
     "name": "stdout",
     "output_type": "stream",
     "text": [
      "For RNE: {'min': 21, 'max': 93, 'mean': 61.33375332894247, 'median': 63, 'stdev': 63}\n",
      "For relevant endorsements: {'min': 22, 'max': 93, 'mean': 61.37317937278572, 'median': 63, 'stdev': 63}\n"
     ]
    }
   ],
   "source": [
    "rne_age_stats = compute_age_stats(RNE_DATA)\n",
    "endorsement_age_stats = compute_age_stats(RELEVANT_ENDORSEMENTS_DATA)\n",
    "\n",
    "print('For RNE:', rne_age_stats)\n",
    "print('For relevant endorsements:', endorsement_age_stats)"
   ]
  },
  {
   "cell_type": "markdown",
   "id": "917badda-50fa-4e9c-973e-977e328f6633",
   "metadata": {},
   "source": [
    "#### 4. Investigating mayor professions"
   ]
  },
  {
   "cell_type": "code",
   "execution_count": 55,
   "id": "7cbddbd8-5b9e-439c-9c4d-47fa07421789",
   "metadata": {},
   "outputs": [
    {
     "data": {
      "text/plain": [
       "[('Ancien cadre', 1298),\n",
       " ('Cadre de la fonction publique', 517),\n",
       " ('Ancien employé', 482),\n",
       " ('Agriculteur sur moyenne exploitation', 454),\n",
       " (\"Cadre administratif et commercial d'entreprise\", 414),\n",
       " ('Ancien agriculteur exploitant', 369),\n",
       " (\"Ancien artisan, commerçant, chef d'entreprise\", 341),\n",
       " ('Professeur, profession scientifique', 339),\n",
       " ('Profession libérale', 339),\n",
       " ('Ancienne profession intermédiaire', 333),\n",
       " (\"Ingénieur et cadre technique d'entreprise\", 272),\n",
       " ('Technicien', 188),\n",
       " ('Agriculteur sur petite exploitation', 178),\n",
       " ('Employé civil et agent de service de la fonction publique', 171),\n",
       " ('Artisan', 169)]"
      ]
     },
     "execution_count": 55,
     "metadata": {},
     "output_type": "execute_result"
    }
   ],
   "source": [
    "mayor_professions = Counter()\n",
    "\n",
    "for record in RELEVANT_ENDORSEMENTS_DATA:\n",
    "    profession = record.get('profession')\n",
    "    \n",
    "    if profession is None:\n",
    "        continue\n",
    "        \n",
    "    mayor_professions[profession] += 1\n",
    "\n",
    "mayor_professions.most_common(15)"
   ]
  },
  {
   "cell_type": "code",
   "execution_count": 56,
   "id": "b8a569d5-3421-4e0e-bc26-dc6551207c76",
   "metadata": {},
   "outputs": [],
   "source": [
    "def could_be_teacher(label):\n",
    "    return 'professeu' in label.lower()"
   ]
  },
  {
   "cell_type": "code",
   "execution_count": 57,
   "id": "315cc57e-d044-453f-a072-49feba1ce338",
   "metadata": {},
   "outputs": [
    {
     "data": {
      "text/plain": [
       "True"
      ]
     },
     "execution_count": 57,
     "metadata": {},
     "output_type": "execute_result"
    }
   ],
   "source": [
    "could_be_teacher('Professeur des universités')"
   ]
  },
  {
   "cell_type": "code",
   "execution_count": 58,
   "id": "2b71b8c3-b845-4fdf-ac86-78b6bd709a56",
   "metadata": {},
   "outputs": [
    {
     "data": {
      "text/plain": [
       "False"
      ]
     },
     "execution_count": 58,
     "metadata": {},
     "output_type": "execute_result"
    }
   ],
   "source": [
    "could_be_teacher('Magasinier professionnel')"
   ]
  },
  {
   "cell_type": "code",
   "execution_count": 59,
   "id": "1c467b23-2cd4-4df9-ac3e-1afc916fc494",
   "metadata": {},
   "outputs": [
    {
     "data": {
      "text/plain": [
       "[('Professeur, profession scientifique', 339),\n",
       " ('Professeur des écoles, instituteur et assimilé', 125)]"
      ]
     },
     "execution_count": 59,
     "metadata": {},
     "output_type": "execute_result"
    }
   ],
   "source": [
    "teacher_labels = Counter()\n",
    "\n",
    "for label, count in mayor_professions.items():\n",
    "    if could_be_teacher(label):\n",
    "        teacher_labels[label] = count\n",
    "        \n",
    "teacher_labels.most_common()"
   ]
  },
  {
   "cell_type": "code",
   "execution_count": 60,
   "id": "4edd6900-8cdc-4734-a316-ae75eb5e2091",
   "metadata": {},
   "outputs": [
    {
     "name": "stdout",
     "output_type": "stream",
     "text": [
      "3\n",
      "4\n"
     ]
    }
   ],
   "source": [
    "# continue, break examples\n",
    "for i in range(6):\n",
    "    if i < 3:\n",
    "        continue\n",
    "        \n",
    "    if i > 4:\n",
    "        break\n",
    "        \n",
    "    print(i)"
   ]
  }
 ],
 "metadata": {
  "kernelspec": {
   "display_name": "Python 3 (ipykernel)",
   "language": "python",
   "name": "python3"
  },
  "language_info": {
   "codemirror_mode": {
    "name": "ipython",
    "version": 3
   },
   "file_extension": ".py",
   "mimetype": "text/x-python",
   "name": "python",
   "nbconvert_exporter": "python",
   "pygments_lexer": "ipython3",
   "version": "3.7.16"
  }
 },
 "nbformat": 4,
 "nbformat_minor": 5
}
