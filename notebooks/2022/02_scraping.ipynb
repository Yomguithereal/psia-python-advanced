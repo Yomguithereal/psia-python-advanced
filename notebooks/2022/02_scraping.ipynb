{
 "cells": [
  {
   "cell_type": "markdown",
   "id": "5005fa4b-56be-4513-a2d0-b35e7c101a86",
   "metadata": {},
   "source": [
    "# Learning how to scrape"
   ]
  },
  {
   "cell_type": "code",
   "execution_count": 1,
   "id": "4ef79092-81ed-4c1d-951f-ffc01814c791",
   "metadata": {},
   "outputs": [
    {
     "name": "stdout",
     "output_type": "stream",
     "text": [
      "pip 22.0.4 from /home/yomguithereal/.pyenv/versions/3.8.5/envs/psia/lib/python3.8/site-packages/pip (python 3.8)\n"
     ]
    }
   ],
   "source": [
    "!pip3 --version"
   ]
  },
  {
   "cell_type": "code",
   "execution_count": 2,
   "id": "a35b3dc7-a20d-4091-a719-3100a125a470",
   "metadata": {},
   "outputs": [
    {
     "name": "stdout",
     "output_type": "stream",
     "text": [
      "Requirement already satisfied: requests in /home/yomguithereal/.pyenv/versions/3.8.5/envs/psia/lib/python3.8/site-packages (2.27.1)\n",
      "Requirement already satisfied: beautifulsoup4 in /home/yomguithereal/.pyenv/versions/3.8.5/envs/psia/lib/python3.8/site-packages (4.11.1)\n",
      "Requirement already satisfied: certifi>=2017.4.17 in /home/yomguithereal/.pyenv/versions/3.8.5/envs/psia/lib/python3.8/site-packages (from requests) (2021.10.8)\n",
      "Requirement already satisfied: urllib3<1.27,>=1.21.1 in /home/yomguithereal/.pyenv/versions/3.8.5/envs/psia/lib/python3.8/site-packages (from requests) (1.26.8)\n",
      "Requirement already satisfied: charset-normalizer~=2.0.0 in /home/yomguithereal/.pyenv/versions/3.8.5/envs/psia/lib/python3.8/site-packages (from requests) (2.0.12)\n",
      "Requirement already satisfied: idna<4,>=2.5 in /home/yomguithereal/.pyenv/versions/3.8.5/envs/psia/lib/python3.8/site-packages (from requests) (3.3)\n",
      "Requirement already satisfied: soupsieve>1.2 in /home/yomguithereal/.pyenv/versions/3.8.5/envs/psia/lib/python3.8/site-packages (from beautifulsoup4) (2.3.2.post1)\n"
     ]
    }
   ],
   "source": [
    "!pip3 install requests beautifulsoup4"
   ]
  },
  {
   "cell_type": "code",
   "execution_count": 3,
   "id": "58ccf356-6583-4533-838e-30468de27b5a",
   "metadata": {},
   "outputs": [],
   "source": [
    "import requests\n",
    "from bs4 import BeautifulSoup"
   ]
  },
  {
   "cell_type": "markdown",
   "id": "5ec01b6e-6e00-4437-a37e-33b2f36b23ff",
   "metadata": {
    "tags": []
   },
   "source": [
    "## Making the request"
   ]
  },
  {
   "cell_type": "code",
   "execution_count": 4,
   "id": "7f55a80b-1d5f-4e8b-a7e6-798af079c473",
   "metadata": {},
   "outputs": [],
   "source": [
    "response = requests.get('https://www.echojs.com')"
   ]
  },
  {
   "cell_type": "code",
   "execution_count": 5,
   "id": "60976050-706b-4a3a-8ee8-c74c85ed4b0d",
   "metadata": {},
   "outputs": [
    {
     "data": {
      "text/plain": [
       "200"
      ]
     },
     "execution_count": 5,
     "metadata": {},
     "output_type": "execute_result"
    }
   ],
   "source": [
    "response.status_code"
   ]
  },
  {
   "cell_type": "markdown",
   "id": "8c528056-6db7-4023-b42f-a74551228771",
   "metadata": {},
   "source": [
    "## Parsing the HTML"
   ]
  },
  {
   "cell_type": "code",
   "execution_count": 6,
   "id": "bb7c5dd7-443d-48e9-bd85-d935f3b6b38e",
   "metadata": {},
   "outputs": [],
   "source": [
    "soup = BeautifulSoup(response.text, 'html.parser')"
   ]
  },
  {
   "cell_type": "code",
   "execution_count": 7,
   "id": "927b83e9-972b-44c9-bebf-7b1673a3f877",
   "metadata": {},
   "outputs": [],
   "source": [
    "article_tags = soup.select('article')"
   ]
  },
  {
   "cell_type": "code",
   "execution_count": 8,
   "id": "9ea184ee-a372-4612-b7b0-68e689e011e9",
   "metadata": {},
   "outputs": [
    {
     "data": {
      "text/plain": [
       "'▲ React State vs Props: Understanding the Comparison at dev.to▼7 up and 0 down, posted by aglowiditsolutions 2 days ago discuss'"
      ]
     },
     "execution_count": 8,
     "metadata": {},
     "output_type": "execute_result"
    }
   ],
   "source": [
    "article_tags[0].get_text()"
   ]
  },
  {
   "cell_type": "code",
   "execution_count": 9,
   "id": "c9776925-1adf-4387-a3b2-aa52ed1c57e6",
   "metadata": {},
   "outputs": [
    {
     "data": {
      "text/plain": [
       "<a href=\"https://dev.to/aglowiditsolutions/react-state-vs-props-understanding-the-comparison-176d\" rel=\"nofollow\">React State vs Props: Understanding the Comparison</a>"
      ]
     },
     "execution_count": 9,
     "metadata": {},
     "output_type": "execute_result"
    }
   ],
   "source": [
    "article_tags[0].select_one('h2 > a')"
   ]
  },
  {
   "cell_type": "code",
   "execution_count": 10,
   "id": "7788f93e-7286-48d9-b0a1-1e384afba816",
   "metadata": {},
   "outputs": [
    {
     "data": {
      "text/plain": [
       "'https://dev.to/aglowiditsolutions/react-state-vs-props-understanding-the-comparison-176d'"
      ]
     },
     "execution_count": 10,
     "metadata": {},
     "output_type": "execute_result"
    }
   ],
   "source": [
    "article_tags[0].select_one('h2 > a').get('href')"
   ]
  },
  {
   "cell_type": "markdown",
   "id": "d3de21dc-fed8-486b-9b15-ce90c1f3c337",
   "metadata": {},
   "source": [
    "## Scraping articles"
   ]
  },
  {
   "cell_type": "code",
   "execution_count": 11,
   "id": "d7cf611e-4e41-43f6-9768-729bd5c20ddc",
   "metadata": {},
   "outputs": [
    {
     "data": {
      "text/plain": [
       "[{'title': 'React State vs Props: Understanding the Comparison',\n",
       "  'url': 'https://dev.to/aglowiditsolutions/react-state-vs-props-understanding-the-comparison-176d',\n",
       "  'poster': 'aglowiditsolutions',\n",
       "  'upvotes': '7'},\n",
       " {'title': 'The Past, Present, and Future of Virtual DOM',\n",
       "  'url': 'https://aidenybai.com/thoughts/virtual-dom',\n",
       "  'poster': 'pepega',\n",
       "  'upvotes': '1'},\n",
       " {'title': 'Mastering CSS Transitions with React 18',\n",
       "  'url': 'https://blog.openreplay.com/mastering-css-transitions-with-react-18',\n",
       "  'poster': 'fkereki',\n",
       "  'upvotes': '1'}]"
      ]
     },
     "execution_count": 11,
     "metadata": {},
     "output_type": "execute_result"
    }
   ],
   "source": [
    "article_data = []\n",
    "\n",
    "for article_tag in article_tags:\n",
    "    link_tag = article_tag.select_one('h2 > a')\n",
    "    \n",
    "    record = {\n",
    "        'title': link_tag.get_text(),\n",
    "        'url': link_tag.get('href'),\n",
    "        'poster': article_tag.select_one('username > a').get_text(),\n",
    "        'upvotes': article_tag.select_one('.upvotes').get_text()\n",
    "    }\n",
    "    \n",
    "    article_data.append(record)\n",
    "\n",
    "article_data[:3]"
   ]
  },
  {
   "cell_type": "markdown",
   "id": "0bf66d60-0619-490c-9f31-9df5682b4553",
   "metadata": {},
   "source": [
    "## Writing the results as a CSV file"
   ]
  },
  {
   "cell_type": "code",
   "execution_count": 12,
   "id": "0aacbebc-8f09-4972-a599-64e90087eaff",
   "metadata": {},
   "outputs": [],
   "source": [
    "import csv"
   ]
  },
  {
   "cell_type": "code",
   "execution_count": 22,
   "id": "c8d5e918-7239-4bef-bb73-2805b4061cf0",
   "metadata": {},
   "outputs": [],
   "source": [
    "with open('../data/scraped.csv', 'w', encoding='utf-8', newline='') as f:\n",
    "    writer = csv.DictWriter(f, fieldnames=['title', 'url', 'poster', 'upvotes'])\n",
    "    writer.writeheader()\n",
    "\n",
    "    for record in article_data:\n",
    "        writer.writerow(record)"
   ]
  },
  {
   "cell_type": "code",
   "execution_count": 25,
   "id": "7970fd8c-bad2-43dc-a43a-9d759dbdc6d0",
   "metadata": {},
   "outputs": [
    {
     "name": "stdout",
     "output_type": "stream",
     "text": [
      "https://www.echojs.com/latest/0\n",
      "https://www.echojs.com/latest/30\n",
      "https://www.echojs.com/latest/60\n",
      "https://www.echojs.com/latest/90\n",
      "https://www.echojs.com/latest/120\n"
     ]
    }
   ],
   "source": [
    "base_url = 'https://www.echojs.com/latest/'\n",
    "\n",
    "for i in range(5):\n",
    "    print(base_url + str(i * 30))"
   ]
  },
  {
   "cell_type": "code",
   "execution_count": null,
   "id": "001bea2d-3aeb-4a8b-9379-68ff25a44811",
   "metadata": {},
   "outputs": [],
   "source": [
    "# recursion"
   ]
  },
  {
   "cell_type": "code",
   "execution_count": null,
   "id": "35f353c9-ffe0-4421-99d4-83046b2746e4",
   "metadata": {},
   "outputs": [],
   "source": [
    "# 5! => 5 * 4 * 3 * 2 * 1"
   ]
  },
  {
   "cell_type": "code",
   "execution_count": 28,
   "id": "34288ce2-4275-4658-8ee9-119ee8cbe074",
   "metadata": {},
   "outputs": [
    {
     "data": {
      "text/plain": [
       "120"
      ]
     },
     "execution_count": 28,
     "metadata": {},
     "output_type": "execute_result"
    }
   ],
   "source": [
    "5 * 4 * 3 * 2 * 1"
   ]
  },
  {
   "cell_type": "code",
   "execution_count": 33,
   "id": "f99e3704-30aa-4608-96c1-3d20b8472708",
   "metadata": {},
   "outputs": [],
   "source": [
    "def recursive_factorial(i):\n",
    "    if i == 1:\n",
    "        return 1\n",
    "    \n",
    "    return i * recursive_factorial(i - 1)"
   ]
  },
  {
   "cell_type": "code",
   "execution_count": 38,
   "id": "460e44fa-e65e-46e0-bbe6-9eed766a735e",
   "metadata": {},
   "outputs": [
    {
     "data": {
      "text/plain": [
       "6"
      ]
     },
     "execution_count": 38,
     "metadata": {},
     "output_type": "execute_result"
    }
   ],
   "source": [
    "recursive_factorial(3)"
   ]
  }
 ],
 "metadata": {
  "kernelspec": {
   "display_name": "Python 3 (ipykernel)",
   "language": "python",
   "name": "python3"
  },
  "language_info": {
   "codemirror_mode": {
    "name": "ipython",
    "version": 3
   },
   "file_extension": ".py",
   "mimetype": "text/x-python",
   "name": "python",
   "nbconvert_exporter": "python",
   "pygments_lexer": "ipython3",
   "version": "3.8.5"
  }
 },
 "nbformat": 4,
 "nbformat_minor": 5
}
