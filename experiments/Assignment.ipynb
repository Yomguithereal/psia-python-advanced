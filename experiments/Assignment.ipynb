{
 "cells": [
  {
   "cell_type": "code",
   "execution_count": 1,
   "id": "bb858a7d-1d1d-4339-8de1-a2ff7d4a9d3c",
   "metadata": {},
   "outputs": [],
   "source": [
    "import csv\n",
    "from collections import Counter\n",
    "from minet.twitter import TwitterAPIScraper\n",
    "from ipysigma import Sigma\n",
    "from ural import normalize_url\n",
    "from pelote import monopartite_projection\n",
    "import networkx as nx"
   ]
  },
  {
   "cell_type": "code",
   "execution_count": 2,
   "id": "32522a77-6257-438d-a64c-1ad98568c2db",
   "metadata": {},
   "outputs": [],
   "source": [
    "scraper = TwitterAPIScraper()"
   ]
  },
  {
   "cell_type": "code",
   "execution_count": 3,
   "id": "e59e6d83-c22d-4695-b178-e934b920fb92",
   "metadata": {},
   "outputs": [
    {
     "name": "stdout",
     "output_type": "stream",
     "text": [
      "Fetched 100 tweets\n",
      "Fetched 200 tweets\n",
      "Fetched 300 tweets\n",
      "Fetched 400 tweets\n",
      "Fetched 500 tweets\n",
      "Fetched 600 tweets\n",
      "Fetched 700 tweets\n",
      "Fetched 800 tweets\n",
      "Fetched 900 tweets\n",
      "Fetched 1000 tweets\n",
      "Fetched 1100 tweets\n",
      "Fetched 1200 tweets\n",
      "Fetched 1300 tweets\n"
     ]
    },
    {
     "data": {
      "text/plain": [
       "1308"
      ]
     },
     "execution_count": 3,
     "metadata": {},
     "output_type": "execute_result"
    }
   ],
   "source": [
    "TWEETS = []\n",
    "i = 0\n",
    "\n",
    "for tweet in scraper.search_tweets('(blocage OR occupation) sciencespo'):\n",
    "    i += 1\n",
    "    \n",
    "    if i % 100 == 0:\n",
    "        print('Fetched %i tweets' % i)\n",
    "        \n",
    "    TWEETS.append(tweet)\n",
    "    \n",
    "len(TWEETS)"
   ]
  },
  {
   "cell_type": "code",
   "execution_count": 9,
   "id": "5ac57aa8-c28b-409e-8a09-a0c341c7930e",
   "metadata": {},
   "outputs": [
    {
     "name": "stdout",
     "output_type": "stream",
     "text": [
      "id = 1516587877915897864\n",
      "local_time = 2022-04-20T01:21:41\n",
      "timestamp_utc = 1650417701\n",
      "text = Regardez \"BLOCAGE SORBONNE / SCIENCES PO : LA JEUNESSE VEUT SON PRINTEMPS\" sur YouTube https://youtu.be/hPzR5g-sdoU\n",
      "url = https://twitter.com/GSalles_CDLF/status/1516587877915897864\n",
      "quoted_id = None\n",
      "quoted_user = None\n",
      "quoted_user_id = None\n",
      "quoted_timestamp_utc = None\n",
      "retweeted_id = None\n",
      "retweeted_user = None\n",
      "retweeted_user_id = None\n",
      "retweeted_timestamp_utc = None\n",
      "media_files = []\n",
      "media_types = []\n",
      "media_urls = []\n",
      "links = ['https://youtu.be/hPzR5g-sdoU']\n",
      "links_to_resolve = True\n",
      "domains = ['youtu.be']\n",
      "hashtags = []\n",
      "mentioned_ids = []\n",
      "mentioned_names = []\n",
      "collection_time = 2022-04-20T13:37:49.916342\n",
      "match_query = True\n",
      "collected_via = ['scraping']\n",
      "coordinates = None\n",
      "to_tweetid = None\n",
      "to_username = None\n",
      "to_userid = None\n",
      "lang = fr\n",
      "possibly_sensitive = False\n",
      "retweet_count = 0\n",
      "like_count = 0\n",
      "reply_count = 0\n",
      "user_screen_name = GSalles_CDLF\n",
      "user_name = Ella03 🐢🐢🐢🐢\n",
      "user_friends = 68\n",
      "user_followers = 286\n",
      "user_location = Lozère\n",
      "user_verified = False\n",
      "user_description = Green and flowers addict\n",
      "Pacifiste, humaniste 🐢🐢🐢\n",
      "user_created_at = 2011-11-18T16:16:36\n",
      "user_id = 415640002\n",
      "user_tweets = 12647\n",
      "user_likes = 6258\n",
      "user_lists = 21\n",
      "user_image = https://pbs.twimg.com/profile_images/1512791192135774212/sMtjKyvY_normal.jpg\n",
      "user_url = None\n",
      "user_timestamp_utc = 1321632996\n",
      "source_url = https://mobile.twitter.com\n",
      "source_name = Twitter Web App\n"
     ]
    }
   ],
   "source": [
    "for k, v in TWEETS[0].items():\n",
    "    print(k, '=', v)"
   ]
  },
  {
   "cell_type": "code",
   "execution_count": 7,
   "id": "98a7bd43-cc90-4adf-8e9c-4045f55fcb45",
   "metadata": {},
   "outputs": [
    {
     "data": {
      "text/plain": [
       "(\"💥📣OCCUPATION EN COURS A SCIENCES PO !  \\nAprès l' #ENS et la #Sorbonne, c'est au tour des étudiant-es de SciencesPo à #Paris de se mobiliser. \\nNi Le Pen, ni Macron, contre la précarité, le déni écologique et la violation des droits humains, la jeunesse s'organise ! https://twitter.com/sarah_chp/status/1514499001948774403/photo/1\",\n",
       " 'sarah_chp',\n",
       " 364)"
      ]
     },
     "execution_count": 7,
     "metadata": {},
     "output_type": "execute_result"
    }
   ],
   "source": [
    "top_tweet = max(TWEETS, key=lambda t: t['retweet_count'])\n",
    "top_tweet['text'], top_tweet['user_screen_name'], top_tweet['retweet_count']"
   ]
  },
  {
   "cell_type": "code",
   "execution_count": 8,
   "id": "31712ea6-c2a9-4c92-8b74-a42cb9e828c1",
   "metadata": {},
   "outputs": [
    {
     "data": {
      "text/plain": [
       "[('sciencespo', 19),\n",
       " ('MatthDes', 18),\n",
       " ('DavidLibeau', 17),\n",
       " ('LaPeniche', 15),\n",
       " ('ubellier', 15),\n",
       " ('SieurHibou', 11),\n",
       " ('clementmartin_', 8),\n",
       " ('st3vK', 8),\n",
       " ('wnewspresse', 7),\n",
       " ('ActusNonStop', 6)]"
      ]
     },
     "execution_count": 8,
     "metadata": {},
     "output_type": "execute_result"
    }
   ],
   "source": [
    "top_tweeters = Counter(t['user_screen_name'] for t in TWEETS)\n",
    "top_tweeters.most_common(10)"
   ]
  },
  {
   "cell_type": "code",
   "execution_count": 11,
   "id": "0a633e88-18d4-43a8-939c-11559044f3e2",
   "metadata": {},
   "outputs": [
    {
     "data": {
      "text/plain": [
       "[('sarah_chp', 364.0),\n",
       " ('LarrereMathilde', 289.0),\n",
       " ('LEtudiant_Libre', 227.0),\n",
       " ('Oliv_Lisle', 141.0),\n",
       " ('ClementAgostini', 122.0),\n",
       " ('Anton1Ferreira', 116.66666666666667),\n",
       " ('Valeurs', 100.0),\n",
       " ('bif_o', 95.0),\n",
       " ('InsoumisJeunes', 90.0),\n",
       " ('blast_france', 80.0)]"
      ]
     },
     "execution_count": 11,
     "metadata": {},
     "output_type": "execute_result"
    }
   ],
   "source": [
    "top_tweeters_normalized = Counter()\n",
    "\n",
    "for tweet in TWEETS:\n",
    "    top_tweeters_normalized[tweet['user_screen_name']] += tweet['retweet_count']\n",
    "    \n",
    "for user, retweets in top_tweeters_normalized.items():\n",
    "    top_tweeters_normalized[user] = retweets / top_tweeters[user]\n",
    "    \n",
    "top_tweeters_normalized.most_common(10)"
   ]
  },
  {
   "cell_type": "code",
   "execution_count": 13,
   "id": "6a8581a7-add2-4776-b81b-5eb04a597e51",
   "metadata": {},
   "outputs": [
    {
     "data": {
      "text/plain": [
       "686"
      ]
     },
     "execution_count": 13,
     "metadata": {},
     "output_type": "execute_result"
    }
   ],
   "source": [
    "relevant_tweets = [t for t in TWEETS if t['retweet_count'] != 0 or t['like_count'] != 0]\n",
    "len(relevant_tweets)"
   ]
  },
  {
   "cell_type": "code",
   "execution_count": 14,
   "id": "903d67f2-1192-4184-80f1-3c49bf5d1134",
   "metadata": {},
   "outputs": [],
   "source": [
    "import statistics"
   ]
  },
  {
   "cell_type": "code",
   "execution_count": 15,
   "id": "440d35cc-94d5-4b69-8df9-53c06841694c",
   "metadata": {},
   "outputs": [
    {
     "data": {
      "text/plain": [
       "<module 'statistics' from '/home/yomguithereal/.pyenv/versions/3.8.5/lib/python3.8/statistics.py'>"
      ]
     },
     "execution_count": 15,
     "metadata": {},
     "output_type": "execute_result"
    }
   ],
   "source": [
    "statistics.co"
   ]
  }
 ],
 "metadata": {
  "kernelspec": {
   "display_name": "Python 3 (ipykernel)",
   "language": "python",
   "name": "python3"
  },
  "language_info": {
   "codemirror_mode": {
    "name": "ipython",
    "version": 3
   },
   "file_extension": ".py",
   "mimetype": "text/x-python",
   "name": "python",
   "nbconvert_exporter": "python",
   "pygments_lexer": "ipython3",
   "version": "3.8.5"
  }
 },
 "nbformat": 4,
 "nbformat_minor": 5
}
