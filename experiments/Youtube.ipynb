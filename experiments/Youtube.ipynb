{
 "cells": [
  {
   "cell_type": "code",
   "execution_count": 48,
   "id": "0c804fea-0e3d-45d6-8853-a80d0862e14c",
   "metadata": {},
   "outputs": [],
   "source": [
    "from minet.cli.utils import get_rcfile\n",
    "from minet.youtube import YouTubeAPIClient\n",
    "from ural import urls_from_text, normalize_url, should_resolve\n",
    "from dataclasses import asdict\n",
    "from tqdm import tqdm\n",
    "from collections import Counter\n",
    "import networkx as nx\n",
    "from ipysigma import Sigma\n",
    "from fog.tokenizers import WordTokenizer\n",
    "from pprint import pprint\n",
    "from pelote import remove_leaves, crop_to_largest_connected_component, monopartite_projection"
   ]
  },
  {
   "cell_type": "code",
   "execution_count": 12,
   "id": "eee43ad0-6fad-4871-ac8a-ed9517ed492e",
   "metadata": {},
   "outputs": [],
   "source": [
    "client = YouTubeAPIClient(get_rcfile()['youtube']['key'], sleep=False)"
   ]
  },
  {
   "cell_type": "code",
   "execution_count": 13,
   "id": "cc6c06c7-24e4-43ad-9446-6875d5f09a0d",
   "metadata": {},
   "outputs": [
    {
     "name": "stderr",
     "output_type": "stream",
     "text": [
      "1891it [00:08, 224.49it/s]\n"
     ]
    },
    {
     "data": {
      "text/plain": [
       "1891"
      ]
     },
     "execution_count": 13,
     "metadata": {},
     "output_type": "execute_result"
    }
   ],
   "source": [
    "VIDEOS = []\n",
    "\n",
    "for video in tqdm(client.channel_videos('SciencesPo')):\n",
    "    VIDEOS.append(video)\n",
    "\n",
    "len(VIDEOS)"
   ]
  },
  {
   "cell_type": "code",
   "execution_count": 16,
   "id": "2e50f4a0-a90c-412f-946b-bf986ec6c186",
   "metadata": {},
   "outputs": [
    {
     "name": "stderr",
     "output_type": "stream",
     "text": [
      "1891it [00:11, 168.03it/s]\n"
     ]
    }
   ],
   "source": [
    "ENHANCED_VIDEOS = []\n",
    "\n",
    "for _, video in tqdm(client.videos(v.video_id for v in VIDEOS)):\n",
    "    ENHANCED_VIDEOS.append(video)\n",
    "\n",
    "len(ENHANCED_VIDEOS)"
   ]
  },
  {
   "cell_type": "code",
   "execution_count": 38,
   "id": "407c498e-57c4-42c7-a371-118a99d0a156",
   "metadata": {},
   "outputs": [],
   "source": [
    "VIDEO_INDEX = {v.video_id: v.title for v in ENHANCED_VIDEOS}"
   ]
  },
  {
   "cell_type": "code",
   "execution_count": 24,
   "id": "845a78f8-f2a1-4f61-a113-ec7b46916803",
   "metadata": {},
   "outputs": [
    {
     "data": {
      "text/plain": [
       "6956"
      ]
     },
     "execution_count": 24,
     "metadata": {},
     "output_type": "execute_result"
    }
   ],
   "source": [
    "sum(v.comment_count or 0 for v in ENHANCED_VIDEOS)"
   ]
  },
  {
   "cell_type": "code",
   "execution_count": 25,
   "id": "9d49ec60-a299-410b-915a-9c9d2f54387e",
   "metadata": {},
   "outputs": [
    {
     "data": {
      "text/plain": [
       "YouTubeVideo(video_id='HC2wzds_YHc', title='Cérémonie du diplôme - promotion 2020', published_at='2021-06-23T13:39:12Z', description='Vivez la cérémonie du diplôme de Sciences Po, promotion 2020 !\\n\\n----\\nSciences Po est une université de recherche internationale, sélective, ouverte sur le monde, qui se place parmi les meilleures en sciences humaines et sociales. Cliquez pour en savoir plus sur nos formations : http://bit.ly/2hz6Kr0\\n\\nComment se porter candidat ou candidate à Sciences Po ? http://bit.ly/2JlAxAD\\n\\n----\\nSuivez-nous sur les réseaux sociaux !\\n----\\n\\nYoutube : https://www.youtube.com/channel/UCjaCN9r_oyIgyUwY7wgACkA\\nFacebook : https://www.facebook.com/SciencesPo/\\nTwitter : https://twitter.com/sciencespo\\nInstagram : https://www.instagram.com/sciencespo/\\nSnapchat : https://www.snapchat.com/add/sciencespo\\nLinkedIn : https://fr.linkedin.com/school/sciences-po/\\nGroupe Facebook officiel : https://www.facebook.com/groups/sciencespogroup/\\n\\nNotre newsletter : http://bit.ly/2mCuojD\\nApplication Sciences Po sur Google Play  : https://bit.ly/2O36oF9\\nApplication Sciences Po sur l’App Store : https://apple.co/2L9lE5a', channel_id='UCjaCN9r_oyIgyUwY7wgACkA', channel_title='Sciences Po', default_language='fr', view_count=7872, like_count=None, comment_count=None, duration='PT46M53S', has_captions=False, category_id='27', category='Education', topics=['https://en.wikipedia.org/wiki/Knowledge'], tags=[])"
      ]
     },
     "execution_count": 25,
     "metadata": {},
     "output_type": "execute_result"
    }
   ],
   "source": [
    "next(v for v in ENHANCED_VIDEOS if v.comment_count is None)"
   ]
  },
  {
   "cell_type": "code",
   "execution_count": 26,
   "id": "0b8d868a-7fe2-4a5a-af6d-e1c385a47db0",
   "metadata": {},
   "outputs": [
    {
     "name": "stderr",
     "output_type": "stream",
     "text": [
      "100%|█████████████████████████████████████████████████████████████████████████| 1891/1891 [01:59<00:00, 15.87it/s]\n"
     ]
    },
    {
     "data": {
      "text/plain": [
       "6956"
      ]
     },
     "execution_count": 26,
     "metadata": {},
     "output_type": "execute_result"
    }
   ],
   "source": [
    "COMMENTS = []\n",
    "\n",
    "for v in tqdm(ENHANCED_VIDEOS):\n",
    "    if v.comment_count is None or v.comment_count < 1:\n",
    "        continue\n",
    "\n",
    "    for comment in client.comments(v.video_id):\n",
    "        COMMENTS.append(comment)\n",
    "\n",
    "len(COMMENTS)"
   ]
  },
  {
   "cell_type": "code",
   "execution_count": 28,
   "id": "111f364a-e837-4a65-8a58-c59f978fc077",
   "metadata": {},
   "outputs": [
    {
     "data": {
      "text/plain": [
       "[('@sciencespo', 55),\n",
       " ('@svavhel', 44),\n",
       " ('@freikorpsdamonisch8127', 40),\n",
       " ('@toughr1506', 35),\n",
       " ('@mohammadiqbal6688', 30),\n",
       " ('@marie-pierreconde1852', 29),\n",
       " ('@jonathanraspaut15', 29),\n",
       " ('@annaa1476', 29),\n",
       " ('@alainvillesuzanne8613', 27),\n",
       " ('@holger3943', 25)]"
      ]
     },
     "execution_count": 28,
     "metadata": {},
     "output_type": "execute_result"
    }
   ],
   "source": [
    "Counter(c.author_name for c in COMMENTS).most_common(10)"
   ]
  },
  {
   "cell_type": "code",
   "execution_count": 35,
   "id": "52415174-920f-4218-9443-a1dcd84821b9",
   "metadata": {},
   "outputs": [
    {
     "data": {
      "text/plain": [
       "(171, 53, 171)"
      ]
     },
     "execution_count": 35,
     "metadata": {},
     "output_type": "execute_result"
    }
   ],
   "source": [
    "URLS = Counter()\n",
    "\n",
    "for c in COMMENTS:\n",
    "    for url in urls_from_text(c.text):\n",
    "        URLS[url] += 1\n",
    "\n",
    "len(URLS), len([u for u in URLS if should_resolve(u)]), len([normalize_url(u) for u in URLS])"
   ]
  },
  {
   "cell_type": "code",
   "execution_count": 45,
   "id": "9e336c4c-3914-468e-96fb-c453dae9410f",
   "metadata": {},
   "outputs": [],
   "source": [
    "g = nx.Graph()\n",
    "\n",
    "for c in COMMENTS:\n",
    "    g.add_node(c.author_name, part='author')\n",
    "    g.add_node(c.video_id, part='video', label=VIDEO_INDEX[c.video_id])\n",
    "    g.add_edge(c.author_name, c.video_id)\n",
    "\n",
    "remove_leaves(g)\n",
    "crop_to_largest_connected_component(g)"
   ]
  },
  {
   "cell_type": "code",
   "execution_count": 46,
   "id": "ce887e0b-9d5b-4b8a-b23d-e7c051a31a13",
   "metadata": {},
   "outputs": [
    {
     "data": {
      "application/vnd.jupyter.widget-view+json": {
       "model_id": "4c6be552d11a4fd5bf0ff4f3de22dd9f",
       "version_major": 2,
       "version_minor": 0
      },
      "text/plain": [
       "Sigma(nx.Graph with 395 nodes and 476 edges)"
      ]
     },
     "execution_count": 46,
     "metadata": {},
     "output_type": "execute_result"
    }
   ],
   "source": [
    "Sigma(g, node_size=g.degree, node_color=\"part\")"
   ]
  },
  {
   "cell_type": "code",
   "execution_count": 55,
   "id": "53a8efd8-1268-4a8f-bd5a-a959a85f533d",
   "metadata": {},
   "outputs": [],
   "source": [
    "m = monopartite_projection(g, 'author', metric=\"jaccard\")"
   ]
  },
  {
   "cell_type": "code",
   "execution_count": 56,
   "id": "eb419f02-67bb-4a8c-82f4-8041b7bd6d5a",
   "metadata": {},
   "outputs": [
    {
     "data": {
      "application/vnd.jupyter.widget-view+json": {
       "model_id": "079cb6eacad047b3abae116871844743",
       "version_major": 2,
       "version_minor": 0
      },
      "text/plain": [
       "Sigma(nx.Graph with 184 nodes and 864 edges)"
      ]
     },
     "execution_count": 56,
     "metadata": {},
     "output_type": "execute_result"
    }
   ],
   "source": [
    "Sigma(m, node_color=\"louvain\", node_metrics=[\"louvain\"])"
   ]
  },
  {
   "cell_type": "code",
   "execution_count": 68,
   "id": "1c05919e-4390-46b0-8941-583514b77b6b",
   "metadata": {},
   "outputs": [],
   "source": [
    "g = nx.Graph()\n",
    "\n",
    "for v in ENHANCED_VIDEOS:\n",
    "    g.add_node(v.video_id, part=\"video\")\n",
    "\n",
    "    for tag in v.tags:\n",
    "        g.add_node(tag, part=\"tag\")\n",
    "        g.add_edge(v.video_id, tag)\n",
    "\n",
    "m = monopartite_projection(g, 'tag')"
   ]
  },
  {
   "cell_type": "code",
   "execution_count": 69,
   "id": "1d4c9a1f-e20c-4052-a392-7a63c632821d",
   "metadata": {},
   "outputs": [
    {
     "data": {
      "application/vnd.jupyter.widget-view+json": {
       "model_id": "aef332db757246efb96445609c4a6b5d",
       "version_major": 2,
       "version_minor": 0
      },
      "text/plain": [
       "Sigma(nx.Graph with 4,411 nodes and 46,762 edges)"
      ]
     },
     "execution_count": 69,
     "metadata": {},
     "output_type": "execute_result"
    }
   ],
   "source": [
    "Sigma(m, node_color=\"louvain\", node_metrics=[\"louvain\"])"
   ]
  },
  {
   "cell_type": "code",
   "execution_count": null,
   "id": "722a568c-8c18-4a3a-958e-fa320e935f34",
   "metadata": {},
   "outputs": [],
   "source": []
  }
 ],
 "metadata": {
  "kernelspec": {
   "display_name": "Python 3 (ipykernel)",
   "language": "python",
   "name": "python3"
  },
  "language_info": {
   "codemirror_mode": {
    "name": "ipython",
    "version": 3
   },
   "file_extension": ".py",
   "mimetype": "text/x-python",
   "name": "python",
   "nbconvert_exporter": "python",
   "pygments_lexer": "ipython3",
   "version": "3.8.16"
  }
 },
 "nbformat": 4,
 "nbformat_minor": 5
}
