{
 "cells": [
  {
   "cell_type": "code",
   "execution_count": 1,
   "id": "d3f96ad6-05a9-4bc0-9ad4-45d878899297",
   "metadata": {
    "tags": []
   },
   "outputs": [],
   "source": [
    "import numpy as np"
   ]
  },
  {
   "cell_type": "markdown",
   "id": "7d927fff-0a16-4064-a549-121177b1a685",
   "metadata": {},
   "source": [
    "* Dataset for regression: https://www.kaggle.com/datasets/vikrishnan/boston-house-prices\n",
    "* Dataset for clustering: https://www.kaggle.com/datasets/arshid/iris-flower-dataset"
   ]
  }
 ],
 "metadata": {
  "kernelspec": {
   "display_name": "Python 3 (ipykernel)",
   "language": "python",
   "name": "python3"
  },
  "language_info": {
   "codemirror_mode": {
    "name": "ipython",
    "version": 3
   },
   "file_extension": ".py",
   "mimetype": "text/x-python",
   "name": "python",
   "nbconvert_exporter": "python",
   "pygments_lexer": "ipython3",
   "version": "3.7.16"
  }
 },
 "nbformat": 4,
 "nbformat_minor": 5
}
