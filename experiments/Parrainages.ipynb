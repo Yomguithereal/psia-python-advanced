{
 "cells": [
  {
   "cell_type": "code",
   "execution_count": 1,
   "id": "f40504fc-8de3-48fc-a770-983a50b4763d",
   "metadata": {},
   "outputs": [],
   "source": [
    "import csv\n",
    "import gzip\n",
    "import json\n",
    "import seaborn as sns\n",
    "import altair as alt\n",
    "import pandas as pd\n",
    "from collections import Counter\n",
    "import matplotlib.pyplot as plt\n",
    "from tqdm.notebook import tqdm"
   ]
  },
  {
   "cell_type": "code",
   "execution_count": 38,
   "id": "9dd78f43-aa0a-460d-839f-31b714ef277a",
   "metadata": {},
   "outputs": [
    {
     "data": {
      "text/plain": [
       "DataTransformerRegistry.enable('data_server')"
      ]
     },
     "execution_count": 38,
     "metadata": {},
     "output_type": "execute_result"
    }
   ],
   "source": [
    "alt.data_transformers.enable('data_server')"
   ]
  },
  {
   "cell_type": "code",
   "execution_count": 2,
   "id": "73821410-6517-4dc8-a479-b07bb03a26d0",
   "metadata": {},
   "outputs": [],
   "source": [
    "with open('../data/parrainages.json') as f:\n",
    "    parrainages = json.load(f)"
   ]
  },
  {
   "cell_type": "code",
   "execution_count": 3,
   "id": "d2b8d744-d91e-4d11-9daa-ce35598dde9d",
   "metadata": {},
   "outputs": [
    {
     "data": {
      "text/plain": [
       "{'Civilite': 'M.',\n",
       " 'Nom': 'CORDIVAL',\n",
       " 'Prenom': 'Gilles',\n",
       " 'Mandat': 'Maire',\n",
       " 'Circonscription': 'Mont-Saint-Père',\n",
       " 'Departement': 'Aisne',\n",
       " 'Candidat': 'ARTHAUD Nathalie',\n",
       " 'DatePublication': '2022-02-01T00:00:00'}"
      ]
     },
     "execution_count": 3,
     "metadata": {},
     "output_type": "execute_result"
    }
   ],
   "source": [
    "parrainages[0]"
   ]
  },
  {
   "cell_type": "code",
   "execution_count": 4,
   "id": "7fda75eb-5c4e-40e7-a21b-74019e2c884d",
   "metadata": {},
   "outputs": [],
   "source": [
    "candidates = Counter(p['Candidat'] for p in parrainages)"
   ]
  },
  {
   "cell_type": "code",
   "execution_count": 5,
   "id": "728c376b-b77b-45a4-a828-c00f44ed6518",
   "metadata": {},
   "outputs": [
    {
     "data": {
      "text/plain": [
       "{'ARTHAUD Nathalie',\n",
       " 'DUPONT-AIGNAN Nicolas',\n",
       " 'HIDALGO Anne',\n",
       " 'JADOT Yannick',\n",
       " 'LASSALLE Jean',\n",
       " 'LE PEN Marine',\n",
       " 'MACRON Emmanuel',\n",
       " 'MÉLENCHON Jean-Luc',\n",
       " 'POUTOU Philippe',\n",
       " 'PÉCRESSE Valérie',\n",
       " 'ROUSSEL Fabien',\n",
       " 'ZEMMOUR Éric'}"
      ]
     },
     "execution_count": 5,
     "metadata": {},
     "output_type": "execute_result"
    }
   ],
   "source": [
    "keep = set(c for c, p in candidates.items() if p >= 500)\n",
    "keep"
   ]
  },
  {
   "cell_type": "code",
   "execution_count": 6,
   "id": "b89d4d3c-f058-450a-b6c8-d6357366b3e5",
   "metadata": {},
   "outputs": [],
   "source": [
    "filtered_parrainages = [p for p in parrainages if p['Candidat'] in keep]"
   ]
  },
  {
   "cell_type": "code",
   "execution_count": 7,
   "id": "b75e57b7-c6fe-4d03-a9c6-370deddbc965",
   "metadata": {},
   "outputs": [
    {
     "data": {
      "text/plain": [
       "(12195, 13427)"
      ]
     },
     "execution_count": 7,
     "metadata": {},
     "output_type": "execute_result"
    }
   ],
   "source": [
    "len(filtered_parrainages), len(parrainages)"
   ]
  },
  {
   "cell_type": "code",
   "execution_count": 8,
   "id": "a499dcea-2da2-48ed-acec-47023b8fa522",
   "metadata": {},
   "outputs": [
    {
     "data": {
      "text/plain": [
       "[('Maire', 8712),\n",
       " (\"Maire délégué d'une commune associée ou d'une commune déléguée\", 345),\n",
       " (\"Maire déléguée d'une commune associée ou d'une commune déléguée\", 123),\n",
       " (\"Maire d'arrondissement\", 27)]"
      ]
     },
     "execution_count": 8,
     "metadata": {},
     "output_type": "execute_result"
    }
   ],
   "source": [
    "Counter(p['Mandat'] for p in parrainages if 'maire' in p['Mandat'].lower()).most_common()"
   ]
  },
  {
   "cell_type": "code",
   "execution_count": 9,
   "id": "1c13b6b9-9e16-4dbf-863f-cc345ed371d9",
   "metadata": {},
   "outputs": [
    {
     "data": {
      "text/html": [
       "<div>\n",
       "<style scoped>\n",
       "    .dataframe tbody tr th:only-of-type {\n",
       "        vertical-align: middle;\n",
       "    }\n",
       "\n",
       "    .dataframe tbody tr th {\n",
       "        vertical-align: top;\n",
       "    }\n",
       "\n",
       "    .dataframe thead th {\n",
       "        text-align: right;\n",
       "    }\n",
       "</style>\n",
       "<table border=\"1\" class=\"dataframe\">\n",
       "  <thead>\n",
       "    <tr style=\"text-align: right;\">\n",
       "      <th></th>\n",
       "      <th>Civilite</th>\n",
       "      <th>Nom</th>\n",
       "      <th>Prenom</th>\n",
       "      <th>Mandat</th>\n",
       "      <th>Circonscription</th>\n",
       "      <th>Departement</th>\n",
       "      <th>Candidat</th>\n",
       "      <th>DatePublication</th>\n",
       "      <th>date</th>\n",
       "    </tr>\n",
       "  </thead>\n",
       "  <tbody>\n",
       "    <tr>\n",
       "      <th>0</th>\n",
       "      <td>M.</td>\n",
       "      <td>CORDIVAL</td>\n",
       "      <td>Gilles</td>\n",
       "      <td>Maire</td>\n",
       "      <td>Mont-Saint-Père</td>\n",
       "      <td>Aisne</td>\n",
       "      <td>ARTHAUD Nathalie</td>\n",
       "      <td>2022-02-01T00:00:00</td>\n",
       "      <td>2022-02-01</td>\n",
       "    </tr>\n",
       "    <tr>\n",
       "      <th>1</th>\n",
       "      <td>Mme</td>\n",
       "      <td>VALLIET</td>\n",
       "      <td>Odile</td>\n",
       "      <td>Maire</td>\n",
       "      <td>Crupilly</td>\n",
       "      <td>Aisne</td>\n",
       "      <td>ARTHAUD Nathalie</td>\n",
       "      <td>2022-02-01T00:00:00</td>\n",
       "      <td>2022-02-01</td>\n",
       "    </tr>\n",
       "    <tr>\n",
       "      <th>2</th>\n",
       "      <td>M.</td>\n",
       "      <td>GUEYRAUD</td>\n",
       "      <td>Jean-Marie</td>\n",
       "      <td>Maire</td>\n",
       "      <td>Saint-Auban-d'Oze</td>\n",
       "      <td>Hautes-Alpes</td>\n",
       "      <td>ARTHAUD Nathalie</td>\n",
       "      <td>2022-02-01T00:00:00</td>\n",
       "      <td>2022-02-01</td>\n",
       "    </tr>\n",
       "    <tr>\n",
       "      <th>3</th>\n",
       "      <td>Mme</td>\n",
       "      <td>NOUVEL</td>\n",
       "      <td>Marie-Claude</td>\n",
       "      <td>Maire</td>\n",
       "      <td>Seignalens</td>\n",
       "      <td>Aude</td>\n",
       "      <td>ARTHAUD Nathalie</td>\n",
       "      <td>2022-02-01T00:00:00</td>\n",
       "      <td>2022-02-01</td>\n",
       "    </tr>\n",
       "    <tr>\n",
       "      <th>4</th>\n",
       "      <td>M.</td>\n",
       "      <td>GAINCHE</td>\n",
       "      <td>Jean-Paul</td>\n",
       "      <td>Maire</td>\n",
       "      <td>Langrolay-sur-Rance</td>\n",
       "      <td>Côtes-d'Armor</td>\n",
       "      <td>ARTHAUD Nathalie</td>\n",
       "      <td>2022-02-01T00:00:00</td>\n",
       "      <td>2022-02-01</td>\n",
       "    </tr>\n",
       "    <tr>\n",
       "      <th>...</th>\n",
       "      <td>...</td>\n",
       "      <td>...</td>\n",
       "      <td>...</td>\n",
       "      <td>...</td>\n",
       "      <td>...</td>\n",
       "      <td>...</td>\n",
       "      <td>...</td>\n",
       "      <td>...</td>\n",
       "      <td>...</td>\n",
       "    </tr>\n",
       "    <tr>\n",
       "      <th>12190</th>\n",
       "      <td>M.</td>\n",
       "      <td>BONNEVILLE</td>\n",
       "      <td>Alain</td>\n",
       "      <td>Maire</td>\n",
       "      <td>Vouxey</td>\n",
       "      <td>Vosges</td>\n",
       "      <td>ZEMMOUR Éric</td>\n",
       "      <td>2022-03-07T00:00:00</td>\n",
       "      <td>2022-03-07</td>\n",
       "    </tr>\n",
       "    <tr>\n",
       "      <th>12191</th>\n",
       "      <td>M.</td>\n",
       "      <td>PEDUZZI</td>\n",
       "      <td>Dominique</td>\n",
       "      <td>Conseiller départemental</td>\n",
       "      <td></td>\n",
       "      <td>Vosges</td>\n",
       "      <td>ZEMMOUR Éric</td>\n",
       "      <td>2022-03-07T00:00:00</td>\n",
       "      <td>2022-03-07</td>\n",
       "    </tr>\n",
       "    <tr>\n",
       "      <th>12192</th>\n",
       "      <td>M.</td>\n",
       "      <td>TEHAAMOANA</td>\n",
       "      <td>Etienne</td>\n",
       "      <td>Membre d'une assemblée d'une collectivité terr...</td>\n",
       "      <td></td>\n",
       "      <td>Polynésie française</td>\n",
       "      <td>ZEMMOUR Éric</td>\n",
       "      <td>2022-03-07T00:00:00</td>\n",
       "      <td>2022-03-07</td>\n",
       "    </tr>\n",
       "    <tr>\n",
       "      <th>12193</th>\n",
       "      <td>Mme</td>\n",
       "      <td>GIRAUD-MALIVEL</td>\n",
       "      <td>Michèle</td>\n",
       "      <td>Présidente du conseil consulaire</td>\n",
       "      <td>Maurice, Seychelles</td>\n",
       "      <td>Français de l'étranger</td>\n",
       "      <td>ZEMMOUR Éric</td>\n",
       "      <td>2022-03-07T00:00:00</td>\n",
       "      <td>2022-03-07</td>\n",
       "    </tr>\n",
       "    <tr>\n",
       "      <th>12194</th>\n",
       "      <td>M.</td>\n",
       "      <td>LETANCHE</td>\n",
       "      <td>Hugues</td>\n",
       "      <td>Président du conseil consulaire</td>\n",
       "      <td>Arabie saoudite - 2e circonscription(avec Koweït)</td>\n",
       "      <td>Français de l'étranger</td>\n",
       "      <td>ZEMMOUR Éric</td>\n",
       "      <td>2022-03-07T00:00:00</td>\n",
       "      <td>2022-03-07</td>\n",
       "    </tr>\n",
       "  </tbody>\n",
       "</table>\n",
       "<p>12195 rows × 9 columns</p>\n",
       "</div>"
      ],
      "text/plain": [
       "      Civilite             Nom        Prenom  \\\n",
       "0           M.        CORDIVAL        Gilles   \n",
       "1          Mme         VALLIET         Odile   \n",
       "2           M.        GUEYRAUD    Jean-Marie   \n",
       "3          Mme          NOUVEL  Marie-Claude   \n",
       "4           M.         GAINCHE     Jean-Paul   \n",
       "...        ...             ...           ...   \n",
       "12190       M.      BONNEVILLE         Alain   \n",
       "12191       M.         PEDUZZI     Dominique   \n",
       "12192       M.      TEHAAMOANA       Etienne   \n",
       "12193      Mme  GIRAUD-MALIVEL       Michèle   \n",
       "12194       M.        LETANCHE        Hugues   \n",
       "\n",
       "                                                  Mandat  \\\n",
       "0                                                  Maire   \n",
       "1                                                  Maire   \n",
       "2                                                  Maire   \n",
       "3                                                  Maire   \n",
       "4                                                  Maire   \n",
       "...                                                  ...   \n",
       "12190                                              Maire   \n",
       "12191                           Conseiller départemental   \n",
       "12192  Membre d'une assemblée d'une collectivité terr...   \n",
       "12193                   Présidente du conseil consulaire   \n",
       "12194                    Président du conseil consulaire   \n",
       "\n",
       "                                         Circonscription  \\\n",
       "0                                        Mont-Saint-Père   \n",
       "1                                               Crupilly   \n",
       "2                                      Saint-Auban-d'Oze   \n",
       "3                                             Seignalens   \n",
       "4                                    Langrolay-sur-Rance   \n",
       "...                                                  ...   \n",
       "12190                                             Vouxey   \n",
       "12191                                                      \n",
       "12192                                                      \n",
       "12193                                Maurice, Seychelles   \n",
       "12194  Arabie saoudite - 2e circonscription(avec Koweït)   \n",
       "\n",
       "                  Departement          Candidat      DatePublication  \\\n",
       "0                       Aisne  ARTHAUD Nathalie  2022-02-01T00:00:00   \n",
       "1                       Aisne  ARTHAUD Nathalie  2022-02-01T00:00:00   \n",
       "2                Hautes-Alpes  ARTHAUD Nathalie  2022-02-01T00:00:00   \n",
       "3                        Aude  ARTHAUD Nathalie  2022-02-01T00:00:00   \n",
       "4               Côtes-d'Armor  ARTHAUD Nathalie  2022-02-01T00:00:00   \n",
       "...                       ...               ...                  ...   \n",
       "12190                  Vosges      ZEMMOUR Éric  2022-03-07T00:00:00   \n",
       "12191                  Vosges      ZEMMOUR Éric  2022-03-07T00:00:00   \n",
       "12192     Polynésie française      ZEMMOUR Éric  2022-03-07T00:00:00   \n",
       "12193  Français de l'étranger      ZEMMOUR Éric  2022-03-07T00:00:00   \n",
       "12194  Français de l'étranger      ZEMMOUR Éric  2022-03-07T00:00:00   \n",
       "\n",
       "            date  \n",
       "0     2022-02-01  \n",
       "1     2022-02-01  \n",
       "2     2022-02-01  \n",
       "3     2022-02-01  \n",
       "4     2022-02-01  \n",
       "...          ...  \n",
       "12190 2022-03-07  \n",
       "12191 2022-03-07  \n",
       "12192 2022-03-07  \n",
       "12193 2022-03-07  \n",
       "12194 2022-03-07  \n",
       "\n",
       "[12195 rows x 9 columns]"
      ]
     },
     "execution_count": 9,
     "metadata": {},
     "output_type": "execute_result"
    }
   ],
   "source": [
    "df = pd.DataFrame(filtered_parrainages)\n",
    "df['date'] = pd.to_datetime(df['DatePublication'])\n",
    "df"
   ]
  },
  {
   "cell_type": "code",
   "execution_count": 10,
   "id": "4ac80c2c-427b-4783-b384-580384eec93a",
   "metadata": {},
   "outputs": [
    {
     "data": {
      "text/plain": [
       "<AxesSubplot:xlabel='Civilite', ylabel='Count'>"
      ]
     },
     "execution_count": 10,
     "metadata": {},
     "output_type": "execute_result"
    },
    {
     "data": {
      "image/png": "[encoded data removed]",
      "text/plain": [
       "<Figure size 432x288 with 1 Axes>"
      ]
     },
     "metadata": {
      "needs_background": "light"
     },
     "output_type": "display_data"
    }
   ],
   "source": [
    "sns.histplot(data=df, x='Civilite', hue='Civilite')"
   ]
  },
  {
   "cell_type": "code",
   "execution_count": 39,
   "id": "00b5da7f-79fa-47c7-b9da-b87990d94e38",
   "metadata": {},
   "outputs": [
    {
     "data": {
      "text/html": [
       "\n",
       "<div id=\"altair-viz-4ec915676e30486285f7450eabbe7cd2\"></div>\n",
       "<script type=\"text/javascript\">\n",
       "  var VEGA_DEBUG = (typeof VEGA_DEBUG == \"undefined\") ? {} : VEGA_DEBUG;\n",
       "  (function(spec, embedOpt){\n",
       "    let outputDiv = document.currentScript.previousElementSibling;\n",
       "    if (outputDiv.id !== \"altair-viz-4ec915676e30486285f7450eabbe7cd2\") {\n",
       "      outputDiv = document.getElementById(\"altair-viz-4ec915676e30486285f7450eabbe7cd2\");\n",
       "    }\n",
       "    const paths = {\n",
       "      \"vega\": \"https://cdn.jsdelivr.net/npm//vega@5?noext\",\n",
       "      \"vega-lib\": \"https://cdn.jsdelivr.net/npm//vega-lib?noext\",\n",
       "      \"vega-lite\": \"https://cdn.jsdelivr.net/npm//vega-lite@4.17.0?noext\",\n",
       "      \"vega-embed\": \"https://cdn.jsdelivr.net/npm//vega-embed@6?noext\",\n",
       "    };\n",
       "\n",
       "    function maybeLoadScript(lib, version) {\n",
       "      var key = `${lib.replace(\"-\", \"\")}_version`;\n",
       "      return (VEGA_DEBUG[key] == version) ?\n",
       "        Promise.resolve(paths[lib]) :\n",
       "        new Promise(function(resolve, reject) {\n",
       "          var s = document.createElement('script');\n",
       "          document.getElementsByTagName(\"head\")[0].appendChild(s);\n",
       "          s.async = true;\n",
       "          s.onload = () => {\n",
       "            VEGA_DEBUG[key] = version;\n",
       "            return resolve(paths[lib]);\n",
       "          };\n",
       "          s.onerror = () => reject(`Error loading script: ${paths[lib]}`);\n",
       "          s.src = paths[lib];\n",
       "        });\n",
       "    }\n",
       "\n",
       "    function showError(err) {\n",
       "      outputDiv.innerHTML = `<div class=\"error\" style=\"color:red;\">${err}</div>`;\n",
       "      throw err;\n",
       "    }\n",
       "\n",
       "    function displayChart(vegaEmbed) {\n",
       "      vegaEmbed(outputDiv, spec, embedOpt)\n",
       "        .catch(err => showError(`Javascript Error: ${err.message}<br>This usually means there's a typo in your chart specification. See the javascript console for the full traceback.`));\n",
       "    }\n",
       "\n",
       "    if(typeof define === \"function\" && define.amd) {\n",
       "      requirejs.config({paths});\n",
       "      require([\"vega-embed\"], displayChart, err => showError(`Error loading script: ${err.message}`));\n",
       "    } else {\n",
       "      maybeLoadScript(\"vega\", \"5\")\n",
       "        .then(() => maybeLoadScript(\"vega-lite\", \"4.17.0\"))\n",
       "        .then(() => maybeLoadScript(\"vega-embed\", \"6\"))\n",
       "        .catch(showError)\n",
       "        .then(() => displayChart(vegaEmbed));\n",
       "    }\n",
       "  })({\"config\": {\"view\": {\"continuousWidth\": 400, \"continuousHeight\": 300}}, \"data\": {\"url\": \"http://localhost:22553/e64f8d208d1dd74e0d5c2f376f6c6575.json\"}, \"mark\": \"bar\", \"encoding\": {\"color\": {\"field\": \"Civilite\", \"type\": \"nominal\"}, \"x\": {\"field\": \"Civilite\", \"type\": \"nominal\"}, \"y\": {\"aggregate\": \"count\", \"type\": \"quantitative\"}}, \"width\": 200, \"$schema\": \"https://vega.github.io/schema/vega-lite/v4.17.0.json\"}, {\"mode\": \"vega-lite\"});\n",
       "</script>"
      ],
      "text/plain": [
       "alt.Chart(...)"
      ]
     },
     "execution_count": 39,
     "metadata": {},
     "output_type": "execute_result"
    }
   ],
   "source": [
    "alt.Chart(df, width=200).mark_bar().encode(\n",
    "    x='Civilite:N',\n",
    "    y='count()',\n",
    "    color='Civilite:N'\n",
    ")"
   ]
  },
  {
   "cell_type": "code",
   "execution_count": 40,
   "id": "c99256ab-f9f8-4496-a08b-877d37f2ffd7",
   "metadata": {},
   "outputs": [
    {
     "data": {
      "text/html": [
       "\n",
       "<div id=\"altair-viz-6d30e3bec74e4b77adf89d815b3392df\"></div>\n",
       "<script type=\"text/javascript\">\n",
       "  var VEGA_DEBUG = (typeof VEGA_DEBUG == \"undefined\") ? {} : VEGA_DEBUG;\n",
       "  (function(spec, embedOpt){\n",
       "    let outputDiv = document.currentScript.previousElementSibling;\n",
       "    if (outputDiv.id !== \"altair-viz-6d30e3bec74e4b77adf89d815b3392df\") {\n",
       "      outputDiv = document.getElementById(\"altair-viz-6d30e3bec74e4b77adf89d815b3392df\");\n",
       "    }\n",
       "    const paths = {\n",
       "      \"vega\": \"https://cdn.jsdelivr.net/npm//vega@5?noext\",\n",
       "      \"vega-lib\": \"https://cdn.jsdelivr.net/npm//vega-lib?noext\",\n",
       "      \"vega-lite\": \"https://cdn.jsdelivr.net/npm//vega-lite@4.17.0?noext\",\n",
       "      \"vega-embed\": \"https://cdn.jsdelivr.net/npm//vega-embed@6?noext\",\n",
       "    };\n",
       "\n",
       "    function maybeLoadScript(lib, version) {\n",
       "      var key = `${lib.replace(\"-\", \"\")}_version`;\n",
       "      return (VEGA_DEBUG[key] == version) ?\n",
       "        Promise.resolve(paths[lib]) :\n",
       "        new Promise(function(resolve, reject) {\n",
       "          var s = document.createElement('script');\n",
       "          document.getElementsByTagName(\"head\")[0].appendChild(s);\n",
       "          s.async = true;\n",
       "          s.onload = () => {\n",
       "            VEGA_DEBUG[key] = version;\n",
       "            return resolve(paths[lib]);\n",
       "          };\n",
       "          s.onerror = () => reject(`Error loading script: ${paths[lib]}`);\n",
       "          s.src = paths[lib];\n",
       "        });\n",
       "    }\n",
       "\n",
       "    function showError(err) {\n",
       "      outputDiv.innerHTML = `<div class=\"error\" style=\"color:red;\">${err}</div>`;\n",
       "      throw err;\n",
       "    }\n",
       "\n",
       "    function displayChart(vegaEmbed) {\n",
       "      vegaEmbed(outputDiv, spec, embedOpt)\n",
       "        .catch(err => showError(`Javascript Error: ${err.message}<br>This usually means there's a typo in your chart specification. See the javascript console for the full traceback.`));\n",
       "    }\n",
       "\n",
       "    if(typeof define === \"function\" && define.amd) {\n",
       "      requirejs.config({paths});\n",
       "      require([\"vega-embed\"], displayChart, err => showError(`Error loading script: ${err.message}`));\n",
       "    } else {\n",
       "      maybeLoadScript(\"vega\", \"5\")\n",
       "        .then(() => maybeLoadScript(\"vega-lite\", \"4.17.0\"))\n",
       "        .then(() => maybeLoadScript(\"vega-embed\", \"6\"))\n",
       "        .catch(showError)\n",
       "        .then(() => displayChart(vegaEmbed));\n",
       "    }\n",
       "  })({\"config\": {\"view\": {\"continuousWidth\": 400, \"continuousHeight\": 300}}, \"data\": {\"url\": \"http://localhost:22553/e64f8d208d1dd74e0d5c2f376f6c6575.json\"}, \"mark\": \"arc\", \"encoding\": {\"color\": {\"field\": \"Civilite\", \"type\": \"nominal\"}, \"theta\": {\"aggregate\": \"count\", \"type\": \"quantitative\"}}, \"$schema\": \"https://vega.github.io/schema/vega-lite/v4.17.0.json\"}, {\"mode\": \"vega-lite\"});\n",
       "</script>"
      ],
      "text/plain": [
       "alt.Chart(...)"
      ]
     },
     "execution_count": 40,
     "metadata": {},
     "output_type": "execute_result"
    }
   ],
   "source": [
    "alt.Chart(df).mark_arc().encode(\n",
    "    theta='count()',\n",
    "    color='Civilite:N'\n",
    ")"
   ]
  },
  {
   "cell_type": "code",
   "execution_count": 13,
   "id": "c56ce56a-9b8a-46d7-b084-fdab02e0eec0",
   "metadata": {},
   "outputs": [
    {
     "data": {
      "text/html": [
       "<div>\n",
       "<style scoped>\n",
       "    .dataframe tbody tr th:only-of-type {\n",
       "        vertical-align: middle;\n",
       "    }\n",
       "\n",
       "    .dataframe tbody tr th {\n",
       "        vertical-align: top;\n",
       "    }\n",
       "\n",
       "    .dataframe thead th {\n",
       "        text-align: right;\n",
       "    }\n",
       "</style>\n",
       "<table border=\"1\" class=\"dataframe\">\n",
       "  <thead>\n",
       "    <tr style=\"text-align: right;\">\n",
       "      <th></th>\n",
       "      <th></th>\n",
       "      <th>Civilite</th>\n",
       "      <th>Nom</th>\n",
       "      <th>Prenom</th>\n",
       "      <th>Mandat</th>\n",
       "      <th>Circonscription</th>\n",
       "      <th>Departement</th>\n",
       "      <th>DatePublication</th>\n",
       "    </tr>\n",
       "    <tr>\n",
       "      <th>Candidat</th>\n",
       "      <th>date</th>\n",
       "      <th></th>\n",
       "      <th></th>\n",
       "      <th></th>\n",
       "      <th></th>\n",
       "      <th></th>\n",
       "      <th></th>\n",
       "      <th></th>\n",
       "    </tr>\n",
       "  </thead>\n",
       "  <tbody>\n",
       "    <tr>\n",
       "      <th rowspan=\"5\" valign=\"top\">ARTHAUD Nathalie</th>\n",
       "      <th>2022-02-01</th>\n",
       "      <td>12</td>\n",
       "      <td>12</td>\n",
       "      <td>12</td>\n",
       "      <td>12</td>\n",
       "      <td>12</td>\n",
       "      <td>12</td>\n",
       "      <td>12</td>\n",
       "    </tr>\n",
       "    <tr>\n",
       "      <th>2022-02-03</th>\n",
       "      <td>126</td>\n",
       "      <td>126</td>\n",
       "      <td>126</td>\n",
       "      <td>126</td>\n",
       "      <td>126</td>\n",
       "      <td>126</td>\n",
       "      <td>126</td>\n",
       "    </tr>\n",
       "    <tr>\n",
       "      <th>2022-02-08</th>\n",
       "      <td>230</td>\n",
       "      <td>230</td>\n",
       "      <td>230</td>\n",
       "      <td>230</td>\n",
       "      <td>230</td>\n",
       "      <td>230</td>\n",
       "      <td>230</td>\n",
       "    </tr>\n",
       "    <tr>\n",
       "      <th>2022-02-10</th>\n",
       "      <td>51</td>\n",
       "      <td>51</td>\n",
       "      <td>51</td>\n",
       "      <td>51</td>\n",
       "      <td>51</td>\n",
       "      <td>51</td>\n",
       "      <td>51</td>\n",
       "    </tr>\n",
       "    <tr>\n",
       "      <th>2022-02-15</th>\n",
       "      <td>90</td>\n",
       "      <td>90</td>\n",
       "      <td>90</td>\n",
       "      <td>90</td>\n",
       "      <td>90</td>\n",
       "      <td>90</td>\n",
       "      <td>90</td>\n",
       "    </tr>\n",
       "    <tr>\n",
       "      <th>...</th>\n",
       "      <th>...</th>\n",
       "      <td>...</td>\n",
       "      <td>...</td>\n",
       "      <td>...</td>\n",
       "      <td>...</td>\n",
       "      <td>...</td>\n",
       "      <td>...</td>\n",
       "      <td>...</td>\n",
       "    </tr>\n",
       "    <tr>\n",
       "      <th rowspan=\"5\" valign=\"top\">ZEMMOUR Éric</th>\n",
       "      <th>2022-02-22</th>\n",
       "      <td>59</td>\n",
       "      <td>59</td>\n",
       "      <td>59</td>\n",
       "      <td>59</td>\n",
       "      <td>59</td>\n",
       "      <td>59</td>\n",
       "      <td>59</td>\n",
       "    </tr>\n",
       "    <tr>\n",
       "      <th>2022-02-24</th>\n",
       "      <td>65</td>\n",
       "      <td>65</td>\n",
       "      <td>65</td>\n",
       "      <td>65</td>\n",
       "      <td>65</td>\n",
       "      <td>65</td>\n",
       "      <td>65</td>\n",
       "    </tr>\n",
       "    <tr>\n",
       "      <th>2022-03-01</th>\n",
       "      <td>205</td>\n",
       "      <td>205</td>\n",
       "      <td>205</td>\n",
       "      <td>205</td>\n",
       "      <td>205</td>\n",
       "      <td>205</td>\n",
       "      <td>205</td>\n",
       "    </tr>\n",
       "    <tr>\n",
       "      <th>2022-03-03</th>\n",
       "      <td>101</td>\n",
       "      <td>101</td>\n",
       "      <td>101</td>\n",
       "      <td>101</td>\n",
       "      <td>101</td>\n",
       "      <td>101</td>\n",
       "      <td>101</td>\n",
       "    </tr>\n",
       "    <tr>\n",
       "      <th>2022-03-07</th>\n",
       "      <td>20</td>\n",
       "      <td>20</td>\n",
       "      <td>20</td>\n",
       "      <td>20</td>\n",
       "      <td>20</td>\n",
       "      <td>20</td>\n",
       "      <td>20</td>\n",
       "    </tr>\n",
       "  </tbody>\n",
       "</table>\n",
       "<p>132 rows × 7 columns</p>\n",
       "</div>"
      ],
      "text/plain": [
       "                             Civilite  Nom  Prenom  Mandat  Circonscription  \\\n",
       "Candidat         date                                                         \n",
       "ARTHAUD Nathalie 2022-02-01        12   12      12      12               12   \n",
       "                 2022-02-03       126  126     126     126              126   \n",
       "                 2022-02-08       230  230     230     230              230   \n",
       "                 2022-02-10        51   51      51      51               51   \n",
       "                 2022-02-15        90   90      90      90               90   \n",
       "...                               ...  ...     ...     ...              ...   \n",
       "ZEMMOUR Éric     2022-02-22        59   59      59      59               59   \n",
       "                 2022-02-24        65   65      65      65               65   \n",
       "                 2022-03-01       205  205     205     205              205   \n",
       "                 2022-03-03       101  101     101     101              101   \n",
       "                 2022-03-07        20   20      20      20               20   \n",
       "\n",
       "                             Departement  DatePublication  \n",
       "Candidat         date                                      \n",
       "ARTHAUD Nathalie 2022-02-01           12               12  \n",
       "                 2022-02-03          126              126  \n",
       "                 2022-02-08          230              230  \n",
       "                 2022-02-10           51               51  \n",
       "                 2022-02-15           90               90  \n",
       "...                                  ...              ...  \n",
       "ZEMMOUR Éric     2022-02-22           59               59  \n",
       "                 2022-02-24           65               65  \n",
       "                 2022-03-01          205              205  \n",
       "                 2022-03-03          101              101  \n",
       "                 2022-03-07           20               20  \n",
       "\n",
       "[132 rows x 7 columns]"
      ]
     },
     "execution_count": 13,
     "metadata": {},
     "output_type": "execute_result"
    }
   ],
   "source": [
    "df.groupby(['Candidat', 'date']).count()"
   ]
  },
  {
   "cell_type": "code",
   "execution_count": 14,
   "id": "b480291e-8b50-4221-ba99-172e2b35764e",
   "metadata": {},
   "outputs": [
    {
     "data": {
      "text/html": [
       "<div>\n",
       "<style scoped>\n",
       "    .dataframe tbody tr th:only-of-type {\n",
       "        vertical-align: middle;\n",
       "    }\n",
       "\n",
       "    .dataframe tbody tr th {\n",
       "        vertical-align: top;\n",
       "    }\n",
       "\n",
       "    .dataframe thead th {\n",
       "        text-align: right;\n",
       "    }\n",
       "</style>\n",
       "<table border=\"1\" class=\"dataframe\">\n",
       "  <thead>\n",
       "    <tr style=\"text-align: right;\">\n",
       "      <th></th>\n",
       "      <th>Candidat</th>\n",
       "      <th>date</th>\n",
       "      <th>count</th>\n",
       "    </tr>\n",
       "  </thead>\n",
       "  <tbody>\n",
       "    <tr>\n",
       "      <th>0</th>\n",
       "      <td>PÉCRESSE Valérie</td>\n",
       "      <td>2022-02-08</td>\n",
       "      <td>615</td>\n",
       "    </tr>\n",
       "    <tr>\n",
       "      <th>1</th>\n",
       "      <td>PÉCRESSE Valérie</td>\n",
       "      <td>2022-02-15</td>\n",
       "      <td>575</td>\n",
       "    </tr>\n",
       "    <tr>\n",
       "      <th>2</th>\n",
       "      <td>MACRON Emmanuel</td>\n",
       "      <td>2022-02-03</td>\n",
       "      <td>424</td>\n",
       "    </tr>\n",
       "    <tr>\n",
       "      <th>3</th>\n",
       "      <td>MACRON Emmanuel</td>\n",
       "      <td>2022-02-08</td>\n",
       "      <td>397</td>\n",
       "    </tr>\n",
       "    <tr>\n",
       "      <th>4</th>\n",
       "      <td>HIDALGO Anne</td>\n",
       "      <td>2022-02-08</td>\n",
       "      <td>386</td>\n",
       "    </tr>\n",
       "    <tr>\n",
       "      <th>...</th>\n",
       "      <td>...</td>\n",
       "      <td>...</td>\n",
       "      <td>...</td>\n",
       "    </tr>\n",
       "    <tr>\n",
       "      <th>127</th>\n",
       "      <td>ROUSSEL Fabien</td>\n",
       "      <td>2022-03-03</td>\n",
       "      <td>6</td>\n",
       "    </tr>\n",
       "    <tr>\n",
       "      <th>128</th>\n",
       "      <td>POUTOU Philippe</td>\n",
       "      <td>2022-02-01</td>\n",
       "      <td>4</td>\n",
       "    </tr>\n",
       "    <tr>\n",
       "      <th>129</th>\n",
       "      <td>ARTHAUD Nathalie</td>\n",
       "      <td>2022-02-24</td>\n",
       "      <td>3</td>\n",
       "    </tr>\n",
       "    <tr>\n",
       "      <th>130</th>\n",
       "      <td>LE PEN Marine</td>\n",
       "      <td>2022-02-01</td>\n",
       "      <td>2</td>\n",
       "    </tr>\n",
       "    <tr>\n",
       "      <th>131</th>\n",
       "      <td>ARTHAUD Nathalie</td>\n",
       "      <td>2022-03-03</td>\n",
       "      <td>2</td>\n",
       "    </tr>\n",
       "  </tbody>\n",
       "</table>\n",
       "<p>132 rows × 3 columns</p>\n",
       "</div>"
      ],
      "text/plain": [
       "             Candidat       date  count\n",
       "0    PÉCRESSE Valérie 2022-02-08    615\n",
       "1    PÉCRESSE Valérie 2022-02-15    575\n",
       "2     MACRON Emmanuel 2022-02-03    424\n",
       "3     MACRON Emmanuel 2022-02-08    397\n",
       "4        HIDALGO Anne 2022-02-08    386\n",
       "..                ...        ...    ...\n",
       "127    ROUSSEL Fabien 2022-03-03      6\n",
       "128   POUTOU Philippe 2022-02-01      4\n",
       "129  ARTHAUD Nathalie 2022-02-24      3\n",
       "130     LE PEN Marine 2022-02-01      2\n",
       "131  ARTHAUD Nathalie 2022-03-03      2\n",
       "\n",
       "[132 rows x 3 columns]"
      ]
     },
     "execution_count": 14,
     "metadata": {},
     "output_type": "execute_result"
    }
   ],
   "source": [
    "df[['Candidat', 'date']].value_counts().reset_index(name='count')"
   ]
  },
  {
   "cell_type": "code",
   "execution_count": 15,
   "id": "8520edca-ad7a-468b-aa78-5e02c14ea9a3",
   "metadata": {},
   "outputs": [
    {
     "data": {
      "text/plain": [
       "<AxesSubplot:xlabel='date', ylabel='Nom'>"
      ]
     },
     "execution_count": 15,
     "metadata": {},
     "output_type": "execute_result"
    },
    {
     "data": {
      "image/png": "[encoded data removed]",
      "text/plain": [
       "<Figure size 1080x432 with 1 Axes>"
      ]
     },
     "metadata": {
      "needs_background": "light"
     },
     "output_type": "display_data"
    }
   ],
   "source": [
    "f, ax = plt.subplots(figsize=(15, 6))\n",
    "sns.lineplot(data=df.groupby(['Candidat', 'date']).count(), x='date', y='Nom', hue='Candidat', marker='o')"
   ]
  },
  {
   "cell_type": "code",
   "execution_count": 16,
   "id": "b6fdd639-e0c1-426f-ac41-c729687b9b56",
   "metadata": {},
   "outputs": [
    {
     "data": {
      "text/plain": [
       "<seaborn.axisgrid.FacetGrid at 0x7f2fe7762f10>"
      ]
     },
     "execution_count": 16,
     "metadata": {},
     "output_type": "execute_result"
    },
    {
     "data": {
      "image/png": "[encoded data removed]",
      "text/plain": [
       "<Figure size 648x864 with 12 Axes>"
      ]
     },
     "metadata": {
      "needs_background": "light"
     },
     "output_type": "display_data"
    }
   ],
   "source": [
    "g = sns.FacetGrid(df, col=\"Candidat\", col_wrap=3, sharey=False, hue=\"Civilite\")\n",
    "g.map(sns.histplot, \"Civilite\")"
   ]
  },
  {
   "cell_type": "code",
   "execution_count": 17,
   "id": "04494c86-d317-451a-b56e-a945d9a3ea82",
   "metadata": {},
   "outputs": [],
   "source": [
    "def mayor_key(name, surname, dept):\n",
    "    return (name.lower(), surname.lower(), dept.lower())"
   ]
  },
  {
   "cell_type": "code",
   "execution_count": 18,
   "id": "293304df-b1d6-41fe-8b63-ac6e2bb2eced",
   "metadata": {},
   "outputs": [],
   "source": [
    "index_mayors = set(mayor_key(row['Nom'], row['Prenom'], row['Departement']) for row in filtered_parrainages if 'maire' in row['Mandat'].lower())"
   ]
  },
  {
   "cell_type": "code",
   "execution_count": 19,
   "id": "8aef0e2d-5df7-431d-9347-339bd127562f",
   "metadata": {},
   "outputs": [
    {
     "data": {
      "text/plain": [
       "8116"
      ]
     },
     "execution_count": 19,
     "metadata": {},
     "output_type": "execute_result"
    }
   ],
   "source": [
    "len(index_mayors)"
   ]
  },
  {
   "cell_type": "code",
   "execution_count": 20,
   "id": "75c485bb-9804-45a0-ad3e-faccb30a0df6",
   "metadata": {},
   "outputs": [
    {
     "data": {
      "text/plain": [
       "[('vicaire bonnieu', 'delphine', 'dordogne'),\n",
       " ('dubosclard', 'thierry-jean pierre', 'creuse'),\n",
       " ('muller', 'richard', 'meuse'),\n",
       " ('guillaucourt', 'jack', 'aisne'),\n",
       " ('demarcq eguiguren', 'solange', 'pyrénées-atlantiques'),\n",
       " ('porteix', 'yves', 'pyrénées-orientales'),\n",
       " ('lecaque', 'vincent', 'haute-savoie'),\n",
       " ('lepeltier', 'patrick', 'manche'),\n",
       " ('varin', 'dominique', 'calvados'),\n",
       " ('ecenarro', 'kotte', 'pyrénées-atlantiques')]"
      ]
     },
     "execution_count": 20,
     "metadata": {},
     "output_type": "execute_result"
    }
   ],
   "source": [
    "list(index_mayors)[:10]"
   ]
  },
  {
   "cell_type": "code",
   "execution_count": 21,
   "id": "a19a33f9-e1bf-4aa5-a6cf-a38051d0c8f2",
   "metadata": {},
   "outputs": [],
   "source": [
    "with open('../data/rne-maires.csv', encoding='latin1') as f:\n",
    "    RNE = list(csv.DictReader(f, delimiter=';'))"
   ]
  },
  {
   "cell_type": "code",
   "execution_count": 22,
   "id": "14d3e95c-c1f3-4e07-a49c-d5525b459ab4",
   "metadata": {},
   "outputs": [
    {
     "data": {
      "text/plain": [
       "{'Code du département': '01',\n",
       " 'Libellé du département': 'Ain',\n",
       " 'Code de la collectivité à statut particulier': '',\n",
       " 'Libellé de la collectivité à statut particulier': '',\n",
       " 'Code de la commune': '01001',\n",
       " 'Libellé de la commune': \"L'Abergement-Clémenciat\",\n",
       " \"Nom de l'élu\": 'BOULON',\n",
       " \"Prénom de l'élu\": 'Daniel',\n",
       " 'Code sexe': 'M',\n",
       " 'Date de naissance': '04/03/1951',\n",
       " 'Code de la catégorie socio-professionnelle': '74',\n",
       " 'Libellé de la catégorie socio-professionnelle': 'Ancien cadre',\n",
       " 'Date de début du mandat': '18/05/2020',\n",
       " 'Date de début de la fonction': '26/05/2020'}"
      ]
     },
     "execution_count": 22,
     "metadata": {},
     "output_type": "execute_result"
    }
   ],
   "source": [
    "RNE[0]"
   ]
  },
  {
   "cell_type": "code",
   "execution_count": 23,
   "id": "af93e7e9-e30f-4cde-8000-dc97f2c3218b",
   "metadata": {},
   "outputs": [
    {
     "data": {
      "application/vnd.jupyter.widget-view+json": {
       "model_id": "e63305c577dd4325a073b6a67a2466e2",
       "version_major": 2,
       "version_minor": 0
      },
      "text/plain": [
       "  0%|          | 0/902494 [00:00<?, ?it/s]"
      ]
     },
     "metadata": {},
     "output_type": "display_data"
    }
   ],
   "source": [
    "with gzip.open('../data/municipale2020.csv.gz', 'rt') as f:\n",
    "    candidatures = list(tqdm(csv.DictReader(f), total=902494))"
   ]
  },
  {
   "cell_type": "code",
   "execution_count": 24,
   "id": "07455a6f-1852-4b74-8a4c-8244e147a51c",
   "metadata": {},
   "outputs": [
    {
     "data": {
      "text/plain": [
       "{'Code du département': '01',\n",
       " 'Libellé du département': 'Ain',\n",
       " 'Code commune': '01004',\n",
       " 'Libellé commune': 'Ambérieu-en-Bugey',\n",
       " 'N° Panneau Liste': '1',\n",
       " 'Libellé abrégé liste': 'UNIS POUR AMBERIEU',\n",
       " 'Libellé Etendu Liste': 'UNIS POUR AMBERIEU',\n",
       " 'Nuance Liste': 'LDVC',\n",
       " 'N° candidat': '1',\n",
       " 'Sexe candidat': 'M',\n",
       " 'Nom candidat': 'FABRE',\n",
       " 'Prénom candidat': 'Daniel',\n",
       " 'Nationalité': 'Française',\n",
       " 'Candidat au conseil communautaire': 'O'}"
      ]
     },
     "execution_count": 24,
     "metadata": {},
     "output_type": "execute_result"
    }
   ],
   "source": [
    "candidatures[0]"
   ]
  },
  {
   "cell_type": "code",
   "execution_count": 25,
   "id": "4d6a9a9a-658a-4b04-b0f0-d95d32f0e6a8",
   "metadata": {},
   "outputs": [
    {
     "data": {
      "text/plain": [
       "(7621, 0.939009364218827)"
      ]
     },
     "execution_count": 25,
     "metadata": {},
     "output_type": "execute_result"
    }
   ],
   "source": [
    "matches_rne = {}\n",
    "for row in RNE:\n",
    "    k = mayor_key(row[\"Nom de l'élu\"], row[\"Prénom de l'élu\"], row['Libellé du département'])\n",
    "    if k in index_mayors:\n",
    "        matches_rne[k] = row\n",
    "        \n",
    "len(matches_rne), len(matches_rne) / len(index_mayors)"
   ]
  },
  {
   "cell_type": "code",
   "execution_count": 26,
   "id": "98503707-62ce-45a1-927d-f87ddea0f992",
   "metadata": {},
   "outputs": [
    {
     "data": {
      "text/plain": [
       "(7890, 0.9721537703302119)"
      ]
     },
     "execution_count": 26,
     "metadata": {},
     "output_type": "execute_result"
    }
   ],
   "source": [
    "matches_candidatures = {}\n",
    "for row in candidatures:\n",
    "    k = mayor_key(row[\"Nom candidat\"], row[\"Prénom candidat\"], row['Libellé du département'])\n",
    "    if k in index_mayors:\n",
    "        matches_candidatures[k] = row\n",
    "        \n",
    "len(matches_candidatures), len(matches_candidatures) / len(index_mayors)"
   ]
  },
  {
   "cell_type": "code",
   "execution_count": 27,
   "id": "a3b58664-64d5-4101-8b56-220ecbe4db4d",
   "metadata": {},
   "outputs": [
    {
     "data": {
      "text/plain": [
       "Counter({'': 6462,\n",
       "         'LDVD': 379,\n",
       "         'LUG': 94,\n",
       "         'LDVG': 335,\n",
       "         'LDVC': 143,\n",
       "         'LSOC': 68,\n",
       "         'LRN': 9,\n",
       "         'LLR': 131,\n",
       "         'LCOM': 40,\n",
       "         'LUD': 34,\n",
       "         'LUDI': 16,\n",
       "         'LDIV': 126,\n",
       "         'LECO': 5,\n",
       "         'LFI': 1,\n",
       "         'LREM': 13,\n",
       "         'LMDM': 3,\n",
       "         'LVEC': 15,\n",
       "         'LUC': 10,\n",
       "         'LEXD': 4,\n",
       "         'LREG': 2})"
      ]
     },
     "execution_count": 27,
     "metadata": {},
     "output_type": "execute_result"
    }
   ],
   "source": [
    "Counter(row['Nuance Liste'] for row in matches_candidatures.values())"
   ]
  },
  {
   "cell_type": "code",
   "execution_count": 28,
   "id": "488eb509-74dd-4ce3-8b7f-6a387a9bb450",
   "metadata": {},
   "outputs": [
    {
     "data": {
      "text/plain": [
       "[(('comtet', 'laurent', 'ain'), 2),\n",
       " (('perret', 'bernard', 'ain'), 2),\n",
       " (('lemoine', 'philippe', 'aisne'), 2),\n",
       " (('lemaire', 'michel', 'aisne'), 2),\n",
       " (('laffont', 'patrick', 'ariège'), 2),\n",
       " (('pottier', 'david', 'calvados'), 2),\n",
       " (('mage', 'jean', 'cantal'), 2),\n",
       " (('fournier', 'christian', 'cantal'), 2),\n",
       " (('pelletier', 'michel', 'charente-maritime'), 2),\n",
       " (('petit', 'christophe', 'corrèze'), 2)]"
      ]
     },
     "execution_count": 28,
     "metadata": {},
     "output_type": "execute_result"
    }
   ],
   "source": [
    "homonymies = Counter(mayor_key(row[\"Nom de l'élu\"], row[\"Prénom de l'élu\"], row['Libellé du département']) for row in RNE)\n",
    "homonymies.most_common(10)"
   ]
  },
  {
   "cell_type": "code",
   "execution_count": 29,
   "id": "96dbdc60-e62e-44ef-b916-676e1aafd5b6",
   "metadata": {},
   "outputs": [
    {
     "data": {
      "text/plain": [
       "[(('muller', 'daniel', 'moselle'), 5),\n",
       " (('petit', 'isabelle', 'pas-de-calais'), 5),\n",
       " (('weber', 'pierre', 'bas-rhin'), 5),\n",
       " (('schmitt', 'michel', 'bas-rhin'), 5),\n",
       " (('meyer', 'frédéric', 'bas-rhin'), 5),\n",
       " (('lefevre', 'philippe', 'aisne'), 4),\n",
       " (('marie', 'alain', 'calvados'), 4),\n",
       " (('marie', 'catherine', 'calvados'), 4),\n",
       " (('briand', 'yvon', \"côtes-d'armor\"), 4),\n",
       " (('muller', 'christophe', 'moselle'), 4)]"
      ]
     },
     "execution_count": 29,
     "metadata": {},
     "output_type": "execute_result"
    }
   ],
   "source": [
    "homonymies = Counter(mayor_key(row[\"Nom candidat\"], row[\"Prénom candidat\"], row['Libellé du département']) for row in candidatures)\n",
    "homonymies.most_common(10)"
   ]
  },
  {
   "cell_type": "code",
   "execution_count": 30,
   "id": "2def0cbc-cea8-49ab-b26e-cb9885a8e31a",
   "metadata": {},
   "outputs": [],
   "source": [
    "df['pol'] = df.apply(lambda row: matches_candidatures.get(mayor_key(row['Nom'], row['Prenom'], row['Departement']), {}).get('Nuance Liste') or None, axis=1)"
   ]
  },
  {
   "cell_type": "code",
   "execution_count": 31,
   "id": "6b4f2efc-b65e-41da-9a47-f9a725a17091",
   "metadata": {},
   "outputs": [
    {
     "data": {
      "text/html": [
       "<div>\n",
       "<style scoped>\n",
       "    .dataframe tbody tr th:only-of-type {\n",
       "        vertical-align: middle;\n",
       "    }\n",
       "\n",
       "    .dataframe tbody tr th {\n",
       "        vertical-align: top;\n",
       "    }\n",
       "\n",
       "    .dataframe thead th {\n",
       "        text-align: right;\n",
       "    }\n",
       "</style>\n",
       "<table border=\"1\" class=\"dataframe\">\n",
       "  <thead>\n",
       "    <tr style=\"text-align: right;\">\n",
       "      <th></th>\n",
       "      <th>Civilite</th>\n",
       "      <th>Nom</th>\n",
       "      <th>Prenom</th>\n",
       "      <th>Mandat</th>\n",
       "      <th>Circonscription</th>\n",
       "      <th>Departement</th>\n",
       "      <th>Candidat</th>\n",
       "      <th>DatePublication</th>\n",
       "      <th>date</th>\n",
       "      <th>pol</th>\n",
       "    </tr>\n",
       "  </thead>\n",
       "  <tbody>\n",
       "    <tr>\n",
       "      <th>0</th>\n",
       "      <td>M.</td>\n",
       "      <td>CORDIVAL</td>\n",
       "      <td>Gilles</td>\n",
       "      <td>Maire</td>\n",
       "      <td>Mont-Saint-Père</td>\n",
       "      <td>Aisne</td>\n",
       "      <td>ARTHAUD Nathalie</td>\n",
       "      <td>2022-02-01T00:00:00</td>\n",
       "      <td>2022-02-01</td>\n",
       "      <td>None</td>\n",
       "    </tr>\n",
       "    <tr>\n",
       "      <th>1</th>\n",
       "      <td>Mme</td>\n",
       "      <td>VALLIET</td>\n",
       "      <td>Odile</td>\n",
       "      <td>Maire</td>\n",
       "      <td>Crupilly</td>\n",
       "      <td>Aisne</td>\n",
       "      <td>ARTHAUD Nathalie</td>\n",
       "      <td>2022-02-01T00:00:00</td>\n",
       "      <td>2022-02-01</td>\n",
       "      <td>None</td>\n",
       "    </tr>\n",
       "    <tr>\n",
       "      <th>2</th>\n",
       "      <td>M.</td>\n",
       "      <td>GUEYRAUD</td>\n",
       "      <td>Jean-Marie</td>\n",
       "      <td>Maire</td>\n",
       "      <td>Saint-Auban-d'Oze</td>\n",
       "      <td>Hautes-Alpes</td>\n",
       "      <td>ARTHAUD Nathalie</td>\n",
       "      <td>2022-02-01T00:00:00</td>\n",
       "      <td>2022-02-01</td>\n",
       "      <td>None</td>\n",
       "    </tr>\n",
       "    <tr>\n",
       "      <th>3</th>\n",
       "      <td>Mme</td>\n",
       "      <td>NOUVEL</td>\n",
       "      <td>Marie-Claude</td>\n",
       "      <td>Maire</td>\n",
       "      <td>Seignalens</td>\n",
       "      <td>Aude</td>\n",
       "      <td>ARTHAUD Nathalie</td>\n",
       "      <td>2022-02-01T00:00:00</td>\n",
       "      <td>2022-02-01</td>\n",
       "      <td>None</td>\n",
       "    </tr>\n",
       "    <tr>\n",
       "      <th>4</th>\n",
       "      <td>M.</td>\n",
       "      <td>GAINCHE</td>\n",
       "      <td>Jean-Paul</td>\n",
       "      <td>Maire</td>\n",
       "      <td>Langrolay-sur-Rance</td>\n",
       "      <td>Côtes-d'Armor</td>\n",
       "      <td>ARTHAUD Nathalie</td>\n",
       "      <td>2022-02-01T00:00:00</td>\n",
       "      <td>2022-02-01</td>\n",
       "      <td>None</td>\n",
       "    </tr>\n",
       "    <tr>\n",
       "      <th>...</th>\n",
       "      <td>...</td>\n",
       "      <td>...</td>\n",
       "      <td>...</td>\n",
       "      <td>...</td>\n",
       "      <td>...</td>\n",
       "      <td>...</td>\n",
       "      <td>...</td>\n",
       "      <td>...</td>\n",
       "      <td>...</td>\n",
       "      <td>...</td>\n",
       "    </tr>\n",
       "    <tr>\n",
       "      <th>12190</th>\n",
       "      <td>M.</td>\n",
       "      <td>BONNEVILLE</td>\n",
       "      <td>Alain</td>\n",
       "      <td>Maire</td>\n",
       "      <td>Vouxey</td>\n",
       "      <td>Vosges</td>\n",
       "      <td>ZEMMOUR Éric</td>\n",
       "      <td>2022-03-07T00:00:00</td>\n",
       "      <td>2022-03-07</td>\n",
       "      <td>None</td>\n",
       "    </tr>\n",
       "    <tr>\n",
       "      <th>12191</th>\n",
       "      <td>M.</td>\n",
       "      <td>PEDUZZI</td>\n",
       "      <td>Dominique</td>\n",
       "      <td>Conseiller départemental</td>\n",
       "      <td></td>\n",
       "      <td>Vosges</td>\n",
       "      <td>ZEMMOUR Éric</td>\n",
       "      <td>2022-03-07T00:00:00</td>\n",
       "      <td>2022-03-07</td>\n",
       "      <td>None</td>\n",
       "    </tr>\n",
       "    <tr>\n",
       "      <th>12192</th>\n",
       "      <td>M.</td>\n",
       "      <td>TEHAAMOANA</td>\n",
       "      <td>Etienne</td>\n",
       "      <td>Membre d'une assemblée d'une collectivité terr...</td>\n",
       "      <td></td>\n",
       "      <td>Polynésie française</td>\n",
       "      <td>ZEMMOUR Éric</td>\n",
       "      <td>2022-03-07T00:00:00</td>\n",
       "      <td>2022-03-07</td>\n",
       "      <td>None</td>\n",
       "    </tr>\n",
       "    <tr>\n",
       "      <th>12193</th>\n",
       "      <td>Mme</td>\n",
       "      <td>GIRAUD-MALIVEL</td>\n",
       "      <td>Michèle</td>\n",
       "      <td>Présidente du conseil consulaire</td>\n",
       "      <td>Maurice, Seychelles</td>\n",
       "      <td>Français de l'étranger</td>\n",
       "      <td>ZEMMOUR Éric</td>\n",
       "      <td>2022-03-07T00:00:00</td>\n",
       "      <td>2022-03-07</td>\n",
       "      <td>None</td>\n",
       "    </tr>\n",
       "    <tr>\n",
       "      <th>12194</th>\n",
       "      <td>M.</td>\n",
       "      <td>LETANCHE</td>\n",
       "      <td>Hugues</td>\n",
       "      <td>Président du conseil consulaire</td>\n",
       "      <td>Arabie saoudite - 2e circonscription(avec Koweït)</td>\n",
       "      <td>Français de l'étranger</td>\n",
       "      <td>ZEMMOUR Éric</td>\n",
       "      <td>2022-03-07T00:00:00</td>\n",
       "      <td>2022-03-07</td>\n",
       "      <td>None</td>\n",
       "    </tr>\n",
       "  </tbody>\n",
       "</table>\n",
       "<p>12195 rows × 10 columns</p>\n",
       "</div>"
      ],
      "text/plain": [
       "      Civilite             Nom        Prenom  \\\n",
       "0           M.        CORDIVAL        Gilles   \n",
       "1          Mme         VALLIET         Odile   \n",
       "2           M.        GUEYRAUD    Jean-Marie   \n",
       "3          Mme          NOUVEL  Marie-Claude   \n",
       "4           M.         GAINCHE     Jean-Paul   \n",
       "...        ...             ...           ...   \n",
       "12190       M.      BONNEVILLE         Alain   \n",
       "12191       M.         PEDUZZI     Dominique   \n",
       "12192       M.      TEHAAMOANA       Etienne   \n",
       "12193      Mme  GIRAUD-MALIVEL       Michèle   \n",
       "12194       M.        LETANCHE        Hugues   \n",
       "\n",
       "                                                  Mandat  \\\n",
       "0                                                  Maire   \n",
       "1                                                  Maire   \n",
       "2                                                  Maire   \n",
       "3                                                  Maire   \n",
       "4                                                  Maire   \n",
       "...                                                  ...   \n",
       "12190                                              Maire   \n",
       "12191                           Conseiller départemental   \n",
       "12192  Membre d'une assemblée d'une collectivité terr...   \n",
       "12193                   Présidente du conseil consulaire   \n",
       "12194                    Président du conseil consulaire   \n",
       "\n",
       "                                         Circonscription  \\\n",
       "0                                        Mont-Saint-Père   \n",
       "1                                               Crupilly   \n",
       "2                                      Saint-Auban-d'Oze   \n",
       "3                                             Seignalens   \n",
       "4                                    Langrolay-sur-Rance   \n",
       "...                                                  ...   \n",
       "12190                                             Vouxey   \n",
       "12191                                                      \n",
       "12192                                                      \n",
       "12193                                Maurice, Seychelles   \n",
       "12194  Arabie saoudite - 2e circonscription(avec Koweït)   \n",
       "\n",
       "                  Departement          Candidat      DatePublication  \\\n",
       "0                       Aisne  ARTHAUD Nathalie  2022-02-01T00:00:00   \n",
       "1                       Aisne  ARTHAUD Nathalie  2022-02-01T00:00:00   \n",
       "2                Hautes-Alpes  ARTHAUD Nathalie  2022-02-01T00:00:00   \n",
       "3                        Aude  ARTHAUD Nathalie  2022-02-01T00:00:00   \n",
       "4               Côtes-d'Armor  ARTHAUD Nathalie  2022-02-01T00:00:00   \n",
       "...                       ...               ...                  ...   \n",
       "12190                  Vosges      ZEMMOUR Éric  2022-03-07T00:00:00   \n",
       "12191                  Vosges      ZEMMOUR Éric  2022-03-07T00:00:00   \n",
       "12192     Polynésie française      ZEMMOUR Éric  2022-03-07T00:00:00   \n",
       "12193  Français de l'étranger      ZEMMOUR Éric  2022-03-07T00:00:00   \n",
       "12194  Français de l'étranger      ZEMMOUR Éric  2022-03-07T00:00:00   \n",
       "\n",
       "            date   pol  \n",
       "0     2022-02-01  None  \n",
       "1     2022-02-01  None  \n",
       "2     2022-02-01  None  \n",
       "3     2022-02-01  None  \n",
       "4     2022-02-01  None  \n",
       "...          ...   ...  \n",
       "12190 2022-03-07  None  \n",
       "12191 2022-03-07  None  \n",
       "12192 2022-03-07  None  \n",
       "12193 2022-03-07  None  \n",
       "12194 2022-03-07  None  \n",
       "\n",
       "[12195 rows x 10 columns]"
      ]
     },
     "execution_count": 31,
     "metadata": {},
     "output_type": "execute_result"
    }
   ],
   "source": [
    "df"
   ]
  },
  {
   "cell_type": "code",
   "execution_count": 32,
   "id": "844c1c29-6b65-4281-b59f-b82671b88726",
   "metadata": {},
   "outputs": [
    {
     "data": {
      "text/plain": [
       "LDVD    379\n",
       "LDVG    335\n",
       "LDVC    143\n",
       "LLR     131\n",
       "LDIV    126\n",
       "LUG      94\n",
       "LSOC     68\n",
       "LCOM     40\n",
       "LUD      34\n",
       "LUDI     16\n",
       "LVEC     15\n",
       "LREM     13\n",
       "LUC      10\n",
       "LRN       9\n",
       "LECO      5\n",
       "LEXD      4\n",
       "LMDM      3\n",
       "LREG      2\n",
       "LFI       1\n",
       "Name: pol, dtype: int64"
      ]
     },
     "execution_count": 32,
     "metadata": {},
     "output_type": "execute_result"
    }
   ],
   "source": [
    "df.pol.value_counts()"
   ]
  },
  {
   "cell_type": "code",
   "execution_count": 33,
   "id": "9611cbd2-6994-4320-be27-71b40008ace5",
   "metadata": {},
   "outputs": [],
   "source": [
    "def gauche_ou_droite(pol):\n",
    "    if not pol:\n",
    "        return None\n",
    "    \n",
    "    if pol == 'LDVD':\n",
    "        return 'droite'\n",
    "    \n",
    "    if pol == 'LDVG':\n",
    "        return 'gauche'\n",
    "    \n",
    "    if pol == 'LDVC':\n",
    "        return 'centre'\n",
    "    \n",
    "    return None"
   ]
  },
  {
   "cell_type": "code",
   "execution_count": 34,
   "id": "fd9e8e9a-69be-40af-b483-80230851e1e1",
   "metadata": {},
   "outputs": [],
   "source": [
    "df['bord'] = df.pol.apply(gauche_ou_droite)"
   ]
  },
  {
   "cell_type": "code",
   "execution_count": 35,
   "id": "dedf66f2-ccf6-4c79-80a1-5958b90a6ff6",
   "metadata": {},
   "outputs": [
    {
     "data": {
      "text/plain": [
       "<seaborn.axisgrid.FacetGrid at 0x7f2fbaf84910>"
      ]
     },
     "execution_count": 35,
     "metadata": {},
     "output_type": "execute_result"
    },
    {
     "data": {
      "image/png": "[encoded data removed]",
      "text/plain": [
       "<Figure size 648x864 with 12 Axes>"
      ]
     },
     "metadata": {
      "needs_background": "light"
     },
     "output_type": "display_data"
    }
   ],
   "source": [
    "g = sns.FacetGrid(df, col=\"Candidat\", col_wrap=3, sharey=False, hue=\"bord\")\n",
    "g.map(sns.histplot, \"bord\")"
   ]
  },
  {
   "cell_type": "code",
   "execution_count": 36,
   "id": "5e755d2d-f1c5-4d0a-b544-eb51525010e9",
   "metadata": {},
   "outputs": [],
   "source": [
    "df['prof'] = df.apply(lambda row: matches_rne.get(mayor_key(row['Nom'], row['Prenom'], row['Departement']), {}).get('Libellé de la catégorie socio-professionnelle') or None, axis=1)"
   ]
  },
  {
   "cell_type": "code",
   "execution_count": 37,
   "id": "45664890-e03e-4688-b5c7-02514d3b7c52",
   "metadata": {},
   "outputs": [
    {
     "data": {
      "text/plain": [
       "Ancien cadre                                                                         1299\n",
       "Cadre de la fonction publique                                                         517\n",
       "Ancien employé                                                                        482\n",
       "Agriculteur sur moyenne exploitation                                                  455\n",
       "Cadre administratif et commercial d'entreprise                                        414\n",
       "Ancien agriculteur exploitant                                                         369\n",
       "Ancien artisan, commerçant, chef d'entreprise                                         341\n",
       "Profession libérale                                                                   339\n",
       "Professeur, profession scientifique                                                   339\n",
       "Ancienne profession intermédiaire                                                     333\n",
       "Ingénieur et cadre technique d'entreprise                                             272\n",
       "Technicien                                                                            188\n",
       "Agriculteur sur petite exploitation                                                   178\n",
       "Employé civil et agent de service de la fonction publique                             171\n",
       "Artisan                                                                               169\n",
       "Chef d'entreprise de 10 salariés ou plus                                              161\n",
       "Profession intermédiaire de la santé et du travail social                             146\n",
       "Commerçant et assimilé                                                                143\n",
       "Contremaître, agent de maîtrise                                                       139\n",
       "Personne diverse sans activité professionnelle de moins de 60 ans (sauf retraité)     129\n",
       "Professeur des écoles, instituteur et assimilé                                        125\n",
       "Ancien ouvrier                                                                        114\n",
       "Profession intermédiaire administrative de la fonction publique                       113\n",
       "Employé administratif d'entreprise                                                     93\n",
       "Agriculteur sur grande exploitation                                                    92\n",
       "Ouvrier qualifié de type industriel                                                    62\n",
       "Personne diverse sans activité professionnelle de 60 ans et plus (sauf retraité)       61\n",
       "Employé de commerce                                                                    58\n",
       "Profession intermédiaire administrative et commerciale des entreprises                 57\n",
       "Chauffeur                                                                              50\n",
       "Profession de l'information, des arts et des spectacles                                48\n",
       "Policier et militaire                                                                  40\n",
       "Ouvrier qualifié de type artisanal                                                     26\n",
       "Personnel des services directs aux particuliers                                        22\n",
       "Ouvrier agricole                                                                       21\n",
       "Ouvrier qualifié de la manutention, du magasinage et du transport                      18\n",
       "Militaire du contingent                                                                12\n",
       "Elève, étudiant                                                                         9\n",
       "Ouvrier non qualifié de type industriel                                                 4\n",
       "Ouvrier non qualifié de type artisanal                                                  3\n",
       "Médecin (obsolète)                                                                      2\n",
       "Sans profession déclarée (obsolète)                                                     2\n",
       "Non Connu                                                                               2\n",
       "Retraité des professions libérales (obsolète)                                           1\n",
       "Cadre (entreprises publiques) (obsolète)                                                1\n",
       "Retraité de l'enseignement (obsolète)                                                   1\n",
       "Administrateur de sociétés (obsolète)                                                   1\n",
       "Commercant (obsolète)                                                                   1\n",
       "Fonctionnaire de catégorie A (obsolète)                                                 1\n",
       "Employé (autres entrep. publiques) (obsolète)                                           1\n",
       "Dentiste (obsolète)                                                                     1\n",
       "Name: prof, dtype: int64"
      ]
     },
     "execution_count": 37,
     "metadata": {},
     "output_type": "execute_result"
    }
   ],
   "source": [
    "df.prof.value_counts()"
   ]
  }
 ],
 "metadata": {
  "kernelspec": {
   "display_name": "Python 3 (ipykernel)",
   "language": "python",
   "name": "python3"
  },
  "language_info": {
   "codemirror_mode": {
    "name": "ipython",
    "version": 3
   },
   "file_extension": ".py",
   "mimetype": "text/x-python",
   "name": "python",
   "nbconvert_exporter": "python",
   "pygments_lexer": "ipython3",
   "version": "3.8.5"
  }
 },
 "nbformat": 4,
 "nbformat_minor": 5
}
